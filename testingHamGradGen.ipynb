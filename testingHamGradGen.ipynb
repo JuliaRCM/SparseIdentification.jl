{
 "cells": [
  {
   "cell_type": "code",
   "execution_count": 1,
   "metadata": {},
   "outputs": [],
   "source": [
    "using Symbolics"
   ]
  },
  {
   "cell_type": "code",
   "execution_count": 2,
   "metadata": {},
   "outputs": [
    {
     "data": {
      "text/plain": [
       "hamiltonian_poly (generic function with 1 method)"
      ]
     },
     "metadata": {},
     "output_type": "display_data"
    }
   ],
   "source": [
    "_prod(a, b, c, arrs...) = a .* _prod(b, c, arrs...)\n",
    "_prod(a, b) = a .* b\n",
    "_prod(a) = a\n",
    "\n",
    "function hamiltonian_poly(z, order, inds...)\n",
    "    ham = []\n",
    "\n",
    "    if order == 0\n",
    "        Num(1)\n",
    "    elseif order == length(inds)\n",
    "        ham = vcat(ham, _prod([z[i] for i in inds]...))\n",
    "    else\n",
    "        start_ind = length(inds) == 0 ? 1 : inds[end]\n",
    "        for j in start_ind:length(z)\n",
    "            ham = vcat(ham, hamiltonian_poly(z, order, inds..., j))\n",
    "        end\n",
    "    end\n",
    "\n",
    "    return ham\n",
    "end"
   ]
  },
  {
   "cell_type": "code",
   "execution_count": 3,
   "metadata": {},
   "outputs": [
    {
     "data": {
      "text/plain": [
       "hamiltonian (generic function with 1 method)"
      ]
     },
     "metadata": {},
     "output_type": "display_data"
    }
   ],
   "source": [
    "function hamiltonian(z, a, order)\n",
    "    ham = []\n",
    "\n",
    "    for i in 1:order\n",
    "        ham = vcat(ham, hamiltonian_poly(z, i))\n",
    "    end\n",
    "\n",
    "    sum(collect(a .* ham))\n",
    "end"
   ]
  },
  {
   "cell_type": "code",
   "execution_count": 4,
   "metadata": {},
   "outputs": [
    {
     "data": {
      "text/plain": [
       "hamil_trig (generic function with 1 method)"
      ]
     },
     "metadata": {},
     "output_type": "display_data"
    }
   ],
   "source": [
    "function hamil_trig(z, a, order, trig_wave_num)\n",
    "    ham = []\n",
    "\n",
    "    # Polynomial basis\n",
    "    for i in 1:order\n",
    "        ham = vcat(ham, hamiltonian_poly(z, i))\n",
    "    end\n",
    "\n",
    "    # Trignometric basis\n",
    "    for k = 1:trig_wave_num\n",
    "        ham = vcat(ham, vcat(sin.(k*z)), vcat(cos.(k*z)))\n",
    "    end\n",
    "\n",
    "    ham = sum(collect(a .* ham))\n",
    "\n",
    "    return ham\n",
    "\n",
    "end"
   ]
  },
  {
   "cell_type": "code",
   "execution_count": 5,
   "metadata": {},
   "outputs": [
    {
     "data": {
      "text/plain": [
       "calculate_nparams (generic function with 1 method)"
      ]
     },
     "metadata": {},
     "output_type": "display_data"
    }
   ],
   "source": [
    "function calculate_nparams(d, polyorder, usesine, trig_wave_num)\n",
    "    \n",
    "    # binomial used to get the combination of polynomials till the highest order without repeat, e.g nparam = 34 for 3rd order, with z = q,p each of 2 dims\n",
    "    nparam = binomial(2*d + polyorder, polyorder) - 1\n",
    "\n",
    "    if usesine == false\n",
    "\n",
    "        return nparam\n",
    "\n",
    "    elseif usesine == true\n",
    "\n",
    "        # first 2 in the product formula b/c the trig basis are sin and cos i.e. two basis functions\n",
    "        # 2d: b/c the phase space is two variables p,q each with 2 dims \n",
    "        trig_basis_length = 2 * trig_wave_num * 2d\n",
    "\n",
    "        return (nparam + trig_basis_length)\n",
    "\n",
    "    end\n",
    "end"
   ]
  },
  {
   "cell_type": "code",
   "execution_count": 6,
   "metadata": {},
   "outputs": [
    {
     "data": {
      "text/plain": [
       "hamilGrad_func_builder (generic function with 1 method)"
      ]
     },
     "metadata": {},
     "output_type": "display_data"
    }
   ],
   "source": [
    "function hamilGrad_func_builder(d, usesine, polyorder, nparam, trig_wave_num)\n",
    "    \n",
    "    # symbolic variables\n",
    "    @variables a[1:nparam]\n",
    "    @variables q[1:d]\n",
    "    @variables p[1:d]\n",
    "    z = vcat(q,p)\n",
    "\n",
    "    # usesine: whether to add trig basis or not\n",
    "    if usesine == true\n",
    "\n",
    "        # gives derivative of the hamiltonian, but not the skew-symmetric true one\n",
    "        Dz = Differential.(z)\n",
    "        ∇H_add_trig = [expand_derivatives(dz(hamil_trig(z, a, polyorder, trig_wave_num))) for dz in Dz]\n",
    "\n",
    "        # line below makes the vector into a hamiltonian vector field by multiplying with the skew-symmetric matrix\n",
    "        ∇H_trig = vcat(∇H_add_trig[d+1:2d], -∇H_add_trig[1:d])\n",
    "\n",
    "        # builds a function that calculates Hamiltonian gradient and converts the function to a native Julia function\n",
    "        ∇H_eval = eval(build_function(∇H_trig, z, a)[2])\n",
    "\n",
    "        return ∇H_eval\n",
    "\n",
    "    elseif usesine == false\n",
    "\n",
    "        # gives derivative of the hamiltonian, but not the skew-symmetric true one\n",
    "        Dz = Differential.(z)\n",
    "        f = [expand_derivatives(dz(hamiltonian(z, a, polyorder))) for dz in Dz]\n",
    "\n",
    "        # line below makes the vector into a hamiltonian by multiplying with the skew-symmetric matrix\n",
    "        ∇H = vcat(f[d+1:2d], -f[1:d])\n",
    "\n",
    "        # builds a function that calculates Hamiltonian gradient and converts the function to a native Julia function\n",
    "        ∇H_eval = eval(build_function(∇H, z, a)[2])\n",
    "        \n",
    "        return ∇H_eval\n",
    "\n",
    "    end\n",
    "\n",
    "end"
   ]
  },
  {
   "attachments": {},
   "cell_type": "markdown",
   "metadata": {},
   "source": [
    "#### TESTING TIME ####"
   ]
  },
  {
   "cell_type": "code",
   "execution_count": 8,
   "metadata": {},
   "outputs": [
    {
     "data": {
      "text/plain": [
       "114"
      ]
     },
     "metadata": {},
     "output_type": "display_data"
    }
   ],
   "source": [
    "# d: number of variables p,q\n",
    "d = 2\n",
    "\n",
    "# use trig basis\n",
    "usesine = true\n",
    "\n",
    "\" trig_wave_num can be adjusted if higher frequency arguments expected \"\n",
    "trig_wave_num = 10\n",
    "\n",
    "# highest order of polynomial library function\n",
    "polyorder = 3\n",
    "\n",
    "\"binomial used to get the combination of variables till the highest \n",
    "order without repeat, e.g with usesine= false, nparam = 34 for 3rd \n",
    "order, with z = q,p each of 2 dims\"\n",
    "\n",
    "nparam = calculate_nparams(d, polyorder, usesine, trig_wave_num)"
   ]
  },
  {
   "cell_type": "code",
   "execution_count": 16,
   "metadata": {},
   "outputs": [
    {
     "data": {
      "text/plain": [
       "#17 (generic function with 1 method)"
      ]
     },
     "metadata": {},
     "output_type": "display_data"
    }
   ],
   "source": [
    "# builds a function that calculates Hamiltonian gradient and converts the function to a native Julia function\n",
    "∇H_eval = hamilGrad_func_builder(d, usesine, polyorder, nparam, trig_wave_num)"
   ]
  },
  {
   "cell_type": "code",
   "execution_count": 17,
   "metadata": {},
   "outputs": [
    {
     "data": {
      "text/plain": [
       "hamilGradient_general! (generic function with 1 method)"
      ]
     },
     "metadata": {},
     "output_type": "display_data"
    }
   ],
   "source": [
    "# wrapper function for generalized SINDY hamiltonian gradient\n",
    "function hamilGradient_general!(out, z, a::AbstractVector{T}, t) where T\n",
    "    ∇H_eval(out, z, a)\n",
    "    return out\n",
    "end"
   ]
  },
  {
   "cell_type": "code",
   "execution_count": 9,
   "metadata": {},
   "outputs": [
    {
     "data": {
      "text/plain": [
       "0"
      ]
     },
     "metadata": {},
     "output_type": "display_data"
    }
   ],
   "source": [
    "# 2D system with 4 variables [q₁, q₂, p₁, p₂] where q₂ = 0 and p₂ = 0\n",
    "nd = 4\n",
    "\n",
    "# 2 dims each of p and q gives 2*d = 4 variables\n",
    "out = zeros(nd)\n",
    "\n",
    "# let (a) be a vector of zeros initially of length 34 (b/c 34 is number of poly combinations for 2 variables, with 2 dims of highest order 3)\n",
    "\n",
    "##################### NOTE: IN ACTUAL SCRIPT WE INITIALIZE THIS TO ZERO TO ALLOW BETTER OPTIMIZATION\n",
    "a = ones(nparam)\n",
    "\n",
    "x₀ = [2, 0, 0, 0]\n",
    "\n",
    "t = 0\n",
    "    "
   ]
  },
  {
   "cell_type": "code",
   "execution_count": 19,
   "metadata": {},
   "outputs": [
    {
     "data": {
      "text/plain": [
       "4-element Vector{Float64}:\n",
       "  62.0\n",
       "  62.0\n",
       " -18.18547032212149\n",
       " -62.0"
      ]
     },
     "metadata": {},
     "output_type": "display_data"
    }
   ],
   "source": [
    "hamilGradient_general!(out, x₀, a, 0)"
   ]
  },
  {
   "attachments": {},
   "cell_type": "markdown",
   "metadata": {},
   "source": [
    "#### VISUALIZE (a) coefficients ####"
   ]
  },
  {
   "cell_type": "code",
   "execution_count": 14,
   "metadata": {},
   "outputs": [
    {
     "data": {
      "text/latex": [
       "$$ \\begin{equation}\n",
       "\\left[\n",
       "\\begin{array}{c}\n",
       "a_1 q_1 \\\\\n",
       "a_2 q_2 \\\\\n",
       "a_3 p_1 \\\\\n",
       "a_4 p_2 \\\\\n",
       "q_1^{2} a_5 \\\\\n",
       "a_6 q_1 q_2 \\\\\n",
       "a_7 p_1 q_1 \\\\\n",
       "a_8 p_2 q_1 \\\\\n",
       "q_2^{2} a_9 \\\\\n",
       "a_{1 0} p_1 q_2 \\\\\n",
       "a_{1 1} p_2 q_2 \\\\\n",
       "p_1^{2} a_{1 2} \\\\\n",
       "a_{1 3} p_1 p_2 \\\\\n",
       "p_2^{2} a_{1 4} \\\\\n",
       "q_1^{3} a_{1 5} \\\\\n",
       "q_1^{2} a_{1 6} q_2 \\\\\n",
       "q_1^{2} a_{1 7} p_1 \\\\\n",
       "q_1^{2} a_{1 8} p_2 \\\\\n",
       "q_2^{2} a_{1 9} q_1 \\\\\n",
       "a_{2 0} p_1 q_1 q_2 \\\\\n",
       "a_{2 1} p_2 q_1 q_2 \\\\\n",
       "p_1^{2} a_{2 2} q_1 \\\\\n",
       "a_{2 3} p_1 p_2 q_1 \\\\\n",
       "p_2^{2} a_{2 4} q_1 \\\\\n",
       "q_2^{3} a_{2 5} \\\\\n",
       "q_2^{2} a_{2 6} p_1 \\\\\n",
       "q_2^{2} a_{2 7} p_2 \\\\\n",
       "p_1^{2} a_{2 8} q_2 \\\\\n",
       "a_{2 9} p_1 p_2 q_2 \\\\\n",
       "p_2^{2} a_{3 0} q_2 \\\\\n",
       "p_1^{3} a_{3 1} \\\\\n",
       "p_1^{2} a_{3 2} p_2 \\\\\n",
       "p_2^{2} a_{3 3} p_1 \\\\\n",
       "p_2^{3} a_{3 4} \\\\\n",
       "\\sin\\left( q_1 \\right) a_{3 5} \\\\\n",
       "\\sin\\left( q_2 \\right) a_{3 6} \\\\\n",
       "\\sin\\left( p_1 \\right) a_{3 7} \\\\\n",
       "\\sin\\left( p_2 \\right) a_{3 8} \\\\\n",
       "\\cos\\left( q_1 \\right) a_{3 9} \\\\\n",
       "\\cos\\left( q_2 \\right) a_{4 0} \\\\\n",
       "\\cos\\left( p_1 \\right) a_{4 1} \\\\\n",
       "\\cos\\left( p_2 \\right) a_{4 2} \\\\\n",
       "\\sin\\left( 2 q_1 \\right) a_{4 3} \\\\\n",
       "\\sin\\left( 2 q_2 \\right) a_{4 4} \\\\\n",
       "\\sin\\left( 2 p_1 \\right) a_{4 5} \\\\\n",
       "\\sin\\left( 2 p_2 \\right) a_{4 6} \\\\\n",
       "\\cos\\left( 2 q_1 \\right) a_{4 7} \\\\\n",
       "\\cos\\left( 2 q_2 \\right) a_{4 8} \\\\\n",
       "\\cos\\left( 2 p_1 \\right) a_{4 9} \\\\\n",
       "\\cos\\left( 2 p_2 \\right) a_{5 0} \\\\\n",
       "\\sin\\left( 3 q_1 \\right) a_{5 1} \\\\\n",
       "\\sin\\left( 3 q_2 \\right) a_{5 2} \\\\\n",
       "\\sin\\left( 3 p_1 \\right) a_{5 3} \\\\\n",
       "\\sin\\left( 3 p_2 \\right) a_{5 4} \\\\\n",
       "\\cos\\left( 3 q_1 \\right) a_{5 5} \\\\\n",
       "\\cos\\left( 3 q_2 \\right) a_{5 6} \\\\\n",
       "\\cos\\left( 3 p_1 \\right) a_{5 7} \\\\\n",
       "\\cos\\left( 3 p_2 \\right) a_{5 8} \\\\\n",
       "\\end{array}\n",
       "\\right]\n",
       "\\end{equation}\n",
       " $$"
      ],
      "text/plain": [
       "58-element Vector{Num}:\n",
       "        a[1]*q[1]\n",
       "        a[2]*q[2]\n",
       "        a[3]*p[1]\n",
       "        a[4]*p[2]\n",
       "    (q[1]^2)*a[5]\n",
       "   a[6]*q[1]*q[2]\n",
       "   a[7]*p[1]*q[1]\n",
       "   a[8]*p[2]*q[1]\n",
       "    (q[2]^2)*a[9]\n",
       "  a[10]*p[1]*q[2]\n",
       "                ⋮\n",
       " cos(2p[2])*a[50]\n",
       " sin(3q[1])*a[51]\n",
       " sin(3q[2])*a[52]\n",
       " sin(3p[1])*a[53]\n",
       " sin(3p[2])*a[54]\n",
       " cos(3q[1])*a[55]\n",
       " cos(3q[2])*a[56]\n",
       " cos(3p[1])*a[57]\n",
       " cos(3p[2])*a[58]"
      ]
     },
     "metadata": {},
     "output_type": "display_data"
    }
   ],
   "source": [
    "order = 3\n",
    "trig_wave_num = 3\n",
    "d = 2\n",
    "nparam = calculate_nparams(d, polyorder, usesine, trig_wave_num)\n",
    "# symbolic variables\n",
    "@variables a[1:nparam]\n",
    "@variables q[1:d]\n",
    "@variables p[1:d]\n",
    "z = vcat(q,p)\n",
    "\n",
    "ham = []\n",
    "\n",
    "# Polynomial basis\n",
    "for i in 1:order\n",
    "    ham = vcat(ham, hamiltonian_poly(z, i))\n",
    "end\n",
    "\n",
    "# Trignometric basis\n",
    "for k = 1:trig_wave_num\n",
    "    ham = vcat(ham, vcat(sin.(k*z)), vcat(cos.(k*z)))\n",
    "end\n",
    "\n",
    "ham = (collect(a .* ham))"
   ]
  }
 ],
 "metadata": {
  "kernelspec": {
   "display_name": "Julia 1.8.3",
   "language": "julia",
   "name": "julia-1.8"
  },
  "language_info": {
   "file_extension": ".jl",
   "mimetype": "application/julia",
   "name": "julia",
   "version": "1.8.3"
  },
  "orig_nbformat": 4
 },
 "nbformat": 4,
 "nbformat_minor": 2
}
