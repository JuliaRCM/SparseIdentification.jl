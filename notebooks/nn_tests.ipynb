{
 "cells": [
  {
   "attachments": {},
   "cell_type": "markdown",
   "metadata": {},
   "source": [
    "Just testing..."
   ]
  },
  {
   "cell_type": "code",
   "execution_count": null,
   "metadata": {},
   "outputs": [],
   "source": [
    "\n",
    "# # input/output dimension of system\n",
    "# const ndim = 4\n",
    "\n",
    "# # width of hidden layers\n",
    "# const ld = 4\n",
    "\n",
    "# # learning rate\n",
    "# const η = .001\n",
    "\n",
    "# # number of training runs\n",
    "# const runs = 1000\n",
    "\n",
    "# #evaluate neural network\n",
    "# function network(x, model)\n",
    "# \t# input layer\n",
    "# \tlayer0 = tanh.(model[1].W * x)\n",
    "\n",
    "# \t# first hidden layer\n",
    "# \tlayer1 = tanh.(model[2].W * layer0 .+ model[2].b)\n",
    "\t\n",
    "# \t# second hidden layer\n",
    "# \tlayer2 = tanh.(model[3].W * layer1 .+ model[3].b)\n",
    "\n",
    "# \t# output layer (linear activation)\n",
    "# \tmodel[4].W * layer2\n",
    "# end\n",
    "\n",
    "# model = (\n",
    "# \t(W = randn(ld, ndim), ),\n",
    "# \t(W = randn(ld, ld), b = randn(ld)),\n",
    "# \t(W = randn(ld, ld), b = randn(ld)),\n",
    "# \t(W = randn(ndim, ld), ),\n",
    "# )"
   ]
  },
  {
   "cell_type": "code",
   "execution_count": null,
   "metadata": {},
   "outputs": [],
   "source": [
    "# x = [1, 2, 3, 4]\n",
    "# network(x, model)"
   ]
  },
  {
   "attachments": {},
   "cell_type": "markdown",
   "metadata": {},
   "source": [
    "Code from Sparsification module"
   ]
  },
  {
   "cell_type": "code",
   "execution_count": 2,
   "metadata": {},
   "outputs": [],
   "source": [
    "using Distributions\n",
    "using GeometricIntegrators\n",
    "using Optim\n",
    "using Random\n",
    "using Distances\n",
    "using Symbolics\n",
    "using Flux: relu, tanh, sigmoid\n",
    "using RuntimeGeneratedFunctions\n",
    "RuntimeGeneratedFunctions.init(@__MODULE__)\n",
    "\n",
    "_prod(a, b, c, arrs...) = a .* _prod(b, c, arrs...)\n",
    "_prod(a, b) = a .* b\n",
    "_prod(a) = a\n",
    "\n",
    "# generates a vector out of symbolic arrays (p,q) with a certain dimension\n",
    "function get_z_vector(dims)\n",
    "    @variables q[1:dims]\n",
    "    @variables p[1:dims]\n",
    "    z = vcat(q,p)\n",
    "    return z\n",
    "end\n",
    "\n",
    "# make combinations of bases of just the order that is given \n",
    "# e.g order = 2 will give just the bases whose powers sum to 2\n",
    "function poly_combos(z, order, inds...)\n",
    "    if order == 0\n",
    "        return Num[1]\n",
    "    elseif order == length(inds)\n",
    "        return [_prod([z[i] for i in inds]...)]\n",
    "    else\n",
    "        start_ind = length(inds) == 0 ? 1 : inds[end]\n",
    "        return vcat([poly_combos(z, order, inds..., j) for j in start_ind:length(z)]...)\n",
    "    end\n",
    "end\n",
    "\n",
    "# gives all bases monomials up to a certain order\n",
    "function primal_monomial_basis(z, order::Int)\n",
    "    return Vector{Symbolics.Num}(vcat([poly_combos(z, i) for i in 1:order]...))\n",
    "end\n",
    "\n",
    "# calculates coefficient bases up to a certain order\n",
    "# mostly for use with trigonometric functions example sin(k*z),\n",
    "# where k is the coefficient\n",
    "function primal_coeff_basis(z, max_coeff::Int)\n",
    "    return Vector{Symbolics.Num}(vcat([k .* z for k in 1:max_coeff]...))\n",
    "end\n",
    "\n",
    "# calculates +,-,*,/ between states as a new basis\n",
    "# the return output is a set to avoid duplicates\n",
    "function primal_operator_basis(z, operator)\n",
    "    return Vector{Symbolics.Num}([operator(z[i], z[j]) for i in 1:length(z)-1 for j in i+1:length(z)] ∪ [operator(z[j], z[i]) for i in 1:length(z)-1 for j in i+1:length(z)])\n",
    "end\n",
    "\n",
    "function primal_power_basis(z, max_power::Int)\n",
    "    if max_power > 0\n",
    "        return Vector{Symbolics.Num}(vcat([z.^i for i in 1:max_power]...))\n",
    "    elseif max_power < 0\n",
    "        return Vector{Symbolics.Num}(vcat([z.^-i for i in 1:abs(max_power)]...))\n",
    "    end\n",
    "end\n",
    "\n",
    "function polynomial_basis(z::Vector{Symbolics.Num} = get_z_vector(2); polyorder::Int = 0, operator=nothing, max_coeff::Int = 0)\n",
    "    primes = primal_monomial_basis(z, polyorder)\n",
    "    primes = vcat(primes, primal_coeff_basis(z, max_coeff))\n",
    "    if operator !== nothing\n",
    "        primes = vcat(primes, primal_operator_basis(z, operator))\n",
    "    end\n",
    "    return primes\n",
    "end\n",
    "\n",
    "function trigonometric_basis(z::Vector{Symbolics.Num} = get_z_vector(2); polyorder::Int = 0, operator=nothing, max_coeff::Int = 0)\n",
    "    primes = polynomial_basis(z, polyorder = polyorder, operator = operator, max_coeff = max_coeff)\n",
    "    return vcat(sin.(primes), cos.(primes))\n",
    "end\n",
    "\n",
    "function exponential_basis(z::Vector{Symbolics.Num} = get_z_vector(2); polyorder::Int = 0, operator=nothing, max_coeff::Int = 0)\n",
    "    primes = polynomial_basis(z, polyorder = polyorder, operator = operator, max_coeff = max_coeff)\n",
    "    return exp.(primes)\n",
    "end\n",
    "\n",
    "function logarithmic_basis(z::Vector{Symbolics.Num} = get_z_vector(2); polyorder::Int = 0, operator=nothing, max_coeff::Int = 0)\n",
    "    primes = polynomial_basis(z, polyorder = polyorder, operator = operator, max_coeff = max_coeff)\n",
    "    return log.(abs.(primes))\n",
    "end\n",
    "\n",
    "function mixed_states_basis(basis::Vector{Symbolics.Num}...)\n",
    "    mixed_states = Tuple(basis)\n",
    "    \n",
    "    ham = Vector{Symbolics.Num}()\n",
    "    for i in eachindex(mixed_states)\n",
    "        for j in i+1:lastindex(mixed_states)\n",
    "            ham = vcat(ham, [mixed_states[i][k] * mixed_states[j][l] for k in 1:length(mixed_states[i]) for l in 1:length(mixed_states[j])])\n",
    "        end\n",
    "    end\n",
    "    \n",
    "    return Vector{Symbolics.Num}(ham)\n",
    "end\n",
    "\n",
    "# returns the number of required coefficients for the basis\n",
    "function get_numCoeffs(basis::Vector{Symbolics.Num})\n",
    "    return length(basis)\n",
    "end\n",
    "\n",
    "\n",
    "# gets a vector of combinations of hamiltonian basis\n",
    "function get_basis_set(basis::Vector{Symbolics.Num}...)\n",
    "    # gets a vector of combinations of basis\n",
    "    basis = vcat(basis...)\n",
    "    \n",
    "    # removes duplicates\n",
    "    basis = Vector{Symbolics.Num}(collect(unique(basis)))\n",
    "\n",
    "    return basis\n",
    "end\n",
    "\n",
    "# returns a function that can build the gradient of the hamiltonian\n",
    "function ΔH_func_builder(d::Int, z::Vector{Symbolics.Num} = get_z_vector(d), basis::Vector{Symbolics.Num}...) \n",
    "    # nd is the total number of dimensions of all the states, e.g. if q,p each of 3 dims, that is 6 dims in total\n",
    "    nd = 2d\n",
    "    Dz = Differential.(z)\n",
    "    \n",
    "    # collects and sums combinations of basis and coefficients\"\n",
    "    basis = get_basis_set(basis...)\n",
    "   \n",
    "    # gets number of terms in the basis\n",
    "    @variables a[1:get_numCoeffs(basis)]\n",
    "    \n",
    "    # collect and sum combinations of basis and coefficients\n",
    "    ham = sum(collect(a .* basis))\n",
    "    \n",
    "    # gives derivative of the hamiltonian, but not the skew-symmetric true one\n",
    "    f = [expand_derivatives(dz(ham)) for dz in Dz]\n",
    "\n",
    "    #simplify the expression potentially to make it faster\n",
    "    f = simplify(f)\n",
    "    \n",
    "    # line below makes the vector into a hamiltonian vector field by multiplying with the skew-symmetric matrix\n",
    "    ∇H = vcat(f[d+1:2d], -f[1:d])\n",
    "    \n",
    "    # builds a function that calculates Hamiltonian gradient and converts the function to a native Julia function\n",
    "    ∇H_eval = @RuntimeGeneratedFunction(Symbolics.inject_registered_module_functions(build_function(∇H, z, a)[2]))\n",
    "    \n",
    "    return ∇H_eval\n",
    "end\n",
    "\n",
    "struct HamiltonianSINDy{T, GHT}\n",
    "    basis::Vector{Symbolics.Num} # the augmented basis for sparsification\n",
    "    analytical_fθ::GHT\n",
    "    z::Vector{Symbolics.Num} \n",
    "    λ::T # Sparsification Parameter\n",
    "    noise_level::T # Noise amplitude added to the data\n",
    "    noiseGen_timeStep::T # Time step for the integrator to get noisy data \n",
    "    nloops::Int # Sparsification Loops\n",
    "    \n",
    "    function HamiltonianSINDy(basis::Vector{Symbolics.Num},\n",
    "        analytical_fθ::GHT = missing,\n",
    "        z::Vector{Symbolics.Num} = get_z_vector(2);\n",
    "        λ::T = 0.05,\n",
    "        noise_level::T = 0.00,\n",
    "        noiseGen_timeStep::T = 0.1,\n",
    "        nloops = 10) where {T, GHT <: Union{Base.Callable,Missing}}\n",
    "\n",
    "        new{T, GHT}(basis, analytical_fθ, z, λ, noise_level, noiseGen_timeStep, nloops)\n",
    "    end\n",
    "end\n",
    "\n",
    "function gen_noisy_ref_data(method::HamiltonianSINDy, x)\n",
    "    # initialize timestep data for analytical solution\n",
    "    tstep = method.noiseGen_timeStep\n",
    "    tspan = (zero(tstep), tstep)\n",
    "\n",
    "    function next_timestep(x)\n",
    "        prob_ref = ODEProblem((dx, t, x, params) -> method.analytical_fθ(dx, x, params, t), tspan, tstep, x)\n",
    "        sol = integrate(prob_ref, Gauss(2))\n",
    "        sol.q[end]\n",
    "    end\n",
    "\n",
    "    data_ref = [next_timestep(_x) for _x in x]\n",
    "\n",
    "    # add noise\n",
    "    data_ref_noisy = [_x .+ method.noise_level .* randn(size(_x)) for _x in data_ref]\n",
    "\n",
    "    return data_ref_noisy\n",
    "\n",
    "end\n",
    "\n",
    "struct TrainingData{AT<:AbstractArray}\n",
    "    x::AT # initial condition\n",
    "    ẋ::AT # initial condition\n",
    "    y::AT # noisy data at next time step\n",
    "\n",
    "    TrainingData(x::AT, ẋ::AT, y::AT) where {AT} = new{AT}(x, ẋ, y)\n",
    "    TrainingData(x::AT, ẋ::AT) where {AT} = new{AT}(x, ẋ)\n",
    "end\n",
    "\n"
   ]
  },
  {
   "cell_type": "code",
   "execution_count": 4,
   "metadata": {},
   "outputs": [
    {
     "name": "stdout",
     "output_type": "stream",
     "text": [
      "Setting up...\n",
      "Generate Training Data...\n"
     ]
    },
    {
     "data": {
      "text/plain": [
       "TrainingData{Vector{Vector{Float64}}}([[-20.0, -20.0, -20.0, -20.0], [-16.923076923076923, -20.0, -20.0, -20.0], [-13.846153846153847, -20.0, -20.0, -20.0], [-10.769230769230766, -20.0, -20.0, -20.0], [-7.6923076923076925, -20.0, -20.0, -20.0], [-4.615384615384616, -20.0, -20.0, -20.0], [-1.5384615384615365, -20.0, -20.0, -20.0], [1.5384615384615365, -20.0, -20.0, -20.0], [4.615384615384617, -20.0, -20.0, -20.0], [7.6923076923076925, -20.0, -20.0, -20.0]  …  [-7.6923076923076925, 20.0, 20.0, 20.0], [-4.615384615384616, 20.0, 20.0, 20.0], [-1.5384615384615365, 20.0, 20.0, 20.0], [1.5384615384615365, 20.0, 20.0, 20.0], [4.615384615384617, 20.0, 20.0, 20.0], [7.6923076923076925, 20.0, 20.0, 20.0], [10.76923076923077, 20.0, 20.0, 20.0], [13.846153846153847, 20.0, 20.0, 20.0], [16.923076923076927, 20.0, 20.0, 20.0], [20.0, 20.0, 20.0, 20.0]], [[-20.0, -20.0, -0.9129452507276277, -0.9129452507276277], [-20.0, -20.0, 0.9374089802530728, -0.9129452507276277], [-20.0, -20.0, -0.9579536870404376, -0.9129452507276277], [-20.0, -20.0, 0.9744934798994903, -0.9129452507276277], [-20.0, -20.0, -0.986959210970907, -0.9129452507276277], [-20.0, -20.0, 0.9952987648124988, -0.9129452507276277], [-20.0, -20.0, -0.9994772762780824, -0.9129452507276277], [-20.0, -20.0, 0.9994772762780824, -0.9129452507276277], [-20.0, -20.0, -0.9952987648124989, -0.9129452507276277], [-20.0, -20.0, 0.986959210970907, -0.9129452507276277]  …  [20.0, 20.0, -0.986959210970907, 0.9129452507276277], [20.0, 20.0, 0.9952987648124988, 0.9129452507276277], [20.0, 20.0, -0.9994772762780824, 0.9129452507276277], [20.0, 20.0, 0.9994772762780824, 0.9129452507276277], [20.0, 20.0, -0.9952987648124989, 0.9129452507276277], [20.0, 20.0, 0.986959210970907, 0.9129452507276277], [20.0, 20.0, -0.9744934798994911, 0.9129452507276277], [20.0, 20.0, 0.9579536870404376, 0.9129452507276277], [20.0, 20.0, -0.9374089802530742, 0.9129452507276277], [20.0, 20.0, 0.9129452507276277, 0.9129452507276277]], [[-20.99524293118933, -20.981805610363068, -20.022749803072408, -20.028281409978515], [-17.971018337554877, -20.960872075697846, -20.02450588089738, -19.98897891464085], [-14.812149044849818, -20.99815309349651, -20.056973895908506, -20.049534005534756], [-11.674556181185245, -21.014873289131177, -20.026205548109967, -19.969119320522108], [-8.702998433660571, -21.073328822177164, -20.018623023239424, -20.076564975053902], [-5.619808300878987, -21.044024523696134, -19.94531949880643, -20.115305524289568], [-2.54263288466866, -20.96994647553704, -20.028685230602566, -20.026955398341112], [0.4929927599947732, -21.002382057583254, -19.97620438423003, -20.023654947865314], [3.638622110733228, -21.012833245644437, -20.092557691419593, -20.056076672583224], [6.821829133896569, -20.986651552236957, -19.90927978842018, -20.10064389399624]  …  [-6.7177090568784585, 20.964857713761543, 19.977725606937287, 20.044002896681178], [-3.51779796199137, 21.01345265715939, 20.078438227696687, 20.094270071150167], [-0.5830829125255353, 21.079209522757495, 19.973265824167036, 20.08600718063824], [2.580446107642653, 21.002470077097897, 20.054334881553903, 20.069881722865386], [5.568088200847698, 20.9389780313418, 20.02704291520669, 20.096519296498727], [8.781152475251687, 20.962704096521545, 20.006610050461433, 20.018779949590957], [11.809518475402697, 20.920584803871783, 19.935397834453546, 20.087331921932865], [14.870260942543899, 20.984234825389734, 19.982108161869533, 20.090266521371433], [17.98537476819954, 20.96743195602474, 19.982337466439287, 20.04398417173437], [21.064680831653327, 21.037576614862065, 20.084068770484823, 20.03133068144264]])"
      ]
     },
     "metadata": {},
     "output_type": "display_data"
    }
   ],
   "source": [
    "# --------------------\n",
    "# Setup\n",
    "# --------------------\n",
    "\n",
    "println(\"Setting up...\")\n",
    "\n",
    "# 2D system with 4 variables [q₁, q₂, p₁, p₂]\n",
    "const nd = 4\n",
    "\n",
    "z = get_z_vector(nd/2)\n",
    "polynomial = polynomial_basis(z, polyorder=3)\n",
    "trigonometric  = trigonometric_basis(z, max_coeff=1)\n",
    "prime_diff = primal_operator_basis(z, -)\n",
    "basis = get_basis_set(polynomial, trigonometric, prime_diff)\n",
    "# initialize analytical function, keep λ smaller than ϵ so system is identifiable\n",
    "ϵ = 0.5\n",
    "m = 1\n",
    "\n",
    "# two-dim simple harmonic oscillator (not used anywhere only in case some testing needed)\n",
    "# H_ana(x, p, t) = ϵ * x[1]^2 + ϵ * x[2]^2 + 1/(2*m) * x[3]^2 + 1/(2*m) * x[4]^2\n",
    "# H_ana(x, p, t) = cos(x[1]) + cos(x[2]) + 1/(2*m) * x[3]^2 + 1/(2*m) * x[4]^2\n",
    "\n",
    "# Gradient function of the 2D hamiltonian\n",
    "# grad_H_ana(x) = [x[3]; x[4]; -2ϵ * x[1]; -2ϵ * x[2]]\n",
    "grad_H_ana(x) = [x[3]; x[4]; sin(x[1]); sin(x[2])]\n",
    "function grad_H_ana!(dx, x, p, t)\n",
    "    dx .= grad_H_ana(x)\n",
    "end\n",
    "# ------------------------------------------------------------\n",
    "# Training Data\n",
    "# ------------------------------------------------------------\n",
    "\n",
    "println(\"Generate Training Data...\")\n",
    "\n",
    "# number of samples\n",
    "num_samp = 14\n",
    "\n",
    "# samples in p and q space\n",
    "samp_range = LinRange(-20, 20, num_samp)\n",
    "\n",
    "# initialize vector of matrices to store ODE solve output\n",
    "\n",
    "# s depend on size of nd (total dims), 4 in the case here so we use samp_range x samp_range x samp_range x samp_range\n",
    "s = collect(Iterators.product(fill(samp_range, nd)...))\n",
    "\n",
    "\n",
    "# compute vector field from x state values\n",
    "x = [collect(s[i]) for i in eachindex(s)]\n",
    "dx = zeros(nd)\n",
    "p = 0\n",
    "t = 0\n",
    "ẋ = [grad_H_ana!(copy(dx), _x, p, t) for _x in x]\n",
    "\n",
    "\n",
    "# ----------------------------------------\n",
    "# Compute Sparse Regression\n",
    "# ----------------------------------------\n",
    "\n",
    "# choose SINDy method\n",
    "# (λ parameter must be close to noise value so that only coeffs with value around the noise are sparsified away)\n",
    "# noiseGen_timeStep chosen randomly for now\n",
    "method = HamiltonianSINDy(basis, grad_H_ana!, z, λ = 0.05, noise_level = 0.05, noiseGen_timeStep = 0.05)\n",
    "\n",
    "# generate noisy references data at next time step\n",
    "y = gen_noisy_ref_data(method, x)\n",
    "\n",
    "# collect training data\n",
    "tdata = TrainingData(x, ẋ, y)"
   ]
  },
  {
   "cell_type": "code",
   "execution_count": 5,
   "metadata": {},
   "outputs": [
    {
     "data": {
      "text/plain": [
       "RuntimeGeneratedFunction(#=in Main=#, #=using Main=#, :((ˍ₋out, ˍ₋arg1, a)->begin\n",
       "          #= C:\\Users\\nigel\\.julia\\packages\\SymbolicUtils\\H684H\\src\\code.jl:350 =#\n",
       "          #= C:\\Users\\nigel\\.julia\\packages\\SymbolicUtils\\H684H\\src\\code.jl:351 =#\n",
       "          #= C:\\Users\\nigel\\.julia\\packages\\SymbolicUtils\\H684H\\src\\code.jl:352 =#\n",
       "          begin\n",
       "              begin\n",
       "                  #= C:\\Users\\nigel\\.julia\\packages\\Symbolics\\3jLt1\\src\\build_function.jl:520 =#\n",
       "                  #= C:\\Users\\nigel\\.julia\\packages\\SymbolicUtils\\H684H\\src\\code.jl:399 =# @inbounds begin\n",
       "                          #= C:\\Users\\nigel\\.julia\\packages\\SymbolicUtils\\H684H\\src\\code.jl:395 =#\n",
       "                          ˍ₋out[1] = (+)((+)((+)((+)((+)((+)((+)((+)((+)((+)((+)((+)((+)((+)((+)((+)((+)((+)((+)((+)((+)((+)((*)((cos)(ˍ₋arg1[3]), (getindex)(a, 37)), (*)(-1, (getindex)(a, 44))), (*)(-1, (getindex)(a, 46))), (*)(-1, (getindex)(a, 54))), (*)((^)(ˍ₋arg1[4], 2), (getindex)(a, 33))), (*)((^)(ˍ₋arg1[1], 2), (getindex)(a, 17))), (*)((^)(ˍ₋arg1[2], 2), (getindex)(a, 26))), (*)((getindex)(a, 7), ˍ₋arg1[1])), (*)((getindex)(a, 13), ˍ₋arg1[4])), (*)((getindex)(a, 10), ˍ₋arg1[2])), (*)((*)(3, (^)(ˍ₋arg1[3], 2)), (getindex)(a, 31))), (*)((*)(-1, (sin)(ˍ₋arg1[3])), (getindex)(a, 41))), (*)((*)(2, (getindex)(a, 12)), ˍ₋arg1[3])), (*)((*)((getindex)(a, 20), ˍ₋arg1[1]), ˍ₋arg1[2])), (*)((*)((getindex)(a, 23), ˍ₋arg1[4]), ˍ₋arg1[1])), (*)((*)((getindex)(a, 29), ˍ₋arg1[4]), ˍ₋arg1[2])), (*)((*)((*)(2, (getindex)(a, 32)), ˍ₋arg1[3]), ˍ₋arg1[4])), (*)((*)((*)(2, (getindex)(a, 22)), ˍ₋arg1[3]), ˍ₋arg1[1])), (*)((*)((*)(2, (getindex)(a, 28)), ˍ₋arg1[3]), ˍ₋arg1[2])), (getindex)(a, 3)), (getindex)(a, 48)), (getindex)(a, 50)), (getindex)(a, 52))\n",
       "                          ˍ₋out[2] = (+)((+)((+)((+)((+)((+)((+)((+)((+)((+)((+)((+)((+)((+)((+)((+)((+)((+)((+)((+)((+)((+)((*)((^)(ˍ₋arg1[1], 2), (getindex)(a, 18)), (*)((^)(ˍ₋arg1[3], 2), (getindex)(a, 32))), (*)((^)(ˍ₋arg1[2], 2), (getindex)(a, 27))), (*)((cos)(ˍ₋arg1[4]), (getindex)(a, 38))), (*)(-1, (getindex)(a, 45))), (*)(-1, (getindex)(a, 47))), (*)(-1, (getindex)(a, 48))), (*)((getindex)(a, 8), ˍ₋arg1[1])), (*)((getindex)(a, 11), ˍ₋arg1[2])), (*)((getindex)(a, 13), ˍ₋arg1[3])), (*)((*)(2, (getindex)(a, 14)), ˍ₋arg1[4])), (*)((*)(3, (^)(ˍ₋arg1[4], 2)), (getindex)(a, 34))), (*)((*)(-1, (sin)(ˍ₋arg1[4])), (getindex)(a, 42))), (*)((*)((getindex)(a, 21), ˍ₋arg1[1]), ˍ₋arg1[2])), (*)((*)((getindex)(a, 23), ˍ₋arg1[3]), ˍ₋arg1[1])), (*)((*)((getindex)(a, 29), ˍ₋arg1[3]), ˍ₋arg1[2])), (*)((*)((*)(2, (getindex)(a, 33)), ˍ₋arg1[3]), ˍ₋arg1[4])), (*)((*)((*)(2, (getindex)(a, 24)), ˍ₋arg1[4]), ˍ₋arg1[1])), (*)((*)((*)(2, (getindex)(a, 30)), ˍ₋arg1[4]), ˍ₋arg1[2])), (getindex)(a, 4)), (getindex)(a, 51)), (getindex)(a, 53)), (getindex)(a, 54))\n",
       "                          ˍ₋out[3] = (+)((+)((+)((+)((+)((+)((+)((+)((+)((+)((+)((+)((+)((+)((+)((+)((+)((+)((+)((+)((+)((+)((*)(-1, (getindex)(a, 1)), (*)((sin)(ˍ₋arg1[1]), (getindex)(a, 39))), (*)(-1, (getindex)(a, 43))), (*)(-1, (getindex)(a, 44))), (*)(-1, (getindex)(a, 45))), (*)((*)(-1, (^)(ˍ₋arg1[3], 2)), (getindex)(a, 22))), (*)((*)(-1, (^)(ˍ₋arg1[2], 2)), (getindex)(a, 19))), (*)((*)(-1, (getindex)(a, 6)), ˍ₋arg1[2])), (*)((*)(-2, (getindex)(a, 5)), ˍ₋arg1[1])), (*)((*)(-3, (^)(ˍ₋arg1[1], 2)), (getindex)(a, 15))), (*)((*)(-1, (^)(ˍ₋arg1[4], 2)), (getindex)(a, 24))), (*)((*)(-1, (cos)(ˍ₋arg1[1])), (getindex)(a, 35))), (*)((*)(-1, (getindex)(a, 7)), ˍ₋arg1[3])), (*)((*)(-1, (getindex)(a, 8)), ˍ₋arg1[4])), (*)((*)((*)(-2, (getindex)(a, 17)), ˍ₋arg1[3]), ˍ₋arg1[1])), (*)((*)((*)(-1, (getindex)(a, 20)), ˍ₋arg1[3]), ˍ₋arg1[2])), (*)((*)((*)(-1, (getindex)(a, 23)), ˍ₋arg1[3]), ˍ₋arg1[4])), (*)((*)((*)(-1, (getindex)(a, 21)), ˍ₋arg1[4]), ˍ₋arg1[2])), (*)((*)((*)(-2, (getindex)(a, 18)), ˍ₋arg1[4]), ˍ₋arg1[1])), (*)((*)((*)(-2, (getindex)(a, 16)), ˍ₋arg1[1]), ˍ₋arg1[2])), (getindex)(a, 49)), (getindex)(a, 50)), (getindex)(a, 51))\n",
       "                          ˍ₋out[4] = (+)((+)((+)((+)((+)((+)((+)((+)((+)((+)((+)((+)((+)((+)((+)((+)((+)((+)((+)((+)((+)((+)((*)(-1, (getindex)(a, 2)), (*)(-1, (getindex)(a, 49))), (*)((sin)(ˍ₋arg1[2]), (getindex)(a, 40))), (*)(-1, (getindex)(a, 46))), (*)(-1, (getindex)(a, 47))), (*)((*)(-1, (^)(ˍ₋arg1[3], 2)), (getindex)(a, 28))), (*)((*)(-1, (^)(ˍ₋arg1[1], 2)), (getindex)(a, 16))), (*)((*)(-3, (^)(ˍ₋arg1[2], 2)), (getindex)(a, 25))), (*)((*)(-1, (^)(ˍ₋arg1[4], 2)), (getindex)(a, 30))), (*)((*)(-1, (cos)(ˍ₋arg1[2])), (getindex)(a, 36))), (*)((*)(-1, (getindex)(a, 6)), ˍ₋arg1[1])), (*)((*)(-1, (getindex)(a, 10)), ˍ₋arg1[3])), (*)((*)(-2, (getindex)(a, 9)), ˍ₋arg1[2])), (*)((*)(-1, (getindex)(a, 11)), ˍ₋arg1[4])), (*)((*)((*)(-1, (getindex)(a, 20)), ˍ₋arg1[3]), ˍ₋arg1[1])), (*)((*)((*)(-2, (getindex)(a, 26)), ˍ₋arg1[3]), ˍ₋arg1[2])), (*)((*)((*)(-1, (getindex)(a, 21)), ˍ₋arg1[4]), ˍ₋arg1[1])), (*)((*)((*)(-2, (getindex)(a, 27)), ˍ₋arg1[4]), ˍ₋arg1[2])), (*)((*)((*)(-1, (getindex)(a, 29)), ˍ₋arg1[3]), ˍ₋arg1[4])), (*)((*)((*)(-2, (getindex)(a, 19)), ˍ₋arg1[1]), ˍ₋arg1[2])), (getindex)(a, 43)), (getindex)(a, 52)), (getindex)(a, 53))\n",
       "                          #= C:\\Users\\nigel\\.julia\\packages\\SymbolicUtils\\H684H\\src\\code.jl:397 =#\n",
       "                          nothing\n",
       "                      end\n",
       "              end\n",
       "          end\n",
       "      end))"
      ]
     },
     "metadata": {},
     "output_type": "display_data"
    }
   ],
   "source": [
    "# dimension of system\n",
    "d = size(tdata.x[begin], 1) ÷ 2\n",
    "\n",
    "# returns function that builds hamiltonian gradient through symbolics\n",
    "fθ = ΔH_func_builder(d, method.z, method.basis)"
   ]
  },
  {
   "cell_type": "code",
   "execution_count": 27,
   "metadata": {},
   "outputs": [
    {
     "data": {
      "text/plain": [
       "network_two (generic function with 1 method)"
      ]
     },
     "metadata": {},
     "output_type": "display_data"
    }
   ],
   "source": [
    "\n",
    "# evaluate neural network\n",
    "function network_two(xᵢₙ, model, method, fθ)\n",
    "\t# input layer\n",
    "\tinput_layer = tanh.(model[1].W  * xᵢₙ)\n",
    "\n",
    "\t# first hidden layer\n",
    "\tx₀ = tanh.(model[2].W * input_layer .+ model[2].b)\n",
    "\n",
    "\t# SINDy layer\n",
    "\tfunction SINDy_layer()\n",
    "        # coeffs initialized to a vector of zeros b/c easier to optimize zeros for our case\n",
    "        coeffs = model[3].W\n",
    "\n",
    "        numLoops = 4 # random choice of loop steps\n",
    "        \n",
    "        local x̄ = zeros(eltype(coeffs), axes(x₀))\n",
    "        local x̃ = zeros(eltype(coeffs), axes(x₀))\n",
    "        local f = zeros(eltype(coeffs), axes(x₀))\n",
    "\n",
    "        # gradient at current (x) values\n",
    "        fθ(f, x₀, coeffs)\n",
    "\n",
    "        # for first guess use explicit euler\n",
    "        x̃ .= x₀ .+ method.noiseGen_timeStep .* f\n",
    "        \n",
    "        for _ in 1:numLoops\n",
    "            x̄ .= (x₀ .+ x̃) ./ 2\n",
    "            # find gradient at {(x̃ₙ + x̃ⁱₙ₊₁)/2} to get Hermite extrapolation\n",
    "            fθ(f, x̄, coeffs)\n",
    "            # mid point rule for integration to next step\n",
    "            x̃ .= x₀ .+ method.noiseGen_timeStep .* f\n",
    "        end\n",
    "        return x̃\n",
    "    end\n",
    "\n",
    "\t# output layer (linear activation)\n",
    "\treturn (model[4].W * SINDy_layer())\n",
    "end"
   ]
  },
  {
   "cell_type": "code",
   "execution_count": 19,
   "metadata": {},
   "outputs": [
    {
     "data": {
      "text/plain": [
       "loss_kernel (generic function with 1 method)"
      ]
     },
     "metadata": {},
     "output_type": "display_data"
    }
   ],
   "source": [
    "function loss_kernel(xᵢₙ, x₁, model, method, fθ)\n",
    "    x̃₁ = network_two(xᵢₙ, model, method, fθ)\n",
    "    # calculate square Euclidean distance\n",
    "    sqeuclidean(x̃₁, x₁)\n",
    "end"
   ]
  },
  {
   "cell_type": "code",
   "execution_count": 20,
   "metadata": {},
   "outputs": [
    {
     "data": {
      "text/plain": [
       "loss (generic function with 1 method)"
      ]
     },
     "metadata": {},
     "output_type": "display_data"
    }
   ],
   "source": [
    "# define loss function\n",
    "function loss(flattened_model::AbstractVector)\n",
    "    # Convert the flattened parameters back to the original structure\n",
    "    local recon_model = reconstruct_model(flattened_model, ld, ndim)\n",
    "    mapreduce(z -> loss_kernel(z..., recon_model, method, fθ), +, zip(tdata.x, tdata.y))\n",
    "end"
   ]
  },
  {
   "cell_type": "code",
   "execution_count": 21,
   "metadata": {},
   "outputs": [
    {
     "data": {
      "text/plain": [
       "flatten_model (generic function with 1 method)"
      ]
     },
     "metadata": {},
     "output_type": "display_data"
    }
   ],
   "source": [
    "function flatten_model(model)\n",
    "    θ = [model[1].W, model[2].W, model[2].b, model[3].W, model[4].W]\n",
    "    # Flatten the model into a single vector\n",
    "    return flattened_model = cat([vec(θ[i]) for i in 1:length(θ)]..., dims=1)\n",
    "end"
   ]
  },
  {
   "cell_type": "code",
   "execution_count": 22,
   "metadata": {},
   "outputs": [
    {
     "data": {
      "text/plain": [
       "reconstruct_model (generic function with 1 method)"
      ]
     },
     "metadata": {},
     "output_type": "display_data"
    }
   ],
   "source": [
    "function reconstruct_model(flattened_model,ld,ndim)\n",
    "    reconstructed_model = (\n",
    "        (W = reshape(flattened_model[1:ld*ndim], ld, ndim), ),\n",
    "        (W = reshape(flattened_model[ld*ndim+1:ld*(ld+ndim)], ld, ld), b = reshape(flattened_model[ld*(ld+ndim)+1:ld*(ld+ndim)+ld], ld)),\n",
    "        (W = flattened_model[ld*(ld+ndim)+ld+1:ld*(ld+ndim)+ld+get_numCoeffs(method.basis)], ),\n",
    "        (W = reshape(flattened_model[ld*(ld+ndim)+ld+get_numCoeffs(method.basis)+1:end], ndim, ld), ),\n",
    "    )\n",
    "    return reconstructed_model\n",
    "end"
   ]
  },
  {
   "cell_type": "code",
   "execution_count": 23,
   "metadata": {},
   "outputs": [
    {
     "data": {
      "text/plain": [
       "((W = [-0.8409664572173586 1.6918148276037885 0.18817306130787326 0.2918801440971123; 0.7046867419859978 -0.14828916711547716 -0.4145630994463643 -0.7991961232322602; -0.7855684669141257 -0.5891600916266517 2.3904865344101367 -0.4165677853667264; 0.18518761411327628 -1.0037048332795904 0.09280991091205364 0.30455118443310975],), (W = [1.5851934269590544 0.3431164330536946 -1.0176946747936548 -1.252383918475359; 2.1113977249130857 -0.5037380168040952 0.9131922906553851 -0.7105000766619574; 0.32044234455061066 0.9042192054359927 0.22730809690106407 0.6213428888452331; -1.7192257899953702 0.6191419336863011 -0.7545315136621077 -0.1933732759334518], b = [-1.5492511993656437, -0.003289914391386709, 0.0994155131565094, -0.3341551830750972]), (W = [0.0, 0.0, 0.0, 0.0, 0.0, 0.0, 0.0, 0.0, 0.0, 0.0  …  0.0, 0.0, 0.0, 0.0, 0.0, 0.0, 0.0, 0.0, 0.0, 0.0],), (W = [-0.9883703049689645 -0.5962853375953493 -0.365408274836866 -0.1306568990262537; 1.0418301347016732 0.10623919258914831 -1.4103055995850518 0.7771667682691416; 0.23655502149551907 0.18134168928433145 2.601055520335438 -0.06232520335416204; -0.13734579321687074 -0.44422131253418456 0.5687372297053229 -0.7951804216013354],))"
      ]
     },
     "metadata": {},
     "output_type": "display_data"
    }
   ],
   "source": [
    "# latent dimension: ld\n",
    "ld = size(tdata.x[begin], 1)\n",
    "ndim = size(tdata.x[begin], 1)\n",
    "model = (\n",
    "\t(W = randn(ld, ndim), ),\n",
    "\t(W = randn(ld, ld), b = randn(ld)),\n",
    "\t(W = zeros(get_numCoeffs(method.basis)), ),\n",
    "\t(W = randn(ndim, ld), ),\n",
    ")"
   ]
  },
  {
   "cell_type": "code",
   "execution_count": 29,
   "metadata": {},
   "outputs": [
    {
     "name": "stdout",
     "output_type": "stream",
     "text": [
      "Initial Guess..."
     ]
    },
    {
     "name": "stdout",
     "output_type": "stream",
     "text": [
      "\n",
      "Iter     Function value   Gradient norm \n",
      "     0     2.326930e+07     1.438580e+06\n",
      " * time: 0.0\n"
     ]
    },
    {
     "name": "stdout",
     "output_type": "stream",
     "text": [
      "     1     2.260766e+07     2.031810e+06\n",
      " * time: 118.50799989700317\n"
     ]
    },
    {
     "name": "stdout",
     "output_type": "stream",
     "text": [
      "     2     1.861719e+07     5.802913e+05\n",
      " * time: 254.2739999294281\n"
     ]
    },
    {
     "name": "stdout",
     "output_type": "stream",
     "text": [
      "     3     1.673584e+07     5.177401e+05\n",
      " * time: 389.12400007247925\n"
     ]
    },
    {
     "name": "stdout",
     "output_type": "stream",
     "text": [
      "     4     1.577773e+07     3.446098e+05\n",
      " * time: 524.1189999580383\n"
     ]
    },
    {
     "name": "stdout",
     "output_type": "stream",
     "text": [
      "     5     1.568239e+07     3.190544e+05\n",
      " * time: 659.7739999294281\n"
     ]
    },
    {
     "name": "stdout",
     "output_type": "stream",
     "text": [
      "     6     1.499466e+07     1.890405e+05\n",
      " * time: 814.25\n"
     ]
    }
   ],
   "source": [
    "# initial guess\n",
    "println(\"Initial Guess...\")\n",
    "flattened_model = flatten_model(model)\n",
    "# Define the optimization solver\n",
    "solver = BFGS()\n",
    "result = Optim.optimize(loss, flattened_model, solver, Optim.Options(show_trace=true, iterations=15); autodiff = :forward)\n",
    "\n",
    "reconstructed_model = reconstruct_model(result.minimizer, ld, ndim)\n",
    "\n",
    "coeffs = reconstructed_model[3].W\n",
    "\n",
    "(result)"
   ]
  },
  {
   "cell_type": "code",
   "execution_count": null,
   "metadata": {},
   "outputs": [],
   "source": [
    "flattened_model .= result.minimizer\n",
    "\n",
    "for n in 1:method.nloops\n",
    "    println(\"Iteration #$n...\")\n",
    "\n",
    "    # find coefficients below λ threshold\n",
    "    smallinds = abs.(coeffs) .< method.λ\n",
    "    biginds = .~smallinds\n",
    "\n",
    "    # check if there are any small coefficients != 0 left\n",
    "    #TODO: is the code expected to exit the loop here usually?\n",
    "    all(coeffs[smallinds] .== 0) && break\n",
    "\n",
    "    # set all small coefficients to zero\n",
    "    coeffs[smallinds] .= 0\n",
    "\n",
    "    # Regress dynamics onto remaining terms to find sparse coeffs\n",
    "    function sparseloss(flattened_model::AbstractVector)\n",
    "        local reconstructed_model = (\n",
    "            (W = reshape(flattened_model[1:ld*ndim], ld, ndim), ),\n",
    "            (W = reshape(flattened_model[ld*ndim+1:ld*(ld+ndim)], ld, ld), b = reshape(flattened_model[ld*(ld+ndim)+1:ld*(ld+ndim)+ld], ld)),\n",
    "            (W = flattened_model[ld*(ld+ndim)+ld+1:end - ld*ndim], ),\n",
    "            (W = reshape(flattened_model[end - ld*ndim + 1:end], ndim, ld), ),\n",
    "        )\n",
    "        c = zeros(eltype(flattened_model), axes(coeffs))\n",
    "        c[biginds] .= reconstructed_model[3].W\n",
    "\n",
    "        reconstructed_model[3].W .= c\n",
    "        loss(reconstructed_model)\n",
    "    end\n",
    "\n",
    "    # it is a reference to coeffs[biginds] so it will be updated\n",
    "    flattened_model[ld*(ld+ndim)+ld+1:end - ld*ndim] = coeffs[biginds]\n",
    "    result = Optim.optimize(sparseloss, flattened_model, solver, Optim.Options(show_trace=true, iterations=4); autodiff = :forward)\n",
    "    flattened_model .= result.minimizer\n",
    "    println(result)\n",
    "end\n",
    "\n",
    "reconstructed_model = (\n",
    "        (W = reshape(flattened_model[1:ld*ndim], ld, ndim), ),\n",
    "        (W = reshape(flattened_model[ld*ndim+1:ld*(ld+ndim)], ld, ld), b = reshape(flattened_model[ld*(ld+ndim)+1:ld*(ld+ndim)+ld], ld)),\n",
    "        (W = flattened_model[ld*(ld+ndim)+ld+1:end - ld*ndim], ),\n",
    "        (W = reshape(flattened_model[end - ld*ndim + 1:end], ndim, ld), ),\n",
    "    )"
   ]
  },
  {
   "cell_type": "code",
   "execution_count": null,
   "metadata": {},
   "outputs": [],
   "source": [
    "print(coeffs)"
   ]
  },
  {
   "cell_type": "code",
   "execution_count": null,
   "metadata": {},
   "outputs": [],
   "source": [
    "function (vectorfield)(dz, z)\n",
    "    fθ(dz, z, coeffs)\n",
    "    return dz\n",
    "end\n",
    "\n",
    "(vectorfield)(dz, z, p, t) = vectorfield(dz, z)\n"
   ]
  },
  {
   "cell_type": "code",
   "execution_count": null,
   "metadata": {},
   "outputs": [],
   "source": [
    "\n",
    "# ----------------------------------------\n",
    "# Plot Results\n",
    "# ----------------------------------------\n",
    "\n",
    "println(\"Plotting...\")\n",
    "\n",
    "tstep = 0.01\n",
    "tspan = (0.0,25.0)\n",
    "\n",
    "for i in 1:5\n",
    "    idx = rand(1:length(s))\n",
    "\n",
    "    prob_reference = ODEProblem((dx, t, x, params) -> grad_H_ana!(dx, x, params, t), tspan, tstep, x[idx])\n",
    "    data_reference = integrate(prob_reference, Gauss(2))\n",
    "\n",
    "    prob_sindy = ODEProblem((dx, t, x, params) -> vectorfield(dx, x, params, t), tspan, tstep, x[idx])\n",
    "    data_sindy = integrate(prob_sindy, Gauss(2))\n",
    "\n",
    "    p1 = plot(xlabel = \"Time\", ylabel = \"q₁\")\n",
    "    scatter!(p1, data_reference.t, data_reference.q[:,1], label = \"Data q₁\")\n",
    "    scatter!(p1, data_sindy.t, data_sindy.q[:,1], markershape=:xcross, label = \"Identified q₁\")\n",
    "\n",
    "    p3 = plot(xlabel = \"Time\", ylabel = \"p₁\")\n",
    "    scatter!(p3, data_reference.t, data_reference.q[:,3], label = \"Data p₁\")\n",
    "    scatter!(p3, data_sindy.t, data_sindy.q[:,3], markershape=:xcross, label = \"Identified p₁\")\n",
    "\n",
    "    plot!(size=(1000,1000))\n",
    "    display(plot(p1, p3, title=\"Analytical vs Calculated q₁ & p₁ in a 2D system with Euler\"))\n",
    "\n",
    "    p2 = plot(xlabel = \"Time\", ylabel = \"q₂\")\n",
    "    scatter!(p2, data_reference.t, data_reference.q[:,2], label = \"Data q₂\")\n",
    "    scatter!(p2, data_sindy.t, data_sindy.q[:,2], markershape=:xcross, label = \"Identified q₂\")\n",
    "\n",
    "    p4 = plot(xlabel = \"Time\", ylabel = \"p₂\")\n",
    "    scatter!(p4, data_reference.t, data_reference.q[:,4], label = \"Data p₂\")\n",
    "    scatter!(p4, data_sindy.t, data_sindy.q[:,4], markershape=:xcross, label = \"Identified p₂\")\n",
    "\n",
    "    plot!(size=(1000,1000))\n",
    "    display(plot(p2, p4, title=\"Analytical vs Calculated q₂ & p₂ in a 2D system with Euler\"))\n",
    "\n",
    "end"
   ]
  }
 ],
 "metadata": {
  "kernelspec": {
   "display_name": "Julia 1.8.3",
   "language": "julia",
   "name": "julia-1.8"
  },
  "language_info": {
   "file_extension": ".jl",
   "mimetype": "application/julia",
   "name": "julia",
   "version": "1.8.3"
  },
  "orig_nbformat": 4
 },
 "nbformat": 4,
 "nbformat_minor": 2
}
