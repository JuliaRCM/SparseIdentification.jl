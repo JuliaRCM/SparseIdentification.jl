{
 "cells": [
  {
   "cell_type": "code",
   "execution_count": 1,
   "metadata": {},
   "outputs": [],
   "source": [
    "using Symbolics\n",
    "using RuntimeGeneratedFunctions\n",
    "RuntimeGeneratedFunctions.init(@__MODULE__)"
   ]
  },
  {
   "cell_type": "code",
   "execution_count": 2,
   "metadata": {},
   "outputs": [
    {
     "data": {
      "text/plain": [
       "hamiltonian_poly"
      ]
     },
     "metadata": {},
     "output_type": "display_data"
    }
   ],
   "source": [
    "_prod(a, b, c, arrs...) = a .* _prod(b, c, arrs...)\n",
    "_prod(a, b) = a .* b\n",
    "_prod(a) = a\n",
    "\n",
    "\" makes polynomial combinations of basis \"\n",
    "function hamiltonian_poly(z, order, inds...)\n",
    "    ham = []\n",
    "\n",
    "    if order == 0\n",
    "        Num(1)\n",
    "    elseif order == length(inds)\n",
    "        ham = vcat(ham, _prod([z[i] for i in inds]...))\n",
    "    else\n",
    "        start_ind = length(inds) == 0 ? 1 : inds[end]\n",
    "        for j in start_ind:length(z)\n",
    "            ham = vcat(ham, hamiltonian_poly(z, order, inds..., j))\n",
    "        end\n",
    "    end\n",
    "\n",
    "    return ham\n",
    "end"
   ]
  },
  {
   "cell_type": "code",
   "execution_count": null,
   "metadata": {},
   "outputs": [],
   "source": [
    "\" collects and sums only polynomial combinations of basis \"\n",
    "function hamiltonian(z, a, order)\n",
    "    ham = []\n",
    "\n",
    "    for i in 1:order\n",
    "        ham = vcat(ham, hamiltonian_poly(z, i))\n",
    "    end\n",
    "\n",
    "    sum(collect(a .* ham))\n",
    "end"
   ]
  },
  {
   "cell_type": "code",
   "execution_count": null,
   "metadata": {},
   "outputs": [],
   "source": [
    "\" collects and sums polynomial and trigonometric combinations of basis \"\n",
    "function hamil_trig(z, a, order, trig_wave_num)\n",
    "    ham = []\n",
    "\n",
    "    # Polynomial basis\n",
    "    for i in 1:order\n",
    "        ham = vcat(ham, hamiltonian_poly(z, i))\n",
    "    end\n",
    "\n",
    "    # Trigonometric basis\n",
    "    for k = 1:trig_wave_num\n",
    "        ham = vcat(ham, vcat(sin.(k*z)), vcat(cos.(k*z)))\n",
    "    end\n",
    "\n",
    "    ham = sum(collect(a .* ham))\n",
    "\n",
    "    return ham\n",
    "\n",
    "end"
   ]
  },
  {
   "cell_type": "code",
   "execution_count": null,
   "metadata": {},
   "outputs": [],
   "source": [
    "\n",
    "\" collects and sums polynomial, trigonometric, and states differences combinations of basis \"\n",
    "function hamiltonian_two(z, a, order, trig_wave_num, diffs_power, trig_state_diffs, exp_diff)\n",
    "    ham = []\n",
    "\n",
    "    # Polynomial basis\n",
    "    for i in 1:order\n",
    "        ham = vcat(ham, hamiltonian_poly(z, i))\n",
    "    end\n",
    "\n",
    "    # Trigonometric basis\n",
    "    for k = 1:trig_wave_num\n",
    "        ham = vcat(ham, vcat(sin.(k*z)), vcat(cos.(k*z)))\n",
    "    end\n",
    "\n",
    "    # For States difference power basis, trigonometric or exponential power states difference basis\n",
    "    if diffs_power != 0 || trig_state_diffs != 0 || exp_diff != 0\n",
    "        diffs = Vector{Symbolics.Num}()\n",
    "        idx = 1\n",
    "        for i in eachindex(z)\n",
    "            for j in eachindex(z)\n",
    "                if i == j\n",
    "                    continue  # skip index where difference is between same state\n",
    "                end\n",
    "                push!(diffs, (z[i] - z[j]))\n",
    "                idx += 1\n",
    "            end\n",
    "        end\n",
    "    end\n",
    "        \n",
    "    if diffs_power > 0\n",
    "        for k = 1:diffs_power\n",
    "            ham = vcat(ham, vcat(diffs .^ k))\n",
    "        end\n",
    "    elseif diffs_power < 0\n",
    "        for k = 1:abs(diffs_power)\n",
    "            ham = vcat(ham, vcat(diffs .^ -k))\n",
    "        end\n",
    "    end\n",
    "\n",
    "    # Trigonometric state differences basis\n",
    "    if trig_state_diffs > 0\n",
    "        for k = 1:trig_state_diffs\n",
    "            ham = vcat(ham, vcat(sin.(diffs) .^ k), vcat(cos.(diffs) .^ k))\n",
    "        end\n",
    "    elseif trig_state_diffs < 0\n",
    "        for k = 1:abs(trig_state_diffs)\n",
    "            ham = vcat(ham, vcat(sin.(diffs) .^ -k), vcat(cos.(diffs) .^ -k))\n",
    "        end\n",
    "    end\n",
    "\n",
    "    # exponential state differences basis\n",
    "    if exp_diff > 0\n",
    "        for k = 1:exp_diff\n",
    "            ham = vcat(ham, vcat(exp.(diffs) .^ k))\n",
    "        end\n",
    "    elseif exp_diff < 0\n",
    "        for k = 1:abs(exp_diff)\n",
    "            ham = vcat(ham, vcat(exp.(diffs) .^ -k))\n",
    "        end\n",
    "    end\n",
    "\n",
    "    ham = sum(collect(a .* ham))\n",
    "    return ham\n",
    "\n",
    "end"
   ]
  },
  {
   "cell_type": "code",
   "execution_count": null,
   "metadata": {},
   "outputs": [],
   "source": [
    "\n",
    "\"\"\"\n",
    "returns the number of required parameters taking into account many types of basis functions\n",
    "\"\"\"\n",
    "function calculate_nparams(nd, polyorder, trig_wave_num, diffs_power, trig_state_diffs, exp_diff)\n",
    "    # binomial used to get the combination of polynomials till the highest order without repeat, e.g nparam = 34 for 3rd order, with z = q,p each of 2 dims\n",
    "    # nd: total number of dims of all variable states\n",
    "    nparam = binomial(nd + polyorder, polyorder) - 1\n",
    "\n",
    "    if trig_wave_num > 0\n",
    "        # first 2 in the product formula b/c the trig basis are sin and cos i.e. two basis functions\n",
    "        nparam += 2 * trig_wave_num * nd\n",
    "    end\n",
    "\n",
    "    if abs(diffs_power) > 0\n",
    "        # diffs power is the max power of the difference of states in the library of basis functions\n",
    "        nparam += abs(diffs_power) * nd * (nd-1)\n",
    "    end\n",
    "\n",
    "    if abs(trig_state_diffs) > 0 \n",
    "        # we add this b/c we also want to get the powers of sin and cos of the difference of states in the function library\n",
    "        nparam += 2 * abs(trig_state_diffs) * nd * (nd-1)\n",
    "    end\n",
    "\n",
    "    if abs(exp_diff) > 0\n",
    "        # diffs power is the max power of the difference of states in the library of basis functions\n",
    "        nparam += abs(exp_diff) * nd * (nd-1)\n",
    "    end\n",
    "\n",
    "    return nparam\n",
    "end"
   ]
  },
  {
   "cell_type": "code",
   "execution_count": null,
   "metadata": {},
   "outputs": [],
   "source": [
    "\" returns a function that can build the gradient of the hamiltonian \"\n",
    "function ΔH_func_builder_two(d, polyorder, trig_wave_num, diffs_power, trig_state_diffs, exp_diff)\n",
    "    # nd is the total number of dimensions of all the states, e.g. if q,p each of 3 dims, that is 6 dims in total\n",
    "    nd = 2d\n",
    "    \n",
    "    # binomial used to get the combination of variables till the highest order without repeat, nparam = 34 for 3rd order, with z = q,p each of 2 dims\n",
    "    nparam = calculate_nparams(nd, polyorder, trig_wave_num, diffs_power, trig_state_diffs, exp_diff)\n",
    "\n",
    "    # symbolic variables\n",
    "    @variables a[1:nparam]\n",
    "    @variables q[1:d]\n",
    "    @variables p[1:d]\n",
    "    z = vcat(q,p)\n",
    "    Dz = Differential.(z)\n",
    "    \n",
    "    # make a basis library\n",
    "    ham = hamiltonian_two(z, a, polyorder, trig_wave_num, diffs_power, trig_state_diffs, exp_diff)\n",
    "    \n",
    "    # gives derivative of the hamiltonian, but not the skew-symmetric true one\n",
    "    f = [expand_derivatives(dz(ham)) for dz in Dz]\n",
    "\n",
    "    # line below makes the vector into a hamiltonian vector field by multiplying with the skew-symmetric matrix\n",
    "    ∇H = vcat(f[d+1:2d], -f[1:d])\n",
    "\n",
    "    # builds a function that calculates Hamiltonian gradient and converts the function to a native Julia function\n",
    "    ∇H_eval = @RuntimeGeneratedFunction(Symbolics.inject_registered_module_functions(build_function(∇H, z, a)[2]))\n",
    "    \n",
    "    return ∇H_eval\n",
    "\n",
    "end\n"
   ]
  },
  {
   "cell_type": "code",
   "execution_count": null,
   "metadata": {},
   "outputs": [],
   "source": [
    "\n",
    "\" returns a function that can build the gradient of the hamiltonian \"\n",
    "function hamilGrad_func_builder(d, polyorder, trig_wave_num, diffs_power, trig_state_diffs)\n",
    "    # nd is the total number of dimensions of all the states, e.g. if q,p each of 3 dims, that is 6 dims in total\n",
    "    nd = 2d\n",
    "    # binomial used to get the combination of variables till the highest order without repeat, nparam = 34 for 3rd order, with z = q,p each of 2 dims\n",
    "    nparam = calculate_nparams(nd, polyorder, trig_wave_num, diffs_power, trig_state_diffs)\n",
    "\n",
    "    # symbolic variables\n",
    "    @variables a[1:nparam]\n",
    "    @variables q[1:d]\n",
    "    @variables p[1:d]\n",
    "    z = vcat(q,p)\n",
    "\n",
    "    # usesine: whether to add trig basis or not\n",
    "    if trig_wave_num > 0\n",
    "\n",
    "        # gives derivative of the hamiltonian, but not the skew-symmetric true one\n",
    "        Dz = Differential.(z)\n",
    "        ∇H_add_trig = [expand_derivatives(dz(hamil_trig(z, a, polyorder, trig_wave_num))) for dz in Dz]\n",
    "\n",
    "        # line below makes the vector into a hamiltonian vector field by multiplying with the skew-symmetric matrix\n",
    "        ∇H_trig = vcat(∇H_add_trig[d+1:2d], -∇H_add_trig[1:d])\n",
    "\n",
    "        # builds a function that calculates Hamiltonian gradient and converts the function to a native Julia function\n",
    "        ∇H_eval = @RuntimeGeneratedFunction(Symbolics.inject_registered_module_functions(build_function(∇H_trig, z, a)[2]))\n",
    "\n",
    "        return ∇H_eval\n",
    "\n",
    "    else\n",
    "\n",
    "        # gives derivative of the hamiltonian, but not the skew-symmetric true one\n",
    "        Dz = Differential.(z)\n",
    "        f = [expand_derivatives(dz(hamiltonian(z, a, polyorder))) for dz in Dz]\n",
    "\n",
    "        f = replace(f, :(ifelse(signbit($(Expr(:quote, abs(x-y)))),-1,1)), :(abs(x-y)))\n",
    "\n",
    "        # line below makes the vector into a hamiltonian by multiplying with the skew-symmetric matrix\n",
    "        ∇H = vcat(f[d+1:2d], -f[1:d])\n",
    "\n",
    "        # builds a function that calculates Hamiltonian gradient and converts the function to a native Julia function\n",
    "        ∇H_eval = @RuntimeGeneratedFunction(Symbolics.inject_registered_module_functions(build_function(∇H, z, a)[2]))\n",
    "        \n",
    "        return ∇H_eval\n",
    "\n",
    "    end\n",
    "\n",
    "end"
   ]
  },
  {
   "attachments": {},
   "cell_type": "markdown",
   "metadata": {},
   "source": [
    "#### TESTING TIME ####"
   ]
  },
  {
   "cell_type": "code",
   "execution_count": null,
   "metadata": {},
   "outputs": [],
   "source": [
    "# nd: total dims of all variables i.e p,q\n",
    "nd = 4\n",
    "# since we always have q and p, i.e 2 variables only, d will always be nd/2\n",
    "d = div(nd, 2)\n",
    "\n",
    "\" trig_wave_num can be adjusted if higher frequency arguments expected \"\n",
    "trig_wave_num = 0\n",
    "\n",
    "# highest order of polynomial library function\n",
    "polyorder = 1\n",
    "\n",
    "# states difference power\n",
    "diffs_power = 0\n",
    "\n",
    "# trig state difference power\n",
    "trig_state_diffs = 0\n",
    "\n",
    "# exponential state difference power\n",
    "exp_diff = 1\n",
    "\n",
    "\"binomial used to get the combination of variables till the highest \n",
    "order without repeat, e.g with usesine= false, nparam = 34 for 3rd \n",
    "order, with z = q,p each of 2 dims\"\n",
    "\n",
    "nparam = calculate_nparams(nd, polyorder, trig_wave_num, diffs_power, trig_state_diffs, exp_diff)\n",
    "println(nparam)"
   ]
  },
  {
   "cell_type": "code",
   "execution_count": null,
   "metadata": {},
   "outputs": [],
   "source": [
    "# builds a function that calculates Hamiltonian gradient and converts the function to a native Julia function\n",
    "∇H_eval = ΔH_func_builder_two(nd, polyorder, trig_wave_num, diffs_power, trig_state_diffs, exp_diff)"
   ]
  },
  {
   "cell_type": "code",
   "execution_count": null,
   "metadata": {},
   "outputs": [],
   "source": [
    "# wrapper function for generalized SINDY hamiltonian gradient\n",
    "function hamilGradient_general!(out, z, a::AbstractVector{T}, t) where T\n",
    "    ∇H_eval(out, z, a)\n",
    "    return out\n",
    "end"
   ]
  },
  {
   "cell_type": "code",
   "execution_count": null,
   "metadata": {},
   "outputs": [],
   "source": [
    "# 2D system with 4 variables [q₁, q₂, p₁, p₂] where q₂ = 0 and p₂ = 0\n",
    "nd = 4\n",
    "\n",
    "# 2 dims each of p and q gives 2*d = 4 variables\n",
    "out = zeros(nd)\n",
    "\n",
    "# let (a) be a vector of zeros initially of length 34 (b/c 34 is number of poly combinations for 2 variables, with 2 dims of highest order 3)\n",
    "\n",
    "##################### NOTE: IN ACTUAL SCRIPT WE INITIALIZE THIS TO ZERO TO ALLOW BETTER OPTIMIZATION\n",
    "a = ones(nparam)\n",
    "\n",
    "x₀ = [2, 0, 0, 0]\n",
    "\n",
    "t = 0\n",
    "    "
   ]
  },
  {
   "cell_type": "code",
   "execution_count": null,
   "metadata": {},
   "outputs": [],
   "source": [
    "hamilGradient_general!(out, x₀, a, 0)"
   ]
  },
  {
   "attachments": {},
   "cell_type": "markdown",
   "metadata": {},
   "source": [
    "#### New system for coefficients and basis ####"
   ]
  },
  {
   "cell_type": "code",
   "execution_count": 3,
   "metadata": {},
   "outputs": [
    {
     "data": {
      "text/plain": [
       "get_z_vector (generic function with 1 method)"
      ]
     },
     "metadata": {},
     "output_type": "display_data"
    }
   ],
   "source": [
    "function get_z_vector(dims)\n",
    "    @variables q[1:dims]\n",
    "    @variables p[1:dims]\n",
    "    z = vcat(q,p)\n",
    "    return z\n",
    "end"
   ]
  },
  {
   "cell_type": "code",
   "execution_count": 4,
   "metadata": {},
   "outputs": [
    {
     "data": {
      "text/plain": [
       "primal_power_basis (generic function with 1 method)"
      ]
     },
     "metadata": {},
     "output_type": "display_data"
    }
   ],
   "source": [
    "# make combinations of bases of just the order that is given \n",
    "# e.g order = 2 will give just the bases whose powers sum to 2\n",
    "function poly_combos(z, order, inds...)\n",
    "    if order == 0\n",
    "        return Num[1]\n",
    "    elseif order == length(inds)\n",
    "        return [_prod([z[i] for i in inds]...)]\n",
    "    else\n",
    "        start_ind = length(inds) == 0 ? 1 : inds[end]\n",
    "        return vcat([poly_combos(z, order, inds..., j) for j in start_ind:length(z)]...)\n",
    "    end\n",
    "end\n",
    "\n",
    "# gives all bases monomials up to a certain order\n",
    "function primal_monomial_basis(z, order::Int)\n",
    "    return Vector{Symbolics.Num}(vcat([poly_combos(z, i) for i in 1:order]...))\n",
    "end\n",
    "\n",
    "# calculates coefficient bases up to a certain order\n",
    "# mostly for use with trigonometric functions example sin(k*z),\n",
    "# where k is the coefficient\n",
    "function primal_coeff_basis(z, max_coeff::Int)\n",
    "    return Vector{Symbolics.Num}(vcat([k .* z for k in 1:max_coeff]...))\n",
    "end\n",
    "\n",
    "# calculates +,-,*,/ between states as a new basis\n",
    "# the return output is a set to avoid duplicates\n",
    "function primal_operator_basis(z, operator)\n",
    "    return Vector{Symbolics.Num}([operator(z[i], z[j]) for i in 1:length(z)-1 for j in i+1:length(z)] ∪ [operator(z[j], z[i]) for i in 1:length(z)-1 for j in i+1:length(z)])\n",
    "end\n",
    "\n",
    "# calculates power of states as a new basis\n",
    "function primal_power_basis(z, max_power::Int)\n",
    "    if max_power > 0\n",
    "        return Vector{Symbolics.Num}(vcat([z.^i for i in 1:max_power]...))\n",
    "    elseif max_power < 0\n",
    "        return Vector{Symbolics.Num}(vcat([z.^-i for i in 1:abs(max_power)]...))\n",
    "    end\n",
    "end"
   ]
  },
  {
   "cell_type": "code",
   "execution_count": 5,
   "metadata": {},
   "outputs": [
    {
     "data": {
      "text/plain": [
       "mixed_states_basis (generic function with 1 method)"
      ]
     },
     "metadata": {},
     "output_type": "display_data"
    }
   ],
   "source": [
    "function polynomial_basis(z::Vector{Symbolics.Num} = get_z_vector(2); polyorder::Int = 0, operator=nothing, max_coeff::Int = 0)\n",
    "    primes = primal_monomial_basis(z, polyorder)\n",
    "    primes = vcat(primes, primal_coeff_basis(z, max_coeff))\n",
    "    if operator !== nothing\n",
    "        primes = vcat(primes, primal_operator_basis(z, operator))\n",
    "    end\n",
    "    return primes\n",
    "end\n",
    "\n",
    "function trigonometric_basis(z::Vector{Symbolics.Num} = get_z_vector(2); polyorder::Int = 0, operator=nothing, max_coeff::Int = 0)\n",
    "    primes = polynomial_basis(z, polyorder = polyorder, operator = operator, max_coeff = max_coeff)\n",
    "    return vcat(sin.(primes), cos.(primes))\n",
    "end\n",
    "\n",
    "function exponential_basis(z::Vector{Symbolics.Num} = get_z_vector(2); polyorder::Int = 0, operator=nothing, max_coeff::Int = 0)\n",
    "    primes = polynomial_basis(z, polyorder = polyorder, operator = operator, max_coeff = max_coeff)\n",
    "    return exp.(primes)\n",
    "end\n",
    "\n",
    "function logarithmic_basis(z::Vector{Symbolics.Num} = get_z_vector(2); polyorder::Int = 0, operator=nothing, max_coeff::Int = 0)\n",
    "    primes = polynomial_basis(z, polyorder = polyorder, operator = operator, max_coeff = max_coeff)\n",
    "    return log.(abs.(primes))\n",
    "end\n",
    "\n",
    "function mixed_states_basis(basis::Vector{Symbolics.Num}...)\n",
    "    mixed_states = Tuple(basis)\n",
    "    \n",
    "    ham = Vector{Symbolics.Num}()\n",
    "    for i in eachindex(mixed_states)\n",
    "        for j in i+1:lastindex(mixed_states)\n",
    "            ham = vcat(ham, [mixed_states[i][k] * mixed_states[j][l] for k in 1:length(mixed_states[i]) for l in 1:length(mixed_states[j])])\n",
    "        end\n",
    "    end\n",
    "    \n",
    "    return Vector{Symbolics.Num}(ham)\n",
    "end"
   ]
  },
  {
   "cell_type": "code",
   "execution_count": 6,
   "metadata": {},
   "outputs": [
    {
     "data": {
      "text/plain": [
       "get_numCoeffs (generic function with 1 method)"
      ]
     },
     "metadata": {},
     "output_type": "display_data"
    }
   ],
   "source": [
    "# Returns the number of required coefficients for the bases\n",
    "function get_numCoeffs(basis::Vector{Symbolics.Num})\n",
    "    return length(basis)\n",
    "end"
   ]
  },
  {
   "cell_type": "code",
   "execution_count": 7,
   "metadata": {},
   "outputs": [
    {
     "data": {
      "text/plain": [
       "get_basis_set (generic function with 1 method)"
      ]
     },
     "metadata": {},
     "output_type": "display_data"
    }
   ],
   "source": [
    "# gets a vector of combinations of basis\n",
    "function get_basis_set(bases::Vector{Symbolics.Num}...)\n",
    "    # gets a vector of combinations of basis\n",
    "    basis = vcat(bases...)\n",
    "    \n",
    "    # removes duplicates\n",
    "    basis = Vector{Symbolics.Num}(collect(unique(basis)))\n",
    "\n",
    "    return basis\n",
    "end"
   ]
  },
  {
   "cell_type": "code",
   "execution_count": 8,
   "metadata": {},
   "outputs": [
    {
     "data": {
      "text/plain": [
       "ΔH_func_builder (generic function with 2 methods)"
      ]
     },
     "metadata": {},
     "output_type": "display_data"
    }
   ],
   "source": [
    "function ΔH_func_builder(d::Int, z::Vector{Symbolics.Num} = get_z_vector(d), bases::Vector{Symbolics.Num}...) \n",
    "    # nd is the total number of dimensions of all the states, e.g. if q,p each of 3 dims, that is 6 dims in total\n",
    "    nd = 2d\n",
    "    Dz = Differential.(z)\n",
    "    \n",
    "    # collects and sums combinations of basis and coefficients\"\n",
    "    basis = get_basis_set(bases...)\n",
    "   \n",
    "    # gets number of terms in the basis\n",
    "    @variables a[1:get_numCoeffs(basis)]\n",
    "    \n",
    "    # collect and sum combinations of basis and coefficients\n",
    "    ham = sum(collect(a .* basis))\n",
    "    \n",
    "    # gives derivative of the hamiltonian, but not the skew-symmetric true one\n",
    "    f = [expand_derivatives(dz(ham)) for dz in Dz]\n",
    "    \n",
    "    # line below makes the vector into a hamiltonian vector field by multiplying with the skew-symmetric matrix\n",
    "    ∇H = vcat(f[d+1:2d], -f[1:d])\n",
    "    \n",
    "    # builds a function that calculates Hamiltonian gradient and converts the function to a native Julia function\n",
    "    ∇H_eval = @RuntimeGeneratedFunction(Symbolics.inject_registered_module_functions(build_function(∇H, z, a)[2]))\n",
    "    \n",
    "    return ∇H_eval\n",
    "end"
   ]
  },
  {
   "cell_type": "code",
   "execution_count": 9,
   "metadata": {},
   "outputs": [
    {
     "data": {
      "text/latex": [
       "$$ \\begin{equation}\n",
       "\\left[\n",
       "\\begin{array}{c}\n",
       "\\left(  - q_1 + p_1 \\right) a_4 + 2 \\left(  - p_1 + q_1 \\right) a_3 + a_1 \\\\\n",
       "\\left(  - p_1 + q_1 \\right) a_4 + 2 \\left(  - q_1 + p_1 \\right) a_5 + a_2 \\\\\n",
       "\\end{array}\n",
       "\\right]\n",
       "\\end{equation}\n",
       " $$"
      ],
      "text/plain": [
       "2-element Vector{Num}:\n",
       " (p[1] - q[1])*a[4] + 2(q[1] - p[1])*a[3] + a[1]\n",
       " (q[1] - p[1])*a[4] + 2(p[1] - q[1])*a[5] + a[2]"
      ]
     },
     "metadata": {},
     "output_type": "display_data"
    }
   ],
   "source": [
    "d = 1\n",
    "z = get_z_vector(d)\n",
    "z = primal_operator_basis(z, -)\n",
    "polynomial = polynomial_basis(z, polyorder=2)\n",
    "trigonometric  = trigonometric_basis(z, polyorder = 1, operator = /)\n",
    "logarithmic = logarithmic_basis(z, polyorder = 0, operator = -)\n",
    "exponential = exponential_basis(z, polyorder=1, operator = +, max_coeff=1)\n",
    "mixed_basis = mixed_states_basis(trigonometric, polynomial)\n",
    "prime_mono = primal_monomial_basis(z, d)\n",
    "\n",
    "nd = 2d\n",
    "Dz = Differential.(z)\n",
    "\n",
    "# collects and sums combinations of basis and coefficients\"\n",
    "basis = get_basis_set(polynomial)\n",
    "\n",
    "# gets number of terms in the basis\n",
    "@variables a[1:get_numCoeffs(basis)]\n",
    "\n",
    "# collect and sum combinations of basis and coefficients\n",
    "ham = sum(collect(a .* basis))\n",
    "\n",
    "# gives derivative of the hamiltonian, but not the skew-symmetric true one\n",
    "f = [expand_derivatives(dz(ham)) for dz in Dz]\n",
    "\n",
    "# # line below makes the vector into a hamiltonian vector field by multiplying with the skew-symmetric matrix\n",
    "# ∇H = vcat(f[d+1:2d], -f[1:d])"
   ]
  },
  {
   "cell_type": "code",
   "execution_count": 10,
   "metadata": {},
   "outputs": [
    {
     "data": {
      "text/plain": [
       "RuntimeGeneratedFunction(#=in Main=#, #=using Main=#, :((ˍ₋out, ˍ₋arg1, a)->begin\n",
       "          #= C:\\Users\\nigel\\.julia\\packages\\SymbolicUtils\\H684H\\src\\code.jl:350 =#\n",
       "          #= C:\\Users\\nigel\\.julia\\packages\\SymbolicUtils\\H684H\\src\\code.jl:351 =#\n",
       "          #= C:\\Users\\nigel\\.julia\\packages\\SymbolicUtils\\H684H\\src\\code.jl:352 =#\n",
       "          begin\n",
       "              begin\n",
       "                  #= C:\\Users\\nigel\\.julia\\packages\\Symbolics\\3jLt1\\src\\build_function.jl:520 =#\n",
       "                  #= C:\\Users\\nigel\\.julia\\packages\\SymbolicUtils\\H684H\\src\\code.jl:399 =# @inbounds begin\n",
       "                          #= C:\\Users\\nigel\\.julia\\packages\\SymbolicUtils\\H684H\\src\\code.jl:395 =#\n",
       "                          ˍ₋out[1] = (+)((+)((+)((+)((+)((+)((+)((+)((+)((+)((+)((+)((+)((+)((+)((+)((+)((+)((+)((+)((+)((+)((+)((+)((+)((+)((+)((+)((+)((+)((+)((+)((+)((+)((+)((+)((+)((+)((+)((+)((+)((+)((+)((+)((+)((+)((+)((+)((+)((+)((+)((+)((+)((+)((+)((+)((+)((+)((+)((+)((+)((+)((+)((+)((+)((+)((+)((+)((+)((+)((+)((+)((+)((+)((+)((+)((+)((+)((+)((+)((+)((+)((+)((+)((+)((+)((+)((+)((+)((+)((+)((+)((+)((+)((+)((+)((+)((+)((+)((+)((+)((+)((+)((+)((+)((+)((+)((+)((+)((+)((+)((+)((+)((+)((+)((+)((+)((+)((+)((+)((+)((+)((+)((+)((+)((+)((+)((+)((+)((+)((+)((+)((+)((+)((+)((+)((*)((^)(ˍ₋arg1[6], 2), (getindex)(a, 262)), (*)((^)(ˍ₋arg1[8], 2), (getindex)(a, 275))), (*)(ˍ₋arg1[4], (getindex)(a, 37))), (*)(ˍ₋arg1[10], (getindex)(a, 43))), (*)((^)(ˍ₋arg1[2], 2), (getindex)(a, 170))), (*)((^)(ˍ₋arg1[4], 2), (getindex)(a, 245))), (*)(ˍ₋arg1[11], (getindex)(a, 44))), (*)(ˍ₋arg1[7], (getindex)(a, 40))), (*)((^)(ˍ₋arg1[10], 2), (getindex)(a, 284))), (*)(ˍ₋arg1[6], (getindex)(a, 39))), (*)((^)(ˍ₋arg1[7], 2), (getindex)(a, 269))), (*)(ˍ₋arg1[2], (getindex)(a, 26))), (*)((^)(ˍ₋arg1[12], 2), (getindex)(a, 289))), (*)((^)(ˍ₋arg1[9], 2), (getindex)(a, 280))), (*)((^)(ˍ₋arg1[11], 2), (getindex)(a, 287))), (*)(ˍ₋arg1[1], (getindex)(a, 15))), (*)((^)(ˍ₋arg1[1], 2), (getindex)(a, 93))), (*)(ˍ₋arg1[12], (getindex)(a, 45))), (*)(ˍ₋arg1[5], (getindex)(a, 38))), (*)((^)(ˍ₋arg1[5], 2), (getindex)(a, 254))), (*)(ˍ₋arg1[8], (getindex)(a, 41))), (*)(ˍ₋arg1[9], (getindex)(a, 42))), (/)((*)((cos)((/)(ˍ₋arg1[3], ˍ₋arg1[12])), (getindex)(a, 496)), ˍ₋arg1[12])), (/)((*)((cos)((/)(ˍ₋arg1[3], ˍ₋arg1[4])), (getindex)(a, 488)), ˍ₋arg1[4])), (/)((*)((cos)((/)(ˍ₋arg1[3], ˍ₋arg1[6])), (getindex)(a, 490)), ˍ₋arg1[6])), (/)((*)((cos)((/)(ˍ₋arg1[3], ˍ₋arg1[8])), (getindex)(a, 492)), ˍ₋arg1[8])), (/)((*)((cos)((/)(ˍ₋arg1[3], ˍ₋arg1[10])), (getindex)(a, 494)), ˍ₋arg1[10])), (/)((*)((cos)((/)(ˍ₋arg1[3], ˍ₋arg1[5])), (getindex)(a, 489)), ˍ₋arg1[5])), (/)((*)((cos)((/)(ˍ₋arg1[3], ˍ₋arg1[7])), (getindex)(a, 491)), ˍ₋arg1[7])), (/)((*)((cos)((/)(ˍ₋arg1[3], ˍ₋arg1[2])), (getindex)(a, 544)), ˍ₋arg1[2])), (/)((*)((cos)((/)(ˍ₋arg1[3], ˍ₋arg1[9])), (getindex)(a, 493)), ˍ₋arg1[9])), (/)((*)((cos)((/)(ˍ₋arg1[3], ˍ₋arg1[11])), (getindex)(a, 495)), ˍ₋arg1[11])), (/)((*)((cos)((/)(ˍ₋arg1[3], ˍ₋arg1[1])), (getindex)(a, 534)), ˍ₋arg1[1])), (/)((*)((*)(-1, (sin)((/)(ˍ₋arg1[3], ˍ₋arg1[6]))), (getindex)(a, 634)), ˍ₋arg1[6])), (/)((*)((*)(-1, (sin)((/)(ˍ₋arg1[3], ˍ₋arg1[10]))), (getindex)(a, 638)), ˍ₋arg1[10])), (/)((*)((*)(-1, (sin)((/)(ˍ₋arg1[3], ˍ₋arg1[12]))), (getindex)(a, 640)), ˍ₋arg1[12])), (/)((*)((*)(-1, (sin)((/)(ˍ₋arg1[3], ˍ₋arg1[1]))), (getindex)(a, 678)), ˍ₋arg1[1])), (/)((*)((*)(-1, (sin)((/)(ˍ₋arg1[3], ˍ₋arg1[4]))), (getindex)(a, 632)), ˍ₋arg1[4])), (/)((*)((*)(-1, (sin)((/)(ˍ₋arg1[3], ˍ₋arg1[5]))), (getindex)(a, 633)), ˍ₋arg1[5])), (/)((*)((*)(-1, (sin)((/)(ˍ₋arg1[3], ˍ₋arg1[7]))), (getindex)(a, 635)), ˍ₋arg1[7])), (/)((*)((*)(-1, (sin)((/)(ˍ₋arg1[3], ˍ₋arg1[2]))), (getindex)(a, 688)), ˍ₋arg1[2])), (/)((*)((*)(-1, (sin)((/)(ˍ₋arg1[3], ˍ₋arg1[8]))), (getindex)(a, 636)), ˍ₋arg1[8])), (/)((*)((*)(-1, (sin)((/)(ˍ₋arg1[3], ˍ₋arg1[9]))), (getindex)(a, 637)), ˍ₋arg1[9])), (/)((*)((*)(-1, (sin)((/)(ˍ₋arg1[3], ˍ₋arg1[11]))), (getindex)(a, 639)), ˍ₋arg1[11])), (*)((cos)(ˍ₋arg1[3]), (getindex)(a, 457))), (*)((*)(-1, (sin)(ˍ₋arg1[3])), (getindex)(a, 601))), (*)((*)((/)(ˍ₋arg1[7], (^)(ˍ₋arg1[3], 2)), (sin)((/)(ˍ₋arg1[7], ˍ₋arg1[3]))), (getindex)(a, 701))), (*)((*)((/)(ˍ₋arg1[1], (^)(ˍ₋arg1[3], 2)), (sin)((/)(ˍ₋arg1[1], ˍ₋arg1[3]))), (getindex)(a, 612))), (*)((*)(ˍ₋arg1[12], ˍ₋arg1[7]), (getindex)(a, 274))), (*)((*)(ˍ₋arg1[2], ˍ₋arg1[5]), (getindex)(a, 182))), (*)((*)(ˍ₋arg1[4], ˍ₋arg1[5]), (getindex)(a, 246))), (*)((*)(ˍ₋arg1[6], ˍ₋arg1[8]), (getindex)(a, 264))), (*)((*)(ˍ₋arg1[9], ˍ₋arg1[11]), (getindex)(a, 282))), (*)((*)(ˍ₋arg1[8], ˍ₋arg1[7]), (getindex)(a, 270))), (*)((*)(ˍ₋arg1[9], ˍ₋arg1[2]), (getindex)(a, 186))), (*)((*)(ˍ₋arg1[11], ˍ₋arg1[5]), (getindex)(a, 260))), (*)((*)(ˍ₋arg1[6], ˍ₋arg1[10]), (getindex)(a, 266))), (*)((*)(ˍ₋arg1[2], ˍ₋arg1[8]), (getindex)(a, 185))), (*)((*)(ˍ₋arg1[7], ˍ₋arg1[10]), (getindex)(a, 272))), (*)((*)(ˍ₋arg1[6], ˍ₋arg1[7]), (getindex)(a, 263))), (*)((*)(ˍ₋arg1[1], ˍ₋arg1[4]), (getindex)(a, 115))), (*)((*)(ˍ₋arg1[1], ˍ₋arg1[5]), (getindex)(a, 116))), (*)((*)(ˍ₋arg1[12], ˍ₋arg1[1]), (getindex)(a, 123))), (*)((*)(ˍ₋arg1[4], ˍ₋arg1[7]), (getindex)(a, 248))), (*)((*)(ˍ₋arg1[12], ˍ₋arg1[11]), (getindex)(a, 288))), (*)((*)(ˍ₋arg1[6], ˍ₋arg1[9]), (getindex)(a, 265))), (*)((*)((/)(ˍ₋arg1[12], (^)(ˍ₋arg1[3], 2)), (sin)((/)(ˍ₋arg1[12], ˍ₋arg1[3]))), (getindex)(a, 706))), (*)((*)(ˍ₋arg1[8], ˍ₋arg1[1]), (getindex)(a, 119))), (*)((*)(ˍ₋arg1[6], ˍ₋arg1[2]), (getindex)(a, 183))), (*)((*)(ˍ₋arg1[9], ˍ₋arg1[5]), (getindex)(a, 258))), (*)((*)(ˍ₋arg1[10], ˍ₋arg1[1]), (getindex)(a, 121))), (*)((*)(ˍ₋arg1[9], ˍ₋arg1[1]), (getindex)(a, 120))), (*)((*)(ˍ₋arg1[6], ˍ₋arg1[5]), (getindex)(a, 255))), (*)((*)(ˍ₋arg1[11], ˍ₋arg1[2]), (getindex)(a, 188))), (*)((*)((/)(ˍ₋arg1[2], (^)(ˍ₋arg1[3], 2)), (sin)((/)(ˍ₋arg1[2], ˍ₋arg1[3]))), (getindex)(a, 622))), (*)((*)((/)(ˍ₋arg1[4], (^)(ˍ₋arg1[3], 2)), (sin)((/)(ˍ₋arg1[4], ˍ₋arg1[3]))), (getindex)(a, 698))), (*)((*)(ˍ₋arg1[12], ˍ₋arg1[8]), (getindex)(a, 279))), (*)((*)(ˍ₋arg1[12], ˍ₋arg1[10]), (getindex)(a, 286))), (*)((*)(ˍ₋arg1[12], ˍ₋arg1[9]), (getindex)(a, 283))), (*)((*)(ˍ₋arg1[2], ˍ₋arg1[1]), (getindex)(a, 104))), (*)((*)(ˍ₋arg1[2], ˍ₋arg1[10]), (getindex)(a, 187))), (*)((*)(3, (^)(ˍ₋arg1[3], 2)), (getindex)(a, 235))), (*)((*)((/)(ˍ₋arg1[6], (^)(ˍ₋arg1[3], 2)), (sin)((/)(ˍ₋arg1[6], ˍ₋arg1[3]))), (getindex)(a, 700))), (*)((*)((/)(ˍ₋arg1[9], (^)(ˍ₋arg1[3], 2)), (sin)((/)(ˍ₋arg1[9], ˍ₋arg1[3]))), (getindex)(a, 703))), (*)((*)(ˍ₋arg1[6], ˍ₋arg1[12]), (getindex)(a, 268))), (*)((*)(ˍ₋arg1[9], ˍ₋arg1[4]), (getindex)(a, 250))), (*)((*)(ˍ₋arg1[9], ˍ₋arg1[7]), (getindex)(a, 271))), (*)((*)(ˍ₋arg1[8], ˍ₋arg1[9]), (getindex)(a, 276))), (*)((*)(ˍ₋arg1[5], ˍ₋arg1[8]), (getindex)(a, 257))), (*)((*)(ˍ₋arg1[8], ˍ₋arg1[11]), (getindex)(a, 278))), (*)((*)(ˍ₋arg1[10], ˍ₋arg1[11]), (getindex)(a, 285))), (*)((*)(ˍ₋arg1[11], ˍ₋arg1[4]), (getindex)(a, 252))), (*)((*)(ˍ₋arg1[8], ˍ₋arg1[10]), (getindex)(a, 277))), (*)((*)(ˍ₋arg1[9], ˍ₋arg1[10]), (getindex)(a, 281))), (*)((*)(ˍ₋arg1[12], ˍ₋arg1[4]), (getindex)(a, 253))), (*)((*)(2, ˍ₋arg1[3]), (getindex)(a, 36))), (*)((*)(ˍ₋arg1[12], ˍ₋arg1[5]), (getindex)(a, 261))), (*)((*)((/)(ˍ₋arg1[5], (^)(ˍ₋arg1[3], 2)), (sin)((/)(ˍ₋arg1[5], ˍ₋arg1[3]))), (getindex)(a, 699))), (*)((*)(ˍ₋arg1[2], ˍ₋arg1[4]), (getindex)(a, 181))), (*)((*)(ˍ₋arg1[1], ˍ₋arg1[7]), (getindex)(a, 118))), (*)((*)((/)(ˍ₋arg1[8], (^)(ˍ₋arg1[3], 2)), (sin)((/)(ˍ₋arg1[8], ˍ₋arg1[3]))), (getindex)(a, 702))), (*)((*)(ˍ₋arg1[4], ˍ₋arg1[8]), (getindex)(a, 249))), (*)((*)(ˍ₋arg1[6], ˍ₋arg1[4]), (getindex)(a, 247))), (*)((*)(ˍ₋arg1[12], ˍ₋arg1[2]), (getindex)(a, 189))), (*)((*)(ˍ₋arg1[5], ˍ₋arg1[7]), (getindex)(a, 256))), (*)((*)((/)(ˍ₋arg1[11], (^)(ˍ₋arg1[3], 2)), (sin)((/)(ˍ₋arg1[11], ˍ₋arg1[3]))), (getindex)(a, 705))), (*)((*)(ˍ₋arg1[11], ˍ₋arg1[1]), (getindex)(a, 122))), (*)((*)(ˍ₋arg1[11], ˍ₋arg1[7]), (getindex)(a, 273))), (*)((*)(ˍ₋arg1[6], ˍ₋arg1[11]), (getindex)(a, 267))), (*)((*)((/)(ˍ₋arg1[10], (^)(ˍ₋arg1[3], 2)), (sin)((/)(ˍ₋arg1[10], ˍ₋arg1[3]))), (getindex)(a, 704))), (*)((*)(ˍ₋arg1[2], ˍ₋arg1[7]), (getindex)(a, 184))), (*)((*)(ˍ₋arg1[4], ˍ₋arg1[10]), (getindex)(a, 251))), (*)((*)(ˍ₋arg1[5], ˍ₋arg1[10]), (getindex)(a, 259))), (*)((*)(ˍ₋arg1[6], ˍ₋arg1[1]), (getindex)(a, 117))), (*)((*)((*)(2, ˍ₋arg1[6]), ˍ₋arg1[3]), (getindex)(a, 238))), (*)((*)((*)(2, ˍ₋arg1[10]), ˍ₋arg1[3]), (getindex)(a, 242))), (*)((*)((*)(2, ˍ₋arg1[9]), ˍ₋arg1[3]), (getindex)(a, 241))), (*)((*)((*)(2, ˍ₋arg1[11]), ˍ₋arg1[3]), (getindex)(a, 243))), (*)((*)((*)(2, ˍ₋arg1[3]), ˍ₋arg1[5]), (getindex)(a, 237))), (*)((*)((*)(-1, (/)(ˍ₋arg1[6], (^)(ˍ₋arg1[3], 2))), (cos)((/)(ˍ₋arg1[6], ˍ₋arg1[3]))), (getindex)(a, 556))), (*)((*)((*)(-1, (/)(ˍ₋arg1[9], (^)(ˍ₋arg1[3], 2))), (cos)((/)(ˍ₋arg1[9], ˍ₋arg1[3]))), (getindex)(a, 559))), (*)((*)((*)(-1, (/)(ˍ₋arg1[2], (^)(ˍ₋arg1[3], 2))), (cos)((/)(ˍ₋arg1[2], ˍ₋arg1[3]))), (getindex)(a, 478))), (*)((*)((*)(-1, (/)(ˍ₋arg1[8], (^)(ˍ₋arg1[3], 2))), (cos)((/)(ˍ₋arg1[8], ˍ₋arg1[3]))), (getindex)(a, 558))), (*)((*)((*)(2, ˍ₋arg1[12]), ˍ₋arg1[3]), (getindex)(a, 244))), (*)((*)((*)(-1, (/)(ˍ₋arg1[10], (^)(ˍ₋arg1[3], 2))), (cos)((/)(ˍ₋arg1[10], ˍ₋arg1[3]))), (getindex)(a, 560))), (*)((*)((*)(-1, (/)(ˍ₋arg1[11], (^)(ˍ₋arg1[3], 2))), (cos)((/)(ˍ₋arg1[11], ˍ₋arg1[3]))), (getindex)(a, 561))), (*)((*)((*)(-1, (/)(ˍ₋arg1[4], (^)(ˍ₋arg1[3], 2))), (cos)((/)(ˍ₋arg1[4], ˍ₋arg1[3]))), (getindex)(a, 554))), (*)((*)((*)(-1, (/)(ˍ₋arg1[7], (^)(ˍ₋arg1[3], 2))), (cos)((/)(ˍ₋arg1[7], ˍ₋arg1[3]))), (getindex)(a, 557))), (*)((*)((*)(2, ˍ₋arg1[3]), ˍ₋arg1[1]), (getindex)(a, 114))), (*)((*)((*)(2, ˍ₋arg1[8]), ˍ₋arg1[3]), (getindex)(a, 240))), (*)((*)((*)(-1, (/)(ˍ₋arg1[1], (^)(ˍ₋arg1[3], 2))), (cos)((/)(ˍ₋arg1[1], ˍ₋arg1[3]))), (getindex)(a, 468))), (*)((*)((*)(2, ˍ₋arg1[2]), ˍ₋arg1[3]), (getindex)(a, 180))), (*)((*)((*)(2, ˍ₋arg1[4]), ˍ₋arg1[3]), (getindex)(a, 236))), (*)((*)((*)(-1, (/)(ˍ₋arg1[5], (^)(ˍ₋arg1[3], 2))), (cos)((/)(ˍ₋arg1[5], ˍ₋arg1[3]))), (getindex)(a, 555))), (*)((*)((*)(-1, (/)(ˍ₋arg1[12], (^)(ˍ₋arg1[3], 2))), (cos)((/)(ˍ₋arg1[12], ˍ₋arg1[3]))), (getindex)(a, 562))), (*)((*)((*)(2, ˍ₋arg1[3]), ˍ₋arg1[7]), (getindex)(a, 239))), (getindex)(a, 3))\n",
       "                          ˍ₋out[2] = (+)((+)((+)((+)((+)((+)((+)((+)((+)((+)((+)((+)((+)((+)((+)((+)((+)((+)((+)((+)((+)((+)((+)((+)((+)((+)((+)((+)((+)((+)((+)((+)((+)((+)((+)((+)((+)((+)((+)((+)((+)((+)((+)((+)((+)((+)((+)((+)((+)((+)((+)((+)((+)((+)((+)((+)((+)((+)((+)((+)((+)((+)((+)((+)((+)((+)((+)((+)((+)((+)((+)((+)((+)((+)((+)((+)((+)((+)((+)((+)((+)((+)((+)((+)((+)((+)((+)((+)((+)((+)((+)((+)((+)((+)((+)((+)((+)((+)((+)((+)((+)((+)((+)((+)((+)((+)((+)((+)((+)((+)((+)((+)((+)((+)((+)((+)((+)((+)((+)((+)((+)((+)((+)((+)((+)((+)((+)((+)((+)((+)((+)((+)((+)((+)((+)((+)((*)(ˍ₋arg1[2], (getindex)(a, 27)), (*)((^)(ˍ₋arg1[3], 2), (getindex)(a, 236))), (*)(ˍ₋arg1[7], (getindex)(a, 49))), (*)((^)(ˍ₋arg1[11], 2), (getindex)(a, 332))), (*)(ˍ₋arg1[10], (getindex)(a, 52))), (*)((^)(ˍ₋arg1[6], 2), (getindex)(a, 307))), (*)(ˍ₋arg1[9], (getindex)(a, 51))), (*)((^)(ˍ₋arg1[5], 2), (getindex)(a, 299))), (*)(ˍ₋arg1[6], (getindex)(a, 48))), (*)(ˍ₋arg1[11], (getindex)(a, 53))), (*)((^)(ˍ₋arg1[7], 2), (getindex)(a, 314))), (*)(ˍ₋arg1[3], (getindex)(a, 37))), (*)(ˍ₋arg1[1], (getindex)(a, 16))), (*)((^)(ˍ₋arg1[1], 2), (getindex)(a, 94))), (*)(ˍ₋arg1[12], (getindex)(a, 54))), (*)((^)(ˍ₋arg1[8], 2), (getindex)(a, 320))), (*)((^)(ˍ₋arg1[10], 2), (getindex)(a, 329))), (*)((^)(ˍ₋arg1[9], 2), (getindex)(a, 325))), (*)((^)(ˍ₋arg1[2], 2), (getindex)(a, 171))), (*)((^)(ˍ₋arg1[12], 2), (getindex)(a, 334))), (*)(ˍ₋arg1[8], (getindex)(a, 50))), (*)(ˍ₋arg1[5], (getindex)(a, 47))), (/)((*)((cos)((/)(ˍ₋arg1[4], ˍ₋arg1[6])), (getindex)(a, 498)), ˍ₋arg1[6])), (/)((*)((cos)((/)(ˍ₋arg1[4], ˍ₋arg1[3])), (getindex)(a, 554)), ˍ₋arg1[3])), (/)((*)((cos)((/)(ˍ₋arg1[4], ˍ₋arg1[5])), (getindex)(a, 497)), ˍ₋arg1[5])), (/)((*)((cos)((/)(ˍ₋arg1[4], ˍ₋arg1[8])), (getindex)(a, 500)), ˍ₋arg1[8])), (/)((*)((cos)((/)(ˍ₋arg1[4], ˍ₋arg1[10])), (getindex)(a, 502)), ˍ₋arg1[10])), (/)((*)((cos)((/)(ˍ₋arg1[4], ˍ₋arg1[11])), (getindex)(a, 503)), ˍ₋arg1[11])), (/)((*)((cos)((/)(ˍ₋arg1[4], ˍ₋arg1[7])), (getindex)(a, 499)), ˍ₋arg1[7])), (/)((*)((cos)((/)(ˍ₋arg1[4], ˍ₋arg1[12])), (getindex)(a, 504)), ˍ₋arg1[12])), (/)((*)((cos)((/)(ˍ₋arg1[4], ˍ₋arg1[2])), (getindex)(a, 545)), ˍ₋arg1[2])), (/)((*)((cos)((/)(ˍ₋arg1[4], ˍ₋arg1[9])), (getindex)(a, 501)), ˍ₋arg1[9])), (/)((*)((cos)((/)(ˍ₋arg1[4], ˍ₋arg1[1])), (getindex)(a, 535)), ˍ₋arg1[1])), (/)((*)((*)(-1, (sin)((/)(ˍ₋arg1[4], ˍ₋arg1[6]))), (getindex)(a, 642)), ˍ₋arg1[6])), (/)((*)((*)(-1, (sin)((/)(ˍ₋arg1[4], ˍ₋arg1[8]))), (getindex)(a, 644)), ˍ₋arg1[8])), (/)((*)((*)(-1, (sin)((/)(ˍ₋arg1[4], ˍ₋arg1[11]))), (getindex)(a, 647)), ˍ₋arg1[11])), (/)((*)((*)(-1, (sin)((/)(ˍ₋arg1[4], ˍ₋arg1[1]))), (getindex)(a, 679)), ˍ₋arg1[1])), (/)((*)((*)(-1, (sin)((/)(ˍ₋arg1[4], ˍ₋arg1[2]))), (getindex)(a, 689)), ˍ₋arg1[2])), (/)((*)((*)(-1, (sin)((/)(ˍ₋arg1[4], ˍ₋arg1[5]))), (getindex)(a, 641)), ˍ₋arg1[5])), (/)((*)((*)(-1, (sin)((/)(ˍ₋arg1[4], ˍ₋arg1[7]))), (getindex)(a, 643)), ˍ₋arg1[7])), (/)((*)((*)(-1, (sin)((/)(ˍ₋arg1[4], ˍ₋arg1[12]))), (getindex)(a, 648)), ˍ₋arg1[12])), (/)((*)((*)(-1, (sin)((/)(ˍ₋arg1[4], ˍ₋arg1[3]))), (getindex)(a, 698)), ˍ₋arg1[3])), (/)((*)((*)(-1, (sin)((/)(ˍ₋arg1[4], ˍ₋arg1[10]))), (getindex)(a, 646)), ˍ₋arg1[10])), (/)((*)((*)(-1, (sin)((/)(ˍ₋arg1[4], ˍ₋arg1[9]))), (getindex)(a, 645)), ˍ₋arg1[9])), (*)((cos)(ˍ₋arg1[4]), (getindex)(a, 458))), (*)((*)(ˍ₋arg1[6], ˍ₋arg1[1]), (getindex)(a, 126))), (*)((*)(ˍ₋arg1[8], ˍ₋arg1[1]), (getindex)(a, 128))), (*)((*)(ˍ₋arg1[9], ˍ₋arg1[2]), (getindex)(a, 195))), (*)((*)(ˍ₋arg1[11], ˍ₋arg1[2]), (getindex)(a, 197))), (*)((*)((/)(ˍ₋arg1[11], (^)(ˍ₋arg1[4], 2)), (sin)((/)(ˍ₋arg1[11], ˍ₋arg1[4]))), (getindex)(a, 713))), (*)((*)(ˍ₋arg1[5], ˍ₋arg1[10]), (getindex)(a, 304))), (*)((*)(ˍ₋arg1[12], ˍ₋arg1[8]), (getindex)(a, 324))), (*)((*)(ˍ₋arg1[6], ˍ₋arg1[8]), (getindex)(a, 309))), (*)((*)(ˍ₋arg1[6], ˍ₋arg1[12]), (getindex)(a, 313))), (*)((*)(ˍ₋arg1[8], ˍ₋arg1[9]), (getindex)(a, 321))), (*)((*)(ˍ₋arg1[10], ˍ₋arg1[11]), (getindex)(a, 330))), (*)((*)((/)(ˍ₋arg1[1], (^)(ˍ₋arg1[4], 2)), (sin)((/)(ˍ₋arg1[1], ˍ₋arg1[4]))), (getindex)(a, 613))), (*)((*)((/)(ˍ₋arg1[12], (^)(ˍ₋arg1[4], 2)), (sin)((/)(ˍ₋arg1[12], ˍ₋arg1[4]))), (getindex)(a, 714))), (*)((*)(ˍ₋arg1[9], ˍ₋arg1[10]), (getindex)(a, 326))), (*)((*)((/)(ˍ₋arg1[6], (^)(ˍ₋arg1[4], 2)), (sin)((/)(ˍ₋arg1[6], ˍ₋arg1[4]))), (getindex)(a, 708))), (*)((*)(ˍ₋arg1[2], ˍ₋arg1[10]), (getindex)(a, 196))), (*)((*)(ˍ₋arg1[6], ˍ₋arg1[7]), (getindex)(a, 308))), (*)((*)(ˍ₋arg1[9], ˍ₋arg1[3]), (getindex)(a, 250))), (*)((*)(ˍ₋arg1[1], ˍ₋arg1[7]), (getindex)(a, 127))), (*)((*)(ˍ₋arg1[12], ˍ₋arg1[3]), (getindex)(a, 253))), (*)((*)(ˍ₋arg1[11], ˍ₋arg1[3]), (getindex)(a, 252))), (*)((*)(ˍ₋arg1[2], ˍ₋arg1[3]), (getindex)(a, 181))), (*)((*)(ˍ₋arg1[6], ˍ₋arg1[2]), (getindex)(a, 192))), (*)((*)(ˍ₋arg1[8], ˍ₋arg1[3]), (getindex)(a, 249))), (*)((*)(ˍ₋arg1[9], ˍ₋arg1[5]), (getindex)(a, 303))), (*)((*)(ˍ₋arg1[12], ˍ₋arg1[5]), (getindex)(a, 306))), (*)((*)(ˍ₋arg1[8], ˍ₋arg1[7]), (getindex)(a, 315))), (*)((*)(ˍ₋arg1[12], ˍ₋arg1[10]), (getindex)(a, 331))), (*)((*)(ˍ₋arg1[2], ˍ₋arg1[8]), (getindex)(a, 194))), (*)((*)((/)(ˍ₋arg1[2], (^)(ˍ₋arg1[4], 2)), (sin)((/)(ˍ₋arg1[2], ˍ₋arg1[4]))), (getindex)(a, 623))), (*)((*)((/)(ˍ₋arg1[8], (^)(ˍ₋arg1[4], 2)), (sin)((/)(ˍ₋arg1[8], ˍ₋arg1[4]))), (getindex)(a, 710))), (*)((*)(ˍ₋arg1[10], ˍ₋arg1[3]), (getindex)(a, 251))), (*)((*)(ˍ₋arg1[12], ˍ₋arg1[7]), (getindex)(a, 319))), (*)((*)(ˍ₋arg1[7], ˍ₋arg1[10]), (getindex)(a, 317))), (*)((*)(ˍ₋arg1[11], ˍ₋arg1[1]), (getindex)(a, 131))), (*)((*)((/)(ˍ₋arg1[3], (^)(ˍ₋arg1[4], 2)), (sin)((/)(ˍ₋arg1[3], ˍ₋arg1[4]))), (getindex)(a, 632))), (*)((*)(ˍ₋arg1[6], ˍ₋arg1[9]), (getindex)(a, 310))), (*)((*)(ˍ₋arg1[12], ˍ₋arg1[9]), (getindex)(a, 328))), (*)((*)(ˍ₋arg1[3], ˍ₋arg1[5]), (getindex)(a, 246))), (*)((*)(ˍ₋arg1[11], ˍ₋arg1[7]), (getindex)(a, 318))), (*)((*)(ˍ₋arg1[8], ˍ₋arg1[10]), (getindex)(a, 322))), (*)((*)((/)(ˍ₋arg1[5], (^)(ˍ₋arg1[4], 2)), (sin)((/)(ˍ₋arg1[5], ˍ₋arg1[4]))), (getindex)(a, 707))), (*)((*)(ˍ₋arg1[1], ˍ₋arg1[5]), (getindex)(a, 125))), (*)((*)(ˍ₋arg1[5], ˍ₋arg1[8]), (getindex)(a, 302))), (*)((*)((/)(ˍ₋arg1[9], (^)(ˍ₋arg1[4], 2)), (sin)((/)(ˍ₋arg1[9], ˍ₋arg1[4]))), (getindex)(a, 711))), (*)((*)(ˍ₋arg1[2], ˍ₋arg1[1]), (getindex)(a, 105))), (*)((*)(ˍ₋arg1[6], ˍ₋arg1[11]), (getindex)(a, 312))), (*)((*)(2, ˍ₋arg1[4]), (getindex)(a, 46))), (*)((*)((/)(ˍ₋arg1[7], (^)(ˍ₋arg1[4], 2)), (sin)((/)(ˍ₋arg1[7], ˍ₋arg1[4]))), (getindex)(a, 709))), (*)((*)(ˍ₋arg1[6], ˍ₋arg1[5]), (getindex)(a, 300))), (*)((*)(ˍ₋arg1[5], ˍ₋arg1[7]), (getindex)(a, 301))), (*)((*)(ˍ₋arg1[12], ˍ₋arg1[11]), (getindex)(a, 333))), (*)((*)(ˍ₋arg1[12], ˍ₋arg1[1]), (getindex)(a, 132))), (*)((*)(ˍ₋arg1[3], ˍ₋arg1[1]), (getindex)(a, 115))), (*)((*)(ˍ₋arg1[6], ˍ₋arg1[3]), (getindex)(a, 247))), (*)((*)(-1, (sin)(ˍ₋arg1[4])), (getindex)(a, 602))), (*)((*)(3, (^)(ˍ₋arg1[4], 2)), (getindex)(a, 290))), (*)((*)(ˍ₋arg1[9], ˍ₋arg1[11]), (getindex)(a, 327))), (*)((*)((/)(ˍ₋arg1[10], (^)(ˍ₋arg1[4], 2)), (sin)((/)(ˍ₋arg1[10], ˍ₋arg1[4]))), (getindex)(a, 712))), (*)((*)(ˍ₋arg1[12], ˍ₋arg1[2]), (getindex)(a, 198))), (*)((*)(ˍ₋arg1[10], ˍ₋arg1[1]), (getindex)(a, 130))), (*)((*)(ˍ₋arg1[6], ˍ₋arg1[10]), (getindex)(a, 311))), (*)((*)(ˍ₋arg1[9], ˍ₋arg1[7]), (getindex)(a, 316))), (*)((*)(ˍ₋arg1[11], ˍ₋arg1[5]), (getindex)(a, 305))), (*)((*)(ˍ₋arg1[9], ˍ₋arg1[1]), (getindex)(a, 129))), (*)((*)(ˍ₋arg1[8], ˍ₋arg1[11]), (getindex)(a, 323))), (*)((*)(ˍ₋arg1[2], ˍ₋arg1[5]), (getindex)(a, 191))), (*)((*)(ˍ₋arg1[2], ˍ₋arg1[7]), (getindex)(a, 193))), (*)((*)(ˍ₋arg1[3], ˍ₋arg1[7]), (getindex)(a, 248))), (*)((*)((*)(-1, (/)(ˍ₋arg1[12], (^)(ˍ₋arg1[4], 2))), (cos)((/)(ˍ₋arg1[12], ˍ₋arg1[4]))), (getindex)(a, 570))), (*)((*)((*)(-1, (/)(ˍ₋arg1[2], (^)(ˍ₋arg1[4], 2))), (cos)((/)(ˍ₋arg1[2], ˍ₋arg1[4]))), (getindex)(a, 479))), (*)((*)((*)(-1, (/)(ˍ₋arg1[6], (^)(ˍ₋arg1[4], 2))), (cos)((/)(ˍ₋arg1[6], ˍ₋arg1[4]))), (getindex)(a, 564))), (*)((*)((*)(-1, (/)(ˍ₋arg1[7], (^)(ˍ₋arg1[4], 2))), (cos)((/)(ˍ₋arg1[7], ˍ₋arg1[4]))), (getindex)(a, 565))), (*)((*)((*)(-1, (/)(ˍ₋arg1[10], (^)(ˍ₋arg1[4], 2))), (cos)((/)(ˍ₋arg1[10], ˍ₋arg1[4]))), (getindex)(a, 568))), (*)((*)((*)(-1, (/)(ˍ₋arg1[9], (^)(ˍ₋arg1[4], 2))), (cos)((/)(ˍ₋arg1[9], ˍ₋arg1[4]))), (getindex)(a, 567))), (*)((*)((*)(-1, (/)(ˍ₋arg1[11], (^)(ˍ₋arg1[4], 2))), (cos)((/)(ˍ₋arg1[11], ˍ₋arg1[4]))), (getindex)(a, 569))), (*)((*)((*)(2, ˍ₋arg1[12]), ˍ₋arg1[4]), (getindex)(a, 298))), (*)((*)((*)(2, ˍ₋arg1[4]), ˍ₋arg1[7]), (getindex)(a, 293))), (*)((*)((*)(-1, (/)(ˍ₋arg1[5], (^)(ˍ₋arg1[4], 2))), (cos)((/)(ˍ₋arg1[5], ˍ₋arg1[4]))), (getindex)(a, 563))), (*)((*)((*)(2, ˍ₋arg1[4]), ˍ₋arg1[8]), (getindex)(a, 294))), (*)((*)((*)(2, ˍ₋arg1[6]), ˍ₋arg1[4]), (getindex)(a, 292))), (*)((*)((*)(2, ˍ₋arg1[4]), ˍ₋arg1[10]), (getindex)(a, 296))), (*)((*)((*)(-1, (/)(ˍ₋arg1[1], (^)(ˍ₋arg1[4], 2))), (cos)((/)(ˍ₋arg1[1], ˍ₋arg1[4]))), (getindex)(a, 469))), (*)((*)((*)(2, ˍ₋arg1[2]), ˍ₋arg1[4]), (getindex)(a, 190))), (*)((*)((*)(-1, (/)(ˍ₋arg1[8], (^)(ˍ₋arg1[4], 2))), (cos)((/)(ˍ₋arg1[8], ˍ₋arg1[4]))), (getindex)(a, 566))), (*)((*)((*)(2, ˍ₋arg1[9]), ˍ₋arg1[4]), (getindex)(a, 295))), (*)((*)((*)(2, ˍ₋arg1[11]), ˍ₋arg1[4]), (getindex)(a, 297))), (*)((*)((*)(-1, (/)(ˍ₋arg1[3], (^)(ˍ₋arg1[4], 2))), (cos)((/)(ˍ₋arg1[3], ˍ₋arg1[4]))), (getindex)(a, 488))), (*)((*)((*)(2, ˍ₋arg1[4]), ˍ₋arg1[3]), (getindex)(a, 245))), (*)((*)((*)(2, ˍ₋arg1[4]), ˍ₋arg1[5]), (getindex)(a, 291))), (*)((*)((*)(2, ˍ₋arg1[1]), ˍ₋arg1[4]), (getindex)(a, 124))), (getindex)(a, 4))\n",
       "                          ˍ₋out[3] = (+)((+)((+)((+)((+)((+)((+)((+)((+)((+)((+)((+)((+)((+)((+)((+)((+)((+)((+)((+)((+)((+)((+)((+)((+)((+)((+)((+)((+)((+)((+)((+)((+)((+)((+)((+)((+)((+)((+)((+)((+)((+)((+)((+)((+)((+)((+)((+)((+)((+)((+)((+)((+)((+)((+)((+)((+)((+)((+)((+)((+)((+)((+)((+)((+)((+)((+)((+)((+)((+)((+)((+)((+)((+)((+)((+)((+)((+)((+)((+)((+)((+)((+)((+)((+)((+)((+)((+)((+)((+)((+)((+)((+)((+)((+)((+)((+)((+)((+)((+)((+)((+)((+)((+)((+)((+)((+)((+)((+)((+)((+)((+)((+)((+)((+)((+)((+)((+)((+)((+)((+)((+)((+)((+)((+)((+)((+)((+)((+)((+)((+)((+)((+)((+)((+)((+)((/)((*)((sin)((/)(ˍ₋arg1[1], ˍ₋arg1[3])), (getindex)(a, 612)), ˍ₋arg1[3]), (/)((*)((sin)((/)(ˍ₋arg1[1], ˍ₋arg1[4])), (getindex)(a, 613)), ˍ₋arg1[4])), (/)((*)((sin)((/)(ˍ₋arg1[1], ˍ₋arg1[5])), (getindex)(a, 614)), ˍ₋arg1[5])), (/)((*)((sin)((/)(ˍ₋arg1[1], ˍ₋arg1[6])), (getindex)(a, 615)), ˍ₋arg1[6])), (/)((*)((sin)((/)(ˍ₋arg1[1], ˍ₋arg1[7])), (getindex)(a, 616)), ˍ₋arg1[7])), (/)((*)((sin)((/)(ˍ₋arg1[1], ˍ₋arg1[8])), (getindex)(a, 617)), ˍ₋arg1[8])), (/)((*)((sin)((/)(ˍ₋arg1[1], ˍ₋arg1[10])), (getindex)(a, 619)), ˍ₋arg1[10])), (/)((*)((sin)((/)(ˍ₋arg1[1], ˍ₋arg1[9])), (getindex)(a, 618)), ˍ₋arg1[9])), (/)((*)((sin)((/)(ˍ₋arg1[1], ˍ₋arg1[11])), (getindex)(a, 620)), ˍ₋arg1[11])), (/)((*)((sin)((/)(ˍ₋arg1[1], ˍ₋arg1[2])), (getindex)(a, 611)), ˍ₋arg1[2])), (/)((*)((sin)((/)(ˍ₋arg1[1], ˍ₋arg1[12])), (getindex)(a, 621)), ˍ₋arg1[12])), (/)((*)((*)(-1, (cos)((/)(ˍ₋arg1[1], ˍ₋arg1[6]))), (getindex)(a, 471)), ˍ₋arg1[6])), (/)((*)((*)(-1, (cos)((/)(ˍ₋arg1[1], ˍ₋arg1[8]))), (getindex)(a, 473)), ˍ₋arg1[8])), (/)((*)((*)(-1, (cos)((/)(ˍ₋arg1[1], ˍ₋arg1[10]))), (getindex)(a, 475)), ˍ₋arg1[10])), (/)((*)((*)(-1, (cos)((/)(ˍ₋arg1[1], ˍ₋arg1[7]))), (getindex)(a, 472)), ˍ₋arg1[7])), (/)((*)((*)(-1, (cos)((/)(ˍ₋arg1[1], ˍ₋arg1[9]))), (getindex)(a, 474)), ˍ₋arg1[9])), (/)((*)((*)(-1, (cos)((/)(ˍ₋arg1[1], ˍ₋arg1[12]))), (getindex)(a, 477)), ˍ₋arg1[12])), (/)((*)((*)(-1, (cos)((/)(ˍ₋arg1[1], ˍ₋arg1[2]))), (getindex)(a, 467)), ˍ₋arg1[2])), (/)((*)((*)(-1, (cos)((/)(ˍ₋arg1[1], ˍ₋arg1[11]))), (getindex)(a, 476)), ˍ₋arg1[11])), (/)((*)((*)(-1, (cos)((/)(ˍ₋arg1[1], ˍ₋arg1[3]))), (getindex)(a, 468)), ˍ₋arg1[3])), (/)((*)((*)(-1, (cos)((/)(ˍ₋arg1[1], ˍ₋arg1[4]))), (getindex)(a, 469)), ˍ₋arg1[4])), (/)((*)((*)(-1, (cos)((/)(ˍ₋arg1[1], ˍ₋arg1[5]))), (getindex)(a, 470)), ˍ₋arg1[5])), (*)(-1, (getindex)(a, 1))), (*)((sin)(ˍ₋arg1[1]), (getindex)(a, 599))), (*)((*)(-1, ˍ₋arg1[10]), (getindex)(a, 22))), (*)((*)(-1, (^)(ˍ₋arg1[6], 2)), (getindex)(a, 141))), (*)((*)(-1, (^)(ˍ₋arg1[7], 2)), (getindex)(a, 148))), (*)((*)(-1, (^)(ˍ₋arg1[8], 2)), (getindex)(a, 154))), (*)((*)(-1, ˍ₋arg1[2]), (getindex)(a, 14))), (*)((*)(-1, ˍ₋arg1[4]), (getindex)(a, 16))), (*)((*)(-1, ˍ₋arg1[7]), (getindex)(a, 19))), (*)((*)(-1, (^)(ˍ₋arg1[9], 2)), (getindex)(a, 159))), (*)((*)(-1, ˍ₋arg1[6]), (getindex)(a, 18))), (*)((*)(-1, (^)(ˍ₋arg1[2], 2)), (getindex)(a, 103))), (*)((*)(-1, ˍ₋arg1[12]), (getindex)(a, 24))), (*)((*)(-1, (^)(ˍ₋arg1[4], 2)), (getindex)(a, 124))), (*)((*)(-1, ˍ₋arg1[3]), (getindex)(a, 15))), (*)((*)(-1, ˍ₋arg1[5]), (getindex)(a, 17))), (*)((*)(-2, ˍ₋arg1[1]), (getindex)(a, 13))), (*)((*)(-1, ˍ₋arg1[8]), (getindex)(a, 20))), (*)((*)(-1, ˍ₋arg1[11]), (getindex)(a, 23))), (*)((*)(-1, (^)(ˍ₋arg1[3], 2)), (getindex)(a, 114))), (*)((*)(-1, (^)(ˍ₋arg1[5], 2)), (getindex)(a, 133))), (*)((*)(-1, (^)(ˍ₋arg1[10], 2)), (getindex)(a, 163))), (*)((*)(-1, (^)(ˍ₋arg1[11], 2)), (getindex)(a, 166))), (*)((*)(-1, ˍ₋arg1[9]), (getindex)(a, 21))), (*)((*)(-3, (^)(ˍ₋arg1[1], 2)), (getindex)(a, 91))), (*)((*)(-1, (^)(ˍ₋arg1[12], 2)), (getindex)(a, 168))), (*)((*)((/)(ˍ₋arg1[8], (^)(ˍ₋arg1[1], 2)), (cos)((/)(ˍ₋arg1[8], ˍ₋arg1[1]))), (getindex)(a, 539))), (*)((*)((/)(ˍ₋arg1[10], (^)(ˍ₋arg1[1], 2)), (cos)((/)(ˍ₋arg1[10], ˍ₋arg1[1]))), (getindex)(a, 541))), (*)((*)((/)(ˍ₋arg1[4], (^)(ˍ₋arg1[1], 2)), (cos)((/)(ˍ₋arg1[4], ˍ₋arg1[1]))), (getindex)(a, 535))), (*)((*)((/)(ˍ₋arg1[9], (^)(ˍ₋arg1[1], 2)), (cos)((/)(ˍ₋arg1[9], ˍ₋arg1[1]))), (getindex)(a, 540))), (*)((*)((/)(ˍ₋arg1[2], (^)(ˍ₋arg1[1], 2)), (cos)((/)(ˍ₋arg1[2], ˍ₋arg1[1]))), (getindex)(a, 533))), (*)((*)((/)(ˍ₋arg1[5], (^)(ˍ₋arg1[1], 2)), (cos)((/)(ˍ₋arg1[5], ˍ₋arg1[1]))), (getindex)(a, 536))), (*)((*)((/)(ˍ₋arg1[11], (^)(ˍ₋arg1[1], 2)), (cos)((/)(ˍ₋arg1[11], ˍ₋arg1[1]))), (getindex)(a, 542))), (*)((*)(-1, (cos)(ˍ₋arg1[1])), (getindex)(a, 455))), (*)((*)((/)(ˍ₋arg1[3], (^)(ˍ₋arg1[1], 2)), (cos)((/)(ˍ₋arg1[3], ˍ₋arg1[1]))), (getindex)(a, 534))), (*)((*)((/)(ˍ₋arg1[6], (^)(ˍ₋arg1[1], 2)), (cos)((/)(ˍ₋arg1[6], ˍ₋arg1[1]))), (getindex)(a, 537))), (*)((*)((/)(ˍ₋arg1[7], (^)(ˍ₋arg1[1], 2)), (cos)((/)(ˍ₋arg1[7], ˍ₋arg1[1]))), (getindex)(a, 538))), (*)((*)((/)(ˍ₋arg1[12], (^)(ˍ₋arg1[1], 2)), (cos)((/)(ˍ₋arg1[12], ˍ₋arg1[1]))), (getindex)(a, 543))), (*)((*)((*)(-1, ˍ₋arg1[6]), ˍ₋arg1[5]), (getindex)(a, 134))), (*)((*)((*)(-1, (/)(ˍ₋arg1[6], (^)(ˍ₋arg1[1], 2))), (sin)((/)(ˍ₋arg1[6], ˍ₋arg1[1]))), (getindex)(a, 681))), (*)((*)((*)(-1, ˍ₋arg1[2]), ˍ₋arg1[3]), (getindex)(a, 104))), (*)((*)((*)(-1, ˍ₋arg1[12]), ˍ₋arg1[2]), (getindex)(a, 113))), (*)((*)((*)(-1, ˍ₋arg1[12]), ˍ₋arg1[5]), (getindex)(a, 140))), (*)((*)((*)(-2, ˍ₋arg1[10]), ˍ₋arg1[1]), (getindex)(a, 100))), (*)((*)((*)(-1, ˍ₋arg1[8]), ˍ₋arg1[10]), (getindex)(a, 156))), (*)((*)((*)(-1, ˍ₋arg1[6]), ˍ₋arg1[11]), (getindex)(a, 146))), (*)((*)((*)(-1, ˍ₋arg1[10]), ˍ₋arg1[3]), (getindex)(a, 121))), (*)((*)((*)(-1, ˍ₋arg1[6]), ˍ₋arg1[10]), (getindex)(a, 145))), (*)((*)((*)(-2, ˍ₋arg1[3]), ˍ₋arg1[1]), (getindex)(a, 93))), (*)((*)((*)(-1, ˍ₋arg1[8]), ˍ₋arg1[9]), (getindex)(a, 155))), (*)((*)((*)(-1, ˍ₋arg1[5]), ˍ₋arg1[8]), (getindex)(a, 136))), (*)((*)((*)(-1, ˍ₋arg1[6]), ˍ₋arg1[4]), (getindex)(a, 126))), (*)((*)((*)(-1, (/)(ˍ₋arg1[2], (^)(ˍ₋arg1[1], 2))), (sin)((/)(ˍ₋arg1[2], ˍ₋arg1[1]))), (getindex)(a, 677))), (*)((*)((*)(-1, ˍ₋arg1[4]), ˍ₋arg1[7]), (getindex)(a, 127))), (*)((*)((*)(-1, ˍ₋arg1[9]), ˍ₋arg1[2]), (getindex)(a, 110))), (*)((*)((*)(-1, ˍ₋arg1[9]), ˍ₋arg1[4]), (getindex)(a, 129))), (*)((*)((*)(-1, ˍ₋arg1[9]), ˍ₋arg1[7]), (getindex)(a, 150))), (*)((*)((*)(-2, ˍ₋arg1[9]), ˍ₋arg1[1]), (getindex)(a, 99))), (*)((*)((*)(-2, ˍ₋arg1[11]), ˍ₋arg1[1]), (getindex)(a, 101))), (*)((*)((*)(-1, ˍ₋arg1[12]), ˍ₋arg1[9]), (getindex)(a, 162))), (*)((*)((*)(-1, ˍ₋arg1[2]), ˍ₋arg1[7]), (getindex)(a, 108))), (*)((*)((*)(-1, ˍ₋arg1[11]), ˍ₋arg1[4]), (getindex)(a, 131))), (*)((*)((*)(-1, ˍ₋arg1[11]), ˍ₋arg1[3]), (getindex)(a, 122))), (*)((*)((*)(-1, ˍ₋arg1[11]), ˍ₋arg1[5]), (getindex)(a, 139))), (*)((*)((*)(-1, ˍ₋arg1[6]), ˍ₋arg1[12]), (getindex)(a, 147))), (*)((*)((*)(-1, (/)(ˍ₋arg1[12], (^)(ˍ₋arg1[1], 2))), (sin)((/)(ˍ₋arg1[12], ˍ₋arg1[1]))), (getindex)(a, 687))), (*)((*)((*)(-1, (/)(ˍ₋arg1[9], (^)(ˍ₋arg1[1], 2))), (sin)((/)(ˍ₋arg1[9], ˍ₋arg1[1]))), (getindex)(a, 684))), (*)((*)((*)(-1, ˍ₋arg1[4]), ˍ₋arg1[5]), (getindex)(a, 125))), (*)((*)((*)(-1, ˍ₋arg1[6]), ˍ₋arg1[8]), (getindex)(a, 143))), (*)((*)((*)(-2, ˍ₋arg1[6]), ˍ₋arg1[1]), (getindex)(a, 96))), (*)((*)((*)(-2, ˍ₋arg1[8]), ˍ₋arg1[1]), (getindex)(a, 98))), (*)((*)((*)(-1, (/)(ˍ₋arg1[3], (^)(ˍ₋arg1[1], 2))), (sin)((/)(ˍ₋arg1[3], ˍ₋arg1[1]))), (getindex)(a, 678))), (*)((*)((*)(-1, (/)(ˍ₋arg1[5], (^)(ˍ₋arg1[1], 2))), (sin)((/)(ˍ₋arg1[5], ˍ₋arg1[1]))), (getindex)(a, 680))), (*)((*)((*)(-1, (/)(ˍ₋arg1[7], (^)(ˍ₋arg1[1], 2))), (sin)((/)(ˍ₋arg1[7], ˍ₋arg1[1]))), (getindex)(a, 682))), (*)((*)((*)(-2, ˍ₋arg1[1]), ˍ₋arg1[4]), (getindex)(a, 94))), (*)((*)((*)(-1, ˍ₋arg1[2]), ˍ₋arg1[10]), (getindex)(a, 111))), (*)((*)((*)(-1, ˍ₋arg1[4]), ˍ₋arg1[10]), (getindex)(a, 130))), (*)((*)((*)(-1, ˍ₋arg1[5]), ˍ₋arg1[10]), (getindex)(a, 138))), (*)((*)((*)(-2, ˍ₋arg1[1]), ˍ₋arg1[5]), (getindex)(a, 95))), (*)((*)((*)(-1, (/)(ˍ₋arg1[8], (^)(ˍ₋arg1[1], 2))), (sin)((/)(ˍ₋arg1[8], ˍ₋arg1[1]))), (getindex)(a, 683))), (*)((*)((*)(-1, (/)(ˍ₋arg1[10], (^)(ˍ₋arg1[1], 2))), (sin)((/)(ˍ₋arg1[10], ˍ₋arg1[1]))), (getindex)(a, 685))), (*)((*)((*)(-1, ˍ₋arg1[2]), ˍ₋arg1[8]), (getindex)(a, 109))), (*)((*)((*)(-1, ˍ₋arg1[12]), ˍ₋arg1[4]), (getindex)(a, 132))), (*)((*)((*)(-1, ˍ₋arg1[6]), ˍ₋arg1[9]), (getindex)(a, 144))), (*)((*)((*)(-1, (/)(ˍ₋arg1[11], (^)(ˍ₋arg1[1], 2))), (sin)((/)(ˍ₋arg1[11], ˍ₋arg1[1]))), (getindex)(a, 686))), (*)((*)((*)(-2, ˍ₋arg1[12]), ˍ₋arg1[1]), (getindex)(a, 102))), (*)((*)((*)(-2, ˍ₋arg1[2]), ˍ₋arg1[1]), (getindex)(a, 92))), (*)((*)((*)(-1, ˍ₋arg1[6]), ˍ₋arg1[2]), (getindex)(a, 107))), (*)((*)((*)(-1, ˍ₋arg1[6]), ˍ₋arg1[3]), (getindex)(a, 117))), (*)((*)((*)(-1, ˍ₋arg1[6]), ˍ₋arg1[7]), (getindex)(a, 142))), (*)((*)((*)(-1, ˍ₋arg1[12]), ˍ₋arg1[11]), (getindex)(a, 167))), (*)((*)((*)(-1, ˍ₋arg1[4]), ˍ₋arg1[8]), (getindex)(a, 128))), (*)((*)((*)(-1, ˍ₋arg1[8]), ˍ₋arg1[3]), (getindex)(a, 119))), (*)((*)((*)(-1, ˍ₋arg1[9]), ˍ₋arg1[3]), (getindex)(a, 120))), (*)((*)((*)(-1, ˍ₋arg1[8]), ˍ₋arg1[7]), (getindex)(a, 149))), (*)((*)((*)(-1, (/)(ˍ₋arg1[4], (^)(ˍ₋arg1[1], 2))), (sin)((/)(ˍ₋arg1[4], ˍ₋arg1[1]))), (getindex)(a, 679))), (*)((*)((*)(-1, ˍ₋arg1[11]), ˍ₋arg1[2]), (getindex)(a, 112))), (*)((*)((*)(-1, ˍ₋arg1[9]), ˍ₋arg1[5]), (getindex)(a, 137))), (*)((*)((*)(-1, ˍ₋arg1[11]), ˍ₋arg1[7]), (getindex)(a, 152))), (*)((*)((*)(-2, ˍ₋arg1[1]), ˍ₋arg1[7]), (getindex)(a, 97))), (*)((*)((*)(-1, ˍ₋arg1[2]), ˍ₋arg1[4]), (getindex)(a, 105))), (*)((*)((*)(-1, ˍ₋arg1[2]), ˍ₋arg1[5]), (getindex)(a, 106))), (*)((*)((*)(-1, ˍ₋arg1[3]), ˍ₋arg1[5]), (getindex)(a, 116))), (*)((*)((*)(-1, ˍ₋arg1[3]), ˍ₋arg1[7]), (getindex)(a, 118))), (*)((*)((*)(-1, ˍ₋arg1[12]), ˍ₋arg1[8]), (getindex)(a, 158))), (*)((*)((*)(-1, ˍ₋arg1[12]), ˍ₋arg1[7]), (getindex)(a, 153))), (*)((*)((*)(-1, ˍ₋arg1[9]), ˍ₋arg1[10]), (getindex)(a, 160))), (*)((*)((*)(-1, ˍ₋arg1[4]), ˍ₋arg1[3]), (getindex)(a, 115))), (*)((*)((*)(-1, ˍ₋arg1[8]), ˍ₋arg1[11]), (getindex)(a, 157))), (*)((*)((*)(-1, ˍ₋arg1[9]), ˍ₋arg1[11]), (getindex)(a, 161))), (*)((*)((*)(-1, ˍ₋arg1[12]), ˍ₋arg1[3]), (getindex)(a, 123))), (*)((*)((*)(-1, ˍ₋arg1[12]), ˍ₋arg1[10]), (getindex)(a, 165))), (*)((*)((*)(-1, ˍ₋arg1[7]), ˍ₋arg1[10]), (getindex)(a, 151))), (*)((*)((*)(-1, ˍ₋arg1[10]), ˍ₋arg1[11]), (getindex)(a, 164))), (*)((*)((*)(-1, ˍ₋arg1[5]), ˍ₋arg1[7]), (getindex)(a, 135)))\n",
       "                          ˍ₋out[4] = (+)((+)((+)((+)((+)((+)((+)((+)((+)((+)((+)((+)((+)((+)((+)((+)((+)((+)((+)((+)((+)((+)((+)((+)((+)((+)((+)((+)((+)((+)((+)((+)((+)((+)((+)((+)((+)((+)((+)((+)((+)((+)((+)((+)((+)((+)((+)((+)((+)((+)((+)((+)((+)((+)((+)((+)((+)((+)((+)((+)((+)((+)((+)((+)((+)((+)((+)((+)((+)((+)((+)((+)((+)((+)((+)((+)((+)((+)((+)((+)((+)((+)((+)((+)((+)((+)((+)((+)((+)((+)((+)((+)((+)((+)((+)((+)((+)((+)((+)((+)((+)((+)((+)((+)((+)((+)((+)((+)((+)((+)((+)((+)((+)((+)((+)((+)((+)((+)((+)((+)((+)((+)((+)((+)((+)((+)((+)((+)((+)((+)((+)((+)((+)((+)((+)((+)((/)((*)((sin)((/)(ˍ₋arg1[2], ˍ₋arg1[10])), (getindex)(a, 629)), ˍ₋arg1[10]), (/)((*)((sin)((/)(ˍ₋arg1[2], ˍ₋arg1[11])), (getindex)(a, 630)), ˍ₋arg1[11])), (/)((*)((sin)((/)(ˍ₋arg1[2], ˍ₋arg1[3])), (getindex)(a, 622)), ˍ₋arg1[3])), (/)((*)((sin)((/)(ˍ₋arg1[2], ˍ₋arg1[6])), (getindex)(a, 625)), ˍ₋arg1[6])), (/)((*)((sin)((/)(ˍ₋arg1[2], ˍ₋arg1[7])), (getindex)(a, 626)), ˍ₋arg1[7])), (/)((*)((sin)((/)(ˍ₋arg1[2], ˍ₋arg1[12])), (getindex)(a, 631)), ˍ₋arg1[12])), (/)((*)((sin)((/)(ˍ₋arg1[2], ˍ₋arg1[4])), (getindex)(a, 623)), ˍ₋arg1[4])), (/)((*)((sin)((/)(ˍ₋arg1[2], ˍ₋arg1[5])), (getindex)(a, 624)), ˍ₋arg1[5])), (/)((*)((sin)((/)(ˍ₋arg1[2], ˍ₋arg1[8])), (getindex)(a, 627)), ˍ₋arg1[8])), (/)((*)((sin)((/)(ˍ₋arg1[2], ˍ₋arg1[9])), (getindex)(a, 628)), ˍ₋arg1[9])), (/)((*)((sin)((/)(ˍ₋arg1[2], ˍ₋arg1[1])), (getindex)(a, 677)), ˍ₋arg1[1])), (/)((*)((*)(-1, (cos)((/)(ˍ₋arg1[2], ˍ₋arg1[3]))), (getindex)(a, 478)), ˍ₋arg1[3])), (/)((*)((*)(-1, (cos)((/)(ˍ₋arg1[2], ˍ₋arg1[12]))), (getindex)(a, 487)), ˍ₋arg1[12])), (/)((*)((*)(-1, (cos)((/)(ˍ₋arg1[2], ˍ₋arg1[6]))), (getindex)(a, 481)), ˍ₋arg1[6])), (/)((*)((*)(-1, (cos)((/)(ˍ₋arg1[2], ˍ₋arg1[8]))), (getindex)(a, 483)), ˍ₋arg1[8])), (/)((*)((*)(-1, (cos)((/)(ˍ₋arg1[2], ˍ₋arg1[9]))), (getindex)(a, 484)), ˍ₋arg1[9])), (/)((*)((*)(-1, (cos)((/)(ˍ₋arg1[2], ˍ₋arg1[10]))), (getindex)(a, 485)), ˍ₋arg1[10])), (/)((*)((*)(-1, (cos)((/)(ˍ₋arg1[2], ˍ₋arg1[11]))), (getindex)(a, 486)), ˍ₋arg1[11])), (/)((*)((*)(-1, (cos)((/)(ˍ₋arg1[2], ˍ₋arg1[1]))), (getindex)(a, 533)), ˍ₋arg1[1])), (/)((*)((*)(-1, (cos)((/)(ˍ₋arg1[2], ˍ₋arg1[4]))), (getindex)(a, 479)), ˍ₋arg1[4])), (/)((*)((*)(-1, (cos)((/)(ˍ₋arg1[2], ˍ₋arg1[5]))), (getindex)(a, 480)), ˍ₋arg1[5])), (/)((*)((*)(-1, (cos)((/)(ˍ₋arg1[2], ˍ₋arg1[7]))), (getindex)(a, 482)), ˍ₋arg1[7])), (*)(-1, (getindex)(a, 2))), (*)((sin)(ˍ₋arg1[2]), (getindex)(a, 600))), (*)((*)(-1, (^)(ˍ₋arg1[8], 2)), (getindex)(a, 220))), (*)((*)(-1, (^)(ˍ₋arg1[10], 2)), (getindex)(a, 229))), (*)((*)(-1, (^)(ˍ₋arg1[9], 2)), (getindex)(a, 225))), (*)((*)(-1, (^)(ˍ₋arg1[11], 2)), (getindex)(a, 232))), (*)((*)(-1, ˍ₋arg1[1]), (getindex)(a, 14))), (*)((*)(-1, (^)(ˍ₋arg1[12], 2)), (getindex)(a, 234))), (*)((*)(-1, (^)(ˍ₋arg1[4], 2)), (getindex)(a, 190))), (*)((*)(-1, ˍ₋arg1[3]), (getindex)(a, 26))), (*)((*)(-1, ˍ₋arg1[6]), (getindex)(a, 29))), (*)((*)(-1, ˍ₋arg1[4]), (getindex)(a, 27))), (*)((*)(-1, ˍ₋arg1[5]), (getindex)(a, 28))), (*)((*)(-1, ˍ₋arg1[7]), (getindex)(a, 30))), (*)((*)(-1, ˍ₋arg1[10]), (getindex)(a, 33))), (*)((*)(-1, ˍ₋arg1[11]), (getindex)(a, 34))), (*)((*)(-1, (^)(ˍ₋arg1[6], 2)), (getindex)(a, 207))), (*)((*)(-1, (^)(ˍ₋arg1[7], 2)), (getindex)(a, 214))), (*)((*)(-3, (^)(ˍ₋arg1[2], 2)), (getindex)(a, 169))), (*)((*)(-1, ˍ₋arg1[12]), (getindex)(a, 35))), (*)((*)(-1, ˍ₋arg1[9]), (getindex)(a, 32))), (*)((*)(-1, (^)(ˍ₋arg1[3], 2)), (getindex)(a, 180))), (*)((*)(-1, (^)(ˍ₋arg1[5], 2)), (getindex)(a, 199))), (*)((*)(-2, ˍ₋arg1[2]), (getindex)(a, 25))), (*)((*)(-1, (^)(ˍ₋arg1[1], 2)), (getindex)(a, 92))), (*)((*)(-1, ˍ₋arg1[8]), (getindex)(a, 31))), (*)((*)((/)(ˍ₋arg1[3], (^)(ˍ₋arg1[2], 2)), (cos)((/)(ˍ₋arg1[3], ˍ₋arg1[2]))), (getindex)(a, 544))), (*)((*)((/)(ˍ₋arg1[4], (^)(ˍ₋arg1[2], 2)), (cos)((/)(ˍ₋arg1[4], ˍ₋arg1[2]))), (getindex)(a, 545))), (*)((*)((/)(ˍ₋arg1[5], (^)(ˍ₋arg1[2], 2)), (cos)((/)(ˍ₋arg1[5], ˍ₋arg1[2]))), (getindex)(a, 546))), (*)((*)((/)(ˍ₋arg1[6], (^)(ˍ₋arg1[2], 2)), (cos)((/)(ˍ₋arg1[6], ˍ₋arg1[2]))), (getindex)(a, 547))), (*)((*)((/)(ˍ₋arg1[8], (^)(ˍ₋arg1[2], 2)), (cos)((/)(ˍ₋arg1[8], ˍ₋arg1[2]))), (getindex)(a, 549))), (*)((*)((/)(ˍ₋arg1[12], (^)(ˍ₋arg1[2], 2)), (cos)((/)(ˍ₋arg1[12], ˍ₋arg1[2]))), (getindex)(a, 553))), (*)((*)((/)(ˍ₋arg1[10], (^)(ˍ₋arg1[2], 2)), (cos)((/)(ˍ₋arg1[10], ˍ₋arg1[2]))), (getindex)(a, 551))), (*)((*)((/)(ˍ₋arg1[11], (^)(ˍ₋arg1[2], 2)), (cos)((/)(ˍ₋arg1[11], ˍ₋arg1[2]))), (getindex)(a, 552))), (*)((*)(-1, (cos)(ˍ₋arg1[2])), (getindex)(a, 456))), (*)((*)((/)(ˍ₋arg1[1], (^)(ˍ₋arg1[2], 2)), (cos)((/)(ˍ₋arg1[1], ˍ₋arg1[2]))), (getindex)(a, 467))), (*)((*)((/)(ˍ₋arg1[7], (^)(ˍ₋arg1[2], 2)), (cos)((/)(ˍ₋arg1[7], ˍ₋arg1[2]))), (getindex)(a, 548))), (*)((*)((/)(ˍ₋arg1[9], (^)(ˍ₋arg1[2], 2)), (cos)((/)(ˍ₋arg1[9], ˍ₋arg1[2]))), (getindex)(a, 550))), (*)((*)((*)(-2, ˍ₋arg1[12]), ˍ₋arg1[2]), (getindex)(a, 179))), (*)((*)((*)(-1, (/)(ˍ₋arg1[8], (^)(ˍ₋arg1[2], 2))), (sin)((/)(ˍ₋arg1[8], ˍ₋arg1[2]))), (getindex)(a, 693))), (*)((*)((*)(-2, ˍ₋arg1[2]), ˍ₋arg1[8]), (getindex)(a, 175))), (*)((*)((*)(-2, ˍ₋arg1[2]), ˍ₋arg1[4]), (getindex)(a, 171))), (*)((*)((*)(-1, ˍ₋arg1[4]), ˍ₋arg1[3]), (getindex)(a, 181))), (*)((*)((*)(-1, ˍ₋arg1[4]), ˍ₋arg1[7]), (getindex)(a, 193))), (*)((*)((*)(-1, ˍ₋arg1[12]), ˍ₋arg1[10]), (getindex)(a, 231))), (*)((*)((*)(-1, ˍ₋arg1[9]), ˍ₋arg1[4]), (getindex)(a, 195))), (*)((*)((*)(-1, ˍ₋arg1[4]), ˍ₋arg1[8]), (getindex)(a, 194))), (*)((*)((*)(-1, ˍ₋arg1[8]), ˍ₋arg1[3]), (getindex)(a, 185))), (*)((*)((*)(-1, ˍ₋arg1[11]), ˍ₋arg1[4]), (getindex)(a, 197))), (*)((*)((*)(-1, ˍ₋arg1[8]), ˍ₋arg1[1]), (getindex)(a, 109))), (*)((*)((*)(-2, ˍ₋arg1[9]), ˍ₋arg1[2]), (getindex)(a, 176))), (*)((*)((*)(-1, ˍ₋arg1[10]), ˍ₋arg1[1]), (getindex)(a, 111))), (*)((*)((*)(-1, ˍ₋arg1[12]), ˍ₋arg1[3]), (getindex)(a, 189))), (*)((*)((*)(-1, ˍ₋arg1[7]), ˍ₋arg1[10]), (getindex)(a, 217))), (*)((*)((*)(-1, (/)(ˍ₋arg1[1], (^)(ˍ₋arg1[2], 2))), (sin)((/)(ˍ₋arg1[1], ˍ₋arg1[2]))), (getindex)(a, 611))), (*)((*)((*)(-1, ˍ₋arg1[9]), ˍ₋arg1[5]), (getindex)(a, 203))), (*)((*)((*)(-1, ˍ₋arg1[8]), ˍ₋arg1[7]), (getindex)(a, 215))), (*)((*)((*)(-1, ˍ₋arg1[11]), ˍ₋arg1[1]), (getindex)(a, 112))), (*)((*)((*)(-1, (/)(ˍ₋arg1[6], (^)(ˍ₋arg1[2], 2))), (sin)((/)(ˍ₋arg1[6], ˍ₋arg1[2]))), (getindex)(a, 691))), (*)((*)((*)(-1, ˍ₋arg1[3]), ˍ₋arg1[7]), (getindex)(a, 184))), (*)((*)((*)(-1, ˍ₋arg1[9]), ˍ₋arg1[7]), (getindex)(a, 216))), (*)((*)((*)(-1, (/)(ˍ₋arg1[4], (^)(ˍ₋arg1[2], 2))), (sin)((/)(ˍ₋arg1[4], ˍ₋arg1[2]))), (getindex)(a, 689))), (*)((*)((*)(-1, ˍ₋arg1[12]), ˍ₋arg1[9]), (getindex)(a, 228))), (*)((*)((*)(-1, ˍ₋arg1[12]), ˍ₋arg1[11]), (getindex)(a, 233))), (*)((*)((*)(-1, ˍ₋arg1[10]), ˍ₋arg1[3]), (getindex)(a, 187))), (*)((*)((*)(-1, ˍ₋arg1[8]), ˍ₋arg1[9]), (getindex)(a, 221))), (*)((*)((*)(-1, (/)(ˍ₋arg1[11], (^)(ˍ₋arg1[2], 2))), (sin)((/)(ˍ₋arg1[11], ˍ₋arg1[2]))), (getindex)(a, 696))), (*)((*)((*)(-2, ˍ₋arg1[2]), ˍ₋arg1[5]), (getindex)(a, 172))), (*)((*)((*)(-1, ˍ₋arg1[6]), ˍ₋arg1[10]), (getindex)(a, 211))), (*)((*)((*)(-1, ˍ₋arg1[3]), ˍ₋arg1[5]), (getindex)(a, 182))), (*)((*)((*)(-1, ˍ₋arg1[9]), ˍ₋arg1[10]), (getindex)(a, 226))), (*)((*)((*)(-1, ˍ₋arg1[5]), ˍ₋arg1[7]), (getindex)(a, 201))), (*)((*)((*)(-1, (/)(ˍ₋arg1[3], (^)(ˍ₋arg1[2], 2))), (sin)((/)(ˍ₋arg1[3], ˍ₋arg1[2]))), (getindex)(a, 688))), (*)((*)((*)(-1, (/)(ˍ₋arg1[5], (^)(ˍ₋arg1[2], 2))), (sin)((/)(ˍ₋arg1[5], ˍ₋arg1[2]))), (getindex)(a, 690))), (*)((*)((*)(-1, ˍ₋arg1[6]), ˍ₋arg1[7]), (getindex)(a, 208))), (*)((*)((*)(-2, ˍ₋arg1[2]), ˍ₋arg1[1]), (getindex)(a, 103))), (*)((*)((*)(-1, ˍ₋arg1[1]), ˍ₋arg1[7]), (getindex)(a, 108))), (*)((*)((*)(-1, ˍ₋arg1[3]), ˍ₋arg1[1]), (getindex)(a, 104))), (*)((*)((*)(-1, ˍ₋arg1[6]), ˍ₋arg1[9]), (getindex)(a, 210))), (*)((*)((*)(-1, ˍ₋arg1[6]), ˍ₋arg1[11]), (getindex)(a, 212))), (*)((*)((*)(-1, ˍ₋arg1[12]), ˍ₋arg1[4]), (getindex)(a, 198))), (*)((*)((*)(-1, ˍ₋arg1[12]), ˍ₋arg1[5]), (getindex)(a, 206))), (*)((*)((*)(-2, ˍ₋arg1[6]), ˍ₋arg1[2]), (getindex)(a, 173))), (*)((*)((*)(-1, (/)(ˍ₋arg1[10], (^)(ˍ₋arg1[2], 2))), (sin)((/)(ˍ₋arg1[10], ˍ₋arg1[2]))), (getindex)(a, 695))), (*)((*)((*)(-1, ˍ₋arg1[12]), ˍ₋arg1[8]), (getindex)(a, 224))), (*)((*)((*)(-1, ˍ₋arg1[12]), ˍ₋arg1[7]), (getindex)(a, 219))), (*)((*)((*)(-1, (/)(ˍ₋arg1[7], (^)(ˍ₋arg1[2], 2))), (sin)((/)(ˍ₋arg1[7], ˍ₋arg1[2]))), (getindex)(a, 692))), (*)((*)((*)(-1, ˍ₋arg1[6]), ˍ₋arg1[8]), (getindex)(a, 209))), (*)((*)((*)(-1, ˍ₋arg1[5]), ˍ₋arg1[8]), (getindex)(a, 202))), (*)((*)((*)(-1, (/)(ˍ₋arg1[12], (^)(ˍ₋arg1[2], 2))), (sin)((/)(ˍ₋arg1[12], ˍ₋arg1[2]))), (getindex)(a, 697))), (*)((*)((*)(-1, ˍ₋arg1[8]), ˍ₋arg1[11]), (getindex)(a, 223))), (*)((*)((*)(-1, ˍ₋arg1[10]), ˍ₋arg1[11]), (getindex)(a, 230))), (*)((*)((*)(-1, ˍ₋arg1[9]), ˍ₋arg1[11]), (getindex)(a, 227))), (*)((*)((*)(-1, ˍ₋arg1[12]), ˍ₋arg1[1]), (getindex)(a, 113))), (*)((*)((*)(-2, ˍ₋arg1[2]), ˍ₋arg1[3]), (getindex)(a, 170))), (*)((*)((*)(-2, ˍ₋arg1[2]), ˍ₋arg1[7]), (getindex)(a, 174))), (*)((*)((*)(-1, ˍ₋arg1[6]), ˍ₋arg1[3]), (getindex)(a, 183))), (*)((*)((*)(-1, ˍ₋arg1[11]), ˍ₋arg1[3]), (getindex)(a, 188))), (*)((*)((*)(-1, ˍ₋arg1[6]), ˍ₋arg1[1]), (getindex)(a, 107))), (*)((*)((*)(-2, ˍ₋arg1[11]), ˍ₋arg1[2]), (getindex)(a, 178))), (*)((*)((*)(-1, ˍ₋arg1[8]), ˍ₋arg1[10]), (getindex)(a, 222))), (*)((*)((*)(-1, ˍ₋arg1[6]), ˍ₋arg1[5]), (getindex)(a, 200))), (*)((*)((*)(-1, ˍ₋arg1[11]), ˍ₋arg1[7]), (getindex)(a, 218))), (*)((*)((*)(-1, ˍ₋arg1[4]), ˍ₋arg1[10]), (getindex)(a, 196))), (*)((*)((*)(-1, ˍ₋arg1[1]), ˍ₋arg1[5]), (getindex)(a, 106))), (*)((*)((*)(-2, ˍ₋arg1[2]), ˍ₋arg1[10]), (getindex)(a, 177))), (*)((*)((*)(-1, ˍ₋arg1[6]), ˍ₋arg1[12]), (getindex)(a, 213))), (*)((*)((*)(-1, (/)(ˍ₋arg1[9], (^)(ˍ₋arg1[2], 2))), (sin)((/)(ˍ₋arg1[9], ˍ₋arg1[2]))), (getindex)(a, 694))), (*)((*)((*)(-1, ˍ₋arg1[6]), ˍ₋arg1[4]), (getindex)(a, 192))), (*)((*)((*)(-1, ˍ₋arg1[9]), ˍ₋arg1[3]), (getindex)(a, 186))), (*)((*)((*)(-1, ˍ₋arg1[11]), ˍ₋arg1[5]), (getindex)(a, 205))), (*)((*)((*)(-1, ˍ₋arg1[9]), ˍ₋arg1[1]), (getindex)(a, 110))), (*)((*)((*)(-1, ˍ₋arg1[5]), ˍ₋arg1[10]), (getindex)(a, 204))), (*)((*)((*)(-1, ˍ₋arg1[1]), ˍ₋arg1[4]), (getindex)(a, 105))), (*)((*)((*)(-1, ˍ₋arg1[4]), ˍ₋arg1[5]), (getindex)(a, 191)))\n",
       "                          #= C:\\Users\\nigel\\.julia\\packages\\SymbolicUtils\\H684H\\src\\code.jl:397 =#\n",
       "                          nothing\n",
       "                      end\n",
       "              end\n",
       "          end\n",
       "      end))"
      ]
     },
     "metadata": {},
     "output_type": "display_data"
    }
   ],
   "source": [
    "d = 2\n",
    "z = get_z_vector(d)\n",
    "z = primal_operator_basis(z, -)\n",
    "polynomial = polynomial_basis(z, polyorder=3)\n",
    "trigonometric  = trigonometric_basis(z, polyorder = 1, operator = /)\n",
    "logarithmic = logarithmic_basis(z, polyorder = 0, operator = -)\n",
    "exponential = exponential_basis(z, polyorder=1, operator = +, max_coeff=1)\n",
    "mixed_basis = mixed_states_basis(trigonometric, polynomial)\n",
    "\n",
    "out = ΔH_func_builder(d, z,\n",
    "    polynomial, trigonometric\n",
    "    ) "
   ]
  },
  {
   "cell_type": "code",
   "execution_count": 10,
   "metadata": {},
   "outputs": [
    {
     "data": {
      "text/latex": [
       "$$ \\begin{equation}\n",
       "\\left( e^{ - p_1 + q_1} \\right)^{2} a_{1 0 4} + \\left( e^{ - p_1 + q_2} \\right)^{2} a_{1 1 0} + \\left( e^{ - q_1 + p_3} \\right)^{2} a_{1 3 4} + \\left( e^{ - p_1 + q_4} \\right)^{2} a_{1 1 9} + \\left( e^{ - p_3 + q_3} \\right)^{2} a_{1 1 7} + \\left( e^{ - p_4 + q_3} \\right)^{2} a_{1 1 8} + \\left( e^{ - p_2 + q_4} \\right)^{2} a_{1 2 0} + \\left( e^{ - p_4 + q_4} \\right)^{2} a_{1 2 2} + \\left( e^{ - p_3 + p_1} \\right)^{2} a_{1 2 4} + \\left( e^{ - q_3 + q_4} \\right)^{2} a_{1 4 2} + q_3^{2} a_{2 4} + e^{ - p_1 + p_2} a_{9 5} + e^{ - q_2 + p_1} a_{8 2} + e^{ - p_3 + q_3} a_{6 1} + e^{ - q_4 + p_3} a_{9 3} + e^{ - p_4 + q_1} a_{5 1} + e^{ - q_4 + q_3} a_{5 8} + e^{ - q_3 + p_4} a_{9 0} + \\left( e^{ - p_2 + p_3} \\right)^{2} a_{1 5 4} + \\left( e^{ - q_3 + p_1} \\right)^{2} a_{1 4 3} + \\left( e^{ - q_4 + p_4} \\right)^{2} a_{1 5 0} + e^{ - p_2 + p_4} a_{9 9} + e^{ - p_4 + p_1} a_{6 9} + e^{ - p_2 + q_1} a_{4 9} + e^{ - p_4 + q_2} a_{5 7} + e^{ - p_3 + q_4} a_{6 5} + \\left( e^{ - p_4 + p_1} \\right)^{2} a_{1 2 5} + \\left( e^{ - q_2 + p_4} \\right)^{2} a_{1 4 1} + e^{ - q_2 + p_2} a_{8 3} + e^{ - q_1 + q_2} a_{7 3} + e^{ - q_1 + q_4} a_{7 5} + \\left( e^{ - p_2 + q_3} \\right)^{2} a_{1 1 6} + e^{ - q_2 + p_3} a_{8 4} + e^{ - q_2 + q_4} a_{8 1} + \\left( e^{ - q_2 + q_3} \\right)^{2} a_{1 3 6} + \\left( e^{ - p_1 + p_4} \\right)^{2} a_{1 5 3} + q_2^{2} a_{1 7} + q_4^{2} a_{3 0} + \\left( e^{ - p_2 + q_2} \\right)^{2} a_{1 1 1} + \\left( e^{ - p_4 + q_1} \\right)^{2} a_{1 0 7} + \\left( e^{ - p_4 + q_2} \\right)^{2} a_{1 1 3} + p_2^{2} a_{3 9} + e^{ - q_2 + p_4} a_{8 5} + \\left( e^{ - q_2 + p_2} \\right)^{2} a_{1 3 9} + e^{ - q_4 + p_1} a_{9 1} + \\left( e^{ - p_4 + p_3} \\right)^{2} a_{1 2 8} + \\left( e^{ - q_2 + p_3} \\right)^{2} a_{1 4 0} + e^{ - p_1 + q_1} a_{4 8} + e^{ - p_1 + q_4} a_{6 3} + e^{ - p_2 + q_2} a_{5 5} + e^{ - p_2 + q_3} a_{6 0} + e^{ - q_2 + q_1} a_{4 5} + \\left( e^{ - p_2 + p_1} \\right)^{2} a_{1 2 3} + \\left( e^{ - p_2 + p_4} \\right)^{2} a_{1 5 5} + e^{ - p_1 + p_4} a_{9 7} + \\left( e^{ - p_3 + p_2} \\right)^{2} a_{1 2 6} + \\left( e^{ - q_1 + p_2} \\right)^{2} a_{1 3 3} + \\left( e^{ - q_4 + p_2} \\right)^{2} a_{1 4 8} + \\left( e^{ - q_3 + p_4} \\right)^{2} a_{1 4 6} + \\left( e^{ - p_2 + q_1} \\right)^{2} a_{1 0 5} + e^{ - q_1 + p_2} a_{7 7} + \\left( e^{ - p_3 + q_1} \\right)^{2} a_{1 0 6} + \\left( e^{ - q_2 + q_4} \\right)^{2} a_{1 3 7} + \\left( e^{ - q_4 + q_2} \\right)^{2} a_{1 0 9} + e^{ - q_1 + p_3} a_{7 8} + e^{ - p_1 + q_3} a_{5 9} + e^{ - p_4 + q_4} a_{6 6} + e^{ - q_4 + q_2} a_{5 3} + \\left( e^{ - p_3 + p_4} \\right)^{2} a_{1 5 6} + p_3^{2} a_{4 2} + p_4^{2} a_{4 4} + e^{ - p_1 + q_2} a_{5 4} + e^{ - p_3 + p_1} a_{6 8} + e^{ - p_2 + p_3} a_{9 8} + e^{ - p_4 + p_2} a_{7 1} + e^{ - p_3 + q_2} a_{5 6} + e^{ - q_1 + q_3} a_{7 4} + \\left( e^{ - q_1 + p_1} \\right)^{2} a_{1 3 2} + e^{ - q_1 + p_4} a_{7 9} + e^{ - q_2 + q_3} a_{8 0} + \\left( e^{ - q_2 + q_1} \\right)^{2} a_{1 0 1} + \\left( e^{ - p_4 + p_2} \\right)^{2} a_{1 2 7} + \\left( e^{ - q_3 + p_2} \\right)^{2} a_{1 4 4} + \\left( e^{ - q_1 + q_2} \\right)^{2} a_{1 2 9} + \\left( e^{ - q_1 + q_4} \\right)^{2} a_{1 3 1} + p_1^{2} a_{3 5} + e^{ - q_3 + p_1} a_{8 7} + e^{ - q_4 + q_1} a_{4 7} + e^{ - p_3 + q_1} a_{5 0} + e^{ - p_4 + q_3} a_{6 2} + e^{ - q_3 + p_2} a_{8 8} + e^{ - q_3 + p_3} a_{8 9} + e^{ - q_4 + p_2} a_{9 2} + e^{ - p_2 + q_4} a_{6 4} + \\left( e^{ - q_3 + q_1} \\right)^{2} a_{1 0 2} + \\left( e^{ - q_1 + p_4} \\right)^{2} a_{1 3 5} + \\left( e^{ - p_3 + q_4} \\right)^{2} a_{1 2 1} + \\left( e^{ - q_1 + q_3} \\right)^{2} a_{1 3 0} + \\left( e^{ - q_4 + q_1} \\right)^{2} a_{1 0 3} + \\left( e^{ - q_2 + p_1} \\right)^{2} a_{1 3 8} + \\left( e^{ - q_3 + q_2} \\right)^{2} a_{1 0 8} + e^{ - p_3 + p_2} a_{7 0} + e^{ - q_3 + q_4} a_{8 6} + \\left( e^{ - p_1 + p_2} \\right)^{2} a_{1 5 1} + \\left( e^{ - p_1 + p_3} \\right)^{2} a_{1 5 2} + \\left( e^{ - q_4 + p_1} \\right)^{2} a_{1 4 7} + \\left( e^{ - q_3 + p_3} \\right)^{2} a_{1 4 5} + \\left( e^{ - q_4 + p_3} \\right)^{2} a_{1 4 9} + \\left( e^{ - p_3 + q_2} \\right)^{2} a_{1 1 2} + q_1^{2} a_9 + e^{ - p_1 + p_3} a_{9 6} + e^{ - q_3 + q_1} a_{4 6} + e^{ - p_2 + p_1} a_{6 7} + e^{ - p_4 + p_3} a_{7 2} + e^{ - p_3 + p_4} a_{1 0 0} + e^{ - q_1 + p_1} a_{7 6} + \\left( e^{ - q_4 + q_3} \\right)^{2} a_{1 1 4} + \\left( e^{ - p_1 + q_3} \\right)^{2} a_{1 1 5} + e^{ - q_4 + p_4} a_{9 4} + e^{ - q_3 + q_2} a_{5 2} + a_5 p_1 + a_3 q_3 + a_6 p_2 + a_1 q_1 + a_2 q_2 + a_4 q_4 + a_7 p_3 + a_8 p_4 + a_{1 6} p_4 q_1 + a_{2 3} p_4 q_2 + a_{2 6} p_1 q_3 + a_{3 6} p_1 p_2 + a_{1 0} q_1 q_2 + a_{1 1} q_1 q_3 + a_{1 2} q_1 q_4 + a_{2 5} q_3 q_4 + a_{3 8} p_1 p_4 + a_{1 3} p_1 q_1 + a_{1 5} p_3 q_1 + a_{2 0} p_1 q_2 + a_{2 1} p_2 q_2 + a_{2 7} p_2 q_3 + a_{3 3} p_3 q_4 + a_{3 4} p_4 q_4 + a_{1 8} q_2 q_3 + a_{1 9} q_2 q_4 + a_{4 3} p_3 p_4 + a_{1 4} p_2 q_1 + a_{2 2} p_3 q_2 + a_{2 8} p_3 q_3 + a_{3 2} p_2 q_4 + a_{3 7} p_1 p_3 + a_{4 0} p_2 p_3 + a_{4 1} p_2 p_4 + a_{2 9} p_4 q_3 + a_{3 1} p_1 q_4\n",
       "\\end{equation}\n",
       " $$"
      ],
      "text/plain": [
       "(exp(q[1] - p[1])^2)*a[104] + (exp(q[2] - p[1])^2)*a[110] + (exp(p[3] - q[1])^2)*a[134] + (exp(q[4] - p[1])^2)*a[119] + (exp(q[3] - p[3])^2)*a[117] + (exp(q[3] - p[4])^2)*a[118] + (exp(q[4] - p[2])^2)*a[120] + (exp(q[4] - p[4])^2)*a[122] + (exp(p[1] - p[3])^2)*a[124] + (exp(q[4] - q[3])^2)*a[142] + (q[3]^2)*a[24] + exp(p[2] - p[1])*a[95] + exp(p[1] - q[2])*a[82] + exp(q[3] - p[3])*a[61] + exp(p[3] - q[4])*a[93] + exp(q[1] - p[4])*a[51] + exp(q[3] - q[4])*a[58] + exp(p[4] - q[3])*a[90] + (exp(p[3] - p[2])^2)*a[154] + (exp(p[1] - q[3])^2)*a[143] + (exp(p[4] - q[4])^2)*a[150] + exp(p[4] - p[2])*a[99] + exp(p[1] - p[4])*a[69] + exp(q[1] - p[2])*a[49] + exp(q[2] - p[4])*a[57] + exp(q[4] - p[3])*a[65] + (exp(p[1] - p[4])^2)*a[125] + (exp(p[4] - q[2])^2)*a[141] + exp(p[2] - q[2])*a[83] + exp(q[2] - q[1])*a[73] + exp(q[4] - q[1])*a[75] + (exp(q[3] - p[2])^2)*a[116] + exp(p[3] - q[2])*a[84] + exp(q[4] - q[2])*a[81] + (exp(q[3] - q[2])^2)*a[136] + (exp(p[4] - p[1])^2)*a[153] + (q[2]^2)*a[17] + (q[4]^2)*a[30] + (exp(q[2] - p[2])^2)*a[111] + (exp(q[1] - p[4])^2)*a[107] + (exp(q[2] - p[4])^2)*a[113] + (p[2]^2)*a[39] + exp(p[4] - q[2])*a[85] + (exp(p[2] - q[2])^2)*a[139] + exp(p[1] - q[4])*a[91] + (exp(p[3] - p[4])^2)*a[128] + (exp(p[3] - q[2])^2)*a[140] + exp(q[1] - p[1])*a[48] + exp(q[4] - p[1])*a[63] + exp(q[2] - p[2])*a[55] + exp(q[3] - p[2])*a[60] + exp(q[1] - q[2])*a[45] + (exp(p[1] - p[2])^2)*a[123] + (exp(p[4] - p[2])^2)*a[155] + exp(p[4] - p[1])*a[97] + (exp(p[2] - p[3])^2)*a[126] + (exp(p[2] - q[1])^2)*a[133] + (exp(p[2] - q[4])^2)*a[148] + (exp(p[4] - q[3])^2)*a[146] + (exp(q[1] - p[2])^2)*a[105] + exp(p[2] - q[1])*a[77] + (exp(q[1] - p[3])^2)*a[106] + (exp(q[4] - q[2])^2)*a[137] + (exp(q[2] - q[4])^2)*a[109] + exp(p[3] - q[1])*a[78] + exp(q[3] - p[1])*a[59] + exp(q[4] - p[4])*a[66] + exp(q[2] - q[4])*a[53] + (exp(p[4] - p[3])^2)*a[156] + (p[3]^2)*a[42] + (p[4]^2)*a[44] + exp(q[2] - p[1])*a[54] + exp(p[1] - p[3])*a[68] + exp(p[3] - p[2])*a[98] + exp(p[2] - p[4])*a[71] + exp(q[2] - p[3])*a[56] + exp(q[3] - q[1])*a[74] + (exp(p[1] - q[1])^2)*a[132] + exp(p[4] - q[1])*a[79] + exp(q[3] - q[2])*a[80] + (exp(q[1] - q[2])^2)*a[101] + (exp(p[2] - p[4])^2)*a[127] + (exp(p[2] - q[3])^2)*a[144] + (exp(q[2] - q[1])^2)*a[129] + (exp(q[4] - q[1])^2)*a[131] + (p[1]^2)*a[35] + exp(p[1] - q[3])*a[87] + exp(q[1] - q[4])*a[47] + exp(q[1] - p[3])*a[50] + exp(q[3] - p[4])*a[62] + exp(p[2] - q[3])*a[88] + exp(p[3] - q[3])*a[89] + exp(p[2] - q[4])*a[92] + exp(q[4] - p[2])*a[64] + (exp(q[1] - q[3])^2)*a[102] + (exp(p[4] - q[1])^2)*a[135] + (exp(q[4] - p[3])^2)*a[121] + (exp(q[3] - q[1])^2)*a[130] + (exp(q[1] - q[4])^2)*a[103] + (exp(p[1] - q[2])^2)*a[138] + (exp(q[2] - q[3])^2)*a[108] + exp(p[2] - p[3])*a[70] + exp(q[4] - q[3])*a[86] + (exp(p[2] - p[1])^2)*a[151] + (exp(p[3] - p[1])^2)*a[152] + (exp(p[1] - q[4])^2)*a[147] + (exp(p[3] - q[3])^2)*a[145] + (exp(p[3] - q[4])^2)*a[149] + (exp(q[2] - p[3])^2)*a[112] + (q[1]^2)*a[9] + exp(p[3] - p[1])*a[96] + exp(q[1] - q[3])*a[46] + exp(p[1] - p[2])*a[67] + exp(p[3] - p[4])*a[72] + exp(p[4] - p[3])*a[100] + exp(p[1] - q[1])*a[76] + (exp(q[3] - q[4])^2)*a[114] + (exp(q[3] - p[1])^2)*a[115] + exp(p[4] - q[4])*a[94] + exp(q[2] - q[3])*a[52] + a[5]*p[1] + a[3]*q[3] + a[6]*p[2] + a[1]*q[1] + a[2]*q[2] + a[4]*q[4] + a[7]*p[3] + a[8]*p[4] + a[16]*p[4]*q[1] + a[23]*p[4]*q[2] + a[26]*p[1]*q[3] + a[36]*p[1]*p[2] + a[10]*q[1]*q[2] + a[11]*q[1]*q[3] + a[12]*q[1]*q[4] + a[25]*q[3]*q[4] + a[38]*p[1]*p[4] + a[13]*p[1]*q[1] + a[15]*p[3]*q[1] + a[20]*p[1]*q[2] + a[21]*p[2]*q[2] + a[27]*p[2]*q[3] + a[33]*p[3]*q[4] + a[34]*p[4]*q[4] + a[18]*q[2]*q[3] + a[19]*q[2]*q[4] + a[43]*p[3]*p[4] + a[14]*p[2]*q[1] + a[22]*p[3]*q[2] + a[28]*p[3]*q[3] + a[32]*p[2]*q[4] + a[37]*p[1]*p[3] + a[40]*p[2]*p[3] + a[41]*p[2]*p[4] + a[29]*p[4]*q[3] + a[31]*p[1]*q[4]"
      ]
     },
     "metadata": {},
     "output_type": "display_data"
    }
   ],
   "source": [
    "z = get_z_vector(4)\n",
    "polynomial = polynomial_basis(z, polyorder=2)\n",
    "\n",
    "z_diff = primal_operator_basis(z, -)\n",
    "exponential_diff  = exponential_basis(z_diff, polyorder=1)\n",
    "z_power = primal_power_basis(exponential_diff, 2)\n",
    "basis = get_basis_set(polynomial, z_power)\n",
    "# basis = get_basis_set(polynomial)\n",
    "# basis = get_basis_set(exponential_diff)\n",
    "@variables a[1:get_numCoeffs(basis)]\n",
    "nd = 8\n",
    "Dz = Differential.(z)\n",
    "# collect and sum combinations of basis and coefficients\n",
    "ham = sum(collect(a .* basis))\n",
    "\n",
    "# # gives derivative of the hamiltonian, but not the skew-symmetric true one\n",
    "# f = [expand_derivatives(dz(ham)) for dz in Dz]\n",
    "\n",
    "# # # line below makes the vector into a hamiltonian vector field by multiplying with the skew-symmetric matrix\n",
    "# ∇H = vcat(f[d+1:2d], -f[1:d])"
   ]
  },
  {
   "cell_type": "code",
   "execution_count": 12,
   "metadata": {},
   "outputs": [
    {
     "data": {
      "text/plain": [
       "156"
      ]
     },
     "metadata": {},
     "output_type": "display_data"
    }
   ],
   "source": [
    "get_numCoeffs(basis)"
   ]
  },
  {
   "cell_type": "code",
   "execution_count": null,
   "metadata": {},
   "outputs": [],
   "source": [
    "z = get_z_vector(2)\n",
    "polynomial = polynomial_basis(z, polyorder=2)\n",
    "z_diff = primal_operator_basis(z, -)\n",
    "log_diff  = logarithmic_basis(z_diff, polyorder=1)\n",
    "z_log_power = primal_power_basis(log_diff, 1)\n",
    "mixed_basis = mixed_states_basis(polynomial, z_log_power)\n",
    "basis = get_basis_set(mixed_basis)\n",
    "@variables a[1:get_numCoeffs(basis)]\n",
    "# collect and sum combinations of basis and coefficients\n",
    "ham = collect(a .* basis)"
   ]
  },
  {
   "cell_type": "code",
   "execution_count": 29,
   "metadata": {},
   "outputs": [
    {
     "data": {
      "text/latex": [
       "$$ \\begin{equation}\n",
       "\\left[\n",
       "\\begin{array}{c}\n",
       "\\mathrm{signbit}\\left( q_1 \\right) \\\\\n",
       "\\mathrm{signbit}\\left( q_2 \\right) \\\\\n",
       "\\mathrm{signbit}\\left( p_1 \\right) \\\\\n",
       "\\mathrm{signbit}\\left( p_2 \\right) \\\\\n",
       "\\end{array}\n",
       "\\right]\n",
       "\\end{equation}\n",
       " $$"
      ],
      "text/plain": [
       "4-element Vector{Num}:\n",
       " signbit(q[1])\n",
       " signbit(q[2])\n",
       " signbit(p[1])\n",
       " signbit(p[2])"
      ]
     },
     "metadata": {},
     "output_type": "display_data"
    }
   ],
   "source": [
    "(signbit.(z))"
   ]
  },
  {
   "cell_type": "code",
   "execution_count": 38,
   "metadata": {},
   "outputs": [
    {
     "data": {
      "text/latex": [
       "$$ \\begin{equation}\n",
       "\\left[\n",
       "\\begin{array}{c}\n",
       "\\frac{\\left( \\mathrm{ifelse}\\left( \\mathrm{signbit}\\left( q_1 \\right), -1, 1 \\right) \\right)^{2}}{\\left|q_1\\right|} + \\mathrm{ifelse}\\left( \\mathrm{signbit}\\left( q_1 \\right), 0, 0 \\right) \\log\\left( \\left|q_1\\right| \\right) \\\\\n",
       "\\frac{\\left( \\mathrm{ifelse}\\left( \\mathrm{signbit}\\left( q_2 \\right), -1, 1 \\right) \\right)^{2}}{\\left|q_2\\right|} + \\mathrm{ifelse}\\left( \\mathrm{signbit}\\left( q_2 \\right), 0, 0 \\right) \\log\\left( \\left|q_2\\right| \\right) \\\\\n",
       "\\frac{\\left( \\mathrm{ifelse}\\left( \\mathrm{signbit}\\left( p_1 \\right), -1, 1 \\right) \\right)^{2}}{\\left|p_1\\right|} + \\mathrm{ifelse}\\left( \\mathrm{signbit}\\left( p_1 \\right), 0, 0 \\right) \\log\\left( \\left|p_1\\right| \\right) \\\\\n",
       "\\frac{\\left( \\mathrm{ifelse}\\left( \\mathrm{signbit}\\left( p_2 \\right), -1, 1 \\right) \\right)^{2}}{\\left|p_2\\right|} + \\mathrm{ifelse}\\left( \\mathrm{signbit}\\left( p_2 \\right), 0, 0 \\right) \\log\\left( \\left|p_2\\right| \\right) \\\\\n",
       "\\end{array}\n",
       "\\right]\n",
       "\\end{equation}\n",
       " $$"
      ],
      "text/plain": [
       "4-element Vector{Num}:\n",
       " (ifelse(signbit(q[1]), -1, 1)^2) / abs(q[1]) + ifelse(signbit(q[1]), 0, 0)*log(abs(q[1]))\n",
       " (ifelse(signbit(q[2]), -1, 1)^2) / abs(q[2]) + ifelse(signbit(q[2]), 0, 0)*log(abs(q[2]))\n",
       " (ifelse(signbit(p[1]), -1, 1)^2) / abs(p[1]) + ifelse(signbit(p[1]), 0, 0)*log(abs(p[1]))\n",
       " (ifelse(signbit(p[2]), -1, 1)^2) / abs(p[2]) + ifelse(signbit(p[2]), 0, 0)*log(abs(p[2]))"
      ]
     },
     "metadata": {},
     "output_type": "display_data"
    }
   ],
   "source": [
    "d = 2\n",
    "z = get_z_vector(d)\n",
    "signmap(z) = ifelse.(signbit.(z),-1,1)\n",
    "log_diff  = signmap.(z).*logarithmic_basis(z, polyorder=1)\n",
    "basis = get_basis_set(log_diff)\n",
    "Dz = Differential.(z)\n",
    "\n",
    "f = simplify(f)\n",
    "# # gives derivative of the hamiltonian, but not the skew-symmetric true one\n",
    "f = [expand_derivatives(dz(sum(basis))) for dz in Dz]\n"
   ]
  },
  {
   "cell_type": "code",
   "execution_count": 21,
   "metadata": {},
   "outputs": [
    {
     "data": {
      "text/plain": [
       "-1"
      ]
     },
     "metadata": {},
     "output_type": "display_data"
    }
   ],
   "source": [
    "Int(false)*2 - 1"
   ]
  },
  {
   "cell_type": "code",
   "execution_count": 40,
   "metadata": {},
   "outputs": [
    {
     "data": {
      "text/latex": [
       "$$ \\begin{equation}\n",
       "\\left[\n",
       "\\begin{array}{c}\n",
       "\\frac{q_1^{2} a_{5 8} \\mathrm{ifelse}\\left( \\mathrm{signbit}\\left(  - q_2 + p_1 \\right), -1, 1 \\right)}{\\left| - q_2 + p_1\\right|} + \\frac{p_1^{2} a_{1 3 8} \\mathrm{ifelse}\\left( \\mathrm{signbit}\\left(  - p_2 + p_1 \\right), -1, 1 \\right)}{\\left| - p_2 + p_1\\right|} + \\frac{p_2^{2} a_{1 6 2} \\mathrm{ifelse}\\left( \\mathrm{signbit}\\left(  - p_2 + p_1 \\right), -1, 1 \\right)}{\\left| - p_2 + p_1\\right|} + \\frac{a_6 q_1 \\mathrm{ifelse}\\left( \\mathrm{signbit}\\left(  - p_2 + p_1 \\right), -1, 1 \\right)}{\\left| - p_2 + p_1\\right|} + \\frac{p_2^{2} a_{1 6 4} \\mathrm{ifelse}\\left( \\mathrm{signbit}\\left(  - q_1 + p_1 \\right), -1, 1 \\right)}{\\left| - q_1 + p_1\\right|} + \\frac{p_1^{2} a_{1 4 2} \\mathrm{ifelse}\\left( \\mathrm{signbit}\\left(  - q_2 + p_1 \\right), -1, 1 \\right)}{\\left| - q_2 + p_1\\right|} + \\frac{q_1^{2} a_{5 4} \\mathrm{ifelse}\\left( \\mathrm{signbit}\\left(  - p_2 + p_1 \\right), -1, 1 \\right)}{\\left| - p_2 + p_1\\right|} + \\frac{q_2^{2} a_{1 0 2} \\mathrm{ifelse}\\left( \\mathrm{signbit}\\left(  - p_2 + p_1 \\right), -1, 1 \\right)}{\\left| - p_2 + p_1\\right|} + \\frac{q_2^{2} a_{1 0 6} \\mathrm{ifelse}\\left( \\mathrm{signbit}\\left(  - q_2 + p_1 \\right), -1, 1 \\right)}{\\left| - q_2 + p_1\\right|} + \\frac{a_{2 2} q_2 \\mathrm{ifelse}\\left( \\mathrm{signbit}\\left(  - q_2 + p_1 \\right), -1, 1 \\right)}{\\left| - q_2 + p_1\\right|} + \\frac{a_{3 0} p_1 \\mathrm{ifelse}\\left( \\mathrm{signbit}\\left(  - p_2 + p_1 \\right), -1, 1 \\right)}{\\left| - p_2 + p_1\\right|} + \\frac{q_1^{2} a_{5 6} \\mathrm{ifelse}\\left( \\mathrm{signbit}\\left(  - q_1 + p_1 \\right), -1, 1 \\right)}{\\left| - q_1 + p_1\\right|} + \\frac{p_1^{2} a_{1 4 0} \\mathrm{ifelse}\\left( \\mathrm{signbit}\\left(  - q_1 + p_1 \\right), -1, 1 \\right)}{\\left| - q_1 + p_1\\right|} + \\frac{a_{3 4} p_1 \\mathrm{ifelse}\\left( \\mathrm{signbit}\\left(  - q_2 + p_1 \\right), -1, 1 \\right)}{\\left| - q_2 + p_1\\right|} + \\frac{a_{4 2} p_2 \\mathrm{ifelse}\\left( \\mathrm{signbit}\\left(  - p_2 + p_1 \\right), -1, 1 \\right)}{\\left| - p_2 + p_1\\right|} + \\frac{a_{1 8} q_2 \\mathrm{ifelse}\\left( \\mathrm{signbit}\\left(  - p_2 + p_1 \\right), -1, 1 \\right)}{\\left| - p_2 + p_1\\right|} + \\frac{a_8 q_1 \\mathrm{ifelse}\\left( \\mathrm{signbit}\\left(  - q_1 + p_1 \\right), -1, 1 \\right)}{\\left| - q_1 + p_1\\right|} + \\frac{p_2^{2} a_{1 6 6} \\mathrm{ifelse}\\left( \\mathrm{signbit}\\left(  - q_2 + p_1 \\right), -1, 1 \\right)}{\\left| - q_2 + p_1\\right|} + \\frac{q_2^{2} a_{1 0 4} \\mathrm{ifelse}\\left( \\mathrm{signbit}\\left(  - q_1 + p_1 \\right), -1, 1 \\right)}{\\left| - q_1 + p_1\\right|} + \\frac{a_{2 0} q_2 \\mathrm{ifelse}\\left( \\mathrm{signbit}\\left(  - q_1 + p_1 \\right), -1, 1 \\right)}{\\left| - q_1 + p_1\\right|} + \\frac{a_{1 0} q_1 \\mathrm{ifelse}\\left( \\mathrm{signbit}\\left(  - q_2 + p_1 \\right), -1, 1 \\right)}{\\left| - q_2 + p_1\\right|} + \\frac{a_{3 2} p_1 \\mathrm{ifelse}\\left( \\mathrm{signbit}\\left(  - q_1 + p_1 \\right), -1, 1 \\right)}{\\left| - q_1 + p_1\\right|} + \\frac{a_{4 4} p_2 \\mathrm{ifelse}\\left( \\mathrm{signbit}\\left(  - q_1 + p_1 \\right), -1, 1 \\right)}{\\left| - q_1 + p_1\\right|} + \\frac{a_{4 6} p_2 \\mathrm{ifelse}\\left( \\mathrm{signbit}\\left(  - q_2 + p_1 \\right), -1, 1 \\right)}{\\left| - q_2 + p_1\\right|} + \\frac{ - p_2^{2} a_{1 6 8} \\mathrm{ifelse}\\left( \\mathrm{signbit}\\left(  - p_1 + p_2 \\right), -1, 1 \\right)}{\\left| - p_1 + p_2\\right|} + \\frac{ - q_1^{2} a_{5 0} \\mathrm{ifelse}\\left( \\mathrm{signbit}\\left(  - p_1 + q_1 \\right), -1, 1 \\right)}{\\left| - p_1 + q_1\\right|} + \\frac{ - p_1^{2} a_{1 4 4} \\mathrm{ifelse}\\left( \\mathrm{signbit}\\left(  - p_1 + p_2 \\right), -1, 1 \\right)}{\\left| - p_1 + p_2\\right|} + \\frac{ - p_2^{2} a_{1 5 8} \\mathrm{ifelse}\\left( \\mathrm{signbit}\\left(  - p_1 + q_1 \\right), -1, 1 \\right)}{\\left| - p_1 + q_1\\right|} + \\frac{ - a_{2 6} p_1 \\mathrm{ifelse}\\left( \\mathrm{signbit}\\left(  - p_1 + q_1 \\right), -1, 1 \\right)}{\\left| - p_1 + q_1\\right|} + \\frac{ - a_{3 8} p_2 \\mathrm{ifelse}\\left( \\mathrm{signbit}\\left(  - p_1 + q_1 \\right), -1, 1 \\right)}{\\left| - p_1 + q_1\\right|} + \\frac{ - a_{4 8} p_2 \\mathrm{ifelse}\\left( \\mathrm{signbit}\\left(  - p_1 + p_2 \\right), -1, 1 \\right)}{\\left| - p_1 + p_2\\right|} + \\frac{ - q_2^{2} a_{1 0 0} \\mathrm{ifelse}\\left( \\mathrm{signbit}\\left(  - p_1 + q_2 \\right), -1, 1 \\right)}{\\left| - p_1 + q_2\\right|} + \\frac{a_{9 0} p_2 q_1 \\mathrm{ifelse}\\left( \\mathrm{signbit}\\left(  - p_2 + p_1 \\right), -1, 1 \\right)}{\\left| - p_2 + p_1\\right|} + \\frac{ - a_{1 4} q_2 \\mathrm{ifelse}\\left( \\mathrm{signbit}\\left(  - p_1 + q_1 \\right), -1, 1 \\right)}{\\left| - p_1 + q_1\\right|} + \\frac{a_{1 1 6} p_1 q_2 \\mathrm{ifelse}\\left( \\mathrm{signbit}\\left(  - q_1 + p_1 \\right), -1, 1 \\right)}{\\left| - q_1 + p_1\\right|} + \\frac{a_{1 1 8} p_1 q_2 \\mathrm{ifelse}\\left( \\mathrm{signbit}\\left(  - q_2 + p_1 \\right), -1, 1 \\right)}{\\left| - q_2 + p_1\\right|} + \\frac{a_{1 2 8} p_2 q_2 \\mathrm{ifelse}\\left( \\mathrm{signbit}\\left(  - q_1 + p_1 \\right), -1, 1 \\right)}{\\left| - q_1 + p_1\\right|} + \\frac{ - p_2^{2} a_{1 6 0} \\mathrm{ifelse}\\left( \\mathrm{signbit}\\left(  - p_1 + q_2 \\right), -1, 1 \\right)}{\\left| - p_1 + q_2\\right|} + \\frac{ - a_4 q_1 \\mathrm{ifelse}\\left( \\mathrm{signbit}\\left(  - p_1 + q_2 \\right), -1, 1 \\right)}{\\left| - p_1 + q_2\\right|} + \\frac{ - a_{1 6} q_2 \\mathrm{ifelse}\\left( \\mathrm{signbit}\\left(  - p_1 + q_2 \\right), -1, 1 \\right)}{\\left| - p_1 + q_2\\right|} + \\frac{a_{7 0} q_1 q_2 \\mathrm{ifelse}\\left( \\mathrm{signbit}\\left(  - q_2 + p_1 \\right), -1, 1 \\right)}{\\left| - q_2 + p_1\\right|} + \\frac{ - p_1^{2} a_{1 3 4} \\mathrm{ifelse}\\left( \\mathrm{signbit}\\left(  - p_1 + q_1 \\right), -1, 1 \\right)}{\\left| - p_1 + q_1\\right|} + \\frac{a_{1 5 0} p_1 p_2 \\mathrm{ifelse}\\left( \\mathrm{signbit}\\left(  - p_2 + p_1 \\right), -1, 1 \\right)}{\\left| - p_2 + p_1\\right|} + \\frac{ - q_1^{2} a_{5 2} \\mathrm{ifelse}\\left( \\mathrm{signbit}\\left(  - p_1 + q_2 \\right), -1, 1 \\right)}{\\left| - p_1 + q_2\\right|} + \\frac{ - q_1^{2} a_{6 0} \\mathrm{ifelse}\\left( \\mathrm{signbit}\\left(  - p_1 + p_2 \\right), -1, 1 \\right)}{\\left| - p_1 + p_2\\right|} + \\frac{ - q_2^{2} a_{1 0 8} \\mathrm{ifelse}\\left( \\mathrm{signbit}\\left(  - p_1 + p_2 \\right), -1, 1 \\right)}{\\left| - p_1 + p_2\\right|} + \\frac{a_{1 5 4} p_1 p_2 \\mathrm{ifelse}\\left( \\mathrm{signbit}\\left(  - q_2 + p_1 \\right), -1, 1 \\right)}{\\left| - q_2 + p_1\\right|} + \\frac{a_{9 2} p_2 q_1 \\mathrm{ifelse}\\left( \\mathrm{signbit}\\left(  - q_1 + p_1 \\right), -1, 1 \\right)}{\\left| - q_1 + p_1\\right|} + \\frac{a_{1 3 0} p_2 q_2 \\mathrm{ifelse}\\left( \\mathrm{signbit}\\left(  - q_2 + p_1 \\right), -1, 1 \\right)}{\\left| - q_2 + p_1\\right|} + \\frac{ - a_{2 4} q_2 \\mathrm{ifelse}\\left( \\mathrm{signbit}\\left(  - p_1 + p_2 \\right), -1, 1 \\right)}{\\left| - p_1 + p_2\\right|} + \\frac{ - a_{3 6} p_1 \\mathrm{ifelse}\\left( \\mathrm{signbit}\\left(  - p_1 + p_2 \\right), -1, 1 \\right)}{\\left| - p_1 + p_2\\right|} + \\frac{ - q_2^{2} a_{9 8} \\mathrm{ifelse}\\left( \\mathrm{signbit}\\left(  - p_1 + q_1 \\right), -1, 1 \\right)}{\\left| - p_1 + q_1\\right|} + \\frac{ - a_{2 8} p_1 \\mathrm{ifelse}\\left( \\mathrm{signbit}\\left(  - p_1 + q_2 \\right), -1, 1 \\right)}{\\left| - p_1 + q_2\\right|} + \\frac{ - a_{1 2} q_1 \\mathrm{ifelse}\\left( \\mathrm{signbit}\\left(  - p_1 + p_2 \\right), -1, 1 \\right)}{\\left| - p_1 + p_2\\right|} + \\frac{ - a_2 q_1 \\mathrm{ifelse}\\left( \\mathrm{signbit}\\left(  - p_1 + q_1 \\right), -1, 1 \\right)}{\\left| - p_1 + q_1\\right|} + \\frac{a_{1 1 4} p_1 q_2 \\mathrm{ifelse}\\left( \\mathrm{signbit}\\left(  - p_2 + p_1 \\right), -1, 1 \\right)}{\\left| - p_2 + p_1\\right|} + \\frac{a_{6 8} q_1 q_2 \\mathrm{ifelse}\\left( \\mathrm{signbit}\\left(  - q_1 + p_1 \\right), -1, 1 \\right)}{\\left| - q_1 + p_1\\right|} + \\frac{a_{8 0} p_1 q_1 \\mathrm{ifelse}\\left( \\mathrm{signbit}\\left(  - q_1 + p_1 \\right), -1, 1 \\right)}{\\left| - q_1 + p_1\\right|} + \\frac{a_{8 2} p_1 q_1 \\mathrm{ifelse}\\left( \\mathrm{signbit}\\left(  - q_2 + p_1 \\right), -1, 1 \\right)}{\\left| - q_2 + p_1\\right|} + \\frac{ - a_{4 0} p_2 \\mathrm{ifelse}\\left( \\mathrm{signbit}\\left(  - p_1 + q_2 \\right), -1, 1 \\right)}{\\left| - p_1 + q_2\\right|} + \\frac{a_{6 6} q_1 q_2 \\mathrm{ifelse}\\left( \\mathrm{signbit}\\left(  - p_2 + p_1 \\right), -1, 1 \\right)}{\\left| - p_2 + p_1\\right|} + \\frac{a_{1 5 2} p_1 p_2 \\mathrm{ifelse}\\left( \\mathrm{signbit}\\left(  - q_1 + p_1 \\right), -1, 1 \\right)}{\\left| - q_1 + p_1\\right|} + \\frac{a_{7 8} p_1 q_1 \\mathrm{ifelse}\\left( \\mathrm{signbit}\\left(  - p_2 + p_1 \\right), -1, 1 \\right)}{\\left| - p_2 + p_1\\right|} + \\frac{a_{9 4} p_2 q_1 \\mathrm{ifelse}\\left( \\mathrm{signbit}\\left(  - q_2 + p_1 \\right), -1, 1 \\right)}{\\left| - q_2 + p_1\\right|} + \\frac{a_{1 2 6} p_2 q_2 \\mathrm{ifelse}\\left( \\mathrm{signbit}\\left(  - p_2 + p_1 \\right), -1, 1 \\right)}{\\left| - p_2 + p_1\\right|} + \\frac{ - p_1^{2} a_{1 3 6} \\mathrm{ifelse}\\left( \\mathrm{signbit}\\left(  - p_1 + q_2 \\right), -1, 1 \\right)}{\\left| - p_1 + q_2\\right|} + \\frac{ - a_{1 5 6} p_1 p_2 \\mathrm{ifelse}\\left( \\mathrm{signbit}\\left(  - p_1 + p_2 \\right), -1, 1 \\right)}{\\left| - p_1 + p_2\\right|} + \\frac{ - a_{1 4 6} p_1 p_2 \\mathrm{ifelse}\\left( \\mathrm{signbit}\\left(  - p_1 + q_1 \\right), -1, 1 \\right)}{\\left| - p_1 + q_1\\right|} + \\frac{ - a_{8 4} p_1 q_1 \\mathrm{ifelse}\\left( \\mathrm{signbit}\\left(  - p_1 + p_2 \\right), -1, 1 \\right)}{\\left| - p_1 + p_2\\right|} + \\frac{ - a_{6 4} q_1 q_2 \\mathrm{ifelse}\\left( \\mathrm{signbit}\\left(  - p_1 + q_2 \\right), -1, 1 \\right)}{\\left| - p_1 + q_2\\right|} + \\frac{ - a_{7 4} p_1 q_1 \\mathrm{ifelse}\\left( \\mathrm{signbit}\\left(  - p_1 + q_1 \\right), -1, 1 \\right)}{\\left| - p_1 + q_1\\right|} + \\frac{ - a_{7 2} q_1 q_2 \\mathrm{ifelse}\\left( \\mathrm{signbit}\\left(  - p_1 + p_2 \\right), -1, 1 \\right)}{\\left| - p_1 + p_2\\right|} + \\frac{ - a_{1 1 2} p_1 q_2 \\mathrm{ifelse}\\left( \\mathrm{signbit}\\left(  - p_1 + q_2 \\right), -1, 1 \\right)}{\\left| - p_1 + q_2\\right|} + \\frac{ - a_{1 2 0} p_1 q_2 \\mathrm{ifelse}\\left( \\mathrm{signbit}\\left(  - p_1 + p_2 \\right), -1, 1 \\right)}{\\left| - p_1 + p_2\\right|} + \\frac{ - a_{1 3 2} p_2 q_2 \\mathrm{ifelse}\\left( \\mathrm{signbit}\\left(  - p_1 + p_2 \\right), -1, 1 \\right)}{\\left| - p_1 + p_2\\right|} + \\frac{ - a_{1 4 8} p_1 p_2 \\mathrm{ifelse}\\left( \\mathrm{signbit}\\left(  - p_1 + q_2 \\right), -1, 1 \\right)}{\\left| - p_1 + q_2\\right|} + \\frac{ - a_{7 6} p_1 q_1 \\mathrm{ifelse}\\left( \\mathrm{signbit}\\left(  - p_1 + q_2 \\right), -1, 1 \\right)}{\\left| - p_1 + q_2\\right|} + \\frac{ - a_{1 2 4} p_2 q_2 \\mathrm{ifelse}\\left( \\mathrm{signbit}\\left(  - p_1 + q_2 \\right), -1, 1 \\right)}{\\left| - p_1 + q_2\\right|} + \\frac{ - a_{6 2} q_1 q_2 \\mathrm{ifelse}\\left( \\mathrm{signbit}\\left(  - p_1 + q_1 \\right), -1, 1 \\right)}{\\left| - p_1 + q_1\\right|} + \\frac{ - a_{8 6} p_2 q_1 \\mathrm{ifelse}\\left( \\mathrm{signbit}\\left(  - p_1 + q_1 \\right), -1, 1 \\right)}{\\left| - p_1 + q_1\\right|} + \\frac{ - a_{8 8} p_2 q_1 \\mathrm{ifelse}\\left( \\mathrm{signbit}\\left(  - p_1 + q_2 \\right), -1, 1 \\right)}{\\left| - p_1 + q_2\\right|} + \\frac{ - a_{9 6} p_2 q_1 \\mathrm{ifelse}\\left( \\mathrm{signbit}\\left(  - p_1 + p_2 \\right), -1, 1 \\right)}{\\left| - p_1 + p_2\\right|} + \\frac{ - a_{1 1 0} p_1 q_2 \\mathrm{ifelse}\\left( \\mathrm{signbit}\\left(  - p_1 + q_1 \\right), -1, 1 \\right)}{\\left| - p_1 + q_1\\right|} + \\frac{ - a_{1 2 2} p_2 q_2 \\mathrm{ifelse}\\left( \\mathrm{signbit}\\left(  - p_1 + q_1 \\right), -1, 1 \\right)}{\\left| - p_1 + q_1\\right|} + \\log\\left( \\left| - p_1 + q_2\\right| \\right) a_{2 8} + \\log\\left( \\left| - p_2 + p_1\\right| \\right) a_{3 0} + \\log\\left( \\left| - q_1 + p_1\\right| \\right) a_{3 2} + \\log\\left( \\left| - q_2 + p_1\\right| \\right) a_{3 4} + \\log\\left( \\left| - q_1 + p_2\\right| \\right) a_{3 3} + \\log\\left( \\left| - q_2 + p_2\\right| \\right) a_{3 5} + \\log\\left( \\left| - p_1 + p_2\\right| \\right) a_{3 6} + \\log\\left( \\left| - p_1 + q_1\\right| \\right) a_{2 6} + \\log\\left( \\left| - p_2 + q_1\\right| \\right) a_{2 7} + \\log\\left( \\left| - p_2 + q_2\\right| \\right) a_{2 9} + \\log\\left( \\left| - q_2 + q_1\\right| \\right) a_{2 5} + \\log\\left( \\left| - q_1 + q_2\\right| \\right) a_{3 1} + \\log\\left( \\left| - q_1 + p_1\\right| \\right) a_{8 0} q_1 + \\log\\left( \\left| - q_1 + p_2\\right| \\right) a_{8 1} q_1 + \\log\\left( \\left| - q_2 + q_1\\right| \\right) a_{7 3} q_1 + \\log\\left( \\left| - p_1 + p_2\\right| \\right) a_{8 4} q_1 + \\log\\left( \\left| - q_2 + p_1\\right| \\right) a_{8 2} q_1 + \\log\\left( \\left| - q_2 + q_1\\right| \\right) a_{1 0 9} q_2 + \\log\\left( \\left| - p_2 + q_1\\right| \\right) a_{1 4 7} p_2 + \\log\\left( \\left| - p_2 + q_1\\right| \\right) a_{1 1 1} q_2 + \\log\\left( \\left| - p_1 + q_2\\right| \\right) a_{7 6} q_1 + \\log\\left( \\left| - p_2 + q_2\\right| \\right) a_{7 7} q_1 + \\log\\left( \\left| - q_1 + p_1\\right| \\right) a_{1 1 6} q_2 + \\log\\left( \\left| - q_2 + p_2\\right| \\right) a_{1 1 9} q_2 + \\log\\left( \\left| - p_1 + q_1\\right| \\right) a_{7 4} q_1 + \\log\\left( \\left| - p_1 + q_1\\right| \\right) a_{1 1 0} q_2 + \\log\\left( \\left| - p_2 + q_2\\right| \\right) a_{1 1 3} q_2 + \\log\\left( \\left| - p_2 + p_1\\right| \\right) a_{1 5 0} p_2 + \\log\\left( \\left| - q_1 + p_2\\right| \\right) a_{1 5 3} p_2 + \\log\\left( \\left| - q_2 + q_1\\right| \\right) a_{1 4 5} p_2 + \\log\\left( \\left| - q_1 + q_2\\right| \\right) a_{1 1 5} q_2 + \\log\\left( \\left| - p_1 + p_2\\right| \\right) a_{1 5 6} p_2 + \\log\\left( \\left| - q_2 + p_2\\right| \\right) a_{8 3} q_1 + \\log\\left( \\left| - p_1 + q_1\\right| \\right) a_{1 4 6} p_2 + \\log\\left( \\left| - p_1 + q_2\\right| \\right) a_{1 4 8} p_2 + \\log\\left( \\left| - p_2 + q_2\\right| \\right) a_{1 4 9} p_2 + \\log\\left( \\left| - q_1 + q_2\\right| \\right) a_{1 5 1} p_2 + \\log\\left( \\left| - q_1 + p_1\\right| \\right) a_{1 5 2} p_2 + \\log\\left( \\left| - q_2 + p_1\\right| \\right) a_{1 5 4} p_2 + \\log\\left( \\left| - q_1 + p_2\\right| \\right) a_{1 1 7} q_2 + \\log\\left( \\left| - q_2 + p_2\\right| \\right) a_{1 5 5} p_2 + \\log\\left( \\left| - q_2 + p_1\\right| \\right) a_{1 1 8} q_2 + \\log\\left( \\left| - p_1 + q_2\\right| \\right) a_{1 1 2} q_2 + \\log\\left( \\left| - p_2 + q_1\\right| \\right) a_{7 5} q_1 + \\log\\left( \\left| - p_2 + p_1\\right| \\right) a_{7 8} q_1 + \\log\\left( \\left| - q_1 + q_2\\right| \\right) a_{7 9} q_1 + \\log\\left( \\left| - p_1 + p_2\\right| \\right) a_{1 2 0} q_2 + \\log\\left( \\left| - p_2 + p_1\\right| \\right) a_{1 1 4} q_2 + 2 \\log\\left( \\left| - q_2 + p_1\\right| \\right) a_{1 4 2} p_1 + 2 \\log\\left( \\left| - p_1 + p_2\\right| \\right) a_{1 4 4} p_1 + 2 \\log\\left( \\left| - p_1 + q_1\\right| \\right) a_{1 3 4} p_1 + 2 \\log\\left( \\left| - q_2 + q_1\\right| \\right) a_{1 3 3} p_1 + 2 \\log\\left( \\left| - q_1 + p_2\\right| \\right) a_{1 4 1} p_1 + 2 \\log\\left( \\left| - p_2 + q_1\\right| \\right) a_{1 3 5} p_1 + 2 \\log\\left( \\left| - p_1 + q_2\\right| \\right) a_{1 3 6} p_1 + 2 \\log\\left( \\left| - p_2 + p_1\\right| \\right) a_{1 3 8} p_1 + 2 \\log\\left( \\left| - q_1 + p_1\\right| \\right) a_{1 4 0} p_1 + 2 \\log\\left( \\left| - q_2 + p_2\\right| \\right) a_{1 4 3} p_1 + 2 \\log\\left( \\left| - p_2 + q_2\\right| \\right) a_{1 3 7} p_1 + 2 \\log\\left( \\left| - q_1 + q_2\\right| \\right) a_{1 3 9} p_1 \\\\\n",
       "\\frac{q_2^{2} a_{1 0 5} \\mathrm{ifelse}\\left( \\mathrm{signbit}\\left(  - q_1 + p_2 \\right), -1, 1 \\right)}{\\left| - q_1 + p_2\\right|} + \\frac{p_1^{2} a_{1 4 4} \\mathrm{ifelse}\\left( \\mathrm{signbit}\\left(  - p_1 + p_2 \\right), -1, 1 \\right)}{\\left| - p_1 + p_2\\right|} + \\frac{q_1^{2} a_{5 7} \\mathrm{ifelse}\\left( \\mathrm{signbit}\\left(  - q_1 + p_2 \\right), -1, 1 \\right)}{\\left| - q_1 + p_2\\right|} + \\frac{p_2^{2} a_{1 6 8} \\mathrm{ifelse}\\left( \\mathrm{signbit}\\left(  - p_1 + p_2 \\right), -1, 1 \\right)}{\\left| - p_1 + p_2\\right|} + \\frac{p_1^{2} a_{1 4 1} \\mathrm{ifelse}\\left( \\mathrm{signbit}\\left(  - q_1 + p_2 \\right), -1, 1 \\right)}{\\left| - q_1 + p_2\\right|} + \\frac{a_{3 3} p_1 \\mathrm{ifelse}\\left( \\mathrm{signbit}\\left(  - q_1 + p_2 \\right), -1, 1 \\right)}{\\left| - q_1 + p_2\\right|} + \\frac{q_1^{2} a_{5 9} \\mathrm{ifelse}\\left( \\mathrm{signbit}\\left(  - q_2 + p_2 \\right), -1, 1 \\right)}{\\left| - q_2 + p_2\\right|} + \\frac{a_{1 2} q_1 \\mathrm{ifelse}\\left( \\mathrm{signbit}\\left(  - p_1 + p_2 \\right), -1, 1 \\right)}{\\left| - p_1 + p_2\\right|} + \\frac{p_2^{2} a_{1 6 5} \\mathrm{ifelse}\\left( \\mathrm{signbit}\\left(  - q_1 + p_2 \\right), -1, 1 \\right)}{\\left| - q_1 + p_2\\right|} + \\frac{q_2^{2} a_{1 0 7} \\mathrm{ifelse}\\left( \\mathrm{signbit}\\left(  - q_2 + p_2 \\right), -1, 1 \\right)}{\\left| - q_2 + p_2\\right|} + \\frac{p_1^{2} a_{1 4 3} \\mathrm{ifelse}\\left( \\mathrm{signbit}\\left(  - q_2 + p_2 \\right), -1, 1 \\right)}{\\left| - q_2 + p_2\\right|} + \\frac{p_2^{2} a_{1 6 7} \\mathrm{ifelse}\\left( \\mathrm{signbit}\\left(  - q_2 + p_2 \\right), -1, 1 \\right)}{\\left| - q_2 + p_2\\right|} + \\frac{q_1^{2} a_{6 0} \\mathrm{ifelse}\\left( \\mathrm{signbit}\\left(  - p_1 + p_2 \\right), -1, 1 \\right)}{\\left| - p_1 + p_2\\right|} + \\frac{q_2^{2} a_{1 0 8} \\mathrm{ifelse}\\left( \\mathrm{signbit}\\left(  - p_1 + p_2 \\right), -1, 1 \\right)}{\\left| - p_1 + p_2\\right|} + \\frac{a_{1 1} q_1 \\mathrm{ifelse}\\left( \\mathrm{signbit}\\left(  - q_2 + p_2 \\right), -1, 1 \\right)}{\\left| - q_2 + p_2\\right|} + \\frac{a_{2 3} q_2 \\mathrm{ifelse}\\left( \\mathrm{signbit}\\left(  - q_2 + p_2 \\right), -1, 1 \\right)}{\\left| - q_2 + p_2\\right|} + \\frac{a_{4 5} p_2 \\mathrm{ifelse}\\left( \\mathrm{signbit}\\left(  - q_1 + p_2 \\right), -1, 1 \\right)}{\\left| - q_1 + p_2\\right|} + \\frac{a_{3 5} p_1 \\mathrm{ifelse}\\left( \\mathrm{signbit}\\left(  - q_2 + p_2 \\right), -1, 1 \\right)}{\\left| - q_2 + p_2\\right|} + \\frac{a_{4 7} p_2 \\mathrm{ifelse}\\left( \\mathrm{signbit}\\left(  - q_2 + p_2 \\right), -1, 1 \\right)}{\\left| - q_2 + p_2\\right|} + \\frac{a_9 q_1 \\mathrm{ifelse}\\left( \\mathrm{signbit}\\left(  - q_1 + p_2 \\right), -1, 1 \\right)}{\\left| - q_1 + p_2\\right|} + \\frac{a_{2 1} q_2 \\mathrm{ifelse}\\left( \\mathrm{signbit}\\left(  - q_1 + p_2 \\right), -1, 1 \\right)}{\\left| - q_1 + p_2\\right|} + \\frac{a_{4 8} p_2 \\mathrm{ifelse}\\left( \\mathrm{signbit}\\left(  - p_1 + p_2 \\right), -1, 1 \\right)}{\\left| - p_1 + p_2\\right|} + \\frac{a_{2 4} q_2 \\mathrm{ifelse}\\left( \\mathrm{signbit}\\left(  - p_1 + p_2 \\right), -1, 1 \\right)}{\\left| - p_1 + p_2\\right|} + \\frac{a_{3 6} p_1 \\mathrm{ifelse}\\left( \\mathrm{signbit}\\left(  - p_1 + p_2 \\right), -1, 1 \\right)}{\\left| - p_1 + p_2\\right|} + \\frac{ - q_2^{2} a_{1 0 2} \\mathrm{ifelse}\\left( \\mathrm{signbit}\\left(  - p_2 + p_1 \\right), -1, 1 \\right)}{\\left| - p_2 + p_1\\right|} + \\frac{ - a_6 q_1 \\mathrm{ifelse}\\left( \\mathrm{signbit}\\left(  - p_2 + p_1 \\right), -1, 1 \\right)}{\\left| - p_2 + p_1\\right|} + \\frac{ - q_1^{2} a_{5 1} \\mathrm{ifelse}\\left( \\mathrm{signbit}\\left(  - p_2 + q_1 \\right), -1, 1 \\right)}{\\left| - p_2 + q_1\\right|} + \\frac{ - a_{4 2} p_2 \\mathrm{ifelse}\\left( \\mathrm{signbit}\\left(  - p_2 + p_1 \\right), -1, 1 \\right)}{\\left| - p_2 + p_1\\right|} + \\frac{ - p_1^{2} a_{1 3 5} \\mathrm{ifelse}\\left( \\mathrm{signbit}\\left(  - p_2 + q_1 \\right), -1, 1 \\right)}{\\left| - p_2 + q_1\\right|} + \\frac{ - q_1^{2} a_{5 3} \\mathrm{ifelse}\\left( \\mathrm{signbit}\\left(  - p_2 + q_2 \\right), -1, 1 \\right)}{\\left| - p_2 + q_2\\right|} + \\frac{ - p_2^{2} a_{1 6 2} \\mathrm{ifelse}\\left( \\mathrm{signbit}\\left(  - p_2 + p_1 \\right), -1, 1 \\right)}{\\left| - p_2 + p_1\\right|} + \\frac{a_{1 5 3} p_1 p_2 \\mathrm{ifelse}\\left( \\mathrm{signbit}\\left(  - q_1 + p_2 \\right), -1, 1 \\right)}{\\left| - q_1 + p_2\\right|} + \\frac{ - a_3 q_1 \\mathrm{ifelse}\\left( \\mathrm{signbit}\\left(  - p_2 + q_1 \\right), -1, 1 \\right)}{\\left| - p_2 + q_1\\right|} + \\frac{ - a_{1 7} q_2 \\mathrm{ifelse}\\left( \\mathrm{signbit}\\left(  - p_2 + q_2 \\right), -1, 1 \\right)}{\\left| - p_2 + q_2\\right|} + \\frac{ - a_{3 0} p_1 \\mathrm{ifelse}\\left( \\mathrm{signbit}\\left(  - p_2 + p_1 \\right), -1, 1 \\right)}{\\left| - p_2 + p_1\\right|} + \\frac{ - a_{3 9} p_2 \\mathrm{ifelse}\\left( \\mathrm{signbit}\\left(  - p_2 + q_1 \\right), -1, 1 \\right)}{\\left| - p_2 + q_1\\right|} + \\frac{a_{9 6} p_2 q_1 \\mathrm{ifelse}\\left( \\mathrm{signbit}\\left(  - p_1 + p_2 \\right), -1, 1 \\right)}{\\left| - p_1 + p_2\\right|} + \\frac{a_{1 2 0} p_1 q_2 \\mathrm{ifelse}\\left( \\mathrm{signbit}\\left(  - p_1 + p_2 \\right), -1, 1 \\right)}{\\left| - p_1 + p_2\\right|} + \\frac{a_{1 2 9} p_2 q_2 \\mathrm{ifelse}\\left( \\mathrm{signbit}\\left(  - q_1 + p_2 \\right), -1, 1 \\right)}{\\left| - q_1 + p_2\\right|} + \\frac{a_{7 1} q_1 q_2 \\mathrm{ifelse}\\left( \\mathrm{signbit}\\left(  - q_2 + p_2 \\right), -1, 1 \\right)}{\\left| - q_2 + p_2\\right|} + \\frac{a_{7 2} q_1 q_2 \\mathrm{ifelse}\\left( \\mathrm{signbit}\\left(  - p_1 + p_2 \\right), -1, 1 \\right)}{\\left| - p_1 + p_2\\right|} + \\frac{ - p_2^{2} a_{1 5 9} \\mathrm{ifelse}\\left( \\mathrm{signbit}\\left(  - p_2 + q_1 \\right), -1, 1 \\right)}{\\left| - p_2 + q_1\\right|} + \\frac{ - a_{2 9} p_1 \\mathrm{ifelse}\\left( \\mathrm{signbit}\\left(  - p_2 + q_2 \\right), -1, 1 \\right)}{\\left| - p_2 + q_2\\right|} + \\frac{ - a_5 q_1 \\mathrm{ifelse}\\left( \\mathrm{signbit}\\left(  - p_2 + q_2 \\right), -1, 1 \\right)}{\\left| - p_2 + q_2\\right|} + \\frac{a_{1 3 2} p_2 q_2 \\mathrm{ifelse}\\left( \\mathrm{signbit}\\left(  - p_1 + p_2 \\right), -1, 1 \\right)}{\\left| - p_1 + p_2\\right|} + \\frac{ - p_1^{2} a_{1 3 8} \\mathrm{ifelse}\\left( \\mathrm{signbit}\\left(  - p_2 + p_1 \\right), -1, 1 \\right)}{\\left| - p_2 + p_1\\right|} + \\frac{ - q_2^{2} a_{1 0 1} \\mathrm{ifelse}\\left( \\mathrm{signbit}\\left(  - p_2 + q_2 \\right), -1, 1 \\right)}{\\left| - p_2 + q_2\\right|} + \\frac{ - p_1^{2} a_{1 3 7} \\mathrm{ifelse}\\left( \\mathrm{signbit}\\left(  - p_2 + q_2 \\right), -1, 1 \\right)}{\\left| - p_2 + q_2\\right|} + \\frac{ - q_2^{2} a_{9 9} \\mathrm{ifelse}\\left( \\mathrm{signbit}\\left(  - p_2 + q_1 \\right), -1, 1 \\right)}{\\left| - p_2 + q_1\\right|} + \\frac{ - a_{4 1} p_2 \\mathrm{ifelse}\\left( \\mathrm{signbit}\\left(  - p_2 + q_2 \\right), -1, 1 \\right)}{\\left| - p_2 + q_2\\right|} + \\frac{a_{8 1} p_1 q_1 \\mathrm{ifelse}\\left( \\mathrm{signbit}\\left(  - q_1 + p_2 \\right), -1, 1 \\right)}{\\left| - q_1 + p_2\\right|} + \\frac{ - a_{1 8} q_2 \\mathrm{ifelse}\\left( \\mathrm{signbit}\\left(  - p_2 + p_1 \\right), -1, 1 \\right)}{\\left| - p_2 + p_1\\right|} + \\frac{a_{1 1 9} p_1 q_2 \\mathrm{ifelse}\\left( \\mathrm{signbit}\\left(  - q_2 + p_2 \\right), -1, 1 \\right)}{\\left| - q_2 + p_2\\right|} + \\frac{a_{9 3} p_2 q_1 \\mathrm{ifelse}\\left( \\mathrm{signbit}\\left(  - q_1 + p_2 \\right), -1, 1 \\right)}{\\left| - q_1 + p_2\\right|} + \\frac{a_{1 3 1} p_2 q_2 \\mathrm{ifelse}\\left( \\mathrm{signbit}\\left(  - q_2 + p_2 \\right), -1, 1 \\right)}{\\left| - q_2 + p_2\\right|} + \\frac{a_{1 5 6} p_1 p_2 \\mathrm{ifelse}\\left( \\mathrm{signbit}\\left(  - p_1 + p_2 \\right), -1, 1 \\right)}{\\left| - p_1 + p_2\\right|} + \\frac{ - a_{1 5} q_2 \\mathrm{ifelse}\\left( \\mathrm{signbit}\\left(  - p_2 + q_1 \\right), -1, 1 \\right)}{\\left| - p_2 + q_1\\right|} + \\frac{a_{8 4} p_1 q_1 \\mathrm{ifelse}\\left( \\mathrm{signbit}\\left(  - p_1 + p_2 \\right), -1, 1 \\right)}{\\left| - p_1 + p_2\\right|} + \\frac{ - p_2^{2} a_{1 6 1} \\mathrm{ifelse}\\left( \\mathrm{signbit}\\left(  - p_2 + q_2 \\right), -1, 1 \\right)}{\\left| - p_2 + q_2\\right|} + \\frac{ - q_1^{2} a_{5 4} \\mathrm{ifelse}\\left( \\mathrm{signbit}\\left(  - p_2 + p_1 \\right), -1, 1 \\right)}{\\left| - p_2 + p_1\\right|} + \\frac{a_{6 9} q_1 q_2 \\mathrm{ifelse}\\left( \\mathrm{signbit}\\left(  - q_1 + p_2 \\right), -1, 1 \\right)}{\\left| - q_1 + p_2\\right|} + \\frac{a_{8 3} p_1 q_1 \\mathrm{ifelse}\\left( \\mathrm{signbit}\\left(  - q_2 + p_2 \\right), -1, 1 \\right)}{\\left| - q_2 + p_2\\right|} + \\frac{ - a_{2 7} p_1 \\mathrm{ifelse}\\left( \\mathrm{signbit}\\left(  - p_2 + q_1 \\right), -1, 1 \\right)}{\\left| - p_2 + q_1\\right|} + \\frac{a_{9 5} p_2 q_1 \\mathrm{ifelse}\\left( \\mathrm{signbit}\\left(  - q_2 + p_2 \\right), -1, 1 \\right)}{\\left| - q_2 + p_2\\right|} + \\frac{a_{1 5 5} p_1 p_2 \\mathrm{ifelse}\\left( \\mathrm{signbit}\\left(  - q_2 + p_2 \\right), -1, 1 \\right)}{\\left| - q_2 + p_2\\right|} + \\frac{a_{1 1 7} p_1 q_2 \\mathrm{ifelse}\\left( \\mathrm{signbit}\\left(  - q_1 + p_2 \\right), -1, 1 \\right)}{\\left| - q_1 + p_2\\right|} + \\frac{ - a_{7 8} p_1 q_1 \\mathrm{ifelse}\\left( \\mathrm{signbit}\\left(  - p_2 + p_1 \\right), -1, 1 \\right)}{\\left| - p_2 + p_1\\right|} + \\frac{ - a_{1 1 3} p_1 q_2 \\mathrm{ifelse}\\left( \\mathrm{signbit}\\left(  - p_2 + q_2 \\right), -1, 1 \\right)}{\\left| - p_2 + q_2\\right|} + \\frac{ - a_{1 1 4} p_1 q_2 \\mathrm{ifelse}\\left( \\mathrm{signbit}\\left(  - p_2 + p_1 \\right), -1, 1 \\right)}{\\left| - p_2 + p_1\\right|} + \\frac{ - a_{1 4 7} p_1 p_2 \\mathrm{ifelse}\\left( \\mathrm{signbit}\\left(  - p_2 + q_1 \\right), -1, 1 \\right)}{\\left| - p_2 + q_1\\right|} + \\frac{ - a_{1 4 9} p_1 p_2 \\mathrm{ifelse}\\left( \\mathrm{signbit}\\left(  - p_2 + q_2 \\right), -1, 1 \\right)}{\\left| - p_2 + q_2\\right|} + \\frac{ - a_{7 5} p_1 q_1 \\mathrm{ifelse}\\left( \\mathrm{signbit}\\left(  - p_2 + q_1 \\right), -1, 1 \\right)}{\\left| - p_2 + q_1\\right|} + \\frac{ - a_{8 7} p_2 q_1 \\mathrm{ifelse}\\left( \\mathrm{signbit}\\left(  - p_2 + q_1 \\right), -1, 1 \\right)}{\\left| - p_2 + q_1\\right|} + \\frac{ - a_{7 7} p_1 q_1 \\mathrm{ifelse}\\left( \\mathrm{signbit}\\left(  - p_2 + q_2 \\right), -1, 1 \\right)}{\\left| - p_2 + q_2\\right|} + \\frac{ - a_{9 0} p_2 q_1 \\mathrm{ifelse}\\left( \\mathrm{signbit}\\left(  - p_2 + p_1 \\right), -1, 1 \\right)}{\\left| - p_2 + p_1\\right|} + \\frac{ - a_{8 9} p_2 q_1 \\mathrm{ifelse}\\left( \\mathrm{signbit}\\left(  - p_2 + q_2 \\right), -1, 1 \\right)}{\\left| - p_2 + q_2\\right|} + \\frac{ - a_{1 2 5} p_2 q_2 \\mathrm{ifelse}\\left( \\mathrm{signbit}\\left(  - p_2 + q_2 \\right), -1, 1 \\right)}{\\left| - p_2 + q_2\\right|} + \\frac{ - a_{6 5} q_1 q_2 \\mathrm{ifelse}\\left( \\mathrm{signbit}\\left(  - p_2 + q_2 \\right), -1, 1 \\right)}{\\left| - p_2 + q_2\\right|} + \\frac{ - a_{1 5 0} p_1 p_2 \\mathrm{ifelse}\\left( \\mathrm{signbit}\\left(  - p_2 + p_1 \\right), -1, 1 \\right)}{\\left| - p_2 + p_1\\right|} + \\frac{ - a_{1 1 1} p_1 q_2 \\mathrm{ifelse}\\left( \\mathrm{signbit}\\left(  - p_2 + q_1 \\right), -1, 1 \\right)}{\\left| - p_2 + q_1\\right|} + \\frac{ - a_{1 2 3} p_2 q_2 \\mathrm{ifelse}\\left( \\mathrm{signbit}\\left(  - p_2 + q_1 \\right), -1, 1 \\right)}{\\left| - p_2 + q_1\\right|} + \\frac{ - a_{1 2 6} p_2 q_2 \\mathrm{ifelse}\\left( \\mathrm{signbit}\\left(  - p_2 + p_1 \\right), -1, 1 \\right)}{\\left| - p_2 + p_1\\right|} + \\frac{ - a_{6 3} q_1 q_2 \\mathrm{ifelse}\\left( \\mathrm{signbit}\\left(  - p_2 + q_1 \\right), -1, 1 \\right)}{\\left| - p_2 + q_1\\right|} + \\frac{ - a_{6 6} q_1 q_2 \\mathrm{ifelse}\\left( \\mathrm{signbit}\\left(  - p_2 + p_1 \\right), -1, 1 \\right)}{\\left| - p_2 + p_1\\right|} + \\log\\left( \\left| - p_1 + q_2\\right| \\right) a_{4 0} + \\log\\left( \\left| - p_2 + q_2\\right| \\right) a_{4 1} + \\log\\left( \\left| - p_2 + p_1\\right| \\right) a_{4 2} + \\log\\left( \\left| - q_1 + q_2\\right| \\right) a_{4 3} + \\log\\left( \\left| - q_2 + q_1\\right| \\right) a_{3 7} + \\log\\left( \\left| - q_2 + p_1\\right| \\right) a_{4 6} + \\log\\left( \\left| - q_2 + p_2\\right| \\right) a_{4 7} + \\log\\left( \\left| - p_1 + q_1\\right| \\right) a_{3 8} + \\log\\left( \\left| - p_1 + p_2\\right| \\right) a_{4 8} + \\log\\left( \\left| - q_1 + p_1\\right| \\right) a_{4 4} + \\log\\left( \\left| - q_1 + p_2\\right| \\right) a_{4 5} + \\log\\left( \\left| - p_2 + q_1\\right| \\right) a_{3 9} + \\log\\left( \\left| - p_1 + p_2\\right| \\right) a_{9 6} q_1 + \\log\\left( \\left| - p_1 + q_1\\right| \\right) a_{8 6} q_1 + \\log\\left( \\left| - q_2 + q_1\\right| \\right) a_{1 2 1} q_2 + \\log\\left( \\left| - p_1 + q_2\\right| \\right) a_{1 4 8} p_1 + \\log\\left( \\left| - p_2 + p_1\\right| \\right) a_{1 2 6} q_2 + \\log\\left( \\left| - q_1 + p_1\\right| \\right) a_{1 2 8} q_2 + \\log\\left( \\left| - q_2 + p_1\\right| \\right) a_{1 3 0} q_2 + \\log\\left( \\left| - q_2 + p_2\\right| \\right) a_{1 3 1} q_2 + \\log\\left( \\left| - p_2 + p_1\\right| \\right) a_{1 5 0} p_1 + \\log\\left( \\left| - q_1 + p_1\\right| \\right) a_{1 5 2} p_1 + \\log\\left( \\left| - p_1 + q_1\\right| \\right) a_{1 4 6} p_1 + \\log\\left( \\left| - p_1 + q_1\\right| \\right) a_{1 2 2} q_2 + \\log\\left( \\left| - p_2 + q_1\\right| \\right) a_{1 2 3} q_2 + \\log\\left( \\left| - q_1 + p_2\\right| \\right) a_{1 5 3} p_1 + \\log\\left( \\left| - q_2 + q_1\\right| \\right) a_{8 5} q_1 + \\log\\left( \\left| - p_2 + p_1\\right| \\right) a_{9 0} q_1 + \\log\\left( \\left| - p_1 + q_2\\right| \\right) a_{8 8} q_1 + \\log\\left( \\left| - q_1 + p_2\\right| \\right) a_{1 2 9} q_2 + \\log\\left( \\left| - q_1 + q_2\\right| \\right) a_{9 1} q_1 + \\log\\left( \\left| - p_2 + q_1\\right| \\right) a_{1 4 7} p_1 + \\log\\left( \\left| - q_2 + q_1\\right| \\right) a_{1 4 5} p_1 + \\log\\left( \\left| - p_2 + q_2\\right| \\right) a_{1 2 5} q_2 + \\log\\left( \\left| - p_2 + q_2\\right| \\right) a_{1 4 9} p_1 + \\log\\left( \\left| - p_1 + p_2\\right| \\right) a_{1 3 2} q_2 + \\log\\left( \\left| - q_2 + p_1\\right| \\right) a_{1 5 4} p_1 + \\log\\left( \\left| - q_2 + p_2\\right| \\right) a_{9 5} q_1 + \\log\\left( \\left| - p_1 + p_2\\right| \\right) a_{1 5 6} p_1 + \\log\\left( \\left| - q_1 + p_1\\right| \\right) a_{9 2} q_1 + \\log\\left( \\left| - q_1 + p_2\\right| \\right) a_{9 3} q_1 + \\log\\left( \\left| - q_1 + q_2\\right| \\right) a_{1 5 1} p_1 + \\log\\left( \\left| - q_2 + p_2\\right| \\right) a_{1 5 5} p_1 + \\log\\left( \\left| - q_2 + p_1\\right| \\right) a_{9 4} q_1 + \\log\\left( \\left| - p_2 + q_1\\right| \\right) a_{8 7} q_1 + \\log\\left( \\left| - p_1 + q_2\\right| \\right) a_{1 2 4} q_2 + \\log\\left( \\left| - p_2 + q_2\\right| \\right) a_{8 9} q_1 + \\log\\left( \\left| - q_1 + q_2\\right| \\right) a_{1 2 7} q_2 + 2 \\log\\left( \\left| - p_2 + p_1\\right| \\right) a_{1 6 2} p_2 + 2 \\log\\left( \\left| - p_2 + q_1\\right| \\right) a_{1 5 9} p_2 + 2 \\log\\left( \\left| - q_1 + p_1\\right| \\right) a_{1 6 4} p_2 + 2 \\log\\left( \\left| - q_1 + p_2\\right| \\right) a_{1 6 5} p_2 + 2 \\log\\left( \\left| - p_1 + q_1\\right| \\right) a_{1 5 8} p_2 + 2 \\log\\left( \\left| - p_1 + q_2\\right| \\right) a_{1 6 0} p_2 + 2 \\log\\left( \\left| - p_2 + q_2\\right| \\right) a_{1 6 1} p_2 + 2 \\log\\left( \\left| - p_1 + p_2\\right| \\right) a_{1 6 8} p_2 + 2 \\log\\left( \\left| - q_2 + p_1\\right| \\right) a_{1 6 6} p_2 + 2 \\log\\left( \\left| - q_2 + p_2\\right| \\right) a_{1 6 7} p_2 + 2 \\log\\left( \\left| - q_1 + q_2\\right| \\right) a_{1 6 3} p_2 + 2 \\log\\left( \\left| - q_2 + q_1\\right| \\right) a_{1 5 7} p_2 \\\\\n",
       "\\frac{q_1^{2} a_{5 5} \\mathrm{ifelse}\\left( \\mathrm{signbit}\\left(  - q_1 + q_2 \\right), -1, 1 \\right)}{\\left| - q_1 + q_2\\right|} + \\frac{q_2^{2} a_{1 0 4} \\mathrm{ifelse}\\left( \\mathrm{signbit}\\left(  - q_1 + p_1 \\right), -1, 1 \\right)}{\\left| - q_1 + p_1\\right|} + \\frac{p_1^{2} a_{1 4 1} \\mathrm{ifelse}\\left( \\mathrm{signbit}\\left(  - q_1 + p_2 \\right), -1, 1 \\right)}{\\left| - q_1 + p_2\\right|} + \\frac{q_2^{2} a_{1 0 3} \\mathrm{ifelse}\\left( \\mathrm{signbit}\\left(  - q_1 + q_2 \\right), -1, 1 \\right)}{\\left| - q_1 + q_2\\right|} + \\frac{p_1^{2} a_{1 3 9} \\mathrm{ifelse}\\left( \\mathrm{signbit}\\left(  - q_1 + q_2 \\right), -1, 1 \\right)}{\\left| - q_1 + q_2\\right|} + \\frac{p_1^{2} a_{1 4 0} \\mathrm{ifelse}\\left( \\mathrm{signbit}\\left(  - q_1 + p_1 \\right), -1, 1 \\right)}{\\left| - q_1 + p_1\\right|} + \\frac{p_2^{2} a_{1 6 5} \\mathrm{ifelse}\\left( \\mathrm{signbit}\\left(  - q_1 + p_2 \\right), -1, 1 \\right)}{\\left| - q_1 + p_2\\right|} + \\frac{a_7 q_1 \\mathrm{ifelse}\\left( \\mathrm{signbit}\\left(  - q_1 + q_2 \\right), -1, 1 \\right)}{\\left| - q_1 + q_2\\right|} + \\frac{a_{3 2} p_1 \\mathrm{ifelse}\\left( \\mathrm{signbit}\\left(  - q_1 + p_1 \\right), -1, 1 \\right)}{\\left| - q_1 + p_1\\right|} + \\frac{a_{4 4} p_2 \\mathrm{ifelse}\\left( \\mathrm{signbit}\\left(  - q_1 + p_1 \\right), -1, 1 \\right)}{\\left| - q_1 + p_1\\right|} + \\frac{q_1^{2} a_{5 7} \\mathrm{ifelse}\\left( \\mathrm{signbit}\\left(  - q_1 + p_2 \\right), -1, 1 \\right)}{\\left| - q_1 + p_2\\right|} + \\frac{q_2^{2} a_{1 0 5} \\mathrm{ifelse}\\left( \\mathrm{signbit}\\left(  - q_1 + p_2 \\right), -1, 1 \\right)}{\\left| - q_1 + p_2\\right|} + \\frac{p_2^{2} a_{1 6 4} \\mathrm{ifelse}\\left( \\mathrm{signbit}\\left(  - q_1 + p_1 \\right), -1, 1 \\right)}{\\left| - q_1 + p_1\\right|} + \\frac{a_{3 3} p_1 \\mathrm{ifelse}\\left( \\mathrm{signbit}\\left(  - q_1 + p_2 \\right), -1, 1 \\right)}{\\left| - q_1 + p_2\\right|} + \\frac{a_{4 3} p_2 \\mathrm{ifelse}\\left( \\mathrm{signbit}\\left(  - q_1 + q_2 \\right), -1, 1 \\right)}{\\left| - q_1 + q_2\\right|} + \\frac{a_{4 5} p_2 \\mathrm{ifelse}\\left( \\mathrm{signbit}\\left(  - q_1 + p_2 \\right), -1, 1 \\right)}{\\left| - q_1 + p_2\\right|} + \\frac{p_2^{2} a_{1 6 3} \\mathrm{ifelse}\\left( \\mathrm{signbit}\\left(  - q_1 + q_2 \\right), -1, 1 \\right)}{\\left| - q_1 + q_2\\right|} + \\frac{q_1^{2} a_{5 6} \\mathrm{ifelse}\\left( \\mathrm{signbit}\\left(  - q_1 + p_1 \\right), -1, 1 \\right)}{\\left| - q_1 + p_1\\right|} + \\frac{a_8 q_1 \\mathrm{ifelse}\\left( \\mathrm{signbit}\\left(  - q_1 + p_1 \\right), -1, 1 \\right)}{\\left| - q_1 + p_1\\right|} + \\frac{a_9 q_1 \\mathrm{ifelse}\\left( \\mathrm{signbit}\\left(  - q_1 + p_2 \\right), -1, 1 \\right)}{\\left| - q_1 + p_2\\right|} + \\frac{a_{1 9} q_2 \\mathrm{ifelse}\\left( \\mathrm{signbit}\\left(  - q_1 + q_2 \\right), -1, 1 \\right)}{\\left| - q_1 + q_2\\right|} + \\frac{a_{2 0} q_2 \\mathrm{ifelse}\\left( \\mathrm{signbit}\\left(  - q_1 + p_1 \\right), -1, 1 \\right)}{\\left| - q_1 + p_1\\right|} + \\frac{a_{2 1} q_2 \\mathrm{ifelse}\\left( \\mathrm{signbit}\\left(  - q_1 + p_2 \\right), -1, 1 \\right)}{\\left| - q_1 + p_2\\right|} + \\frac{a_{3 1} p_1 \\mathrm{ifelse}\\left( \\mathrm{signbit}\\left(  - q_1 + q_2 \\right), -1, 1 \\right)}{\\left| - q_1 + q_2\\right|} + \\frac{ - p_2^{2} a_{1 5 7} \\mathrm{ifelse}\\left( \\mathrm{signbit}\\left(  - q_2 + q_1 \\right), -1, 1 \\right)}{\\left| - q_2 + q_1\\right|} + \\frac{ - q_1^{2} a_{5 1} \\mathrm{ifelse}\\left( \\mathrm{signbit}\\left(  - p_2 + q_1 \\right), -1, 1 \\right)}{\\left| - p_2 + q_1\\right|} + \\frac{ - a_1 q_1 \\mathrm{ifelse}\\left( \\mathrm{signbit}\\left(  - q_2 + q_1 \\right), -1, 1 \\right)}{\\left| - q_2 + q_1\\right|} + \\frac{a_{8 1} p_1 q_1 \\mathrm{ifelse}\\left( \\mathrm{signbit}\\left(  - q_1 + p_2 \\right), -1, 1 \\right)}{\\left| - q_1 + p_2\\right|} + \\frac{ - a_{3 8} p_2 \\mathrm{ifelse}\\left( \\mathrm{signbit}\\left(  - p_1 + q_1 \\right), -1, 1 \\right)}{\\left| - p_1 + q_1\\right|} + \\frac{a_{1 2 9} p_2 q_2 \\mathrm{ifelse}\\left( \\mathrm{signbit}\\left(  - q_1 + p_2 \\right), -1, 1 \\right)}{\\left| - q_1 + p_2\\right|} + \\frac{ - a_{1 5} q_2 \\mathrm{ifelse}\\left( \\mathrm{signbit}\\left(  - p_2 + q_1 \\right), -1, 1 \\right)}{\\left| - p_2 + q_1\\right|} + \\frac{ - a_{2 7} p_1 \\mathrm{ifelse}\\left( \\mathrm{signbit}\\left(  - p_2 + q_1 \\right), -1, 1 \\right)}{\\left| - p_2 + q_1\\right|} + \\frac{a_{6 7} q_1 q_2 \\mathrm{ifelse}\\left( \\mathrm{signbit}\\left(  - q_1 + q_2 \\right), -1, 1 \\right)}{\\left| - q_1 + q_2\\right|} + \\frac{a_{6 9} q_1 q_2 \\mathrm{ifelse}\\left( \\mathrm{signbit}\\left(  - q_1 + p_2 \\right), -1, 1 \\right)}{\\left| - q_1 + p_2\\right|} + \\frac{ - p_1^{2} a_{1 3 4} \\mathrm{ifelse}\\left( \\mathrm{signbit}\\left(  - p_1 + q_1 \\right), -1, 1 \\right)}{\\left| - p_1 + q_1\\right|} + \\frac{a_{8 0} p_1 q_1 \\mathrm{ifelse}\\left( \\mathrm{signbit}\\left(  - q_1 + p_1 \\right), -1, 1 \\right)}{\\left| - q_1 + p_1\\right|} + \\frac{a_{9 2} p_2 q_1 \\mathrm{ifelse}\\left( \\mathrm{signbit}\\left(  - q_1 + p_1 \\right), -1, 1 \\right)}{\\left| - q_1 + p_1\\right|} + \\frac{ - q_1^{2} a_{4 9} \\mathrm{ifelse}\\left( \\mathrm{signbit}\\left(  - q_2 + q_1 \\right), -1, 1 \\right)}{\\left| - q_2 + q_1\\right|} + \\frac{a_{1 1 7} p_1 q_2 \\mathrm{ifelse}\\left( \\mathrm{signbit}\\left(  - q_1 + p_2 \\right), -1, 1 \\right)}{\\left| - q_1 + p_2\\right|} + \\frac{ - a_3 q_1 \\mathrm{ifelse}\\left( \\mathrm{signbit}\\left(  - p_2 + q_1 \\right), -1, 1 \\right)}{\\left| - p_2 + q_1\\right|} + \\frac{a_{1 5 3} p_1 p_2 \\mathrm{ifelse}\\left( \\mathrm{signbit}\\left(  - q_1 + p_2 \\right), -1, 1 \\right)}{\\left| - q_1 + p_2\\right|} + \\frac{a_{1 1 6} p_1 q_2 \\mathrm{ifelse}\\left( \\mathrm{signbit}\\left(  - q_1 + p_1 \\right), -1, 1 \\right)}{\\left| - q_1 + p_1\\right|} + \\frac{ - q_1^{2} a_{5 0} \\mathrm{ifelse}\\left( \\mathrm{signbit}\\left(  - p_1 + q_1 \\right), -1, 1 \\right)}{\\left| - p_1 + q_1\\right|} + \\frac{ - a_{2 6} p_1 \\mathrm{ifelse}\\left( \\mathrm{signbit}\\left(  - p_1 + q_1 \\right), -1, 1 \\right)}{\\left| - p_1 + q_1\\right|} + \\frac{a_{7 9} p_1 q_1 \\mathrm{ifelse}\\left( \\mathrm{signbit}\\left(  - q_1 + q_2 \\right), -1, 1 \\right)}{\\left| - q_1 + q_2\\right|} + \\frac{a_{9 3} p_2 q_1 \\mathrm{ifelse}\\left( \\mathrm{signbit}\\left(  - q_1 + p_2 \\right), -1, 1 \\right)}{\\left| - q_1 + p_2\\right|} + \\frac{a_{1 2 7} p_2 q_2 \\mathrm{ifelse}\\left( \\mathrm{signbit}\\left(  - q_1 + q_2 \\right), -1, 1 \\right)}{\\left| - q_1 + q_2\\right|} + \\frac{a_{1 2 8} p_2 q_2 \\mathrm{ifelse}\\left( \\mathrm{signbit}\\left(  - q_1 + p_1 \\right), -1, 1 \\right)}{\\left| - q_1 + p_1\\right|} + \\frac{ - q_2^{2} a_{9 9} \\mathrm{ifelse}\\left( \\mathrm{signbit}\\left(  - p_2 + q_1 \\right), -1, 1 \\right)}{\\left| - p_2 + q_1\\right|} + \\frac{ - p_2^{2} a_{1 5 9} \\mathrm{ifelse}\\left( \\mathrm{signbit}\\left(  - p_2 + q_1 \\right), -1, 1 \\right)}{\\left| - p_2 + q_1\\right|} + \\frac{ - a_{3 9} p_2 \\mathrm{ifelse}\\left( \\mathrm{signbit}\\left(  - p_2 + q_1 \\right), -1, 1 \\right)}{\\left| - p_2 + q_1\\right|} + \\frac{ - a_{1 4} q_2 \\mathrm{ifelse}\\left( \\mathrm{signbit}\\left(  - p_1 + q_1 \\right), -1, 1 \\right)}{\\left| - p_1 + q_1\\right|} + \\frac{a_{1 1 5} p_1 q_2 \\mathrm{ifelse}\\left( \\mathrm{signbit}\\left(  - q_1 + q_2 \\right), -1, 1 \\right)}{\\left| - q_1 + q_2\\right|} + \\frac{a_{1 5 1} p_1 p_2 \\mathrm{ifelse}\\left( \\mathrm{signbit}\\left(  - q_1 + q_2 \\right), -1, 1 \\right)}{\\left| - q_1 + q_2\\right|} + \\frac{a_{1 5 2} p_1 p_2 \\mathrm{ifelse}\\left( \\mathrm{signbit}\\left(  - q_1 + p_1 \\right), -1, 1 \\right)}{\\left| - q_1 + p_1\\right|} + \\frac{ - a_{2 5} p_1 \\mathrm{ifelse}\\left( \\mathrm{signbit}\\left(  - q_2 + q_1 \\right), -1, 1 \\right)}{\\left| - q_2 + q_1\\right|} + \\frac{ - a_2 q_1 \\mathrm{ifelse}\\left( \\mathrm{signbit}\\left(  - p_1 + q_1 \\right), -1, 1 \\right)}{\\left| - p_1 + q_1\\right|} + \\frac{a_{6 8} q_1 q_2 \\mathrm{ifelse}\\left( \\mathrm{signbit}\\left(  - q_1 + p_1 \\right), -1, 1 \\right)}{\\left| - q_1 + p_1\\right|} + \\frac{ - q_2^{2} a_{9 7} \\mathrm{ifelse}\\left( \\mathrm{signbit}\\left(  - q_2 + q_1 \\right), -1, 1 \\right)}{\\left| - q_2 + q_1\\right|} + \\frac{ - p_2^{2} a_{1 5 8} \\mathrm{ifelse}\\left( \\mathrm{signbit}\\left(  - p_1 + q_1 \\right), -1, 1 \\right)}{\\left| - p_1 + q_1\\right|} + \\frac{ - q_2^{2} a_{9 8} \\mathrm{ifelse}\\left( \\mathrm{signbit}\\left(  - p_1 + q_1 \\right), -1, 1 \\right)}{\\left| - p_1 + q_1\\right|} + \\frac{ - p_1^{2} a_{1 3 5} \\mathrm{ifelse}\\left( \\mathrm{signbit}\\left(  - p_2 + q_1 \\right), -1, 1 \\right)}{\\left| - p_2 + q_1\\right|} + \\frac{ - a_{3 7} p_2 \\mathrm{ifelse}\\left( \\mathrm{signbit}\\left(  - q_2 + q_1 \\right), -1, 1 \\right)}{\\left| - q_2 + q_1\\right|} + \\frac{a_{9 1} p_2 q_1 \\mathrm{ifelse}\\left( \\mathrm{signbit}\\left(  - q_1 + q_2 \\right), -1, 1 \\right)}{\\left| - q_1 + q_2\\right|} + \\frac{ - p_1^{2} a_{1 3 3} \\mathrm{ifelse}\\left( \\mathrm{signbit}\\left(  - q_2 + q_1 \\right), -1, 1 \\right)}{\\left| - q_2 + q_1\\right|} + \\frac{ - a_{1 3} q_2 \\mathrm{ifelse}\\left( \\mathrm{signbit}\\left(  - q_2 + q_1 \\right), -1, 1 \\right)}{\\left| - q_2 + q_1\\right|} + \\frac{ - a_{7 4} p_1 q_1 \\mathrm{ifelse}\\left( \\mathrm{signbit}\\left(  - p_1 + q_1 \\right), -1, 1 \\right)}{\\left| - p_1 + q_1\\right|} + \\frac{ - a_{8 6} p_2 q_1 \\mathrm{ifelse}\\left( \\mathrm{signbit}\\left(  - p_1 + q_1 \\right), -1, 1 \\right)}{\\left| - p_1 + q_1\\right|} + \\frac{ - a_{7 3} p_1 q_1 \\mathrm{ifelse}\\left( \\mathrm{signbit}\\left(  - q_2 + q_1 \\right), -1, 1 \\right)}{\\left| - q_2 + q_1\\right|} + \\frac{ - a_{6 3} q_1 q_2 \\mathrm{ifelse}\\left( \\mathrm{signbit}\\left(  - p_2 + q_1 \\right), -1, 1 \\right)}{\\left| - p_2 + q_1\\right|} + \\frac{ - a_{1 4 6} p_1 p_2 \\mathrm{ifelse}\\left( \\mathrm{signbit}\\left(  - p_1 + q_1 \\right), -1, 1 \\right)}{\\left| - p_1 + q_1\\right|} + \\frac{ - a_{1 1 0} p_1 q_2 \\mathrm{ifelse}\\left( \\mathrm{signbit}\\left(  - p_1 + q_1 \\right), -1, 1 \\right)}{\\left| - p_1 + q_1\\right|} + \\frac{ - a_{1 1 1} p_1 q_2 \\mathrm{ifelse}\\left( \\mathrm{signbit}\\left(  - p_2 + q_1 \\right), -1, 1 \\right)}{\\left| - p_2 + q_1\\right|} + \\frac{ - a_{1 2 3} p_2 q_2 \\mathrm{ifelse}\\left( \\mathrm{signbit}\\left(  - p_2 + q_1 \\right), -1, 1 \\right)}{\\left| - p_2 + q_1\\right|} + \\frac{ - a_{1 0 9} p_1 q_2 \\mathrm{ifelse}\\left( \\mathrm{signbit}\\left(  - q_2 + q_1 \\right), -1, 1 \\right)}{\\left| - q_2 + q_1\\right|} + \\frac{ - a_{1 4 7} p_1 p_2 \\mathrm{ifelse}\\left( \\mathrm{signbit}\\left(  - p_2 + q_1 \\right), -1, 1 \\right)}{\\left| - p_2 + q_1\\right|} + \\frac{ - a_{1 2 1} p_2 q_2 \\mathrm{ifelse}\\left( \\mathrm{signbit}\\left(  - q_2 + q_1 \\right), -1, 1 \\right)}{\\left| - q_2 + q_1\\right|} + \\frac{ - a_{6 2} q_1 q_2 \\mathrm{ifelse}\\left( \\mathrm{signbit}\\left(  - p_1 + q_1 \\right), -1, 1 \\right)}{\\left| - p_1 + q_1\\right|} + \\frac{ - a_{1 4 5} p_1 p_2 \\mathrm{ifelse}\\left( \\mathrm{signbit}\\left(  - q_2 + q_1 \\right), -1, 1 \\right)}{\\left| - q_2 + q_1\\right|} + \\frac{ - a_{8 7} p_2 q_1 \\mathrm{ifelse}\\left( \\mathrm{signbit}\\left(  - p_2 + q_1 \\right), -1, 1 \\right)}{\\left| - p_2 + q_1\\right|} + \\frac{ - a_{8 5} p_2 q_1 \\mathrm{ifelse}\\left( \\mathrm{signbit}\\left(  - q_2 + q_1 \\right), -1, 1 \\right)}{\\left| - q_2 + q_1\\right|} + \\frac{ - a_{1 2 2} p_2 q_2 \\mathrm{ifelse}\\left( \\mathrm{signbit}\\left(  - p_1 + q_1 \\right), -1, 1 \\right)}{\\left| - p_1 + q_1\\right|} + \\frac{ - a_{6 1} q_1 q_2 \\mathrm{ifelse}\\left( \\mathrm{signbit}\\left(  - q_2 + q_1 \\right), -1, 1 \\right)}{\\left| - q_2 + q_1\\right|} + \\frac{ - a_{7 5} p_1 q_1 \\mathrm{ifelse}\\left( \\mathrm{signbit}\\left(  - p_2 + q_1 \\right), -1, 1 \\right)}{\\left| - p_2 + q_1\\right|} - \\log\\left( \\left| - p_2 + q_1\\right| \\right) a_3 - \\log\\left( \\left| - p_1 + p_2\\right| \\right) a_{1 2} - \\log\\left( \\left| - p_1 + q_2\\right| \\right) a_4 - \\log\\left( \\left| - q_1 + q_2\\right| \\right) a_7 - \\log\\left( \\left| - q_1 + p_1\\right| \\right) a_8 - \\log\\left( \\left| - q_2 + p_1\\right| \\right) a_{1 0} - \\log\\left( \\left| - q_1 + p_2\\right| \\right) a_9 - \\log\\left( \\left| - q_2 + p_2\\right| \\right) a_{1 1} - \\log\\left( \\left| - q_2 + q_1\\right| \\right) a_1 - \\log\\left( \\left| - p_2 + p_1\\right| \\right) a_6 - \\log\\left( \\left| - p_1 + q_1\\right| \\right) a_2 - \\log\\left( \\left| - p_2 + q_2\\right| \\right) a_5 - 2 \\log\\left( \\left| - q_2 + q_1\\right| \\right) a_{4 9} q_1 - \\log\\left( \\left| - q_2 + p_1\\right| \\right) a_{9 4} p_2 - \\log\\left( \\left| - p_1 + q_2\\right| \\right) a_{7 6} p_1 - \\log\\left( \\left| - p_2 + p_1\\right| \\right) a_{6 6} q_2 - \\log\\left( \\left| - q_1 + p_2\\right| \\right) a_{6 9} q_2 - 2 \\log\\left( \\left| - p_1 + p_2\\right| \\right) a_{6 0} q_1 - \\log\\left( \\left| - p_2 + q_2\\right| \\right) a_{7 7} p_1 - \\log\\left( \\left| - p_1 + q_2\\right| \\right) a_{6 4} q_2 - \\log\\left( \\left| - p_1 + p_2\\right| \\right) a_{8 4} p_1 - \\log\\left( \\left| - p_2 + q_2\\right| \\right) a_{8 9} p_2 - \\log\\left( \\left| - q_1 + p_2\\right| \\right) a_{8 1} p_1 - \\log\\left( \\left| - q_1 + q_2\\right| \\right) a_{9 1} p_2 - \\log\\left( \\left| - p_2 + q_1\\right| \\right) a_{6 3} q_2 - \\log\\left( \\left| - q_2 + p_1\\right| \\right) a_{8 2} p_1 - 2 \\log\\left( \\left| - q_2 + p_1\\right| \\right) a_{5 8} q_1 - \\log\\left( \\left| - q_1 + q_2\\right| \\right) a_{6 7} q_2 - 2 \\log\\left( \\left| - p_2 + q_2\\right| \\right) a_{5 3} q_1 - \\log\\left( \\left| - p_2 + p_1\\right| \\right) a_{7 8} p_1 - \\log\\left( \\left| - p_1 + q_2\\right| \\right) a_{8 8} p_2 - \\log\\left( \\left| - q_2 + p_2\\right| \\right) a_{9 5} p_2 - \\log\\left( \\left| - p_2 + q_1\\right| \\right) a_{8 7} p_2 - 2 \\log\\left( \\left| - p_1 + q_1\\right| \\right) a_{5 0} q_1 - 2 \\log\\left( \\left| - p_2 + q_1\\right| \\right) a_{5 1} q_1 - \\log\\left( \\left| - q_2 + p_2\\right| \\right) a_{7 1} q_2 - \\log\\left( \\left| - q_2 + q_1\\right| \\right) a_{7 3} p_1 - \\log\\left( \\left| - q_2 + q_1\\right| \\right) a_{8 5} p_2 - \\log\\left( \\left| - p_1 + p_2\\right| \\right) a_{9 6} p_2 - \\log\\left( \\left| - q_2 + q_1\\right| \\right) a_{6 1} q_2 - \\log\\left( \\left| - p_1 + q_1\\right| \\right) a_{7 4} p_1 - \\log\\left( \\left| - p_2 + q_1\\right| \\right) a_{7 5} p_1 - \\log\\left( \\left| - q_2 + p_1\\right| \\right) a_{7 0} q_2 - \\log\\left( \\left| - p_2 + p_1\\right| \\right) a_{9 0} p_2 - \\log\\left( \\left| - q_1 + p_1\\right| \\right) a_{9 2} p_2 - \\log\\left( \\left| - q_2 + p_2\\right| \\right) a_{8 3} p_1 - 2 \\log\\left( \\left| - p_2 + p_1\\right| \\right) a_{5 4} q_1 - 2 \\log\\left( \\left| - q_1 + p_2\\right| \\right) a_{5 7} q_1 - 2 \\log\\left( \\left| - q_2 + p_2\\right| \\right) a_{5 9} q_1 - \\log\\left( \\left| - p_1 + q_1\\right| \\right) a_{6 2} q_2 - \\log\\left( \\left| - p_2 + q_2\\right| \\right) a_{6 5} q_2 - \\log\\left( \\left| - q_1 + q_2\\right| \\right) a_{7 9} p_1 - 2 \\log\\left( \\left| - p_1 + q_2\\right| \\right) a_{5 2} q_1 - \\log\\left( \\left| - q_1 + p_2\\right| \\right) a_{9 3} p_2 - \\log\\left( \\left| - p_1 + p_2\\right| \\right) a_{7 2} q_2 - 2 \\log\\left( \\left| - q_1 + q_2\\right| \\right) a_{5 5} q_1 - \\log\\left( \\left| - q_1 + p_1\\right| \\right) a_{6 8} q_2 - \\log\\left( \\left| - p_1 + q_1\\right| \\right) a_{8 6} p_2 - \\log\\left( \\left| - q_1 + p_1\\right| \\right) a_{8 0} p_1 - 2 \\log\\left( \\left| - q_1 + p_1\\right| \\right) a_{5 6} q_1 \\\\\n",
       "\\frac{q_1^{2} a_{4 9} \\mathrm{ifelse}\\left( \\mathrm{signbit}\\left(  - q_2 + q_1 \\right), -1, 1 \\right)}{\\left| - q_2 + q_1\\right|} + \\frac{q_2^{2} a_{9 7} \\mathrm{ifelse}\\left( \\mathrm{signbit}\\left(  - q_2 + q_1 \\right), -1, 1 \\right)}{\\left| - q_2 + q_1\\right|} + \\frac{p_1^{2} a_{1 4 2} \\mathrm{ifelse}\\left( \\mathrm{signbit}\\left(  - q_2 + p_1 \\right), -1, 1 \\right)}{\\left| - q_2 + p_1\\right|} + \\frac{p_1^{2} a_{1 4 3} \\mathrm{ifelse}\\left( \\mathrm{signbit}\\left(  - q_2 + p_2 \\right), -1, 1 \\right)}{\\left| - q_2 + p_2\\right|} + \\frac{p_2^{2} a_{1 6 7} \\mathrm{ifelse}\\left( \\mathrm{signbit}\\left(  - q_2 + p_2 \\right), -1, 1 \\right)}{\\left| - q_2 + p_2\\right|} + \\frac{q_1^{2} a_{5 8} \\mathrm{ifelse}\\left( \\mathrm{signbit}\\left(  - q_2 + p_1 \\right), -1, 1 \\right)}{\\left| - q_2 + p_1\\right|} + \\frac{p_2^{2} a_{1 6 6} \\mathrm{ifelse}\\left( \\mathrm{signbit}\\left(  - q_2 + p_1 \\right), -1, 1 \\right)}{\\left| - q_2 + p_1\\right|} + \\frac{q_2^{2} a_{1 0 6} \\mathrm{ifelse}\\left( \\mathrm{signbit}\\left(  - q_2 + p_1 \\right), -1, 1 \\right)}{\\left| - q_2 + p_1\\right|} + \\frac{a_{1 1} q_1 \\mathrm{ifelse}\\left( \\mathrm{signbit}\\left(  - q_2 + p_2 \\right), -1, 1 \\right)}{\\left| - q_2 + p_2\\right|} + \\frac{a_{2 3} q_2 \\mathrm{ifelse}\\left( \\mathrm{signbit}\\left(  - q_2 + p_2 \\right), -1, 1 \\right)}{\\left| - q_2 + p_2\\right|} + \\frac{p_1^{2} a_{1 3 3} \\mathrm{ifelse}\\left( \\mathrm{signbit}\\left(  - q_2 + q_1 \\right), -1, 1 \\right)}{\\left| - q_2 + q_1\\right|} + \\frac{a_{2 5} p_1 \\mathrm{ifelse}\\left( \\mathrm{signbit}\\left(  - q_2 + q_1 \\right), -1, 1 \\right)}{\\left| - q_2 + q_1\\right|} + \\frac{a_{3 4} p_1 \\mathrm{ifelse}\\left( \\mathrm{signbit}\\left(  - q_2 + p_1 \\right), -1, 1 \\right)}{\\left| - q_2 + p_1\\right|} + \\frac{q_2^{2} a_{1 0 7} \\mathrm{ifelse}\\left( \\mathrm{signbit}\\left(  - q_2 + p_2 \\right), -1, 1 \\right)}{\\left| - q_2 + p_2\\right|} + \\frac{a_{3 5} p_1 \\mathrm{ifelse}\\left( \\mathrm{signbit}\\left(  - q_2 + p_2 \\right), -1, 1 \\right)}{\\left| - q_2 + p_2\\right|} + \\frac{a_{3 7} p_2 \\mathrm{ifelse}\\left( \\mathrm{signbit}\\left(  - q_2 + q_1 \\right), -1, 1 \\right)}{\\left| - q_2 + q_1\\right|} + \\frac{a_{4 7} p_2 \\mathrm{ifelse}\\left( \\mathrm{signbit}\\left(  - q_2 + p_2 \\right), -1, 1 \\right)}{\\left| - q_2 + p_2\\right|} + \\frac{a_{1 0} q_1 \\mathrm{ifelse}\\left( \\mathrm{signbit}\\left(  - q_2 + p_1 \\right), -1, 1 \\right)}{\\left| - q_2 + p_1\\right|} + \\frac{q_1^{2} a_{5 9} \\mathrm{ifelse}\\left( \\mathrm{signbit}\\left(  - q_2 + p_2 \\right), -1, 1 \\right)}{\\left| - q_2 + p_2\\right|} + \\frac{a_{2 2} q_2 \\mathrm{ifelse}\\left( \\mathrm{signbit}\\left(  - q_2 + p_1 \\right), -1, 1 \\right)}{\\left| - q_2 + p_1\\right|} + \\frac{p_2^{2} a_{1 5 7} \\mathrm{ifelse}\\left( \\mathrm{signbit}\\left(  - q_2 + q_1 \\right), -1, 1 \\right)}{\\left| - q_2 + q_1\\right|} + \\frac{a_1 q_1 \\mathrm{ifelse}\\left( \\mathrm{signbit}\\left(  - q_2 + q_1 \\right), -1, 1 \\right)}{\\left| - q_2 + q_1\\right|} + \\frac{a_{1 3} q_2 \\mathrm{ifelse}\\left( \\mathrm{signbit}\\left(  - q_2 + q_1 \\right), -1, 1 \\right)}{\\left| - q_2 + q_1\\right|} + \\frac{a_{4 6} p_2 \\mathrm{ifelse}\\left( \\mathrm{signbit}\\left(  - q_2 + p_1 \\right), -1, 1 \\right)}{\\left| - q_2 + p_1\\right|} + \\frac{a_{8 2} p_1 q_1 \\mathrm{ifelse}\\left( \\mathrm{signbit}\\left(  - q_2 + p_1 \\right), -1, 1 \\right)}{\\left| - q_2 + p_1\\right|} + \\frac{a_{8 3} p_1 q_1 \\mathrm{ifelse}\\left( \\mathrm{signbit}\\left(  - q_2 + p_2 \\right), -1, 1 \\right)}{\\left| - q_2 + p_2\\right|} + \\frac{a_{8 5} p_2 q_1 \\mathrm{ifelse}\\left( \\mathrm{signbit}\\left(  - q_2 + q_1 \\right), -1, 1 \\right)}{\\left| - q_2 + q_1\\right|} + \\frac{ - q_1^{2} a_{5 5} \\mathrm{ifelse}\\left( \\mathrm{signbit}\\left(  - q_1 + q_2 \\right), -1, 1 \\right)}{\\left| - q_1 + q_2\\right|} + \\frac{ - p_1^{2} a_{1 3 7} \\mathrm{ifelse}\\left( \\mathrm{signbit}\\left(  - p_2 + q_2 \\right), -1, 1 \\right)}{\\left| - p_2 + q_2\\right|} + \\frac{ - q_2^{2} a_{1 0 3} \\mathrm{ifelse}\\left( \\mathrm{signbit}\\left(  - q_1 + q_2 \\right), -1, 1 \\right)}{\\left| - q_1 + q_2\\right|} + \\frac{ - p_1^{2} a_{1 3 9} \\mathrm{ifelse}\\left( \\mathrm{signbit}\\left(  - q_1 + q_2 \\right), -1, 1 \\right)}{\\left| - q_1 + q_2\\right|} + \\frac{ - p_2^{2} a_{1 6 0} \\mathrm{ifelse}\\left( \\mathrm{signbit}\\left(  - p_1 + q_2 \\right), -1, 1 \\right)}{\\left| - p_1 + q_2\\right|} + \\frac{ - p_2^{2} a_{1 6 3} \\mathrm{ifelse}\\left( \\mathrm{signbit}\\left(  - q_1 + q_2 \\right), -1, 1 \\right)}{\\left| - q_1 + q_2\\right|} + \\frac{a_{1 5 4} p_1 p_2 \\mathrm{ifelse}\\left( \\mathrm{signbit}\\left(  - q_2 + p_1 \\right), -1, 1 \\right)}{\\left| - q_2 + p_1\\right|} + \\frac{ - a_{1 6} q_2 \\mathrm{ifelse}\\left( \\mathrm{signbit}\\left(  - p_1 + q_2 \\right), -1, 1 \\right)}{\\left| - p_1 + q_2\\right|} + \\frac{ - a_5 q_1 \\mathrm{ifelse}\\left( \\mathrm{signbit}\\left(  - p_2 + q_2 \\right), -1, 1 \\right)}{\\left| - p_2 + q_2\\right|} + \\frac{a_{7 3} p_1 q_1 \\mathrm{ifelse}\\left( \\mathrm{signbit}\\left(  - q_2 + q_1 \\right), -1, 1 \\right)}{\\left| - q_2 + q_1\\right|} + \\frac{a_{1 2 1} p_2 q_2 \\mathrm{ifelse}\\left( \\mathrm{signbit}\\left(  - q_2 + q_1 \\right), -1, 1 \\right)}{\\left| - q_2 + q_1\\right|} + \\frac{a_{7 1} q_1 q_2 \\mathrm{ifelse}\\left( \\mathrm{signbit}\\left(  - q_2 + p_2 \\right), -1, 1 \\right)}{\\left| - q_2 + p_2\\right|} + \\frac{a_{1 3 0} p_2 q_2 \\mathrm{ifelse}\\left( \\mathrm{signbit}\\left(  - q_2 + p_1 \\right), -1, 1 \\right)}{\\left| - q_2 + p_1\\right|} + \\frac{ - a_{2 8} p_1 \\mathrm{ifelse}\\left( \\mathrm{signbit}\\left(  - p_1 + q_2 \\right), -1, 1 \\right)}{\\left| - p_1 + q_2\\right|} + \\frac{ - p_2^{2} a_{1 6 1} \\mathrm{ifelse}\\left( \\mathrm{signbit}\\left(  - p_2 + q_2 \\right), -1, 1 \\right)}{\\left| - p_2 + q_2\\right|} + \\frac{ - q_1^{2} a_{5 3} \\mathrm{ifelse}\\left( \\mathrm{signbit}\\left(  - p_2 + q_2 \\right), -1, 1 \\right)}{\\left| - p_2 + q_2\\right|} + \\frac{ - a_{2 9} p_1 \\mathrm{ifelse}\\left( \\mathrm{signbit}\\left(  - p_2 + q_2 \\right), -1, 1 \\right)}{\\left| - p_2 + q_2\\right|} + \\frac{a_{1 4 5} p_1 p_2 \\mathrm{ifelse}\\left( \\mathrm{signbit}\\left(  - q_2 + q_1 \\right), -1, 1 \\right)}{\\left| - q_2 + q_1\\right|} + \\frac{a_{6 1} q_1 q_2 \\mathrm{ifelse}\\left( \\mathrm{signbit}\\left(  - q_2 + q_1 \\right), -1, 1 \\right)}{\\left| - q_2 + q_1\\right|} + \\frac{a_{7 0} q_1 q_2 \\mathrm{ifelse}\\left( \\mathrm{signbit}\\left(  - q_2 + p_1 \\right), -1, 1 \\right)}{\\left| - q_2 + p_1\\right|} + \\frac{a_{1 5 5} p_1 p_2 \\mathrm{ifelse}\\left( \\mathrm{signbit}\\left(  - q_2 + p_2 \\right), -1, 1 \\right)}{\\left| - q_2 + p_2\\right|} + \\frac{a_{1 3 1} p_2 q_2 \\mathrm{ifelse}\\left( \\mathrm{signbit}\\left(  - q_2 + p_2 \\right), -1, 1 \\right)}{\\left| - q_2 + p_2\\right|} + \\frac{ - a_7 q_1 \\mathrm{ifelse}\\left( \\mathrm{signbit}\\left(  - q_1 + q_2 \\right), -1, 1 \\right)}{\\left| - q_1 + q_2\\right|} + \\frac{ - a_{3 1} p_1 \\mathrm{ifelse}\\left( \\mathrm{signbit}\\left(  - q_1 + q_2 \\right), -1, 1 \\right)}{\\left| - q_1 + q_2\\right|} + \\frac{ - a_{4 1} p_2 \\mathrm{ifelse}\\left( \\mathrm{signbit}\\left(  - p_2 + q_2 \\right), -1, 1 \\right)}{\\left| - p_2 + q_2\\right|} + \\frac{a_{1 1 8} p_1 q_2 \\mathrm{ifelse}\\left( \\mathrm{signbit}\\left(  - q_2 + p_1 \\right), -1, 1 \\right)}{\\left| - q_2 + p_1\\right|} + \\frac{ - q_1^{2} a_{5 2} \\mathrm{ifelse}\\left( \\mathrm{signbit}\\left(  - p_1 + q_2 \\right), -1, 1 \\right)}{\\left| - p_1 + q_2\\right|} + \\frac{a_{9 4} p_2 q_1 \\mathrm{ifelse}\\left( \\mathrm{signbit}\\left(  - q_2 + p_1 \\right), -1, 1 \\right)}{\\left| - q_2 + p_1\\right|} + \\frac{a_{9 5} p_2 q_1 \\mathrm{ifelse}\\left( \\mathrm{signbit}\\left(  - q_2 + p_2 \\right), -1, 1 \\right)}{\\left| - q_2 + p_2\\right|} + \\frac{ - a_{4 3} p_2 \\mathrm{ifelse}\\left( \\mathrm{signbit}\\left(  - q_1 + q_2 \\right), -1, 1 \\right)}{\\left| - q_1 + q_2\\right|} + \\frac{a_{1 0 9} p_1 q_2 \\mathrm{ifelse}\\left( \\mathrm{signbit}\\left(  - q_2 + q_1 \\right), -1, 1 \\right)}{\\left| - q_2 + q_1\\right|} + \\frac{a_{1 1 9} p_1 q_2 \\mathrm{ifelse}\\left( \\mathrm{signbit}\\left(  - q_2 + p_2 \\right), -1, 1 \\right)}{\\left| - q_2 + p_2\\right|} + \\frac{ - p_1^{2} a_{1 3 6} \\mathrm{ifelse}\\left( \\mathrm{signbit}\\left(  - p_1 + q_2 \\right), -1, 1 \\right)}{\\left| - p_1 + q_2\\right|} + \\frac{ - q_2^{2} a_{1 0 0} \\mathrm{ifelse}\\left( \\mathrm{signbit}\\left(  - p_1 + q_2 \\right), -1, 1 \\right)}{\\left| - p_1 + q_2\\right|} + \\frac{ - q_2^{2} a_{1 0 1} \\mathrm{ifelse}\\left( \\mathrm{signbit}\\left(  - p_2 + q_2 \\right), -1, 1 \\right)}{\\left| - p_2 + q_2\\right|} + \\frac{ - a_4 q_1 \\mathrm{ifelse}\\left( \\mathrm{signbit}\\left(  - p_1 + q_2 \\right), -1, 1 \\right)}{\\left| - p_1 + q_2\\right|} + \\frac{ - a_{1 7} q_2 \\mathrm{ifelse}\\left( \\mathrm{signbit}\\left(  - p_2 + q_2 \\right), -1, 1 \\right)}{\\left| - p_2 + q_2\\right|} + \\frac{ - a_{1 9} q_2 \\mathrm{ifelse}\\left( \\mathrm{signbit}\\left(  - q_1 + q_2 \\right), -1, 1 \\right)}{\\left| - q_1 + q_2\\right|} + \\frac{ - a_{4 0} p_2 \\mathrm{ifelse}\\left( \\mathrm{signbit}\\left(  - p_1 + q_2 \\right), -1, 1 \\right)}{\\left| - p_1 + q_2\\right|} + \\frac{ - a_{7 6} p_1 q_1 \\mathrm{ifelse}\\left( \\mathrm{signbit}\\left(  - p_1 + q_2 \\right), -1, 1 \\right)}{\\left| - p_1 + q_2\\right|} + \\frac{ - a_{7 7} p_1 q_1 \\mathrm{ifelse}\\left( \\mathrm{signbit}\\left(  - p_2 + q_2 \\right), -1, 1 \\right)}{\\left| - p_2 + q_2\\right|} + \\frac{ - a_{8 9} p_2 q_1 \\mathrm{ifelse}\\left( \\mathrm{signbit}\\left(  - p_2 + q_2 \\right), -1, 1 \\right)}{\\left| - p_2 + q_2\\right|} + \\frac{ - a_{1 4 9} p_1 p_2 \\mathrm{ifelse}\\left( \\mathrm{signbit}\\left(  - p_2 + q_2 \\right), -1, 1 \\right)}{\\left| - p_2 + q_2\\right|} + \\frac{ - a_{7 9} p_1 q_1 \\mathrm{ifelse}\\left( \\mathrm{signbit}\\left(  - q_1 + q_2 \\right), -1, 1 \\right)}{\\left| - q_1 + q_2\\right|} + \\frac{ - a_{1 1 3} p_1 q_2 \\mathrm{ifelse}\\left( \\mathrm{signbit}\\left(  - p_2 + q_2 \\right), -1, 1 \\right)}{\\left| - p_2 + q_2\\right|} + \\frac{ - a_{1 1 5} p_1 q_2 \\mathrm{ifelse}\\left( \\mathrm{signbit}\\left(  - q_1 + q_2 \\right), -1, 1 \\right)}{\\left| - q_1 + q_2\\right|} + \\frac{ - a_{8 8} p_2 q_1 \\mathrm{ifelse}\\left( \\mathrm{signbit}\\left(  - p_1 + q_2 \\right), -1, 1 \\right)}{\\left| - p_1 + q_2\\right|} + \\frac{ - a_{1 2 4} p_2 q_2 \\mathrm{ifelse}\\left( \\mathrm{signbit}\\left(  - p_1 + q_2 \\right), -1, 1 \\right)}{\\left| - p_1 + q_2\\right|} + \\frac{ - a_{6 4} q_1 q_2 \\mathrm{ifelse}\\left( \\mathrm{signbit}\\left(  - p_1 + q_2 \\right), -1, 1 \\right)}{\\left| - p_1 + q_2\\right|} + \\frac{ - a_{6 5} q_1 q_2 \\mathrm{ifelse}\\left( \\mathrm{signbit}\\left(  - p_2 + q_2 \\right), -1, 1 \\right)}{\\left| - p_2 + q_2\\right|} + \\frac{ - a_{6 7} q_1 q_2 \\mathrm{ifelse}\\left( \\mathrm{signbit}\\left(  - q_1 + q_2 \\right), -1, 1 \\right)}{\\left| - q_1 + q_2\\right|} + \\frac{ - a_{1 4 8} p_1 p_2 \\mathrm{ifelse}\\left( \\mathrm{signbit}\\left(  - p_1 + q_2 \\right), -1, 1 \\right)}{\\left| - p_1 + q_2\\right|} + \\frac{ - a_{1 5 1} p_1 p_2 \\mathrm{ifelse}\\left( \\mathrm{signbit}\\left(  - q_1 + q_2 \\right), -1, 1 \\right)}{\\left| - q_1 + q_2\\right|} + \\frac{ - a_{9 1} p_2 q_1 \\mathrm{ifelse}\\left( \\mathrm{signbit}\\left(  - q_1 + q_2 \\right), -1, 1 \\right)}{\\left| - q_1 + q_2\\right|} + \\frac{ - a_{1 1 2} p_1 q_2 \\mathrm{ifelse}\\left( \\mathrm{signbit}\\left(  - p_1 + q_2 \\right), -1, 1 \\right)}{\\left| - p_1 + q_2\\right|} + \\frac{ - a_{1 2 5} p_2 q_2 \\mathrm{ifelse}\\left( \\mathrm{signbit}\\left(  - p_2 + q_2 \\right), -1, 1 \\right)}{\\left| - p_2 + q_2\\right|} + \\frac{ - a_{1 2 7} p_2 q_2 \\mathrm{ifelse}\\left( \\mathrm{signbit}\\left(  - q_1 + q_2 \\right), -1, 1 \\right)}{\\left| - q_1 + q_2\\right|} - \\log\\left( \\left| - p_2 + p_1\\right| \\right) a_{1 8} - \\log\\left( \\left| - q_2 + q_1\\right| \\right) a_{1 3} - \\log\\left( \\left| - q_1 + p_1\\right| \\right) a_{2 0} - \\log\\left( \\left| - p_1 + q_1\\right| \\right) a_{1 4} - \\log\\left( \\left| - p_1 + q_2\\right| \\right) a_{1 6} - \\log\\left( \\left| - p_2 + q_1\\right| \\right) a_{1 5} - \\log\\left( \\left| - p_2 + q_2\\right| \\right) a_{1 7} - \\log\\left( \\left| - q_2 + p_1\\right| \\right) a_{2 2} - \\log\\left( \\left| - p_1 + p_2\\right| \\right) a_{2 4} - \\log\\left( \\left| - q_1 + q_2\\right| \\right) a_{1 9} - \\log\\left( \\left| - q_1 + p_2\\right| \\right) a_{2 1} - \\log\\left( \\left| - q_2 + p_2\\right| \\right) a_{2 3} - 2 \\log\\left( \\left| - p_1 + q_2\\right| \\right) a_{1 0 0} q_2 - \\log\\left( \\left| - q_1 + q_2\\right| \\right) a_{1 1 5} p_1 - \\log\\left( \\left| - p_2 + p_1\\right| \\right) a_{1 2 6} p_2 - \\log\\left( \\left| - p_1 + p_2\\right| \\right) a_{1 2 0} p_1 - \\log\\left( \\left| - p_1 + q_2\\right| \\right) a_{1 2 4} p_2 - \\log\\left( \\left| - p_2 + q_2\\right| \\right) a_{1 2 5} p_2 - \\log\\left( \\left| - q_1 + p_1\\right| \\right) a_{1 2 8} p_2 - \\log\\left( \\left| - p_1 + q_2\\right| \\right) a_{6 4} q_1 - \\log\\left( \\left| - q_1 + p_2\\right| \\right) a_{6 9} q_1 - \\log\\left( \\left| - q_1 + p_2\\right| \\right) a_{1 2 9} p_2 - \\log\\left( \\left| - q_2 + q_1\\right| \\right) a_{1 0 9} p_1 - \\log\\left( \\left| - q_2 + q_1\\right| \\right) a_{1 2 1} p_2 - 2 \\log\\left( \\left| - p_2 + p_1\\right| \\right) a_{1 0 2} q_2 - \\log\\left( \\left| - p_2 + p_1\\right| \\right) a_{1 1 4} p_1 - \\log\\left( \\left| - q_2 + p_2\\right| \\right) a_{1 1 9} p_1 - 2 \\log\\left( \\left| - q_1 + p_2\\right| \\right) a_{1 0 5} q_2 - \\log\\left( \\left| - q_2 + p_2\\right| \\right) a_{7 1} q_1 - 2 \\log\\left( \\left| - q_2 + p_2\\right| \\right) a_{1 0 7} q_2 - \\log\\left( \\left| - p_1 + q_1\\right| \\right) a_{6 2} q_1 - \\log\\left( \\left| - p_2 + q_1\\right| \\right) a_{6 3} q_1 - \\log\\left( \\left| - q_1 + q_2\\right| \\right) a_{6 7} q_1 - \\log\\left( \\left| - p_2 + q_2\\right| \\right) a_{1 1 3} p_1 - 2 \\log\\left( \\left| - p_2 + q_1\\right| \\right) a_{9 9} q_2 - 2 \\log\\left( \\left| - p_2 + q_2\\right| \\right) a_{1 0 1} q_2 - \\log\\left( \\left| - p_2 + q_1\\right| \\right) a_{1 1 1} p_1 - \\log\\left( \\left| - q_1 + p_1\\right| \\right) a_{6 8} q_1 - \\log\\left( \\left| - q_1 + p_1\\right| \\right) a_{1 1 6} p_1 - \\log\\left( \\left| - q_2 + p_1\\right| \\right) a_{1 1 8} p_1 - \\log\\left( \\left| - q_2 + p_1\\right| \\right) a_{1 3 0} p_2 - 2 \\log\\left( \\left| - p_1 + q_1\\right| \\right) a_{9 8} q_2 - \\log\\left( \\left| - q_2 + q_1\\right| \\right) a_{6 1} q_1 - 2 \\log\\left( \\left| - p_1 + p_2\\right| \\right) a_{1 0 8} q_2 - \\log\\left( \\left| - p_2 + p_1\\right| \\right) a_{6 6} q_1 - \\log\\left( \\left| - p_1 + q_1\\right| \\right) a_{1 1 0} p_1 - \\log\\left( \\left| - q_2 + p_1\\right| \\right) a_{7 0} q_1 - 2 \\log\\left( \\left| - q_1 + p_1\\right| \\right) a_{1 0 4} q_2 - 2 \\log\\left( \\left| - q_2 + p_1\\right| \\right) a_{1 0 6} q_2 - 2 \\log\\left( \\left| - q_2 + q_1\\right| \\right) a_{9 7} q_2 - \\log\\left( \\left| - p_1 + q_1\\right| \\right) a_{1 2 2} p_2 - \\log\\left( \\left| - p_2 + q_1\\right| \\right) a_{1 2 3} p_2 - \\log\\left( \\left| - p_2 + q_2\\right| \\right) a_{6 5} q_1 - \\log\\left( \\left| - q_1 + p_2\\right| \\right) a_{1 1 7} p_1 - \\log\\left( \\left| - q_2 + p_2\\right| \\right) a_{1 3 1} p_2 - \\log\\left( \\left| - p_1 + q_2\\right| \\right) a_{1 1 2} p_1 - \\log\\left( \\left| - q_1 + q_2\\right| \\right) a_{1 2 7} p_2 - \\log\\left( \\left| - p_1 + p_2\\right| \\right) a_{7 2} q_1 - \\log\\left( \\left| - p_1 + p_2\\right| \\right) a_{1 3 2} p_2 - 2 \\log\\left( \\left| - q_1 + q_2\\right| \\right) a_{1 0 3} q_2 \\\\\n",
       "\\end{array}\n",
       "\\right]\n",
       "\\end{equation}\n",
       " $$"
      ],
      "text/plain": [
       "4-element Vector{Num}:\n",
       "  ((q[1]^2)*a[58]*ifelse(signbit(p[1] - q[2]), -1, 1)) / abs(p[1] - q[2]) + ((p[1]^2)*a[138]*ifelse(signbit(p[1] - p[2]), -1, 1)) / abs(p[1] - p[2]) + ((p[2]^2)*a[162]*ifelse(signbit(p[1] - p[2]), -1, 1)) / abs(p[1] - p[2]) + (a[6]*q[1]*ifelse(signbit(p[1] - p[2]), -1, 1)) / abs(p[1] - p[2]) + ((p[2]^2)*a[164]*ifelse(signbit(p[1] - q[1]), -1, 1)) / abs(p[1] - q[1]) + ((p[1]^2)*a[142]*ifelse(signbit(p[1] - q[2]), -1, 1)) / abs(p[1] - q[2]) + ((q[1]^2)*a[54]*ifelse(signbit(p[1] - p[2]), -1, 1)) / abs(p[1] - p[2]) + ((q[2]^2)*a[102]*ifelse(signbit(p[1] - p[2]), -1, 1)) / abs(p[1] - p[2]) + ((q[2]^2)*a[106]*ifelse(signbit(p[1] - q[2]), -1, 1)) / abs(p[1] - q[2]) + (a[22]*q[2]*ifelse(signbit(p[1] - q[2]), -1, 1)) / abs(p[1] - q[2]) + (a[30]*p[1]*ifelse(signbit(p[1] - p[2]), -1, 1)) / abs(p[1] - p[2]) + ((q[1]^2)*a[56]*ifelse(signbit(p[1] - q[1]), -1, 1)) / abs(p[1] - q[1]) + ((p[1]^2)*a[140]*ifelse(signbit(p[1] - q[1]), -1, 1)) / abs(p[1] - q[1]) + (a[34]*p[1]*ifelse(signbit(p[1] - q[2]), -1, 1)) / abs(p[1] - q[2]) + (a[42]*p[2]*ifelse(signbit(p[1] - p[2]), -1, 1)) / abs(p[1] - p[2]) + (a[18]*q[2]*ifelse(signbit(p[1] - p[2]), -1, 1)) / abs(p[1] - p[2]) + (a[8]*q[1]*ifelse(signbit(p[1] - q[1]), -1, 1)) / abs(p[1] - q[1]) + ((p[2]^2)*a[166]*ifelse(signbit(p[1] - q[2]), -1, 1)) / abs(p[1] - q[2]) + ((q[2]^2)*a[104]*ifelse(signbit(p[1] - q[1]), -1, 1)) / abs(p[1] - q[1]) + (a[20]*q[2]*ifelse(signbit(p[1] - q[1]), -1, 1)) / abs(p[1] - q[1]) + (a[10]*q[1]*ifelse(signbit(p[1] - q[2]), -1, 1)) / abs(p[1] - q[2]) + (a[32]*p[1]*ifelse(signbit(p[1] - q[1]), -1, 1)) / abs(p[1] - q[1]) + (a[44]*p[2]*ifelse(signbit(p[1] - q[1]), -1, 1)) / abs(p[1] - q[1]) + (a[46]*p[2]*ifelse(signbit(p[1] - q[2]), -1, 1)) / abs(p[1] - q[2]) + (-(p[2]^2)*a[168]*ifelse(signbit(p[2] - p[1]), -1, 1)) / abs(p[2] - p[1]) + (-(q[1]^2)*a[50]*ifelse(signbit(q[1] - p[1]), -1, 1)) / abs(q[1] - p[1]) + (-(p[1]^2)*a[144]*ifelse(signbit(p[2] - p[1]), -1, 1)) / abs(p[2] - p[1]) + (-(p[2]^2)*a[158]*ifelse(signbit(q[1] - p[1]), -1, 1)) / abs(q[1] - p[1]) + (-a[26]*p[1]*ifelse(signbit(q[1] - p[1]), -1, 1)) / abs(q[1] - p[1]) + (-a[38]*p[2]*ifelse(signbit(q[1] - p[1]), -1, 1)) / abs(q[1] - p[1]) + (-a[48]*p[2]*ifelse(signbit(p[2] - p[1]), -1, 1)) / abs(p[2] - p[1]) + (-(q[2]^2)*a[100]*ifelse(signbit(q[2] - p[1]), -1, 1)) / abs(q[2] - p[1]) + (a[90]*p[2]*q[1]*ifelse(signbit(p[1] - p[2]), -1, 1)) / abs(p[1] - p[2]) + (-a[14]*q[2]*ifelse(signbit(q[1] - p[1]), -1, 1)) / abs(q[1] - p[1]) + (a[116]*p[1]*q[2]*ifelse(signbit(p[1] - q[1]), -1, 1)) / abs(p[1] - q[1]) + (a[118]*p[1]*q[2]*ifelse(signbit(p[1] - q[2]), -1, 1)) / abs(p[1] - q[2]) + (a[128]*p[2]*q[2]*ifelse(signbit(p[1] - q[1]), -1, 1)) / abs(p[1] - q[1]) + (-(p[2]^2)*a[160]*ifelse(signbit(q[2] - p[1]), -1, 1)) / abs(q[2] - p[1]) + (-a[4]*q[1]*ifelse(signbit(q[2] - p[1]), -1, 1)) / abs(q[2] - p[1]) + (-a[16]*q[2]*ifelse(signbit(q[2] - p[1]), -1, 1)) / abs(q[2] - p[1]) + (a[70]*q[1]*q[2]*ifelse(signbit(p[1] - q[2]), -1, 1)) / abs(p[1] - q[2]) + (-(p[1]^2)*a[134]*ifelse(signbit(q[1] - p[1]), -1, 1)) / abs(q[1] - p[1]) + (a[150]*p[1]*p[2]*ifelse(signbit(p[1] - p[2]), -1, 1)) / abs(p[1] - p[2]) + (-(q[1]^2)*a[52]*ifelse(signbit(q[2] - p[1]), -1, 1)) / abs(q[2] - p[1]) + (-(q[1]^2)*a[60]*ifelse(signbit(p[2] - p[1]), -1, 1)) / abs(p[2] - p[1]) + (-(q[2]^2)*a[108]*ifelse(signbit(p[2] - p[1]), -1, 1)) / abs(p[2] - p[1]) + (a[154]*p[1]*p[2]*ifelse(signbit(p[1] - q[2]), -1, 1)) / abs(p[1] - q[2]) + (a[92]*p[2]*q[1]*ifelse(signbit(p[1] - q[1]), -1, 1)) / abs(p[1] - q[1]) + (a[130]*p[2]*q[2]*ifelse(signbit(p[1] - q[2]), -1, 1)) / abs(p[1] - q[2]) + (-a[24]*q[2]*ifelse(signbit(p[2] - p[1]), -1, 1)) / abs(p[2] - p[1]) + (-a[36]*p[1]*ifelse(signbit(p[2] - p[1]), -1, 1)) / abs(p[2] - p[1]) + (-(q[2]^2)*a[98]*ifelse(signbit(q[1] - p[1]), -1, 1)) / abs(q[1] - p[1]) + (-a[28]*p[1]*ifelse(signbit(q[2] - p[1]), -1, 1)) / abs(q[2] - p[1]) + (-a[12]*q[1]*ifelse(signbit(p[2] - p[1]), -1, 1)) / abs(p[2] - p[1]) + (-a[2]*q[1]*ifelse(signbit(q[1] - p[1]), -1, 1)) / abs(q[1] - p[1]) + (a[114]*p[1]*q[2]*ifelse(signbit(p[1] - p[2]), -1, 1)) / abs(p[1] - p[2]) + (a[68]*q[1]*q[2]*ifelse(signbit(p[1] - q[1]), -1, 1)) / abs(p[1] - q[1]) + (a[80]*p[1]*q[1]*ifelse(signbit(p[1] - q[1]), -1, 1)) / abs(p[1] - q[1]) + (a[82]*p[1]*q[1]*ifelse(signbit(p[1] - q[2]), -1, 1)) / abs(p[1] - q[2]) + (-a[40]*p[2]*ifelse(signbit(q[2] - p[1]), -1, 1)) / abs(q[2] - p[1]) + (a[66]*q[1]*q[2]*ifelse(signbit(p[1] - p[2]), -1, 1)) / abs(p[1] - p[2]) + (a[152]*p[1]*p[2]*ifelse(signbit(p[1] - q[1]), -1, 1)) / abs(p[1] - q[1]) + (a[78]*p[1]*q[1]*ifelse(signbit(p[1] - p[2]), -1, 1)) / abs(p[1] - p[2]) + (a[94]*p[2]*q[1]*ifelse(signbit(p[1] - q[2]), -1, 1)) / abs(p[1] - q[2]) + (a[126]*p[2]*q[2]*ifelse(signbit(p[1] - p[2]), -1, 1)) / abs(p[1] - p[2]) + (-(p[1]^2)*a[136]*ifelse(signbit(q[2] - p[1]), -1, 1)) / abs(q[2] - p[1]) + (-a[156]*p[1]*p[2]*ifelse(signbit(p[2] - p[1]), -1, 1)) / abs(p[2] - p[1]) + (-a[146]*p[1]*p[2]*ifelse(signbit(q[1] - p[1]), -1, 1)) / abs(q[1] - p[1]) + (-a[84]*p[1]*q[1]*ifelse(signbit(p[2] - p[1]), -1, 1)) / abs(p[2] - p[1]) + (-a[64]*q[1]*q[2]*ifelse(signbit(q[2] - p[1]), -1, 1)) / abs(q[2] - p[1]) + (-a[74]*p[1]*q[1]*ifelse(signbit(q[1] - p[1]), -1, 1)) / abs(q[1] - p[1]) + (-a[72]*q[1]*q[2]*ifelse(signbit(p[2] - p[1]), -1, 1)) / abs(p[2] - p[1]) + (-a[112]*p[1]*q[2]*ifelse(signbit(q[2] - p[1]), -1, 1)) / abs(q[2] - p[1]) + (-a[120]*p[1]*q[2]*ifelse(signbit(p[2] - p[1]), -1, 1)) / abs(p[2] - p[1]) + (-a[132]*p[2]*q[2]*ifelse(signbit(p[2] - p[1]), -1, 1)) / abs(p[2] - p[1]) + (-a[148]*p[1]*p[2]*ifelse(signbit(q[2] - p[1]), -1, 1)) / abs(q[2] - p[1]) + (-a[76]*p[1]*q[1]*ifelse(signbit(q[2] - p[1]), -1, 1)) / abs(q[2] - p[1]) + (-a[124]*p[2]*q[2]*ifelse(signbit(q[2] - p[1]), -1, 1)) / abs(q[2] - p[1]) + (-a[62]*q[1]*q[2]*ifelse(signbit(q[1] - p[1]), -1, 1)) / abs(q[1] - p[1]) + (-a[86]*p[2]*q[1]*ifelse(signbit(q[1] - p[1]), -1, 1)) / abs(q[1] - p[1]) + (-a[88]*p[2]*q[1]*ifelse(signbit(q[2] - p[1]), -1, 1)) / abs(q[2] - p[1]) + (-a[96]*p[2]*q[1]*ifelse(signbit(p[2] - p[1]), -1, 1)) / abs(p[2] - p[1]) + (-a[110]*p[1]*q[2]*ifelse(signbit(q[1] - p[1]), -1, 1)) / abs(q[1] - p[1]) + (-a[122]*p[2]*q[2]*ifelse(signbit(q[1] - p[1]), -1, 1)) / abs(q[1] - p[1]) + log(abs(q[2] - p[1]))*a[28] + log(abs(p[1] - p[2]))*a[30] + log(abs(p[1] - q[1]))*a[32] + log(abs(p[1] - q[2]))*a[34] + log(abs(p[2] - q[1]))*a[33] + log(abs(p[2] - q[2]))*a[35] + log(abs(p[2] - p[1]))*a[36] + log(abs(q[1] - p[1]))*a[26] + log(abs(q[1] - p[2]))*a[27] + log(abs(q[2] - p[2]))*a[29] + log(abs(q[1] - q[2]))*a[25] + log(abs(q[2] - q[1]))*a[31] + log(abs(p[1] - q[1]))*a[80]*q[1] + log(abs(p[2] - q[1]))*a[81]*q[1] + log(abs(q[1] - q[2]))*a[73]*q[1] + log(abs(p[2] - p[1]))*a[84]*q[1] + log(abs(p[1] - q[2]))*a[82]*q[1] + log(abs(q[1] - q[2]))*a[109]*q[2] + log(abs(q[1] - p[2]))*a[147]*p[2] + log(abs(q[1] - p[2]))*a[111]*q[2] + log(abs(q[2] - p[1]))*a[76]*q[1] + log(abs(q[2] - p[2]))*a[77]*q[1] + log(abs(p[1] - q[1]))*a[116]*q[2] + log(abs(p[2] - q[2]))*a[119]*q[2] + log(abs(q[1] - p[1]))*a[74]*q[1] + log(abs(q[1] - p[1]))*a[110]*q[2] + log(abs(q[2] - p[2]))*a[113]*q[2] + log(abs(p[1] - p[2]))*a[150]*p[2] + log(abs(p[2] - q[1]))*a[153]*p[2] + log(abs(q[1] - q[2]))*a[145]*p[2] + log(abs(q[2] - q[1]))*a[115]*q[2] + log(abs(p[2] - p[1]))*a[156]*p[2] + log(abs(p[2] - q[2]))*a[83]*q[1] + log(abs(q[1] - p[1]))*a[146]*p[2] + log(abs(q[2] - p[1]))*a[148]*p[2] + log(abs(q[2] - p[2]))*a[149]*p[2] + log(abs(q[2] - q[1]))*a[151]*p[2] + log(abs(p[1] - q[1]))*a[152]*p[2] + log(abs(p[1] - q[2]))*a[154]*p[2] + log(abs(p[2] - q[1]))*a[117]*q[2] + log(abs(p[2] - q[2]))*a[155]*p[2] + log(abs(p[1] - q[2]))*a[118]*q[2] + log(abs(q[2] - p[1]))*a[112]*q[2] + log(abs(q[1] - p[2]))*a[75]*q[1] + log(abs(p[1] - p[2]))*a[78]*q[1] + log(abs(q[2] - q[1]))*a[79]*q[1] + log(abs(p[2] - p[1]))*a[120]*q[2] + log(abs(p[1] - p[2]))*a[114]*q[2] + 2log(abs(p[1] - q[2]))*a[142]*p[1] + 2log(abs(p[2] - p[1]))*a[144]*p[1] + 2log(abs(q[1] - p[1]))*a[134]*p[1] + 2log(abs(q[1] - q[2]))*a[133]*p[1] + 2log(abs(p[2] - q[1]))*a[141]*p[1] + 2log(abs(q[1] - p[2]))*a[135]*p[1] + 2log(abs(q[2] - p[1]))*a[136]*p[1] + 2log(abs(p[1] - p[2]))*a[138]*p[1] + 2log(abs(p[1] - q[1]))*a[140]*p[1] + 2log(abs(p[2] - q[2]))*a[143]*p[1] + 2log(abs(q[2] - p[2]))*a[137]*p[1] + 2log(abs(q[2] - q[1]))*a[139]*p[1]\n",
       " ((q[2]^2)*a[105]*ifelse(signbit(p[2] - q[1]), -1, 1)) / abs(p[2] - q[1]) + ((p[1]^2)*a[144]*ifelse(signbit(p[2] - p[1]), -1, 1)) / abs(p[2] - p[1]) + ((q[1]^2)*a[57]*ifelse(signbit(p[2] - q[1]), -1, 1)) / abs(p[2] - q[1]) + ((p[2]^2)*a[168]*ifelse(signbit(p[2] - p[1]), -1, 1)) / abs(p[2] - p[1]) + ((p[1]^2)*a[141]*ifelse(signbit(p[2] - q[1]), -1, 1)) / abs(p[2] - q[1]) + (a[33]*p[1]*ifelse(signbit(p[2] - q[1]), -1, 1)) / abs(p[2] - q[1]) + ((q[1]^2)*a[59]*ifelse(signbit(p[2] - q[2]), -1, 1)) / abs(p[2] - q[2]) + (a[12]*q[1]*ifelse(signbit(p[2] - p[1]), -1, 1)) / abs(p[2] - p[1]) + ((p[2]^2)*a[165]*ifelse(signbit(p[2] - q[1]), -1, 1)) / abs(p[2] - q[1]) + ((q[2]^2)*a[107]*ifelse(signbit(p[2] - q[2]), -1, 1)) / abs(p[2] - q[2]) + ((p[1]^2)*a[143]*ifelse(signbit(p[2] - q[2]), -1, 1)) / abs(p[2] - q[2]) + ((p[2]^2)*a[167]*ifelse(signbit(p[2] - q[2]), -1, 1)) / abs(p[2] - q[2]) + ((q[1]^2)*a[60]*ifelse(signbit(p[2] - p[1]), -1, 1)) / abs(p[2] - p[1]) + ((q[2]^2)*a[108]*ifelse(signbit(p[2] - p[1]), -1, 1)) / abs(p[2] - p[1]) + (a[11]*q[1]*ifelse(signbit(p[2] - q[2]), -1, 1)) / abs(p[2] - q[2]) + (a[23]*q[2]*ifelse(signbit(p[2] - q[2]), -1, 1)) / abs(p[2] - q[2]) + (a[45]*p[2]*ifelse(signbit(p[2] - q[1]), -1, 1)) / abs(p[2] - q[1]) + (a[35]*p[1]*ifelse(signbit(p[2] - q[2]), -1, 1)) / abs(p[2] - q[2]) + (a[47]*p[2]*ifelse(signbit(p[2] - q[2]), -1, 1)) / abs(p[2] - q[2]) + (a[9]*q[1]*ifelse(signbit(p[2] - q[1]), -1, 1)) / abs(p[2] - q[1]) + (a[21]*q[2]*ifelse(signbit(p[2] - q[1]), -1, 1)) / abs(p[2] - q[1]) + (a[48]*p[2]*ifelse(signbit(p[2] - p[1]), -1, 1)) / abs(p[2] - p[1]) + (a[24]*q[2]*ifelse(signbit(p[2] - p[1]), -1, 1)) / abs(p[2] - p[1]) + (a[36]*p[1]*ifelse(signbit(p[2] - p[1]), -1, 1)) / abs(p[2] - p[1]) + (-(q[2]^2)*a[102]*ifelse(signbit(p[1] - p[2]), -1, 1)) / abs(p[1] - p[2]) + (-a[6]*q[1]*ifelse(signbit(p[1] - p[2]), -1, 1)) / abs(p[1] - p[2]) + (-(q[1]^2)*a[51]*ifelse(signbit(q[1] - p[2]), -1, 1)) / abs(q[1] - p[2]) + (-a[42]*p[2]*ifelse(signbit(p[1] - p[2]), -1, 1)) / abs(p[1] - p[2]) + (-(p[1]^2)*a[135]*ifelse(signbit(q[1] - p[2]), -1, 1)) / abs(q[1] - p[2]) + (-(q[1]^2)*a[53]*ifelse(signbit(q[2] - p[2]), -1, 1)) / abs(q[2] - p[2]) + (-(p[2]^2)*a[162]*ifelse(signbit(p[1] - p[2]), -1, 1)) / abs(p[1] - p[2]) + (a[153]*p[1]*p[2]*ifelse(signbit(p[2] - q[1]), -1, 1)) / abs(p[2] - q[1]) + (-a[3]*q[1]*ifelse(signbit(q[1] - p[2]), -1, 1)) / abs(q[1] - p[2]) + (-a[17]*q[2]*ifelse(signbit(q[2] - p[2]), -1, 1)) / abs(q[2] - p[2]) + (-a[30]*p[1]*ifelse(signbit(p[1] - p[2]), -1, 1)) / abs(p[1] - p[2]) + (-a[39]*p[2]*ifelse(signbit(q[1] - p[2]), -1, 1)) / abs(q[1] - p[2]) + (a[96]*p[2]*q[1]*ifelse(signbit(p[2] - p[1]), -1, 1)) / abs(p[2] - p[1]) + (a[120]*p[1]*q[2]*ifelse(signbit(p[2] - p[1]), -1, 1)) / abs(p[2] - p[1]) + (a[129]*p[2]*q[2]*ifelse(signbit(p[2] - q[1]), -1, 1)) / abs(p[2] - q[1]) + (a[71]*q[1]*q[2]*ifelse(signbit(p[2] - q[2]), -1, 1)) / abs(p[2] - q[2]) + (a[72]*q[1]*q[2]*ifelse(signbit(p[2] - p[1]), -1, 1)) / abs(p[2] - p[1]) + (-(p[2]^2)*a[159]*ifelse(signbit(q[1] - p[2]), -1, 1)) / abs(q[1] - p[2]) + (-a[29]*p[1]*ifelse(signbit(q[2] - p[2]), -1, 1)) / abs(q[2] - p[2]) + (-a[5]*q[1]*ifelse(signbit(q[2] - p[2]), -1, 1)) / abs(q[2] - p[2]) + (a[132]*p[2]*q[2]*ifelse(signbit(p[2] - p[1]), -1, 1)) / abs(p[2] - p[1]) + (-(p[1]^2)*a[138]*ifelse(signbit(p[1] - p[2]), -1, 1)) / abs(p[1] - p[2]) + (-(q[2]^2)*a[101]*ifelse(signbit(q[2] - p[2]), -1, 1)) / abs(q[2] - p[2]) + (-(p[1]^2)*a[137]*ifelse(signbit(q[2] - p[2]), -1, 1)) / abs(q[2] - p[2]) + (-(q[2]^2)*a[99]*ifelse(signbit(q[1] - p[2]), -1, 1)) / abs(q[1] - p[2]) + (-a[41]*p[2]*ifelse(signbit(q[2] - p[2]), -1, 1)) / abs(q[2] - p[2]) + (a[81]*p[1]*q[1]*ifelse(signbit(p[2] - q[1]), -1, 1)) / abs(p[2] - q[1]) + (-a[18]*q[2]*ifelse(signbit(p[1] - p[2]), -1, 1)) / abs(p[1] - p[2]) + (a[119]*p[1]*q[2]*ifelse(signbit(p[2] - q[2]), -1, 1)) / abs(p[2] - q[2]) + (a[93]*p[2]*q[1]*ifelse(signbit(p[2] - q[1]), -1, 1)) / abs(p[2] - q[1]) + (a[131]*p[2]*q[2]*ifelse(signbit(p[2] - q[2]), -1, 1)) / abs(p[2] - q[2]) + (a[156]*p[1]*p[2]*ifelse(signbit(p[2] - p[1]), -1, 1)) / abs(p[2] - p[1]) + (-a[15]*q[2]*ifelse(signbit(q[1] - p[2]), -1, 1)) / abs(q[1] - p[2]) + (a[84]*p[1]*q[1]*ifelse(signbit(p[2] - p[1]), -1, 1)) / abs(p[2] - p[1]) + (-(p[2]^2)*a[161]*ifelse(signbit(q[2] - p[2]), -1, 1)) / abs(q[2] - p[2]) + (-(q[1]^2)*a[54]*ifelse(signbit(p[1] - p[2]), -1, 1)) / abs(p[1] - p[2]) + (a[69]*q[1]*q[2]*ifelse(signbit(p[2] - q[1]), -1, 1)) / abs(p[2] - q[1]) + (a[83]*p[1]*q[1]*ifelse(signbit(p[2] - q[2]), -1, 1)) / abs(p[2] - q[2]) + (-a[27]*p[1]*ifelse(signbit(q[1] - p[2]), -1, 1)) / abs(q[1] - p[2]) + (a[95]*p[2]*q[1]*ifelse(signbit(p[2] - q[2]), -1, 1)) / abs(p[2] - q[2]) + (a[155]*p[1]*p[2]*ifelse(signbit(p[2] - q[2]), -1, 1)) / abs(p[2] - q[2]) + (a[117]*p[1]*q[2]*ifelse(signbit(p[2] - q[1]), -1, 1)) / abs(p[2] - q[1]) + (-a[78]*p[1]*q[1]*ifelse(signbit(p[1] - p[2]), -1, 1)) / abs(p[1] - p[2]) + (-a[113]*p[1]*q[2]*ifelse(signbit(q[2] - p[2]), -1, 1)) / abs(q[2] - p[2]) + (-a[114]*p[1]*q[2]*ifelse(signbit(p[1] - p[2]), -1, 1)) / abs(p[1] - p[2]) + (-a[147]*p[1]*p[2]*ifelse(signbit(q[1] - p[2]), -1, 1)) / abs(q[1] - p[2]) + (-a[149]*p[1]*p[2]*ifelse(signbit(q[2] - p[2]), -1, 1)) / abs(q[2] - p[2]) + (-a[75]*p[1]*q[1]*ifelse(signbit(q[1] - p[2]), -1, 1)) / abs(q[1] - p[2]) + (-a[87]*p[2]*q[1]*ifelse(signbit(q[1] - p[2]), -1, 1)) / abs(q[1] - p[2]) + (-a[77]*p[1]*q[1]*ifelse(signbit(q[2] - p[2]), -1, 1)) / abs(q[2] - p[2]) + (-a[90]*p[2]*q[1]*ifelse(signbit(p[1] - p[2]), -1, 1)) / abs(p[1] - p[2]) + (-a[89]*p[2]*q[1]*ifelse(signbit(q[2] - p[2]), -1, 1)) / abs(q[2] - p[2]) + (-a[125]*p[2]*q[2]*ifelse(signbit(q[2] - p[2]), -1, 1)) / abs(q[2] - p[2]) + (-a[65]*q[1]*q[2]*ifelse(signbit(q[2] - p[2]), -1, 1)) / abs(q[2] - p[2]) + (-a[150]*p[1]*p[2]*ifelse(signbit(p[1] - p[2]), -1, 1)) / abs(p[1] - p[2]) + (-a[111]*p[1]*q[2]*ifelse(signbit(q[1] - p[2]), -1, 1)) / abs(q[1] - p[2]) + (-a[123]*p[2]*q[2]*ifelse(signbit(q[1] - p[2]), -1, 1)) / abs(q[1] - p[2]) + (-a[126]*p[2]*q[2]*ifelse(signbit(p[1] - p[2]), -1, 1)) / abs(p[1] - p[2]) + (-a[63]*q[1]*q[2]*ifelse(signbit(q[1] - p[2]), -1, 1)) / abs(q[1] - p[2]) + (-a[66]*q[1]*q[2]*ifelse(signbit(p[1] - p[2]), -1, 1)) / abs(p[1] - p[2]) + log(abs(q[2] - p[1]))*a[40] + log(abs(q[2] - p[2]))*a[41] + log(abs(p[1] - p[2]))*a[42] + log(abs(q[2] - q[1]))*a[43] + log(abs(q[1] - q[2]))*a[37] + log(abs(p[1] - q[2]))*a[46] + log(abs(p[2] - q[2]))*a[47] + log(abs(q[1] - p[1]))*a[38] + log(abs(p[2] - p[1]))*a[48] + log(abs(p[1] - q[1]))*a[44] + log(abs(p[2] - q[1]))*a[45] + log(abs(q[1] - p[2]))*a[39] + log(abs(p[2] - p[1]))*a[96]*q[1] + log(abs(q[1] - p[1]))*a[86]*q[1] + log(abs(q[1] - q[2]))*a[121]*q[2] + log(abs(q[2] - p[1]))*a[148]*p[1] + log(abs(p[1] - p[2]))*a[126]*q[2] + log(abs(p[1] - q[1]))*a[128]*q[2] + log(abs(p[1] - q[2]))*a[130]*q[2] + log(abs(p[2] - q[2]))*a[131]*q[2] + log(abs(p[1] - p[2]))*a[150]*p[1] + log(abs(p[1] - q[1]))*a[152]*p[1] + log(abs(q[1] - p[1]))*a[146]*p[1] + log(abs(q[1] - p[1]))*a[122]*q[2] + log(abs(q[1] - p[2]))*a[123]*q[2] + log(abs(p[2] - q[1]))*a[153]*p[1] + log(abs(q[1] - q[2]))*a[85]*q[1] + log(abs(p[1] - p[2]))*a[90]*q[1] + log(abs(q[2] - p[1]))*a[88]*q[1] + log(abs(p[2] - q[1]))*a[129]*q[2] + log(abs(q[2] - q[1]))*a[91]*q[1] + log(abs(q[1] - p[2]))*a[147]*p[1] + log(abs(q[1] - q[2]))*a[145]*p[1] + log(abs(q[2] - p[2]))*a[125]*q[2] + log(abs(q[2] - p[2]))*a[149]*p[1] + log(abs(p[2] - p[1]))*a[132]*q[2] + log(abs(p[1] - q[2]))*a[154]*p[1] + log(abs(p[2] - q[2]))*a[95]*q[1] + log(abs(p[2] - p[1]))*a[156]*p[1] + log(abs(p[1] - q[1]))*a[92]*q[1] + log(abs(p[2] - q[1]))*a[93]*q[1] + log(abs(q[2] - q[1]))*a[151]*p[1] + log(abs(p[2] - q[2]))*a[155]*p[1] + log(abs(p[1] - q[2]))*a[94]*q[1] + log(abs(q[1] - p[2]))*a[87]*q[1] + log(abs(q[2] - p[1]))*a[124]*q[2] + log(abs(q[2] - p[2]))*a[89]*q[1] + log(abs(q[2] - q[1]))*a[127]*q[2] + 2log(abs(p[1] - p[2]))*a[162]*p[2] + 2log(abs(q[1] - p[2]))*a[159]*p[2] + 2log(abs(p[1] - q[1]))*a[164]*p[2] + 2log(abs(p[2] - q[1]))*a[165]*p[2] + 2log(abs(q[1] - p[1]))*a[158]*p[2] + 2log(abs(q[2] - p[1]))*a[160]*p[2] + 2log(abs(q[2] - p[2]))*a[161]*p[2] + 2log(abs(p[2] - p[1]))*a[168]*p[2] + 2log(abs(p[1] - q[2]))*a[166]*p[2] + 2log(abs(p[2] - q[2]))*a[167]*p[2] + 2log(abs(q[2] - q[1]))*a[163]*p[2] + 2log(abs(q[1] - q[2]))*a[157]*p[2]\n",
       "  ((q[1]^2)*a[55]*ifelse(signbit(q[2] - q[1]), -1, 1)) / abs(q[2] - q[1]) + ((q[2]^2)*a[104]*ifelse(signbit(p[1] - q[1]), -1, 1)) / abs(p[1] - q[1]) + ((p[1]^2)*a[141]*ifelse(signbit(p[2] - q[1]), -1, 1)) / abs(p[2] - q[1]) + ((q[2]^2)*a[103]*ifelse(signbit(q[2] - q[1]), -1, 1)) / abs(q[2] - q[1]) + ((p[1]^2)*a[139]*ifelse(signbit(q[2] - q[1]), -1, 1)) / abs(q[2] - q[1]) + ((p[1]^2)*a[140]*ifelse(signbit(p[1] - q[1]), -1, 1)) / abs(p[1] - q[1]) + ((p[2]^2)*a[165]*ifelse(signbit(p[2] - q[1]), -1, 1)) / abs(p[2] - q[1]) + (a[7]*q[1]*ifelse(signbit(q[2] - q[1]), -1, 1)) / abs(q[2] - q[1]) + (a[32]*p[1]*ifelse(signbit(p[1] - q[1]), -1, 1)) / abs(p[1] - q[1]) + (a[44]*p[2]*ifelse(signbit(p[1] - q[1]), -1, 1)) / abs(p[1] - q[1]) + ((q[1]^2)*a[57]*ifelse(signbit(p[2] - q[1]), -1, 1)) / abs(p[2] - q[1]) + ((q[2]^2)*a[105]*ifelse(signbit(p[2] - q[1]), -1, 1)) / abs(p[2] - q[1]) + ((p[2]^2)*a[164]*ifelse(signbit(p[1] - q[1]), -1, 1)) / abs(p[1] - q[1]) + (a[33]*p[1]*ifelse(signbit(p[2] - q[1]), -1, 1)) / abs(p[2] - q[1]) + (a[43]*p[2]*ifelse(signbit(q[2] - q[1]), -1, 1)) / abs(q[2] - q[1]) + (a[45]*p[2]*ifelse(signbit(p[2] - q[1]), -1, 1)) / abs(p[2] - q[1]) + ((p[2]^2)*a[163]*ifelse(signbit(q[2] - q[1]), -1, 1)) / abs(q[2] - q[1]) + ((q[1]^2)*a[56]*ifelse(signbit(p[1] - q[1]), -1, 1)) / abs(p[1] - q[1]) + (a[8]*q[1]*ifelse(signbit(p[1] - q[1]), -1, 1)) / abs(p[1] - q[1]) + (a[9]*q[1]*ifelse(signbit(p[2] - q[1]), -1, 1)) / abs(p[2] - q[1]) + (a[19]*q[2]*ifelse(signbit(q[2] - q[1]), -1, 1)) / abs(q[2] - q[1]) + (a[20]*q[2]*ifelse(signbit(p[1] - q[1]), -1, 1)) / abs(p[1] - q[1]) + (a[21]*q[2]*ifelse(signbit(p[2] - q[1]), -1, 1)) / abs(p[2] - q[1]) + (a[31]*p[1]*ifelse(signbit(q[2] - q[1]), -1, 1)) / abs(q[2] - q[1]) + (-(p[2]^2)*a[157]*ifelse(signbit(q[1] - q[2]), -1, 1)) / abs(q[1] - q[2]) + (-(q[1]^2)*a[51]*ifelse(signbit(q[1] - p[2]), -1, 1)) / abs(q[1] - p[2]) + (-a[1]*q[1]*ifelse(signbit(q[1] - q[2]), -1, 1)) / abs(q[1] - q[2]) + (a[81]*p[1]*q[1]*ifelse(signbit(p[2] - q[1]), -1, 1)) / abs(p[2] - q[1]) + (-a[38]*p[2]*ifelse(signbit(q[1] - p[1]), -1, 1)) / abs(q[1] - p[1]) + (a[129]*p[2]*q[2]*ifelse(signbit(p[2] - q[1]), -1, 1)) / abs(p[2] - q[1]) + (-a[15]*q[2]*ifelse(signbit(q[1] - p[2]), -1, 1)) / abs(q[1] - p[2]) + (-a[27]*p[1]*ifelse(signbit(q[1] - p[2]), -1, 1)) / abs(q[1] - p[2]) + (a[67]*q[1]*q[2]*ifelse(signbit(q[2] - q[1]), -1, 1)) / abs(q[2] - q[1]) + (a[69]*q[1]*q[2]*ifelse(signbit(p[2] - q[1]), -1, 1)) / abs(p[2] - q[1]) + (-(p[1]^2)*a[134]*ifelse(signbit(q[1] - p[1]), -1, 1)) / abs(q[1] - p[1]) + (a[80]*p[1]*q[1]*ifelse(signbit(p[1] - q[1]), -1, 1)) / abs(p[1] - q[1]) + (a[92]*p[2]*q[1]*ifelse(signbit(p[1] - q[1]), -1, 1)) / abs(p[1] - q[1]) + (-(q[1]^2)*a[49]*ifelse(signbit(q[1] - q[2]), -1, 1)) / abs(q[1] - q[2]) + (a[117]*p[1]*q[2]*ifelse(signbit(p[2] - q[1]), -1, 1)) / abs(p[2] - q[1]) + (-a[3]*q[1]*ifelse(signbit(q[1] - p[2]), -1, 1)) / abs(q[1] - p[2]) + (a[153]*p[1]*p[2]*ifelse(signbit(p[2] - q[1]), -1, 1)) / abs(p[2] - q[1]) + (a[116]*p[1]*q[2]*ifelse(signbit(p[1] - q[1]), -1, 1)) / abs(p[1] - q[1]) + (-(q[1]^2)*a[50]*ifelse(signbit(q[1] - p[1]), -1, 1)) / abs(q[1] - p[1]) + (-a[26]*p[1]*ifelse(signbit(q[1] - p[1]), -1, 1)) / abs(q[1] - p[1]) + (a[79]*p[1]*q[1]*ifelse(signbit(q[2] - q[1]), -1, 1)) / abs(q[2] - q[1]) + (a[93]*p[2]*q[1]*ifelse(signbit(p[2] - q[1]), -1, 1)) / abs(p[2] - q[1]) + (a[127]*p[2]*q[2]*ifelse(signbit(q[2] - q[1]), -1, 1)) / abs(q[2] - q[1]) + (a[128]*p[2]*q[2]*ifelse(signbit(p[1] - q[1]), -1, 1)) / abs(p[1] - q[1]) + (-(q[2]^2)*a[99]*ifelse(signbit(q[1] - p[2]), -1, 1)) / abs(q[1] - p[2]) + (-(p[2]^2)*a[159]*ifelse(signbit(q[1] - p[2]), -1, 1)) / abs(q[1] - p[2]) + (-a[39]*p[2]*ifelse(signbit(q[1] - p[2]), -1, 1)) / abs(q[1] - p[2]) + (-a[14]*q[2]*ifelse(signbit(q[1] - p[1]), -1, 1)) / abs(q[1] - p[1]) + (a[115]*p[1]*q[2]*ifelse(signbit(q[2] - q[1]), -1, 1)) / abs(q[2] - q[1]) + (a[151]*p[1]*p[2]*ifelse(signbit(q[2] - q[1]), -1, 1)) / abs(q[2] - q[1]) + (a[152]*p[1]*p[2]*ifelse(signbit(p[1] - q[1]), -1, 1)) / abs(p[1] - q[1]) + (-a[25]*p[1]*ifelse(signbit(q[1] - q[2]), -1, 1)) / abs(q[1] - q[2]) + (-a[2]*q[1]*ifelse(signbit(q[1] - p[1]), -1, 1)) / abs(q[1] - p[1]) + (a[68]*q[1]*q[2]*ifelse(signbit(p[1] - q[1]), -1, 1)) / abs(p[1] - q[1]) + (-(q[2]^2)*a[97]*ifelse(signbit(q[1] - q[2]), -1, 1)) / abs(q[1] - q[2]) + (-(p[2]^2)*a[158]*ifelse(signbit(q[1] - p[1]), -1, 1)) / abs(q[1] - p[1]) + (-(q[2]^2)*a[98]*ifelse(signbit(q[1] - p[1]), -1, 1)) / abs(q[1] - p[1]) + (-(p[1]^2)*a[135]*ifelse(signbit(q[1] - p[2]), -1, 1)) / abs(q[1] - p[2]) + (-a[37]*p[2]*ifelse(signbit(q[1] - q[2]), -1, 1)) / abs(q[1] - q[2]) + (a[91]*p[2]*q[1]*ifelse(signbit(q[2] - q[1]), -1, 1)) / abs(q[2] - q[1]) + (-(p[1]^2)*a[133]*ifelse(signbit(q[1] - q[2]), -1, 1)) / abs(q[1] - q[2]) + (-a[13]*q[2]*ifelse(signbit(q[1] - q[2]), -1, 1)) / abs(q[1] - q[2]) + (-a[74]*p[1]*q[1]*ifelse(signbit(q[1] - p[1]), -1, 1)) / abs(q[1] - p[1]) + (-a[86]*p[2]*q[1]*ifelse(signbit(q[1] - p[1]), -1, 1)) / abs(q[1] - p[1]) + (-a[73]*p[1]*q[1]*ifelse(signbit(q[1] - q[2]), -1, 1)) / abs(q[1] - q[2]) + (-a[63]*q[1]*q[2]*ifelse(signbit(q[1] - p[2]), -1, 1)) / abs(q[1] - p[2]) + (-a[146]*p[1]*p[2]*ifelse(signbit(q[1] - p[1]), -1, 1)) / abs(q[1] - p[1]) + (-a[110]*p[1]*q[2]*ifelse(signbit(q[1] - p[1]), -1, 1)) / abs(q[1] - p[1]) + (-a[111]*p[1]*q[2]*ifelse(signbit(q[1] - p[2]), -1, 1)) / abs(q[1] - p[2]) + (-a[123]*p[2]*q[2]*ifelse(signbit(q[1] - p[2]), -1, 1)) / abs(q[1] - p[2]) + (-a[109]*p[1]*q[2]*ifelse(signbit(q[1] - q[2]), -1, 1)) / abs(q[1] - q[2]) + (-a[147]*p[1]*p[2]*ifelse(signbit(q[1] - p[2]), -1, 1)) / abs(q[1] - p[2]) + (-a[121]*p[2]*q[2]*ifelse(signbit(q[1] - q[2]), -1, 1)) / abs(q[1] - q[2]) + (-a[62]*q[1]*q[2]*ifelse(signbit(q[1] - p[1]), -1, 1)) / abs(q[1] - p[1]) + (-a[145]*p[1]*p[2]*ifelse(signbit(q[1] - q[2]), -1, 1)) / abs(q[1] - q[2]) + (-a[87]*p[2]*q[1]*ifelse(signbit(q[1] - p[2]), -1, 1)) / abs(q[1] - p[2]) + (-a[85]*p[2]*q[1]*ifelse(signbit(q[1] - q[2]), -1, 1)) / abs(q[1] - q[2]) + (-a[122]*p[2]*q[2]*ifelse(signbit(q[1] - p[1]), -1, 1)) / abs(q[1] - p[1]) + (-a[61]*q[1]*q[2]*ifelse(signbit(q[1] - q[2]), -1, 1)) / abs(q[1] - q[2]) + (-a[75]*p[1]*q[1]*ifelse(signbit(q[1] - p[2]), -1, 1)) / abs(q[1] - p[2]) - log(abs(q[1] - p[2]))*a[3] - log(abs(p[2] - p[1]))*a[12] - log(abs(q[2] - p[1]))*a[4] - log(abs(q[2] - q[1]))*a[7] - log(abs(p[1] - q[1]))*a[8] - log(abs(p[1] - q[2]))*a[10] - log(abs(p[2] - q[1]))*a[9] - log(abs(p[2] - q[2]))*a[11] - log(abs(q[1] - q[2]))*a[1] - log(abs(p[1] - p[2]))*a[6] - log(abs(q[1] - p[1]))*a[2] - log(abs(q[2] - p[2]))*a[5] - 2log(abs(q[1] - q[2]))*a[49]*q[1] - log(abs(p[1] - q[2]))*a[94]*p[2] - log(abs(q[2] - p[1]))*a[76]*p[1] - log(abs(p[1] - p[2]))*a[66]*q[2] - log(abs(p[2] - q[1]))*a[69]*q[2] - 2log(abs(p[2] - p[1]))*a[60]*q[1] - log(abs(q[2] - p[2]))*a[77]*p[1] - log(abs(q[2] - p[1]))*a[64]*q[2] - log(abs(p[2] - p[1]))*a[84]*p[1] - log(abs(q[2] - p[2]))*a[89]*p[2] - log(abs(p[2] - q[1]))*a[81]*p[1] - log(abs(q[2] - q[1]))*a[91]*p[2] - log(abs(q[1] - p[2]))*a[63]*q[2] - log(abs(p[1] - q[2]))*a[82]*p[1] - 2log(abs(p[1] - q[2]))*a[58]*q[1] - log(abs(q[2] - q[1]))*a[67]*q[2] - 2log(abs(q[2] - p[2]))*a[53]*q[1] - log(abs(p[1] - p[2]))*a[78]*p[1] - log(abs(q[2] - p[1]))*a[88]*p[2] - log(abs(p[2] - q[2]))*a[95]*p[2] - log(abs(q[1] - p[2]))*a[87]*p[2] - 2log(abs(q[1] - p[1]))*a[50]*q[1] - 2log(abs(q[1] - p[2]))*a[51]*q[1] - log(abs(p[2] - q[2]))*a[71]*q[2] - log(abs(q[1] - q[2]))*a[73]*p[1] - log(abs(q[1] - q[2]))*a[85]*p[2] - log(abs(p[2] - p[1]))*a[96]*p[2] - log(abs(q[1] - q[2]))*a[61]*q[2] - log(abs(q[1] - p[1]))*a[74]*p[1] - log(abs(q[1] - p[2]))*a[75]*p[1] - log(abs(p[1] - q[2]))*a[70]*q[2] - log(abs(p[1] - p[2]))*a[90]*p[2] - log(abs(p[1] - q[1]))*a[92]*p[2] - log(abs(p[2] - q[2]))*a[83]*p[1] - 2log(abs(p[1] - p[2]))*a[54]*q[1] - 2log(abs(p[2] - q[1]))*a[57]*q[1] - 2log(abs(p[2] - q[2]))*a[59]*q[1] - log(abs(q[1] - p[1]))*a[62]*q[2] - log(abs(q[2] - p[2]))*a[65]*q[2] - log(abs(q[2] - q[1]))*a[79]*p[1] - 2log(abs(q[2] - p[1]))*a[52]*q[1] - log(abs(p[2] - q[1]))*a[93]*p[2] - log(abs(p[2] - p[1]))*a[72]*q[2] - 2log(abs(q[2] - q[1]))*a[55]*q[1] - log(abs(p[1] - q[1]))*a[68]*q[2] - log(abs(q[1] - p[1]))*a[86]*p[2] - log(abs(p[1] - q[1]))*a[80]*p[1] - 2log(abs(p[1] - q[1]))*a[56]*q[1]\n",
       "  ((q[1]^2)*a[49]*ifelse(signbit(q[1] - q[2]), -1, 1)) / abs(q[1] - q[2]) + ((q[2]^2)*a[97]*ifelse(signbit(q[1] - q[2]), -1, 1)) / abs(q[1] - q[2]) + ((p[1]^2)*a[142]*ifelse(signbit(p[1] - q[2]), -1, 1)) / abs(p[1] - q[2]) + ((p[1]^2)*a[143]*ifelse(signbit(p[2] - q[2]), -1, 1)) / abs(p[2] - q[2]) + ((p[2]^2)*a[167]*ifelse(signbit(p[2] - q[2]), -1, 1)) / abs(p[2] - q[2]) + ((q[1]^2)*a[58]*ifelse(signbit(p[1] - q[2]), -1, 1)) / abs(p[1] - q[2]) + ((p[2]^2)*a[166]*ifelse(signbit(p[1] - q[2]), -1, 1)) / abs(p[1] - q[2]) + ((q[2]^2)*a[106]*ifelse(signbit(p[1] - q[2]), -1, 1)) / abs(p[1] - q[2]) + (a[11]*q[1]*ifelse(signbit(p[2] - q[2]), -1, 1)) / abs(p[2] - q[2]) + (a[23]*q[2]*ifelse(signbit(p[2] - q[2]), -1, 1)) / abs(p[2] - q[2]) + ((p[1]^2)*a[133]*ifelse(signbit(q[1] - q[2]), -1, 1)) / abs(q[1] - q[2]) + (a[25]*p[1]*ifelse(signbit(q[1] - q[2]), -1, 1)) / abs(q[1] - q[2]) + (a[34]*p[1]*ifelse(signbit(p[1] - q[2]), -1, 1)) / abs(p[1] - q[2]) + ((q[2]^2)*a[107]*ifelse(signbit(p[2] - q[2]), -1, 1)) / abs(p[2] - q[2]) + (a[35]*p[1]*ifelse(signbit(p[2] - q[2]), -1, 1)) / abs(p[2] - q[2]) + (a[37]*p[2]*ifelse(signbit(q[1] - q[2]), -1, 1)) / abs(q[1] - q[2]) + (a[47]*p[2]*ifelse(signbit(p[2] - q[2]), -1, 1)) / abs(p[2] - q[2]) + (a[10]*q[1]*ifelse(signbit(p[1] - q[2]), -1, 1)) / abs(p[1] - q[2]) + ((q[1]^2)*a[59]*ifelse(signbit(p[2] - q[2]), -1, 1)) / abs(p[2] - q[2]) + (a[22]*q[2]*ifelse(signbit(p[1] - q[2]), -1, 1)) / abs(p[1] - q[2]) + ((p[2]^2)*a[157]*ifelse(signbit(q[1] - q[2]), -1, 1)) / abs(q[1] - q[2]) + (a[1]*q[1]*ifelse(signbit(q[1] - q[2]), -1, 1)) / abs(q[1] - q[2]) + (a[13]*q[2]*ifelse(signbit(q[1] - q[2]), -1, 1)) / abs(q[1] - q[2]) + (a[46]*p[2]*ifelse(signbit(p[1] - q[2]), -1, 1)) / abs(p[1] - q[2]) + (a[82]*p[1]*q[1]*ifelse(signbit(p[1] - q[2]), -1, 1)) / abs(p[1] - q[2]) + (a[83]*p[1]*q[1]*ifelse(signbit(p[2] - q[2]), -1, 1)) / abs(p[2] - q[2]) + (a[85]*p[2]*q[1]*ifelse(signbit(q[1] - q[2]), -1, 1)) / abs(q[1] - q[2]) + (-(q[1]^2)*a[55]*ifelse(signbit(q[2] - q[1]), -1, 1)) / abs(q[2] - q[1]) + (-(p[1]^2)*a[137]*ifelse(signbit(q[2] - p[2]), -1, 1)) / abs(q[2] - p[2]) + (-(q[2]^2)*a[103]*ifelse(signbit(q[2] - q[1]), -1, 1)) / abs(q[2] - q[1]) + (-(p[1]^2)*a[139]*ifelse(signbit(q[2] - q[1]), -1, 1)) / abs(q[2] - q[1]) + (-(p[2]^2)*a[160]*ifelse(signbit(q[2] - p[1]), -1, 1)) / abs(q[2] - p[1]) + (-(p[2]^2)*a[163]*ifelse(signbit(q[2] - q[1]), -1, 1)) / abs(q[2] - q[1]) + (a[154]*p[1]*p[2]*ifelse(signbit(p[1] - q[2]), -1, 1)) / abs(p[1] - q[2]) + (-a[16]*q[2]*ifelse(signbit(q[2] - p[1]), -1, 1)) / abs(q[2] - p[1]) + (-a[5]*q[1]*ifelse(signbit(q[2] - p[2]), -1, 1)) / abs(q[2] - p[2]) + (a[73]*p[1]*q[1]*ifelse(signbit(q[1] - q[2]), -1, 1)) / abs(q[1] - q[2]) + (a[121]*p[2]*q[2]*ifelse(signbit(q[1] - q[2]), -1, 1)) / abs(q[1] - q[2]) + (a[71]*q[1]*q[2]*ifelse(signbit(p[2] - q[2]), -1, 1)) / abs(p[2] - q[2]) + (a[130]*p[2]*q[2]*ifelse(signbit(p[1] - q[2]), -1, 1)) / abs(p[1] - q[2]) + (-a[28]*p[1]*ifelse(signbit(q[2] - p[1]), -1, 1)) / abs(q[2] - p[1]) + (-(p[2]^2)*a[161]*ifelse(signbit(q[2] - p[2]), -1, 1)) / abs(q[2] - p[2]) + (-(q[1]^2)*a[53]*ifelse(signbit(q[2] - p[2]), -1, 1)) / abs(q[2] - p[2]) + (-a[29]*p[1]*ifelse(signbit(q[2] - p[2]), -1, 1)) / abs(q[2] - p[2]) + (a[145]*p[1]*p[2]*ifelse(signbit(q[1] - q[2]), -1, 1)) / abs(q[1] - q[2]) + (a[61]*q[1]*q[2]*ifelse(signbit(q[1] - q[2]), -1, 1)) / abs(q[1] - q[2]) + (a[70]*q[1]*q[2]*ifelse(signbit(p[1] - q[2]), -1, 1)) / abs(p[1] - q[2]) + (a[155]*p[1]*p[2]*ifelse(signbit(p[2] - q[2]), -1, 1)) / abs(p[2] - q[2]) + (a[131]*p[2]*q[2]*ifelse(signbit(p[2] - q[2]), -1, 1)) / abs(p[2] - q[2]) + (-a[7]*q[1]*ifelse(signbit(q[2] - q[1]), -1, 1)) / abs(q[2] - q[1]) + (-a[31]*p[1]*ifelse(signbit(q[2] - q[1]), -1, 1)) / abs(q[2] - q[1]) + (-a[41]*p[2]*ifelse(signbit(q[2] - p[2]), -1, 1)) / abs(q[2] - p[2]) + (a[118]*p[1]*q[2]*ifelse(signbit(p[1] - q[2]), -1, 1)) / abs(p[1] - q[2]) + (-(q[1]^2)*a[52]*ifelse(signbit(q[2] - p[1]), -1, 1)) / abs(q[2] - p[1]) + (a[94]*p[2]*q[1]*ifelse(signbit(p[1] - q[2]), -1, 1)) / abs(p[1] - q[2]) + (a[95]*p[2]*q[1]*ifelse(signbit(p[2] - q[2]), -1, 1)) / abs(p[2] - q[2]) + (-a[43]*p[2]*ifelse(signbit(q[2] - q[1]), -1, 1)) / abs(q[2] - q[1]) + (a[109]*p[1]*q[2]*ifelse(signbit(q[1] - q[2]), -1, 1)) / abs(q[1] - q[2]) + (a[119]*p[1]*q[2]*ifelse(signbit(p[2] - q[2]), -1, 1)) / abs(p[2] - q[2]) + (-(p[1]^2)*a[136]*ifelse(signbit(q[2] - p[1]), -1, 1)) / abs(q[2] - p[1]) + (-(q[2]^2)*a[100]*ifelse(signbit(q[2] - p[1]), -1, 1)) / abs(q[2] - p[1]) + (-(q[2]^2)*a[101]*ifelse(signbit(q[2] - p[2]), -1, 1)) / abs(q[2] - p[2]) + (-a[4]*q[1]*ifelse(signbit(q[2] - p[1]), -1, 1)) / abs(q[2] - p[1]) + (-a[17]*q[2]*ifelse(signbit(q[2] - p[2]), -1, 1)) / abs(q[2] - p[2]) + (-a[19]*q[2]*ifelse(signbit(q[2] - q[1]), -1, 1)) / abs(q[2] - q[1]) + (-a[40]*p[2]*ifelse(signbit(q[2] - p[1]), -1, 1)) / abs(q[2] - p[1]) + (-a[76]*p[1]*q[1]*ifelse(signbit(q[2] - p[1]), -1, 1)) / abs(q[2] - p[1]) + (-a[77]*p[1]*q[1]*ifelse(signbit(q[2] - p[2]), -1, 1)) / abs(q[2] - p[2]) + (-a[89]*p[2]*q[1]*ifelse(signbit(q[2] - p[2]), -1, 1)) / abs(q[2] - p[2]) + (-a[149]*p[1]*p[2]*ifelse(signbit(q[2] - p[2]), -1, 1)) / abs(q[2] - p[2]) + (-a[79]*p[1]*q[1]*ifelse(signbit(q[2] - q[1]), -1, 1)) / abs(q[2] - q[1]) + (-a[113]*p[1]*q[2]*ifelse(signbit(q[2] - p[2]), -1, 1)) / abs(q[2] - p[2]) + (-a[115]*p[1]*q[2]*ifelse(signbit(q[2] - q[1]), -1, 1)) / abs(q[2] - q[1]) + (-a[88]*p[2]*q[1]*ifelse(signbit(q[2] - p[1]), -1, 1)) / abs(q[2] - p[1]) + (-a[124]*p[2]*q[2]*ifelse(signbit(q[2] - p[1]), -1, 1)) / abs(q[2] - p[1]) + (-a[64]*q[1]*q[2]*ifelse(signbit(q[2] - p[1]), -1, 1)) / abs(q[2] - p[1]) + (-a[65]*q[1]*q[2]*ifelse(signbit(q[2] - p[2]), -1, 1)) / abs(q[2] - p[2]) + (-a[67]*q[1]*q[2]*ifelse(signbit(q[2] - q[1]), -1, 1)) / abs(q[2] - q[1]) + (-a[148]*p[1]*p[2]*ifelse(signbit(q[2] - p[1]), -1, 1)) / abs(q[2] - p[1]) + (-a[151]*p[1]*p[2]*ifelse(signbit(q[2] - q[1]), -1, 1)) / abs(q[2] - q[1]) + (-a[91]*p[2]*q[1]*ifelse(signbit(q[2] - q[1]), -1, 1)) / abs(q[2] - q[1]) + (-a[112]*p[1]*q[2]*ifelse(signbit(q[2] - p[1]), -1, 1)) / abs(q[2] - p[1]) + (-a[125]*p[2]*q[2]*ifelse(signbit(q[2] - p[2]), -1, 1)) / abs(q[2] - p[2]) + (-a[127]*p[2]*q[2]*ifelse(signbit(q[2] - q[1]), -1, 1)) / abs(q[2] - q[1]) - log(abs(p[1] - p[2]))*a[18] - log(abs(q[1] - q[2]))*a[13] - log(abs(p[1] - q[1]))*a[20] - log(abs(q[1] - p[1]))*a[14] - log(abs(q[2] - p[1]))*a[16] - log(abs(q[1] - p[2]))*a[15] - log(abs(q[2] - p[2]))*a[17] - log(abs(p[1] - q[2]))*a[22] - log(abs(p[2] - p[1]))*a[24] - log(abs(q[2] - q[1]))*a[19] - log(abs(p[2] - q[1]))*a[21] - log(abs(p[2] - q[2]))*a[23] - 2log(abs(q[2] - p[1]))*a[100]*q[2] - log(abs(q[2] - q[1]))*a[115]*p[1] - log(abs(p[1] - p[2]))*a[126]*p[2] - log(abs(p[2] - p[1]))*a[120]*p[1] - log(abs(q[2] - p[1]))*a[124]*p[2] - log(abs(q[2] - p[2]))*a[125]*p[2] - log(abs(p[1] - q[1]))*a[128]*p[2] - log(abs(q[2] - p[1]))*a[64]*q[1] - log(abs(p[2] - q[1]))*a[69]*q[1] - log(abs(p[2] - q[1]))*a[129]*p[2] - log(abs(q[1] - q[2]))*a[109]*p[1] - log(abs(q[1] - q[2]))*a[121]*p[2] - 2log(abs(p[1] - p[2]))*a[102]*q[2] - log(abs(p[1] - p[2]))*a[114]*p[1] - log(abs(p[2] - q[2]))*a[119]*p[1] - 2log(abs(p[2] - q[1]))*a[105]*q[2] - log(abs(p[2] - q[2]))*a[71]*q[1] - 2log(abs(p[2] - q[2]))*a[107]*q[2] - log(abs(q[1] - p[1]))*a[62]*q[1] - log(abs(q[1] - p[2]))*a[63]*q[1] - log(abs(q[2] - q[1]))*a[67]*q[1] - log(abs(q[2] - p[2]))*a[113]*p[1] - 2log(abs(q[1] - p[2]))*a[99]*q[2] - 2log(abs(q[2] - p[2]))*a[101]*q[2] - log(abs(q[1] - p[2]))*a[111]*p[1] - log(abs(p[1] - q[1]))*a[68]*q[1] - log(abs(p[1] - q[1]))*a[116]*p[1] - log(abs(p[1] - q[2]))*a[118]*p[1] - log(abs(p[1] - q[2]))*a[130]*p[2] - 2log(abs(q[1] - p[1]))*a[98]*q[2] - log(abs(q[1] - q[2]))*a[61]*q[1] - 2log(abs(p[2] - p[1]))*a[108]*q[2] - log(abs(p[1] - p[2]))*a[66]*q[1] - log(abs(q[1] - p[1]))*a[110]*p[1] - log(abs(p[1] - q[2]))*a[70]*q[1] - 2log(abs(p[1] - q[1]))*a[104]*q[2] - 2log(abs(p[1] - q[2]))*a[106]*q[2] - 2log(abs(q[1] - q[2]))*a[97]*q[2] - log(abs(q[1] - p[1]))*a[122]*p[2] - log(abs(q[1] - p[2]))*a[123]*p[2] - log(abs(q[2] - p[2]))*a[65]*q[1] - log(abs(p[2] - q[1]))*a[117]*p[1] - log(abs(p[2] - q[2]))*a[131]*p[2] - log(abs(q[2] - p[1]))*a[112]*p[1] - log(abs(q[2] - q[1]))*a[127]*p[2] - log(abs(p[2] - p[1]))*a[72]*q[1] - log(abs(p[2] - p[1]))*a[132]*p[2] - 2log(abs(q[2] - q[1]))*a[103]*q[2]"
      ]
     },
     "metadata": {},
     "output_type": "display_data"
    }
   ],
   "source": [
    "d = 2\n",
    "z = get_z_vector(d)\n",
    "polynomial = polynomial_basis(z, polyorder=2)\n",
    "z_diff = primal_operator_basis(z, -)\n",
    "log_diff  = logarithmic_basis(z_diff, polyorder=1)\n",
    "z_log_power = primal_power_basis(log_diff, 1)\n",
    "mixed_basis = mixed_states_basis(polynomial, z_log_power)\n",
    "basis = get_basis_set(mixed_basis)\n",
    "@variables a[1:get_numCoeffs(basis)]\n",
    "\n",
    "collect(a .* basis)\n",
    "# collect and sum combinations of basis and coefficients\n",
    "ham = sum(collect(a .* basis))\n",
    "\n",
    "Dz = Differential.(z)\n",
    "\n",
    "# # gives derivative of the hamiltonian, but not the skew-symmetric true one\n",
    "f = [expand_derivatives(dz(ham)) for dz in Dz]\n",
    "\n",
    "f = simplify(f)\n",
    "\n",
    "# # line below makes the vector into a hamiltonian vector field by multiplying with the skew-symmetric matrix\n",
    "∇H = vcat(f[d+1:2d], - f[1:d])"
   ]
  },
  {
   "cell_type": "code",
   "execution_count": 22,
   "metadata": {},
   "outputs": [
    {
     "data": {
      "text/latex": [
       "$$ \\begin{equation}\n",
       "\\left[\n",
       "\\begin{array}{c}\n",
       "\\log\\left( \\left| - q_2 + q_1\\right| \\right) a_1 q_1 \\\\\n",
       "\\log\\left( \\left| - p_1 + q_1\\right| \\right) a_2 q_1 \\\\\n",
       "\\log\\left( \\left| - p_2 + q_1\\right| \\right) a_3 q_1 \\\\\n",
       "\\log\\left( \\left| - p_1 + q_2\\right| \\right) a_4 q_1 \\\\\n",
       "\\log\\left( \\left| - p_2 + q_2\\right| \\right) a_5 q_1 \\\\\n",
       "\\log\\left( \\left| - p_2 + p_1\\right| \\right) a_6 q_1 \\\\\n",
       "\\log\\left( \\left| - q_1 + q_2\\right| \\right) a_7 q_1 \\\\\n",
       "\\log\\left( \\left| - q_1 + p_1\\right| \\right) a_8 q_1 \\\\\n",
       "\\log\\left( \\left| - q_1 + p_2\\right| \\right) a_9 q_1 \\\\\n",
       "\\log\\left( \\left| - q_2 + p_1\\right| \\right) a_{1 0} q_1 \\\\\n",
       "\\log\\left( \\left| - q_2 + p_2\\right| \\right) a_{1 1} q_1 \\\\\n",
       "\\log\\left( \\left| - p_1 + p_2\\right| \\right) a_{1 2} q_1 \\\\\n",
       "\\log\\left( \\left| - q_2 + q_1\\right| \\right) a_{1 3} q_2 \\\\\n",
       "\\log\\left( \\left| - p_1 + q_1\\right| \\right) a_{1 4} q_2 \\\\\n",
       "\\log\\left( \\left| - p_2 + q_1\\right| \\right) a_{1 5} q_2 \\\\\n",
       "\\log\\left( \\left| - p_1 + q_2\\right| \\right) a_{1 6} q_2 \\\\\n",
       "\\log\\left( \\left| - p_2 + q_2\\right| \\right) a_{1 7} q_2 \\\\\n",
       "\\log\\left( \\left| - p_2 + p_1\\right| \\right) a_{1 8} q_2 \\\\\n",
       "\\log\\left( \\left| - q_1 + q_2\\right| \\right) a_{1 9} q_2 \\\\\n",
       "\\log\\left( \\left| - q_1 + p_1\\right| \\right) a_{2 0} q_2 \\\\\n",
       "\\log\\left( \\left| - q_1 + p_2\\right| \\right) a_{2 1} q_2 \\\\\n",
       "\\log\\left( \\left| - q_2 + p_1\\right| \\right) a_{2 2} q_2 \\\\\n",
       "\\log\\left( \\left| - q_2 + p_2\\right| \\right) a_{2 3} q_2 \\\\\n",
       "\\log\\left( \\left| - p_1 + p_2\\right| \\right) a_{2 4} q_2 \\\\\n",
       "\\log\\left( \\left| - q_2 + q_1\\right| \\right) a_{2 5} p_1 \\\\\n",
       "\\log\\left( \\left| - p_1 + q_1\\right| \\right) a_{2 6} p_1 \\\\\n",
       "\\log\\left( \\left| - p_2 + q_1\\right| \\right) a_{2 7} p_1 \\\\\n",
       "\\log\\left( \\left| - p_1 + q_2\\right| \\right) a_{2 8} p_1 \\\\\n",
       "\\log\\left( \\left| - p_2 + q_2\\right| \\right) a_{2 9} p_1 \\\\\n",
       "\\log\\left( \\left| - p_2 + p_1\\right| \\right) a_{3 0} p_1 \\\\\n",
       "\\log\\left( \\left| - q_1 + q_2\\right| \\right) a_{3 1} p_1 \\\\\n",
       "\\log\\left( \\left| - q_1 + p_1\\right| \\right) a_{3 2} p_1 \\\\\n",
       "\\log\\left( \\left| - q_1 + p_2\\right| \\right) a_{3 3} p_1 \\\\\n",
       "\\log\\left( \\left| - q_2 + p_1\\right| \\right) a_{3 4} p_1 \\\\\n",
       "\\log\\left( \\left| - q_2 + p_2\\right| \\right) a_{3 5} p_1 \\\\\n",
       "\\log\\left( \\left| - p_1 + p_2\\right| \\right) a_{3 6} p_1 \\\\\n",
       "\\log\\left( \\left| - q_2 + q_1\\right| \\right) a_{3 7} p_2 \\\\\n",
       "\\log\\left( \\left| - p_1 + q_1\\right| \\right) a_{3 8} p_2 \\\\\n",
       "\\log\\left( \\left| - p_2 + q_1\\right| \\right) a_{3 9} p_2 \\\\\n",
       "\\log\\left( \\left| - p_1 + q_2\\right| \\right) a_{4 0} p_2 \\\\\n",
       "\\log\\left( \\left| - p_2 + q_2\\right| \\right) a_{4 1} p_2 \\\\\n",
       "\\log\\left( \\left| - p_2 + p_1\\right| \\right) a_{4 2} p_2 \\\\\n",
       "\\log\\left( \\left| - q_1 + q_2\\right| \\right) a_{4 3} p_2 \\\\\n",
       "\\log\\left( \\left| - q_1 + p_1\\right| \\right) a_{4 4} p_2 \\\\\n",
       "\\log\\left( \\left| - q_1 + p_2\\right| \\right) a_{4 5} p_2 \\\\\n",
       "\\log\\left( \\left| - q_2 + p_1\\right| \\right) a_{4 6} p_2 \\\\\n",
       "\\log\\left( \\left| - q_2 + p_2\\right| \\right) a_{4 7} p_2 \\\\\n",
       "\\log\\left( \\left| - p_1 + p_2\\right| \\right) a_{4 8} p_2 \\\\\n",
       "q_1^{2} \\log\\left( \\left| - q_2 + q_1\\right| \\right) a_{4 9} \\\\\n",
       "q_1^{2} \\log\\left( \\left| - p_1 + q_1\\right| \\right) a_{5 0} \\\\\n",
       "q_1^{2} \\log\\left( \\left| - p_2 + q_1\\right| \\right) a_{5 1} \\\\\n",
       "q_1^{2} \\log\\left( \\left| - p_1 + q_2\\right| \\right) a_{5 2} \\\\\n",
       "q_1^{2} \\log\\left( \\left| - p_2 + q_2\\right| \\right) a_{5 3} \\\\\n",
       "q_1^{2} \\log\\left( \\left| - p_2 + p_1\\right| \\right) a_{5 4} \\\\\n",
       "q_1^{2} \\log\\left( \\left| - q_1 + q_2\\right| \\right) a_{5 5} \\\\\n",
       "q_1^{2} \\log\\left( \\left| - q_1 + p_1\\right| \\right) a_{5 6} \\\\\n",
       "q_1^{2} \\log\\left( \\left| - q_1 + p_2\\right| \\right) a_{5 7} \\\\\n",
       "q_1^{2} \\log\\left( \\left| - q_2 + p_1\\right| \\right) a_{5 8} \\\\\n",
       "q_1^{2} \\log\\left( \\left| - q_2 + p_2\\right| \\right) a_{5 9} \\\\\n",
       "q_1^{2} \\log\\left( \\left| - p_1 + p_2\\right| \\right) a_{6 0} \\\\\n",
       "\\log\\left( \\left| - q_2 + q_1\\right| \\right) a_{6 1} q_1 q_2 \\\\\n",
       "\\log\\left( \\left| - p_1 + q_1\\right| \\right) a_{6 2} q_1 q_2 \\\\\n",
       "\\log\\left( \\left| - p_2 + q_1\\right| \\right) a_{6 3} q_1 q_2 \\\\\n",
       "\\log\\left( \\left| - p_1 + q_2\\right| \\right) a_{6 4} q_1 q_2 \\\\\n",
       "\\log\\left( \\left| - p_2 + q_2\\right| \\right) a_{6 5} q_1 q_2 \\\\\n",
       "\\log\\left( \\left| - p_2 + p_1\\right| \\right) a_{6 6} q_1 q_2 \\\\\n",
       "\\log\\left( \\left| - q_1 + q_2\\right| \\right) a_{6 7} q_1 q_2 \\\\\n",
       "\\log\\left( \\left| - q_1 + p_1\\right| \\right) a_{6 8} q_1 q_2 \\\\\n",
       "\\log\\left( \\left| - q_1 + p_2\\right| \\right) a_{6 9} q_1 q_2 \\\\\n",
       "\\log\\left( \\left| - q_2 + p_1\\right| \\right) a_{7 0} q_1 q_2 \\\\\n",
       "\\log\\left( \\left| - q_2 + p_2\\right| \\right) a_{7 1} q_1 q_2 \\\\\n",
       "\\log\\left( \\left| - p_1 + p_2\\right| \\right) a_{7 2} q_1 q_2 \\\\\n",
       "\\log\\left( \\left| - q_2 + q_1\\right| \\right) a_{7 3} p_1 q_1 \\\\\n",
       "\\log\\left( \\left| - p_1 + q_1\\right| \\right) a_{7 4} p_1 q_1 \\\\\n",
       "\\log\\left( \\left| - p_2 + q_1\\right| \\right) a_{7 5} p_1 q_1 \\\\\n",
       "\\log\\left( \\left| - p_1 + q_2\\right| \\right) a_{7 6} p_1 q_1 \\\\\n",
       "\\log\\left( \\left| - p_2 + q_2\\right| \\right) a_{7 7} p_1 q_1 \\\\\n",
       "\\log\\left( \\left| - p_2 + p_1\\right| \\right) a_{7 8} p_1 q_1 \\\\\n",
       "\\log\\left( \\left| - q_1 + q_2\\right| \\right) a_{7 9} p_1 q_1 \\\\\n",
       "\\log\\left( \\left| - q_1 + p_1\\right| \\right) a_{8 0} p_1 q_1 \\\\\n",
       "\\log\\left( \\left| - q_1 + p_2\\right| \\right) a_{8 1} p_1 q_1 \\\\\n",
       "\\log\\left( \\left| - q_2 + p_1\\right| \\right) a_{8 2} p_1 q_1 \\\\\n",
       "\\log\\left( \\left| - q_2 + p_2\\right| \\right) a_{8 3} p_1 q_1 \\\\\n",
       "\\log\\left( \\left| - p_1 + p_2\\right| \\right) a_{8 4} p_1 q_1 \\\\\n",
       "\\log\\left( \\left| - q_2 + q_1\\right| \\right) a_{8 5} p_2 q_1 \\\\\n",
       "\\log\\left( \\left| - p_1 + q_1\\right| \\right) a_{8 6} p_2 q_1 \\\\\n",
       "\\log\\left( \\left| - p_2 + q_1\\right| \\right) a_{8 7} p_2 q_1 \\\\\n",
       "\\log\\left( \\left| - p_1 + q_2\\right| \\right) a_{8 8} p_2 q_1 \\\\\n",
       "\\log\\left( \\left| - p_2 + q_2\\right| \\right) a_{8 9} p_2 q_1 \\\\\n",
       "\\log\\left( \\left| - p_2 + p_1\\right| \\right) a_{9 0} p_2 q_1 \\\\\n",
       "\\log\\left( \\left| - q_1 + q_2\\right| \\right) a_{9 1} p_2 q_1 \\\\\n",
       "\\log\\left( \\left| - q_1 + p_1\\right| \\right) a_{9 2} p_2 q_1 \\\\\n",
       "\\log\\left( \\left| - q_1 + p_2\\right| \\right) a_{9 3} p_2 q_1 \\\\\n",
       "\\log\\left( \\left| - q_2 + p_1\\right| \\right) a_{9 4} p_2 q_1 \\\\\n",
       "\\log\\left( \\left| - q_2 + p_2\\right| \\right) a_{9 5} p_2 q_1 \\\\\n",
       "\\log\\left( \\left| - p_1 + p_2\\right| \\right) a_{9 6} p_2 q_1 \\\\\n",
       "q_2^{2} \\log\\left( \\left| - q_2 + q_1\\right| \\right) a_{9 7} \\\\\n",
       "q_2^{2} \\log\\left( \\left| - p_1 + q_1\\right| \\right) a_{9 8} \\\\\n",
       "q_2^{2} \\log\\left( \\left| - p_2 + q_1\\right| \\right) a_{9 9} \\\\\n",
       "q_2^{2} \\log\\left( \\left| - p_1 + q_2\\right| \\right) a_{1 0 0} \\\\\n",
       "q_2^{2} \\log\\left( \\left| - p_2 + q_2\\right| \\right) a_{1 0 1} \\\\\n",
       "q_2^{2} \\log\\left( \\left| - p_2 + p_1\\right| \\right) a_{1 0 2} \\\\\n",
       "q_2^{2} \\log\\left( \\left| - q_1 + q_2\\right| \\right) a_{1 0 3} \\\\\n",
       "q_2^{2} \\log\\left( \\left| - q_1 + p_1\\right| \\right) a_{1 0 4} \\\\\n",
       "q_2^{2} \\log\\left( \\left| - q_1 + p_2\\right| \\right) a_{1 0 5} \\\\\n",
       "q_2^{2} \\log\\left( \\left| - q_2 + p_1\\right| \\right) a_{1 0 6} \\\\\n",
       "q_2^{2} \\log\\left( \\left| - q_2 + p_2\\right| \\right) a_{1 0 7} \\\\\n",
       "q_2^{2} \\log\\left( \\left| - p_1 + p_2\\right| \\right) a_{1 0 8} \\\\\n",
       "\\log\\left( \\left| - q_2 + q_1\\right| \\right) a_{1 0 9} p_1 q_2 \\\\\n",
       "\\log\\left( \\left| - p_1 + q_1\\right| \\right) a_{1 1 0} p_1 q_2 \\\\\n",
       "\\log\\left( \\left| - p_2 + q_1\\right| \\right) a_{1 1 1} p_1 q_2 \\\\\n",
       "\\log\\left( \\left| - p_1 + q_2\\right| \\right) a_{1 1 2} p_1 q_2 \\\\\n",
       "\\log\\left( \\left| - p_2 + q_2\\right| \\right) a_{1 1 3} p_1 q_2 \\\\\n",
       "\\log\\left( \\left| - p_2 + p_1\\right| \\right) a_{1 1 4} p_1 q_2 \\\\\n",
       "\\log\\left( \\left| - q_1 + q_2\\right| \\right) a_{1 1 5} p_1 q_2 \\\\\n",
       "\\log\\left( \\left| - q_1 + p_1\\right| \\right) a_{1 1 6} p_1 q_2 \\\\\n",
       "\\log\\left( \\left| - q_1 + p_2\\right| \\right) a_{1 1 7} p_1 q_2 \\\\\n",
       "\\log\\left( \\left| - q_2 + p_1\\right| \\right) a_{1 1 8} p_1 q_2 \\\\\n",
       "\\log\\left( \\left| - q_2 + p_2\\right| \\right) a_{1 1 9} p_1 q_2 \\\\\n",
       "\\log\\left( \\left| - p_1 + p_2\\right| \\right) a_{1 2 0} p_1 q_2 \\\\\n",
       "\\log\\left( \\left| - q_2 + q_1\\right| \\right) a_{1 2 1} p_2 q_2 \\\\\n",
       "\\log\\left( \\left| - p_1 + q_1\\right| \\right) a_{1 2 2} p_2 q_2 \\\\\n",
       "\\log\\left( \\left| - p_2 + q_1\\right| \\right) a_{1 2 3} p_2 q_2 \\\\\n",
       "\\log\\left( \\left| - p_1 + q_2\\right| \\right) a_{1 2 4} p_2 q_2 \\\\\n",
       "\\log\\left( \\left| - p_2 + q_2\\right| \\right) a_{1 2 5} p_2 q_2 \\\\\n",
       "\\log\\left( \\left| - p_2 + p_1\\right| \\right) a_{1 2 6} p_2 q_2 \\\\\n",
       "\\log\\left( \\left| - q_1 + q_2\\right| \\right) a_{1 2 7} p_2 q_2 \\\\\n",
       "\\log\\left( \\left| - q_1 + p_1\\right| \\right) a_{1 2 8} p_2 q_2 \\\\\n",
       "\\log\\left( \\left| - q_1 + p_2\\right| \\right) a_{1 2 9} p_2 q_2 \\\\\n",
       "\\log\\left( \\left| - q_2 + p_1\\right| \\right) a_{1 3 0} p_2 q_2 \\\\\n",
       "\\log\\left( \\left| - q_2 + p_2\\right| \\right) a_{1 3 1} p_2 q_2 \\\\\n",
       "\\log\\left( \\left| - p_1 + p_2\\right| \\right) a_{1 3 2} p_2 q_2 \\\\\n",
       "p_1^{2} \\log\\left( \\left| - q_2 + q_1\\right| \\right) a_{1 3 3} \\\\\n",
       "p_1^{2} \\log\\left( \\left| - p_1 + q_1\\right| \\right) a_{1 3 4} \\\\\n",
       "p_1^{2} \\log\\left( \\left| - p_2 + q_1\\right| \\right) a_{1 3 5} \\\\\n",
       "p_1^{2} \\log\\left( \\left| - p_1 + q_2\\right| \\right) a_{1 3 6} \\\\\n",
       "p_1^{2} \\log\\left( \\left| - p_2 + q_2\\right| \\right) a_{1 3 7} \\\\\n",
       "p_1^{2} \\log\\left( \\left| - p_2 + p_1\\right| \\right) a_{1 3 8} \\\\\n",
       "p_1^{2} \\log\\left( \\left| - q_1 + q_2\\right| \\right) a_{1 3 9} \\\\\n",
       "p_1^{2} \\log\\left( \\left| - q_1 + p_1\\right| \\right) a_{1 4 0} \\\\\n",
       "p_1^{2} \\log\\left( \\left| - q_1 + p_2\\right| \\right) a_{1 4 1} \\\\\n",
       "p_1^{2} \\log\\left( \\left| - q_2 + p_1\\right| \\right) a_{1 4 2} \\\\\n",
       "p_1^{2} \\log\\left( \\left| - q_2 + p_2\\right| \\right) a_{1 4 3} \\\\\n",
       "p_1^{2} \\log\\left( \\left| - p_1 + p_2\\right| \\right) a_{1 4 4} \\\\\n",
       "\\log\\left( \\left| - q_2 + q_1\\right| \\right) a_{1 4 5} p_1 p_2 \\\\\n",
       "\\log\\left( \\left| - p_1 + q_1\\right| \\right) a_{1 4 6} p_1 p_2 \\\\\n",
       "\\log\\left( \\left| - p_2 + q_1\\right| \\right) a_{1 4 7} p_1 p_2 \\\\\n",
       "\\log\\left( \\left| - p_1 + q_2\\right| \\right) a_{1 4 8} p_1 p_2 \\\\\n",
       "\\log\\left( \\left| - p_2 + q_2\\right| \\right) a_{1 4 9} p_1 p_2 \\\\\n",
       "\\log\\left( \\left| - p_2 + p_1\\right| \\right) a_{1 5 0} p_1 p_2 \\\\\n",
       "\\log\\left( \\left| - q_1 + q_2\\right| \\right) a_{1 5 1} p_1 p_2 \\\\\n",
       "\\log\\left( \\left| - q_1 + p_1\\right| \\right) a_{1 5 2} p_1 p_2 \\\\\n",
       "\\log\\left( \\left| - q_1 + p_2\\right| \\right) a_{1 5 3} p_1 p_2 \\\\\n",
       "\\log\\left( \\left| - q_2 + p_1\\right| \\right) a_{1 5 4} p_1 p_2 \\\\\n",
       "\\log\\left( \\left| - q_2 + p_2\\right| \\right) a_{1 5 5} p_1 p_2 \\\\\n",
       "\\log\\left( \\left| - p_1 + p_2\\right| \\right) a_{1 5 6} p_1 p_2 \\\\\n",
       "p_2^{2} \\log\\left( \\left| - q_2 + q_1\\right| \\right) a_{1 5 7} \\\\\n",
       "p_2^{2} \\log\\left( \\left| - p_1 + q_1\\right| \\right) a_{1 5 8} \\\\\n",
       "p_2^{2} \\log\\left( \\left| - p_2 + q_1\\right| \\right) a_{1 5 9} \\\\\n",
       "p_2^{2} \\log\\left( \\left| - p_1 + q_2\\right| \\right) a_{1 6 0} \\\\\n",
       "p_2^{2} \\log\\left( \\left| - p_2 + q_2\\right| \\right) a_{1 6 1} \\\\\n",
       "p_2^{2} \\log\\left( \\left| - p_2 + p_1\\right| \\right) a_{1 6 2} \\\\\n",
       "p_2^{2} \\log\\left( \\left| - q_1 + q_2\\right| \\right) a_{1 6 3} \\\\\n",
       "p_2^{2} \\log\\left( \\left| - q_1 + p_1\\right| \\right) a_{1 6 4} \\\\\n",
       "p_2^{2} \\log\\left( \\left| - q_1 + p_2\\right| \\right) a_{1 6 5} \\\\\n",
       "p_2^{2} \\log\\left( \\left| - q_2 + p_1\\right| \\right) a_{1 6 6} \\\\\n",
       "p_2^{2} \\log\\left( \\left| - q_2 + p_2\\right| \\right) a_{1 6 7} \\\\\n",
       "p_2^{2} \\log\\left( \\left| - p_1 + p_2\\right| \\right) a_{1 6 8} \\\\\n",
       "\\end{array}\n",
       "\\right]\n",
       "\\end{equation}\n",
       " $$"
      ],
      "text/plain": [
       "168-element Vector{Num}:\n",
       "       log(abs(q[1] - q[2]))*a[1]*q[1]\n",
       "       log(abs(q[1] - p[1]))*a[2]*q[1]\n",
       "       log(abs(q[1] - p[2]))*a[3]*q[1]\n",
       "       log(abs(q[2] - p[1]))*a[4]*q[1]\n",
       "       log(abs(q[2] - p[2]))*a[5]*q[1]\n",
       "       log(abs(p[1] - p[2]))*a[6]*q[1]\n",
       "       log(abs(q[2] - q[1]))*a[7]*q[1]\n",
       "       log(abs(p[1] - q[1]))*a[8]*q[1]\n",
       "       log(abs(p[2] - q[1]))*a[9]*q[1]\n",
       "      log(abs(p[1] - q[2]))*a[10]*q[1]\n",
       "                                     ⋮\n",
       " (p[2]^2)*log(abs(q[2] - p[1]))*a[160]\n",
       " (p[2]^2)*log(abs(q[2] - p[2]))*a[161]\n",
       " (p[2]^2)*log(abs(p[1] - p[2]))*a[162]\n",
       " (p[2]^2)*log(abs(q[2] - q[1]))*a[163]\n",
       " (p[2]^2)*log(abs(p[1] - q[1]))*a[164]\n",
       " (p[2]^2)*log(abs(p[2] - q[1]))*a[165]\n",
       " (p[2]^2)*log(abs(p[1] - q[2]))*a[166]\n",
       " (p[2]^2)*log(abs(p[2] - q[2]))*a[167]\n",
       " (p[2]^2)*log(abs(p[2] - p[1]))*a[168]"
      ]
     },
     "metadata": {},
     "output_type": "display_data"
    }
   ],
   "source": [
    "collect(a .* basis)"
   ]
  },
  {
   "cell_type": "code",
   "execution_count": 13,
   "metadata": {},
   "outputs": [
    {
     "data": {
      "text/plain": [
       ":(function (ˍ₋arg1,)\n",
       "      \u001b[90m#= C:\\Users\\nigel\\.julia\\packages\\SymbolicUtils\\H684H\\src\\code.jl:350 =#\u001b[39m\n",
       "      \u001b[90m#= C:\\Users\\nigel\\.julia\\packages\\SymbolicUtils\\H684H\\src\\code.jl:351 =#\u001b[39m\n",
       "      \u001b[90m#= C:\\Users\\nigel\\.julia\\packages\\SymbolicUtils\\H684H\\src\\code.jl:352 =#\u001b[39m\n",
       "      begin\n",
       "          (/)((*)((^)(ˍ₋arg1[2], 2), if (signbit)((+)(ˍ₋arg1[1], (*)(-1, ˍ₋arg1[3])))\n",
       "                      -1\n",
       "                  else\n",
       "                      1\n",
       "                  end), (abs)((+)(ˍ₋arg1[1], (*)(-1, ˍ₋arg1[3]))))\n",
       "      end\n",
       "  end)"
      ]
     },
     "metadata": {},
     "output_type": "display_data"
    }
   ],
   "source": [
    "using Symbolics\n",
    "\n",
    "@variables p₁ q₁ q₂\n",
    "f = q₁^2 * log(abs(-q₂ + p₁))\n",
    "D = Differential(p₁)\n",
    "df_dp1 = expand_derivatives(D(f))\n",
    "\n",
    "df_dp1_fn = build_function(df_dp1, [p₁, q₁, q₂])\n",
    "    \n"
   ]
  }
 ],
 "metadata": {
  "kernelspec": {
   "display_name": "Julia 1.8.3",
   "language": "julia",
   "name": "julia-1.8"
  },
  "language_info": {
   "file_extension": ".jl",
   "mimetype": "application/julia",
   "name": "julia",
   "version": "1.8.3"
  },
  "orig_nbformat": 4
 },
 "nbformat": 4,
 "nbformat_minor": 2
}
