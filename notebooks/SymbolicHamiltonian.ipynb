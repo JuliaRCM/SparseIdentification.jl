{
 "cells": [
  {
   "cell_type": "code",
   "execution_count": 1,
   "metadata": {},
   "outputs": [],
   "source": [
    "using Symbolics"
   ]
  },
  {
   "cell_type": "code",
   "execution_count": 2,
   "metadata": {},
   "outputs": [
    {
     "data": {
      "text/plain": [
       "34"
      ]
     },
     "metadata": {},
     "output_type": "display_data"
    }
   ],
   "source": [
    "# define the variables, q,p in this case\n",
    "const d = 2\n",
    "\n",
    "# highest polynomial order to check\n",
    "const order = 3 \n",
    "\n",
    "# binomial used to get the combination of variables till the highest order without repeat, nparam = 34 for 3rd order, with z = q,p each of 2 dims\n",
    "const nparam = binomial(2d + order, order) - 1"
   ]
  },
  {
   "cell_type": "code",
   "execution_count": 3,
   "metadata": {},
   "outputs": [
    {
     "data": {
      "text/plain": [
       "34"
      ]
     },
     "metadata": {},
     "output_type": "display_data"
    }
   ],
   "source": [
    "# # total number of dimensions, where each variable has 2 dimensions\n",
    "n = 2d\n",
    "\n",
    "# # verification check for number of variables\n",
    "1 + n + n*(n+1) ÷ 2 + n*(n+1)*(n+2) ÷ 6 - 1"
   ]
  },
  {
   "cell_type": "code",
   "execution_count": 4,
   "metadata": {},
   "outputs": [
    {
     "data": {
      "text/latex": [
       "$$ \\begin{equation}\n",
       "\\left[\n",
       "\\begin{array}{c}\n",
       "q_1 \\\\\n",
       "q_2 \\\\\n",
       "p_1 \\\\\n",
       "p_2 \\\\\n",
       "\\end{array}\n",
       "\\right]\n",
       "\\end{equation}\n",
       " $$"
      ],
      "text/plain": [
       "4-element Vector{Num}:\n",
       " q[1]\n",
       " q[2]\n",
       " p[1]\n",
       " p[2]"
      ]
     },
     "metadata": {},
     "output_type": "display_data"
    }
   ],
   "source": [
    "# get variables p and q and store in variable z\n",
    "@variables q[1:d]\n",
    "@variables p[1:d]\n",
    "@variables a[1:nparam]\n",
    "\n",
    "z = vcat(q,p)"
   ]
  },
  {
   "cell_type": "code",
   "execution_count": 5,
   "metadata": {},
   "outputs": [
    {
     "data": {
      "text/latex": [
       "$$ \\begin{equation}\n",
       "0\n",
       "\\end{equation}\n",
       " $$"
      ],
      "text/plain": [
       "0"
      ]
     },
     "metadata": {},
     "output_type": "display_data"
    }
   ],
   "source": [
    "# define empty variable H to store the hamiltonian\n",
    "H = Num(0)"
   ]
  },
  {
   "cell_type": "code",
   "execution_count": 6,
   "metadata": {},
   "outputs": [
    {
     "data": {
      "text/latex": [
       "$$ \\begin{equation}\n",
       "p_2^{2} a_{1 4} + q_1^{2} a_5 + q_2^{2} a_9 + p_1^{2} a_{1 2} + q_1^{3} a_{1 5} + q_2^{3} a_{2 5} + p_1^{3} a_{3 1} + p_2^{3} a_{3 4} + a_3 p_1 + a_2 q_2 + a_4 p_2 + a_1 q_1 + p_1^{2} a_{3 2} p_2 + q_2^{2} a_{2 6} p_1 + p_1^{2} a_{2 2} q_1 + p_1^{2} a_{2 8} q_2 + p_2^{2} a_{2 4} q_1 + p_2^{2} a_{3 0} q_2 + q_1^{2} a_{1 7} p_1 + q_1^{2} a_{1 8} p_2 + q_2^{2} a_{2 7} p_2 + a_{1 3} p_1 p_2 + q_1^{2} a_{1 6} q_2 + q_2^{2} a_{1 9} q_1 + p_2^{2} a_{3 3} p_1 + a_7 p_1 q_1 + a_{1 0} p_1 q_2 + a_8 p_2 q_1 + a_{1 1} p_2 q_2 + a_6 q_1 q_2 + a_{2 0} p_1 q_1 q_2 + a_{2 1} p_2 q_1 q_2 + a_{2 3} p_1 p_2 q_1 + a_{2 9} p_1 p_2 q_2\n",
       "\\end{equation}\n",
       " $$"
      ],
      "text/plain": [
       "(p[2]^2)*a[14] + (q[1]^2)*a[5] + (q[2]^2)*a[9] + (p[1]^2)*a[12] + (q[1]^3)*a[15] + (q[2]^3)*a[25] + (p[1]^3)*a[31] + (p[2]^3)*a[34] + a[3]*p[1] + a[2]*q[2] + a[4]*p[2] + a[1]*q[1] + (p[1]^2)*a[32]*p[2] + (q[2]^2)*a[26]*p[1] + (p[1]^2)*a[22]*q[1] + (p[1]^2)*a[28]*q[2] + (p[2]^2)*a[24]*q[1] + (p[2]^2)*a[30]*q[2] + (q[1]^2)*a[17]*p[1] + (q[1]^2)*a[18]*p[2] + (q[2]^2)*a[27]*p[2] + a[13]*p[1]*p[2] + (q[1]^2)*a[16]*q[2] + (q[2]^2)*a[19]*q[1] + (p[2]^2)*a[33]*p[1] + a[7]*p[1]*q[1] + a[10]*p[1]*q[2] + a[8]*p[2]*q[1] + a[11]*p[2]*q[2] + a[6]*q[1]*q[2] + a[20]*p[1]*q[1]*q[2] + a[21]*p[2]*q[1]*q[2] + a[23]*p[1]*p[2]*q[1] + a[29]*p[1]*p[2]*q[2]"
      ]
     },
     "metadata": {},
     "output_type": "display_data"
    }
   ],
   "source": [
    "_prod(a, b, c, arrs...) = a .* _prod(b, c, arrs...)\n",
    "_prod(a, b) = a .* b\n",
    "_prod(a) = a\n",
    "\n",
    "function hamiltonian_poly(z, order, inds...)\n",
    "    ham = []\n",
    "\n",
    "    if order == 0\n",
    "        Num(1)\n",
    "    elseif order == length(inds)\n",
    "        ham = vcat(ham, _prod([z[i] for i in inds]...))\n",
    "    else\n",
    "        start_ind = length(inds) == 0 ? 1 : inds[end]\n",
    "        for j in start_ind:length(z)\n",
    "            ham = vcat(ham, hamiltonian_poly(z, order, inds..., j))\n",
    "        end\n",
    "    end\n",
    "\n",
    "    return ham\n",
    "end\n",
    "\n",
    "function hamiltonian(z, a, order)\n",
    "    ham = []\n",
    "\n",
    "    for i in 1:order\n",
    "        ham = vcat(ham, hamiltonian_poly(z, i))\n",
    "    end\n",
    "\n",
    "    sum(collect(a .* ham))\n",
    "end\n",
    "\n",
    "H = hamiltonian(z, a, order)"
   ]
  },
  {
   "cell_type": "code",
   "execution_count": 7,
   "metadata": {},
   "outputs": [
    {
     "data": {
      "text/latex": [
       "$$ \\begin{equation}\n",
       "\\left[\n",
       "\\begin{array}{c}\n",
       "a_1 q_1 \\\\\n",
       "a_2 q_2 \\\\\n",
       "a_3 p_1 \\\\\n",
       "a_4 p_2 \\\\\n",
       "q_1^{2} a_5 \\\\\n",
       "a_6 q_1 q_2 \\\\\n",
       "a_7 p_1 q_1 \\\\\n",
       "a_8 p_2 q_1 \\\\\n",
       "q_2^{2} a_9 \\\\\n",
       "a_{1 0} p_1 q_2 \\\\\n",
       "a_{1 1} p_2 q_2 \\\\\n",
       "p_1^{2} a_{1 2} \\\\\n",
       "a_{1 3} p_1 p_2 \\\\\n",
       "p_2^{2} a_{1 4} \\\\\n",
       "q_1^{3} a_{1 5} \\\\\n",
       "q_1^{2} a_{1 6} q_2 \\\\\n",
       "q_1^{2} a_{1 7} p_1 \\\\\n",
       "q_1^{2} a_{1 8} p_2 \\\\\n",
       "q_2^{2} a_{1 9} q_1 \\\\\n",
       "a_{2 0} p_1 q_1 q_2 \\\\\n",
       "a_{2 1} p_2 q_1 q_2 \\\\\n",
       "p_1^{2} a_{2 2} q_1 \\\\\n",
       "a_{2 3} p_1 p_2 q_1 \\\\\n",
       "p_2^{2} a_{2 4} q_1 \\\\\n",
       "q_2^{3} a_{2 5} \\\\\n",
       "q_2^{2} a_{2 6} p_1 \\\\\n",
       "q_2^{2} a_{2 7} p_2 \\\\\n",
       "p_1^{2} a_{2 8} q_2 \\\\\n",
       "a_{2 9} p_1 p_2 q_2 \\\\\n",
       "p_2^{2} a_{3 0} q_2 \\\\\n",
       "p_1^{3} a_{3 1} \\\\\n",
       "p_1^{2} a_{3 2} p_2 \\\\\n",
       "p_2^{2} a_{3 3} p_1 \\\\\n",
       "p_2^{3} a_{3 4} \\\\\n",
       "\\end{array}\n",
       "\\right]\n",
       "\\end{equation}\n",
       " $$"
      ],
      "text/plain": [
       "34-element Vector{Num}:\n",
       "            a[1]*q[1]\n",
       "            a[2]*q[2]\n",
       "            a[3]*p[1]\n",
       "            a[4]*p[2]\n",
       "        (q[1]^2)*a[5]\n",
       "       a[6]*q[1]*q[2]\n",
       "       a[7]*p[1]*q[1]\n",
       "       a[8]*p[2]*q[1]\n",
       "        (q[2]^2)*a[9]\n",
       "      a[10]*p[1]*q[2]\n",
       "                    ⋮\n",
       "  (q[2]^2)*a[26]*p[1]\n",
       "  (q[2]^2)*a[27]*p[2]\n",
       "  (p[1]^2)*a[28]*q[2]\n",
       " a[29]*p[1]*p[2]*q[2]\n",
       "  (p[2]^2)*a[30]*q[2]\n",
       "       (p[1]^3)*a[31]\n",
       "  (p[1]^2)*a[32]*p[2]\n",
       "  (p[2]^2)*a[33]*p[1]\n",
       "       (p[2]^3)*a[34]"
      ]
     },
     "metadata": {},
     "output_type": "display_data"
    }
   ],
   "source": [
    "# This just puts the terms in an order corresponding to the order of (a) coeffs. we get in the result, so we can compare\n",
    "ham = []\n",
    "\n",
    "    for i in 1:order\n",
    "        ham = vcat(ham, hamiltonian_poly(z, i))\n",
    "    end\n",
    "\n",
    "collect(a .* ham)"
   ]
  },
  {
   "cell_type": "code",
   "execution_count": 8,
   "metadata": {},
   "outputs": [
    {
     "data": {
      "text/latex": [
       "$$ \\begin{equation}\n",
       "\\left[\n",
       "\\begin{array}{c}\n",
       "p_1^{2} a_{2 2} + q_2^{2} a_{1 9} + p_2^{2} a_{2 4} + a_6 q_2 + a_7 p_1 + a_8 p_2 + 2 a_5 q_1 + 3 q_1^{2} a_{1 5} + a_{2 0} p_1 q_2 + a_{2 3} p_1 p_2 + a_{2 1} p_2 q_2 + 2 a_{1 7} p_1 q_1 + 2 a_{1 8} p_2 q_1 + 2 a_{1 6} q_1 q_2 + a_1 \\\\\n",
       "p_1^{2} a_{2 8} + p_2^{2} a_{3 0} + q_1^{2} a_{1 6} + a_6 q_1 + a_{1 0} p_1 + a_{1 1} p_2 + 3 q_2^{2} a_{2 5} + a_{2 9} p_1 p_2 + 2 a_9 q_2 + a_{2 0} p_1 q_1 + a_{2 1} p_2 q_1 + 2 a_{2 6} p_1 q_2 + 2 a_{2 7} p_2 q_2 + 2 a_{1 9} q_1 q_2 + a_2 \\\\\n",
       "p_2^{2} a_{3 3} + q_1^{2} a_{1 7} + q_2^{2} a_{2 6} + a_7 q_1 + a_{1 3} p_2 + a_{1 0} q_2 + 3 p_1^{2} a_{3 1} + 2 a_{1 2} p_1 + a_{2 0} q_1 q_2 + a_{2 3} p_2 q_1 + a_{2 9} p_2 q_2 + 2 a_{3 2} p_1 p_2 + 2 a_{2 2} p_1 q_1 + 2 a_{2 8} p_1 q_2 + a_3 \\\\\n",
       "q_1^{2} a_{1 8} + p_1^{2} a_{3 2} + q_2^{2} a_{2 7} + a_{1 3} p_1 + a_8 q_1 + a_{1 1} q_2 + 2 a_{1 4} p_2 + 3 p_2^{2} a_{3 4} + a_{2 1} q_1 q_2 + a_{2 3} p_1 q_1 + a_{2 9} p_1 q_2 + 2 a_{3 3} p_1 p_2 + 2 a_{2 4} p_2 q_1 + 2 a_{3 0} p_2 q_2 + a_4 \\\\\n",
       "\\end{array}\n",
       "\\right]\n",
       "\\end{equation}\n",
       " $$"
      ],
      "text/plain": [
       "4-element Vector{Num}:\n",
       "    (p[1]^2)*a[22] + (q[2]^2)*a[19] + (p[2]^2)*a[24] + a[6]*q[2] + a[7]*p[1] + a[8]*p[2] + 2a[5]*q[1] + 3(q[1]^2)*a[15] + a[20]*p[1]*q[2] + a[23]*p[1]*p[2] + a[21]*p[2]*q[2] + 2a[17]*p[1]*q[1] + 2a[18]*p[2]*q[1] + 2a[16]*q[1]*q[2] + a[1]\n",
       "  (p[1]^2)*a[28] + (p[2]^2)*a[30] + (q[1]^2)*a[16] + a[6]*q[1] + a[10]*p[1] + a[11]*p[2] + 3(q[2]^2)*a[25] + a[29]*p[1]*p[2] + 2a[9]*q[2] + a[20]*p[1]*q[1] + a[21]*p[2]*q[1] + 2a[26]*p[1]*q[2] + 2a[27]*p[2]*q[2] + 2a[19]*q[1]*q[2] + a[2]\n",
       " (p[2]^2)*a[33] + (q[1]^2)*a[17] + (q[2]^2)*a[26] + a[7]*q[1] + a[13]*p[2] + a[10]*q[2] + 3(p[1]^2)*a[31] + 2a[12]*p[1] + a[20]*q[1]*q[2] + a[23]*p[2]*q[1] + a[29]*p[2]*q[2] + 2a[32]*p[1]*p[2] + 2a[22]*p[1]*q[1] + 2a[28]*p[1]*q[2] + a[3]\n",
       " (q[1]^2)*a[18] + (p[1]^2)*a[32] + (q[2]^2)*a[27] + a[13]*p[1] + a[8]*q[1] + a[11]*q[2] + 2a[14]*p[2] + 3(p[2]^2)*a[34] + a[21]*q[1]*q[2] + a[23]*p[1]*q[1] + a[29]*p[1]*q[2] + 2a[33]*p[1]*p[2] + 2a[24]*p[2]*q[1] + 2a[30]*p[2]*q[2] + a[4]"
      ]
     },
     "metadata": {},
     "output_type": "display_data"
    }
   ],
   "source": [
    "Dz = Differential.(z)\n",
    "∇H = [expand_derivatives(dz(H)) for dz in Dz]"
   ]
  },
  {
   "cell_type": "code",
   "execution_count": 9,
   "metadata": {},
   "outputs": [
    {
     "data": {
      "text/latex": [
       "$$ \\begin{equation}\n",
       "\\left[\n",
       "\\begin{array}{c}\n",
       "p_2^{2} a_{3 3} + q_1^{2} a_{1 7} + q_2^{2} a_{2 6} + a_7 q_1 + a_{1 3} p_2 + a_{1 0} q_2 + 3 p_1^{2} a_{3 1} + 2 a_{1 2} p_1 + a_{2 0} q_1 q_2 + a_{2 3} p_2 q_1 + a_{2 9} p_2 q_2 + 2 a_{3 2} p_1 p_2 + 2 a_{2 2} p_1 q_1 + 2 a_{2 8} p_1 q_2 + a_3 \\\\\n",
       "q_1^{2} a_{1 8} + p_1^{2} a_{3 2} + q_2^{2} a_{2 7} + a_{1 3} p_1 + a_8 q_1 + a_{1 1} q_2 + 2 a_{1 4} p_2 + 3 p_2^{2} a_{3 4} + a_{2 1} q_1 q_2 + a_{2 3} p_1 q_1 + a_{2 9} p_1 q_2 + 2 a_{3 3} p_1 p_2 + 2 a_{2 4} p_2 q_1 + 2 a_{3 0} p_2 q_2 + a_4 \\\\\n",
       " - a_1 - p_1^{2} a_{2 2} - q_2^{2} a_{1 9} - 3 q_1^{2} a_{1 5} - p_2^{2} a_{2 4} - a_6 q_2 - 2 a_5 q_1 - a_7 p_1 - a_8 p_2 - 2 a_{1 7} p_1 q_1 - a_{2 0} p_1 q_2 - a_{2 3} p_1 p_2 - a_{2 1} p_2 q_2 - 2 a_{1 8} p_2 q_1 - 2 a_{1 6} q_1 q_2 \\\\\n",
       " - a_2 - p_1^{2} a_{2 8} - p_2^{2} a_{3 0} - q_1^{2} a_{1 6} - 3 q_2^{2} a_{2 5} - a_6 q_1 - a_{1 0} p_1 - a_{1 1} p_2 - 2 a_9 q_2 - a_{2 9} p_1 p_2 - 2 a_{1 9} q_1 q_2 - a_{2 0} p_1 q_1 - 2 a_{2 6} p_1 q_2 - a_{2 1} p_2 q_1 - 2 a_{2 7} p_2 q_2 \\\\\n",
       "\\end{array}\n",
       "\\right]\n",
       "\\end{equation}\n",
       " $$"
      ],
      "text/plain": [
       "4-element Vector{Num}:\n",
       " (p[2]^2)*a[33] + (q[1]^2)*a[17] + (q[2]^2)*a[26] + a[7]*q[1] + a[13]*p[2] + a[10]*q[2] + 3(p[1]^2)*a[31] + 2a[12]*p[1] + a[20]*q[1]*q[2] + a[23]*p[2]*q[1] + a[29]*p[2]*q[2] + 2a[32]*p[1]*p[2] + 2a[22]*p[1]*q[1] + 2a[28]*p[1]*q[2] + a[3]\n",
       " (q[1]^2)*a[18] + (p[1]^2)*a[32] + (q[2]^2)*a[27] + a[13]*p[1] + a[8]*q[1] + a[11]*q[2] + 2a[14]*p[2] + 3(p[2]^2)*a[34] + a[21]*q[1]*q[2] + a[23]*p[1]*q[1] + a[29]*p[1]*q[2] + 2a[33]*p[1]*p[2] + 2a[24]*p[2]*q[1] + 2a[30]*p[2]*q[2] + a[4]\n",
       "   -a[1] - (p[1]^2)*a[22] - (q[2]^2)*a[19] - 3(q[1]^2)*a[15] - (p[2]^2)*a[24] - a[6]*q[2] - 2a[5]*q[1] - a[7]*p[1] - a[8]*p[2] - 2a[17]*p[1]*q[1] - a[20]*p[1]*q[2] - a[23]*p[1]*p[2] - a[21]*p[2]*q[2] - 2a[18]*p[2]*q[1] - 2a[16]*q[1]*q[2]\n",
       " -a[2] - (p[1]^2)*a[28] - (p[2]^2)*a[30] - (q[1]^2)*a[16] - 3(q[2]^2)*a[25] - a[6]*q[1] - a[10]*p[1] - a[11]*p[2] - 2a[9]*q[2] - a[29]*p[1]*p[2] - 2a[19]*q[1]*q[2] - a[20]*p[1]*q[1] - 2a[26]*p[1]*q[2] - a[21]*p[2]*q[1] - 2a[27]*p[2]*q[2]"
      ]
     },
     "metadata": {},
     "output_type": "display_data"
    }
   ],
   "source": [
    "# line below makes the vector into a hamiltonian by multiplying with the skew-symmetric matrix\n",
    "f = vcat(∇H[d+1:2d], -∇H[1:d])"
   ]
  },
  {
   "cell_type": "code",
   "execution_count": 10,
   "metadata": {},
   "outputs": [
    {
     "data": {
      "text/latex": [
       "$$ \\begin{equation}\n",
       "p_2^{2} a_{1 4} + q_1^{2} a_5 + q_2^{2} a_9 + p_1^{2} a_{1 2} + q_1^{3} a_{1 5} + q_2^{3} a_{2 5} + p_1^{3} a_{3 1} + p_2^{3} a_{3 4} + a_3 p_1 + a_2 q_2 + a_4 p_2 + a_1 q_1 + p_1^{2} a_{3 2} p_2 + q_2^{2} a_{2 6} p_1 + p_1^{2} a_{2 2} q_1 + p_1^{2} a_{2 8} q_2 + p_2^{2} a_{2 4} q_1 + p_2^{2} a_{3 0} q_2 + q_1^{2} a_{1 7} p_1 + q_1^{2} a_{1 8} p_2 + q_2^{2} a_{2 7} p_2 + a_{1 3} p_1 p_2 + q_1^{2} a_{1 6} q_2 + q_2^{2} a_{1 9} q_1 + p_2^{2} a_{3 3} p_1 + a_7 p_1 q_1 + a_{1 0} p_1 q_2 + a_8 p_2 q_1 + a_{1 1} p_2 q_2 + a_6 q_1 q_2 + a_{2 0} p_1 q_1 q_2 + a_{2 1} p_2 q_1 q_2 + a_{2 3} p_1 p_2 q_1 + a_{2 9} p_1 p_2 q_2\n",
       "\\end{equation}\n",
       " $$"
      ],
      "text/plain": [
       "(p[2]^2)*a[14] + (q[1]^2)*a[5] + (q[2]^2)*a[9] + (p[1]^2)*a[12] + (q[1]^3)*a[15] + (q[2]^3)*a[25] + (p[1]^3)*a[31] + (p[2]^3)*a[34] + a[3]*p[1] + a[2]*q[2] + a[4]*p[2] + a[1]*q[1] + (p[1]^2)*a[32]*p[2] + (q[2]^2)*a[26]*p[1] + (p[1]^2)*a[22]*q[1] + (p[1]^2)*a[28]*q[2] + (p[2]^2)*a[24]*q[1] + (p[2]^2)*a[30]*q[2] + (q[1]^2)*a[17]*p[1] + (q[1]^2)*a[18]*p[2] + (q[2]^2)*a[27]*p[2] + a[13]*p[1]*p[2] + (q[1]^2)*a[16]*q[2] + (q[2]^2)*a[19]*q[1] + (p[2]^2)*a[33]*p[1] + a[7]*p[1]*q[1] + a[10]*p[1]*q[2] + a[8]*p[2]*q[1] + a[11]*p[2]*q[2] + a[6]*q[1]*q[2] + a[20]*p[1]*q[1]*q[2] + a[21]*p[2]*q[1]*q[2] + a[23]*p[1]*p[2]*q[1] + a[29]*p[1]*p[2]*q[2]"
      ]
     },
     "metadata": {},
     "output_type": "display_data"
    }
   ],
   "source": [
    "H = hamiltonian(z, a, order)"
   ]
  },
  {
   "cell_type": "code",
   "execution_count": 11,
   "metadata": {},
   "outputs": [
    {
     "data": {
      "text/plain": [
       ":(function (ˍ₋arg1, a)\n",
       "      \u001b[90m#= /home/nigelbrucekhan/.julia/packages/SymbolicUtils/pO4d6/src/code.jl:350 =#\u001b[39m\n",
       "      \u001b[90m#= /home/nigelbrucekhan/.julia/packages/SymbolicUtils/pO4d6/src/code.jl:351 =#\u001b[39m\n",
       "      \u001b[90m#= /home/nigelbrucekhan/.julia/packages/SymbolicUtils/pO4d6/src/code.jl:352 =#\u001b[39m\n",
       "      begin\n",
       "          (+)((+)((+)((+)((+)((+)((+)((+)((+)((+)((+)((+)((+)((+)((+)((+)((+)((+)((+)((+)((+)((+)((+)((+)((+)((+)((+)((+)((+)((+)((+)((+)((+)((*)((^)(ˍ₋arg1[4], 2), (getindex)(a, 14)), (*)((^)(ˍ₋arg1[1], 2), (getindex)(a, 5))), (*)((^)(ˍ₋arg1[2], 2), (getindex)(a, 9))), (*)((^)(ˍ₋arg1[3], 2), (getindex)(a, 12))), (*)((^)(ˍ₋arg1[1], 3), (getindex)(a, 15))), (*)((^)(ˍ₋arg1[2], 3), (getindex)(a, 25))), (*)((^)(ˍ₋arg1[3], 3), (getindex)(a, 31))), (*)((^)(ˍ₋arg1[4], 3), (getindex)(a, 34))), (*)((getindex)(a, 3), ˍ₋arg1[3])), (*)((getindex)(a, 2), ˍ₋arg1[2])), (*)((getindex)(a, 4), ˍ₋arg1[4])), (*)((getindex)(a, 1), ˍ₋arg1[1])), (*)((*)((^)(ˍ₋arg1[3], 2), (getindex)(a, 32)), ˍ₋arg1[4])), (*)((*)((^)(ˍ₋arg1[2], 2), (getindex)(a, 26)), ˍ₋arg1[3])), (*)((*)((^)(ˍ₋arg1[3], 2), (getindex)(a, 22)), ˍ₋arg1[1])), (*)((*)((^)(ˍ₋arg1[3], 2), (getindex)(a, 28)), ˍ₋arg1[2])), (*)((*)((^)(ˍ₋arg1[4], 2), (getindex)(a, 24)), ˍ₋arg1[1])), (*)((*)((^)(ˍ₋arg1[4], 2), (getindex)(a, 30)), ˍ₋arg1[2])), (*)((*)((^)(ˍ₋arg1[1], 2), (getindex)(a, 17)), ˍ₋arg1[3])), (*)((*)((^)(ˍ₋arg1[1], 2), (getindex)(a, 18)), ˍ₋arg1[4])), (*)((*)((^)(ˍ₋arg1[2], 2), (getindex)(a, 27)), ˍ₋arg1[4])), (*)((*)((getindex)(a, 13), ˍ₋arg1[3]), ˍ₋arg1[4])), (*)((*)((^)(ˍ₋arg1[1], 2), (getindex)(a, 16)), ˍ₋arg1[2])), (*)((*)((^)(ˍ₋arg1[2], 2), (getindex)(a, 19)), ˍ₋arg1[1])), (*)((*)((^)(ˍ₋arg1[4], 2), (getindex)(a, 33)), ˍ₋arg1[3])), (*)((*)((getindex)(a, 7), ˍ₋arg1[3]), ˍ₋arg1[1])), (*)((*)((getindex)(a, 10), ˍ₋arg1[3]), ˍ₋arg1[2])), (*)((*)((getindex)(a, 8), ˍ₋arg1[4]), ˍ₋arg1[1])), (*)((*)((getindex)(a, 11), ˍ₋arg1[4]), ˍ₋arg1[2])), (*)((*)((getindex)(a, 6), ˍ₋arg1[1]), ˍ₋arg1[2])), (*)((*)((*)((getindex)(a, 20), ˍ₋arg1[3]), ˍ₋arg1[1]), ˍ₋arg1[2])), (*)((*)((*)((getindex)(a, 21), ˍ₋arg1[4]), ˍ₋arg1[1]), ˍ₋arg1[2])), (*)((*)((*)((getindex)(a, 23), ˍ₋arg1[3]), ˍ₋arg1[4]), ˍ₋arg1[1])), (*)((*)((*)((getindex)(a, 29), ˍ₋arg1[3]), ˍ₋arg1[4]), ˍ₋arg1[2]))\n",
       "      end\n",
       "  end)"
      ]
     },
     "metadata": {},
     "output_type": "display_data"
    }
   ],
   "source": [
    "hamilFunction = build_function(H, z, a)"
   ]
  },
  {
   "cell_type": "code",
   "execution_count": 12,
   "metadata": {},
   "outputs": [
    {
     "data": {
      "text/plain": [
       "14.0"
      ]
     },
     "metadata": {},
     "output_type": "display_data"
    }
   ],
   "source": [
    "# ˍ₋arg1 = z (p,q) of dims = 2 each \n",
    "# a is of size 34. The function below only works for poly order = 3\n",
    "# t is unused and is only present to comply with ODEProblem syntax\n",
    "function hamiltonianFunction(ˍ₋arg1, a)\n",
    "    begin\n",
    "        (+)((+)((+)((+)((+)((+)((+)((+)((+)((+)((+)((+)((+)((+)((+)((+)((+)((+)((+)((+)((+)((+)((+)((+)((+)((+)((+)((+)((+)((+)((+)((+)((+)((*)((^)(ˍ₋arg1[4], 2), (getindex)(a, 14)), (*)((^)(ˍ₋arg1[1], 2), (getindex)(a, 5))), (*)((^)(ˍ₋arg1[2], 2), (getindex)(a, 9))), (*)((^)(ˍ₋arg1[3], 2), (getindex)(a, 12))), (*)((^)(ˍ₋arg1[1], 3), (getindex)(a, 15))), (*)((^)(ˍ₋arg1[2], 3), (getindex)(a, 25))), (*)((^)(ˍ₋arg1[3], 3), (getindex)(a, 31))), (*)((^)(ˍ₋arg1[4], 3), (getindex)(a, 34))), (*)((getindex)(a, 3), ˍ₋arg1[3])), (*)((getindex)(a, 2), ˍ₋arg1[2])), (*)((getindex)(a, 4), ˍ₋arg1[4])), (*)((getindex)(a, 1), ˍ₋arg1[1])), (*)((*)((^)(ˍ₋arg1[3], 2), (getindex)(a, 32)), ˍ₋arg1[4])), (*)((*)((^)(ˍ₋arg1[2], 2), (getindex)(a, 26)), ˍ₋arg1[3])), (*)((*)((^)(ˍ₋arg1[3], 2), (getindex)(a, 22)), ˍ₋arg1[1])), (*)((*)((^)(ˍ₋arg1[3], 2), (getindex)(a, 28)), ˍ₋arg1[2])), (*)((*)((^)(ˍ₋arg1[4], 2), (getindex)(a, 24)), ˍ₋arg1[1])), (*)((*)((^)(ˍ₋arg1[4], 2), (getindex)(a, 30)), ˍ₋arg1[2])), (*)((*)((^)(ˍ₋arg1[1], 2), (getindex)(a, 17)), ˍ₋arg1[3])), (*)((*)((^)(ˍ₋arg1[1], 2), (getindex)(a, 18)), ˍ₋arg1[4])), (*)((*)((^)(ˍ₋arg1[2], 2), (getindex)(a, 27)), ˍ₋arg1[4])), (*)((*)((getindex)(a, 13), ˍ₋arg1[3]), ˍ₋arg1[4])), (*)((*)((^)(ˍ₋arg1[1], 2), (getindex)(a, 16)), ˍ₋arg1[2])), (*)((*)((^)(ˍ₋arg1[2], 2), (getindex)(a, 19)), ˍ₋arg1[1])), (*)((*)((^)(ˍ₋arg1[4], 2), (getindex)(a, 33)), ˍ₋arg1[3])), (*)((*)((getindex)(a, 7), ˍ₋arg1[3]), ˍ₋arg1[1])), (*)((*)((getindex)(a, 10), ˍ₋arg1[3]), ˍ₋arg1[2])), (*)((*)((getindex)(a, 8), ˍ₋arg1[4]), ˍ₋arg1[1])), (*)((*)((getindex)(a, 11), ˍ₋arg1[4]), ˍ₋arg1[2])), (*)((*)((getindex)(a, 6), ˍ₋arg1[1]), ˍ₋arg1[2])), (*)((*)((*)((getindex)(a, 20), ˍ₋arg1[3]), ˍ₋arg1[1]), ˍ₋arg1[2])), (*)((*)((*)((getindex)(a, 21), ˍ₋arg1[4]), ˍ₋arg1[1]), ˍ₋arg1[2])), (*)((*)((*)((getindex)(a, 23), ˍ₋arg1[3]), ˍ₋arg1[4]), ˍ₋arg1[1])), (*)((*)((*)((getindex)(a, 29), ˍ₋arg1[3]), ˍ₋arg1[4]), ˍ₋arg1[2]))\n",
    "    end\n",
    "end\n",
    "\n",
    "# Lines below are only for testing\n",
    "\n",
    "# initial test function\n",
    "x₀ = [2., 0., 0., 0.]\n",
    "\n",
    "# let a vector be ones initially of length 34 (b/c 34 is number of poly combinations for 2 variables, with 2 dims of highest order 3)\n",
    "a = ones(34)\n",
    "\n",
    "# 2 dims each of p and q gives 4 variables\n",
    "out = zeros(4)\n",
    "\n",
    "# output of hamiltonFunction stored in out\n",
    " HAM = hamiltonianFunction(x₀, a)"
   ]
  },
  {
   "cell_type": "code",
   "execution_count": 13,
   "metadata": {},
   "outputs": [
    {
     "data": {
      "text/plain": [
       ":(function (ˍ₋out, ˍ₋arg1, ˍ₋arg2)\n",
       "      \u001b[90m#= /home/nigelbrucekhan/.julia/packages/SymbolicUtils/pO4d6/src/code.jl:350 =#\u001b[39m\n",
       "      \u001b[90m#= /home/nigelbrucekhan/.julia/packages/SymbolicUtils/pO4d6/src/code.jl:351 =#\u001b[39m\n",
       "      \u001b[90m#= /home/nigelbrucekhan/.julia/packages/SymbolicUtils/pO4d6/src/code.jl:352 =#\u001b[39m\n",
       "      begin\n",
       "          begin\n",
       "              \u001b[90m#= /home/nigelbrucekhan/.julia/packages/Symbolics/RMmq8/src/build_function.jl:520 =#\u001b[39m\n",
       "              \u001b[90m#= /home/nigelbrucekhan/.julia/packages/SymbolicUtils/pO4d6/src/code.jl:399 =#\u001b[39m @inbounds begin\n",
       "                      \u001b[90m#= /home/nigelbrucekhan/.julia/packages/SymbolicUtils/pO4d6/src/code.jl:395 =#\u001b[39m\n",
       "                      ˍ₋out[1] = (+)((+)((+)((+)((+)((+)((+)((+)((+)((+)((+)((+)((+)((+)((*)((^)(ˍ₋arg1[4], 2), (getindex)(a, 33)), (*)((^)(ˍ₋arg1[1], 2), (getindex)(a, 17))), (*)((^)(ˍ₋arg1[2], 2), (getindex)(a, 26))), (*)((getindex)(a, 7), ˍ₋arg1[1])), (*)((getindex)(a, 13), ˍ₋arg1[4])), (*)((getindex)(a, 10), ˍ₋arg1[2])), (*)((*)(3, (^)(ˍ₋arg1[3], 2)), (getindex)(a, 31))), (*)((*)(2, (getindex)(a, 12)), ˍ₋arg1[3])), (*)((*)((getindex)(a, 20), ˍ₋arg1[1]), ˍ₋arg1[2])), (*)((*)((getindex)(a, 23), ˍ₋arg1[4]), ˍ₋arg1[1])), (*)((*)((getindex)(a, 29), ˍ₋arg1[4]), ˍ₋arg1[2])), (*)((*)((*)(2, (getindex)(a, 32)), ˍ₋arg1[3]), ˍ₋arg1[4])), (*)((*)((*)(2, (getindex)(a, 22)), ˍ₋arg1[3]), ˍ₋arg1[1])), (*)((*)((*)(2, (getindex)(a, 28)), ˍ₋arg1[3]), ˍ₋arg1[2])), (getindex)(a, 3))\n",
       "                      ˍ₋out[2] = (+)((+)((+)((+)((+)((+)((+)((+)((+)((+)((+)((+)((+)((+)((*)((^)(ˍ₋arg1[1], 2), (getindex)(a, 18)), (*)((^)(ˍ₋arg1[3], 2), (getindex)(a, 32))), (*)((^)(ˍ₋arg1[2], 2), (getindex)(a, 27))), (*)((getindex)(a, 13), ˍ₋arg1[3])), (*)((getindex)(a, 8), ˍ₋arg1[1])), (*)((getindex)(a, 11), ˍ₋arg1[2])), (*)((*)(2, (getindex)(a, 14)), ˍ₋arg1[4])), (*)((*)(3, (^)(ˍ₋arg1[4], 2)), (getindex)(a, 34))), (*)((*)((getindex)(a, 21), ˍ₋arg1[1]), ˍ₋arg1[2])), (*)((*)((getindex)(a, 23), ˍ₋arg1[3]), ˍ₋arg1[1])), (*)((*)((getindex)(a, 29), ˍ₋arg1[3]), ˍ₋arg1[2])), (*)((*)((*)(2, (getindex)(a, 33)), ˍ₋arg1[3]), ˍ₋arg1[4])), (*)((*)((*)(2, (getindex)(a, 24)), ˍ₋arg1[4]), ˍ₋arg1[1])), (*)((*)((*)(2, (getindex)(a, 30)), ˍ₋arg1[4]), ˍ₋arg1[2])), (getindex)(a, 4))\n",
       "                      ˍ₋out[3] = (+)((+)((+)((+)((+)((+)((+)((+)((+)((+)((+)((+)((+)((+)((*)(-1, (getindex)(a, 1)), (*)((*)(-1, (^)(ˍ₋arg1[3], 2)), (getindex)(a, 22))), (*)((*)(-1, (^)(ˍ₋arg1[2], 2)), (getindex)(a, 19))), (*)((*)(-3, (^)(ˍ₋arg1[1], 2)), (getindex)(a, 15))), (*)((*)(-1, (^)(ˍ₋arg1[4], 2)), (getindex)(a, 24))), (*)((*)(-1, (getindex)(a, 6)), ˍ₋arg1[2])), (*)((*)(-2, (getindex)(a, 5)), ˍ₋arg1[1])), (*)((*)(-1, (getindex)(a, 7)), ˍ₋arg1[3])), (*)((*)(-1, (getindex)(a, 8)), ˍ₋arg1[4])), (*)((*)((*)(-2, (getindex)(a, 17)), ˍ₋arg1[3]), ˍ₋arg1[1])), (*)((*)((*)(-1, (getindex)(a, 20)), ˍ₋arg1[3]), ˍ₋arg1[2])), (*)((*)((*)(-1, (getindex)(a, 23)), ˍ₋arg1[3]), ˍ₋arg1[4])), (*)((*)((*)(-1, (getindex)(a, 21)), ˍ₋arg1[4]), ˍ₋arg1[2])), (*)((*)((*)(-2, (getindex)(a, 18)), ˍ₋arg1[4]), ˍ₋arg1[1])), (*)((*)((*)(-2, (getindex)(a, 16)), ˍ₋arg1[1]), ˍ₋arg1[2]))\n",
       "                      ˍ₋out[4] = (+)((+)((+)((+)((+)((+)((+)((+)((+)((+)((+)((+)((+)((+)((*)(-1, (getindex)(a, 2)), (*)((*)(-1, (^)(ˍ₋arg1[3], 2)), (getindex)(a, 28))), (*)((*)(-1, (^)(ˍ₋arg1[4], 2)), (getindex)(a, 30))), (*)((*)(-1, (^)(ˍ₋arg1[1], 2)), (getindex)(a, 16))), (*)((*)(-3, (^)(ˍ₋arg1[2], 2)), (getindex)(a, 25))), (*)((*)(-1, (getindex)(a, 6)), ˍ₋arg1[1])), (*)((*)(-1, (getindex)(a, 10)), ˍ₋arg1[3])), (*)((*)(-1, (getindex)(a, 11)), ˍ₋arg1[4])), (*)((*)(-2, (getindex)(a, 9)), ˍ₋arg1[2])), (*)((*)((*)(-1, (getindex)(a, 29)), ˍ₋arg1[3]), ˍ₋arg1[4])), (*)((*)((*)(-2, (getindex)(a, 19)), ˍ₋arg1[1]), ˍ₋arg1[2])), (*)((*)((*)(-1, (getindex)(a, 20)), ˍ₋arg1[3]), ˍ₋arg1[1])), (*)((*)((*)(-2, (getindex)(a, 26)), ˍ₋arg1[3]), ˍ₋arg1[2])), (*)((*)((*)(-1, (getindex)(a, 21)), ˍ₋arg1[4]), ˍ₋arg1[1])), (*)((*)((*)(-2, (getindex)(a, 27)), ˍ₋arg1[4]), ˍ₋arg1[2]))\n",
       "                      \u001b[90m#= /home/nigelbrucekhan/.julia/packages/SymbolicUtils/pO4d6/src/code.jl:397 =#\u001b[39m\n",
       "                      nothing\n",
       "                  end\n",
       "          end\n",
       "      end\n",
       "  end)"
      ]
     },
     "metadata": {},
     "output_type": "display_data"
    }
   ],
   "source": [
    "# builds a function that calculates the gradient of the Hamiltonian function\n",
    "fcode = build_function(f, z, a)[2]"
   ]
  },
  {
   "cell_type": "code",
   "execution_count": 14,
   "metadata": {},
   "outputs": [],
   "source": [
    "# output of fcode used to get function hamilFunction below where ˍ₋arg1 = z (p,q) of dims=2 each. a is of size(34), but only 33 of its elements are used in the gradient, t is unused\n",
    "function hamilGradient!(ˍ₋out, ˍ₋arg1, a, t)\n",
    "    begin\n",
    "        begin\n",
    "            @inbounds begin\n",
    "                ˍ₋out[1] = (+)((+)((+)((+)((+)((+)((+)((+)((+)((+)((+)((+)((+)((+)((*)((^)((getindex)(ˍ₋arg1, 4), 2), (getindex)(a, 33)), (*)((^)((getindex)(ˍ₋arg1, 1), 2), (getindex)(a, 17))), (*)((^)((getindex)(ˍ₋arg1, 2), 2), (getindex)(a, 26))), (*)((getindex)(a, 13), (getindex)(ˍ₋arg1, 4))), (*)((getindex)(a, 7), (getindex)(ˍ₋arg1, 1))), (*)((getindex)(a, 10), (getindex)(ˍ₋arg1, 2))), (*)((*)(2, (getindex)(a, 12)), (getindex)(ˍ₋arg1, 3))), (*)((*)(3, (^)((getindex)(ˍ₋arg1, 3), 2)), (getindex)(a, 31))), (*)((*)((getindex)(a, 20), (getindex)(ˍ₋arg1, 1)), (getindex)(ˍ₋arg1, 2))), (*)((*)((getindex)(a, 23), (getindex)(ˍ₋arg1, 4)), (getindex)(ˍ₋arg1, 1))), (*)((*)((getindex)(a, 29), (getindex)(ˍ₋arg1, 4)), (getindex)(ˍ₋arg1, 2))), (*)((*)((*)(2, (getindex)(a, 22)), (getindex)(ˍ₋arg1, 3)), (getindex)(ˍ₋arg1, 1))), (*)((*)((*)(2, (getindex)(a, 32)), (getindex)(ˍ₋arg1, 3)), (getindex)(ˍ₋arg1, 4))), (*)((*)((*)(2, (getindex)(a, 28)), (getindex)(ˍ₋arg1, 3)), (getindex)(ˍ₋arg1, 2))), (getindex)(a, 3))\n",
    "                ˍ₋out[2] = (+)((+)((+)((+)((+)((+)((+)((+)((+)((+)((+)((+)((+)((+)((*)((^)((getindex)(ˍ₋arg1, 1), 2), (getindex)(a, 18)), (*)((^)((getindex)(ˍ₋arg1, 3), 2), (getindex)(a, 32))), (*)((^)((getindex)(ˍ₋arg1, 2), 2), (getindex)(a, 27))), (*)((getindex)(a, 13), (getindex)(ˍ₋arg1, 3))), (*)((getindex)(a, 8), (getindex)(ˍ₋arg1, 1))), (*)((getindex)(a, 11), (getindex)(ˍ₋arg1, 2))), (*)((*)(3, (^)((getindex)(ˍ₋arg1, 4), 2)), (getindex)(a, 34))), (*)((*)(2, (getindex)(a, 14)), (getindex)(ˍ₋arg1, 4))), (*)((*)((getindex)(a, 21), (getindex)(ˍ₋arg1, 1)), (getindex)(ˍ₋arg1, 2))), (*)((*)((getindex)(a, 23), (getindex)(ˍ₋arg1, 3)), (getindex)(ˍ₋arg1, 1))), (*)((*)((getindex)(a, 29), (getindex)(ˍ₋arg1, 3)), (getindex)(ˍ₋arg1, 2))), (*)((*)((*)(2, (getindex)(a, 33)), (getindex)(ˍ₋arg1, 3)), (getindex)(ˍ₋arg1, 4))), (*)((*)((*)(2, (getindex)(a, 24)), (getindex)(ˍ₋arg1, 4)), (getindex)(ˍ₋arg1, 1))), (*)((*)((*)(2, (getindex)(a, 30)), (getindex)(ˍ₋arg1, 4)), (getindex)(ˍ₋arg1, 2))), (getindex)(a, 4))\n",
    "                ˍ₋out[3] = (+)((+)((+)((+)((+)((+)((+)((+)((+)((+)((+)((+)((+)((+)((*)(-1, (getindex)(a, 1)), (*)((*)(-1, (^)((getindex)(ˍ₋arg1, 3), 2)), (getindex)(a, 22))), (*)((*)(-1, (^)((getindex)(ˍ₋arg1, 4), 2)), (getindex)(a, 24))), (*)((*)(-1, (^)((getindex)(ˍ₋arg1, 2), 2)), (getindex)(a, 19))), (*)((*)(-2, (getindex)(a, 5)), (getindex)(ˍ₋arg1, 1))), (*)((*)(-1, (getindex)(a, 7)), (getindex)(ˍ₋arg1, 3))), (*)((*)(-1, (getindex)(a, 8)), (getindex)(ˍ₋arg1, 4))), (*)((*)(-1, (getindex)(a, 6)), (getindex)(ˍ₋arg1, 2))), (*)((*)(-3, (^)((getindex)(ˍ₋arg1, 1), 2)), (getindex)(a, 15))), (*)((*)((*)(-2, (getindex)(a, 17)), (getindex)(ˍ₋arg1, 3)), (getindex)(ˍ₋arg1, 1))), (*)((*)((*)(-2, (getindex)(a, 18)), (getindex)(ˍ₋arg1, 4)), (getindex)(ˍ₋arg1, 1))), (*)((*)((*)(-2, (getindex)(a, 16)), (getindex)(ˍ₋arg1, 1)), (getindex)(ˍ₋arg1, 2))), (*)((*)((*)(-1, (getindex)(a, 20)), (getindex)(ˍ₋arg1, 3)), (getindex)(ˍ₋arg1, 2))), (*)((*)((*)(-1, (getindex)(a, 21)), (getindex)(ˍ₋arg1, 4)), (getindex)(ˍ₋arg1, 2))), (*)((*)((*)(-1, (getindex)(a, 23)), (getindex)(ˍ₋arg1, 3)), (getindex)(ˍ₋arg1, 4)))\n",
    "                ˍ₋out[4] = (+)((+)((+)((+)((+)((+)((+)((+)((+)((+)((+)((+)((+)((+)((*)(-1, (getindex)(a, 2)), (*)((*)(-1, (^)((getindex)(ˍ₋arg1, 1), 2)), (getindex)(a, 16))), (*)((*)(-1, (^)((getindex)(ˍ₋arg1, 3), 2)), (getindex)(a, 28))), (*)((*)(-1, (^)((getindex)(ˍ₋arg1, 4), 2)), (getindex)(a, 30))), (*)((*)(-1, (getindex)(a, 10)), (getindex)(ˍ₋arg1, 3))), (*)((*)(-1, (getindex)(a, 6)), (getindex)(ˍ₋arg1, 1))), (*)((*)(-1, (getindex)(a, 11)), (getindex)(ˍ₋arg1, 4))), (*)((*)(-2, (getindex)(a, 9)), (getindex)(ˍ₋arg1, 2))), (*)((*)(-3, (^)((getindex)(ˍ₋arg1, 2), 2)), (getindex)(a, 25))), (*)((*)((*)(-2, (getindex)(a, 19)), (getindex)(ˍ₋arg1, 1)), (getindex)(ˍ₋arg1, 2))), (*)((*)((*)(-1, (getindex)(a, 20)), (getindex)(ˍ₋arg1, 3)), (getindex)(ˍ₋arg1, 1))), (*)((*)((*)(-1, (getindex)(a, 21)), (getindex)(ˍ₋arg1, 4)), (getindex)(ˍ₋arg1, 1))), (*)((*)((*)(-2, (getindex)(a, 26)), (getindex)(ˍ₋arg1, 3)), (getindex)(ˍ₋arg1, 2))), (*)((*)((*)(-2, (getindex)(a, 27)), (getindex)(ˍ₋arg1, 4)), (getindex)(ˍ₋arg1, 2))), (*)((*)((*)(-1, (getindex)(a, 29)), (getindex)(ˍ₋arg1, 3)), (getindex)(ˍ₋arg1, 4)))\n",
    "                nothing\n",
    "            end\n",
    "        end\n",
    "    end\n",
    "end\n",
    "\n",
    "# Lines below are only for testing\n",
    "\n",
    "# initial test function\n",
    "x₀ = [2., 0., 0., 0.]\n",
    "\n",
    "# let a vector be ones initially of length 34 (b/c 34 is number of poly combinations for 2 variables, with 2 dims of highest order 3)\n",
    "a = ones(34)\n",
    "\n",
    "# 2 dims each of p and q gives 4 variables\n",
    "out = zeros(4)\n",
    "\n",
    "# output of hamilGradient! stored in out\n",
    " t= 0\n",
    " hamilGradient!(out, x₀, a, t)"
   ]
  },
  {
   "cell_type": "code",
   "execution_count": 15,
   "metadata": {},
   "outputs": [
    {
     "data": {
      "text/latex": [
       "$$ \\begin{equation}\n",
       "\\left[\n",
       "\\begin{array}{c}\n",
       "q_1 \\\\\n",
       "q_2 \\\\\n",
       "p_1 \\\\\n",
       "p_2 \\\\\n",
       "q_1^{2} \\\\\n",
       "q_1 q_2 \\\\\n",
       "p_1 q_1 \\\\\n",
       "p_2 q_1 \\\\\n",
       "q_2^{2} \\\\\n",
       "p_1 q_2 \\\\\n",
       "p_2 q_2 \\\\\n",
       "p_1^{2} \\\\\n",
       "p_1 p_2 \\\\\n",
       "p_2^{2} \\\\\n",
       "q_1^{3} \\\\\n",
       "q_1^{2} q_2 \\\\\n",
       "q_1^{2} p_1 \\\\\n",
       "q_1^{2} p_2 \\\\\n",
       "q_2^{2} q_1 \\\\\n",
       "p_1 q_1 q_2 \\\\\n",
       "p_2 q_1 q_2 \\\\\n",
       "p_1^{2} q_1 \\\\\n",
       "p_1 p_2 q_1 \\\\\n",
       "p_2^{2} q_1 \\\\\n",
       "q_2^{3} \\\\\n",
       "q_2^{2} p_1 \\\\\n",
       "q_2^{2} p_2 \\\\\n",
       "p_1^{2} q_2 \\\\\n",
       "p_1 p_2 q_2 \\\\\n",
       "p_2^{2} q_2 \\\\\n",
       "p_1^{3} \\\\\n",
       "p_1^{2} p_2 \\\\\n",
       "p_2^{2} p_1 \\\\\n",
       "p_2^{3} \\\\\n",
       "\\end{array}\n",
       "\\right]\n",
       "\\end{equation}\n",
       " $$"
      ],
      "text/plain": [
       "34×1 Matrix{Num}:\n",
       "           q[1]\n",
       "           q[2]\n",
       "           p[1]\n",
       "           p[2]\n",
       "         q[1]^2\n",
       "      q[1]*q[2]\n",
       "      p[1]*q[1]\n",
       "      p[2]*q[1]\n",
       "         q[2]^2\n",
       "      p[1]*q[2]\n",
       "              ⋮\n",
       "  (q[2]^2)*p[1]\n",
       "  (q[2]^2)*p[2]\n",
       "  (p[1]^2)*q[2]\n",
       " p[1]*p[2]*q[2]\n",
       "  (p[2]^2)*q[2]\n",
       "         p[1]^3\n",
       "  (p[1]^2)*p[2]\n",
       "  (p[2]^2)*p[1]\n",
       "         p[2]^3"
      ]
     },
     "metadata": {},
     "output_type": "display_data"
    }
   ],
   "source": [
    "# constructs an augmented library of candidate nonlinear functions\n",
    "_prod(a, b, c, arrs...) = a .* _prod(b, c, arrs...)\n",
    "_prod(a, b) = a .* b\n",
    "_prod(a) = a\n",
    "\n",
    "function hamiltonian_poly_combos(z, order, inds...)\n",
    "    ham = []\n",
    "\n",
    "    if order == 0\n",
    "        Num(1)\n",
    "    elseif order == length(inds)\n",
    "        ham = vcat(ham, _prod([z[i] for i in inds]...))\n",
    "    else\n",
    "        start_ind = length(inds) == 0 ? 1 : inds[end]\n",
    "        for j in start_ind:length(z)\n",
    "            ham = vcat(ham, hamiltonian_poly_combos(z, order, inds..., j))\n",
    "        end\n",
    "    end\n",
    "\n",
    "    return ham\n",
    "end\n",
    "\n",
    "function hamiltonian_basis_maker(z, order)\n",
    "    ham = []\n",
    "\n",
    "    for i in 1:order\n",
    "        ham = vcat(ham, hamiltonian_poly_combos(z, i))\n",
    "    end\n",
    "\n",
    "    hcat(ham)\n",
    "end\n",
    "H = hamiltonian_basis_maker(z, order)"
   ]
  },
  {
   "cell_type": "code",
   "execution_count": 16,
   "metadata": {},
   "outputs": [
    {
     "data": {
      "text/plain": [
       "(:(function (ˍ₋arg1, 3)\n",
       "      \u001b[90m#= /home/nigelbrucekhan/.julia/packages/SymbolicUtils/pO4d6/src/code.jl:350 =#\u001b[39m\n",
       "      \u001b[90m#= /home/nigelbrucekhan/.julia/packages/SymbolicUtils/pO4d6/src/code.jl:351 =#\u001b[39m\n",
       "      \u001b[90m#= /home/nigelbrucekhan/.julia/packages/SymbolicUtils/pO4d6/src/code.jl:352 =#\u001b[39m\n",
       "      begin\n",
       "          begin\n",
       "              \u001b[90m#= /home/nigelbrucekhan/.julia/packages/SymbolicUtils/pO4d6/src/code.jl:445 =#\u001b[39m\n",
       "              (SymbolicUtils.Code.create_array)(typeof(ˍ₋arg1), nothing, Val{2}(), Val{(34, 1)}(), ˍ₋arg1[1], ˍ₋arg1[2], ˍ₋arg1[3], ˍ₋arg1[4], (^)(ˍ₋arg1[1], 2), (*)(ˍ₋arg1[1], ˍ₋arg1[2]), (*)(ˍ₋arg1[3], ˍ₋arg1[1]), (*)(ˍ₋arg1[4], ˍ₋arg1[1]), (^)(ˍ₋arg1[2], 2), (*)(ˍ₋arg1[3], ˍ₋arg1[2]), (*)(ˍ₋arg1[4], ˍ₋arg1[2]), (^)(ˍ₋arg1[3], 2), (*)(ˍ₋arg1[3], ˍ₋arg1[4]), (^)(ˍ₋arg1[4], 2), (^)(ˍ₋arg1[1], 3), (*)((^)(ˍ₋arg1[1], 2), ˍ₋arg1[2]), (*)((^)(ˍ₋arg1[1], 2), ˍ₋arg1[3]), (*)((^)(ˍ₋arg1[1], 2), ˍ₋arg1[4]), (*)((^)(ˍ₋arg1[2], 2), ˍ₋arg1[1]), (*)((*)(ˍ₋arg1[3], ˍ₋arg1[1]), ˍ₋arg1[2]), (*)((*)(ˍ₋arg1[4], ˍ₋arg1[1]), ˍ₋arg1[2]), (*)((^)(ˍ₋arg1[3], 2), ˍ₋arg1[1]), (*)((*)(ˍ₋arg1[3], ˍ₋arg1[4]), ˍ₋arg1[1]), (*)((^)(ˍ₋arg1[4], 2), ˍ₋arg1[1]), (^)(ˍ₋arg1[2], 3), (*)((^)(ˍ₋arg1[2], 2), ˍ₋arg1[3]), (*)((^)(ˍ₋arg1[2], 2), ˍ₋arg1[4]), (*)((^)(ˍ₋arg1[3], 2), ˍ₋arg1[2]), (*)((*)(ˍ₋arg1[3], ˍ₋arg1[4]), ˍ₋arg1[2]), (*)((^)(ˍ₋arg1[4], 2), ˍ₋arg1[2]), (^)(ˍ₋arg1[3], 3), (*)((^)(ˍ₋arg1[3], 2), ˍ₋arg1[4]), (*)((^)(ˍ₋arg1[4], 2), ˍ₋arg1[3]), (^)(ˍ₋arg1[4], 3))\n",
       "          end\n",
       "      end\n",
       "  end), :(function (ˍ₋out, ˍ₋arg1, 3)\n",
       "      \u001b[90m#= /home/nigelbrucekhan/.julia/packages/SymbolicUtils/pO4d6/src/code.jl:350 =#\u001b[39m\n",
       "      \u001b[90m#= /home/nigelbrucekhan/.julia/packages/SymbolicUtils/pO4d6/src/code.jl:351 =#\u001b[39m\n",
       "      \u001b[90m#= /home/nigelbrucekhan/.julia/packages/SymbolicUtils/pO4d6/src/code.jl:352 =#\u001b[39m\n",
       "      begin\n",
       "          begin\n",
       "              \u001b[90m#= /home/nigelbrucekhan/.julia/packages/Symbolics/RMmq8/src/build_function.jl:520 =#\u001b[39m\n",
       "              \u001b[90m#= /home/nigelbrucekhan/.julia/packages/SymbolicUtils/pO4d6/src/code.jl:399 =#\u001b[39m @inbounds begin\n",
       "                      \u001b[90m#= /home/nigelbrucekhan/.julia/packages/SymbolicUtils/pO4d6/src/code.jl:395 =#\u001b[39m\n",
       "                      ˍ₋out[1] = ˍ₋arg1[1]\n",
       "                      ˍ₋out[2] = ˍ₋arg1[2]\n",
       "                      ˍ₋out[3] = ˍ₋arg1[3]\n",
       "                      ˍ₋out[4] = ˍ₋arg1[4]\n",
       "                      ˍ₋out[5] = (^)(ˍ₋arg1[1], 2)\n",
       "                      ˍ₋out[6] = (*)(ˍ₋arg1[1], ˍ₋arg1[2])\n",
       "                      ˍ₋out[7] = (*)(ˍ₋arg1[3], ˍ₋arg1[1])\n",
       "                      ˍ₋out[8] = (*)(ˍ₋arg1[4], ˍ₋arg1[1])\n",
       "                      ˍ₋out[9] = (^)(ˍ₋arg1[2], 2)\n",
       "                      ˍ₋out[10] = (*)(ˍ₋arg1[3], ˍ₋arg1[2])\n",
       "                      ˍ₋out[11] = (*)(ˍ₋arg1[4], ˍ₋arg1[2])\n",
       "                      ˍ₋out[12] = (^)(ˍ₋arg1[3], 2)\n",
       "                      ˍ₋out[13] = (*)(ˍ₋arg1[3], ˍ₋arg1[4])\n",
       "                      ˍ₋out[14] = (^)(ˍ₋arg1[4], 2)\n",
       "                      ˍ₋out[15] = (^)(ˍ₋arg1[1], 3)\n",
       "                      ˍ₋out[16] = (*)((^)(ˍ₋arg1[1], 2), ˍ₋arg1[2])\n",
       "                      ˍ₋out[17] = (*)((^)(ˍ₋arg1[1], 2), ˍ₋arg1[3])\n",
       "                      ˍ₋out[18] = (*)((^)(ˍ₋arg1[1], 2), ˍ₋arg1[4])\n",
       "                      ˍ₋out[19] = (*)((^)(ˍ₋arg1[2], 2), ˍ₋arg1[1])\n",
       "                      ˍ₋out[20] = (*)((*)(ˍ₋arg1[3], ˍ₋arg1[1]), ˍ₋arg1[2])\n",
       "                      ˍ₋out[21] = (*)((*)(ˍ₋arg1[4], ˍ₋arg1[1]), ˍ₋arg1[2])\n",
       "                      ˍ₋out[22] = (*)((^)(ˍ₋arg1[3], 2), ˍ₋arg1[1])\n",
       "                      ˍ₋out[23] = (*)((*)(ˍ₋arg1[3], ˍ₋arg1[4]), ˍ₋arg1[1])\n",
       "                      ˍ₋out[24] = (*)((^)(ˍ₋arg1[4], 2), ˍ₋arg1[1])\n",
       "                      ˍ₋out[25] = (^)(ˍ₋arg1[2], 3)\n",
       "                      ˍ₋out[26] = (*)((^)(ˍ₋arg1[2], 2), ˍ₋arg1[3])\n",
       "                      ˍ₋out[27] = (*)((^)(ˍ₋arg1[2], 2), ˍ₋arg1[4])\n",
       "                      ˍ₋out[28] = (*)((^)(ˍ₋arg1[3], 2), ˍ₋arg1[2])\n",
       "                      ˍ₋out[29] = (*)((*)(ˍ₋arg1[3], ˍ₋arg1[4]), ˍ₋arg1[2])\n",
       "                      ˍ₋out[30] = (*)((^)(ˍ₋arg1[4], 2), ˍ₋arg1[2])\n",
       "                      ˍ₋out[31] = (^)(ˍ₋arg1[3], 3)\n",
       "                      ˍ₋out[32] = (*)((^)(ˍ₋arg1[3], 2), ˍ₋arg1[4])\n",
       "                      ˍ₋out[33] = (*)((^)(ˍ₋arg1[4], 2), ˍ₋arg1[3])\n",
       "                      ˍ₋out[34] = (^)(ˍ₋arg1[4], 3)\n",
       "                      \u001b[90m#= /home/nigelbrucekhan/.julia/packages/SymbolicUtils/pO4d6/src/code.jl:397 =#\u001b[39m\n",
       "                      nothing\n",
       "                  end\n",
       "          end\n",
       "      end\n",
       "  end))"
      ]
     },
     "metadata": {},
     "output_type": "display_data"
    }
   ],
   "source": [
    "# builds a function that constructs an augmented library of candidate nonlinear functions\n",
    "θ = build_function(H, z, order)"
   ]
  }
 ],
 "metadata": {
  "kernelspec": {
   "display_name": "Julia 1.7.2",
   "language": "julia",
   "name": "julia-1.7"
  },
  "language_info": {
   "file_extension": ".jl",
   "mimetype": "application/julia",
   "name": "julia",
   "version": "1.7.2"
  },
  "orig_nbformat": 4
 },
 "nbformat": 4,
 "nbformat_minor": 2
}
