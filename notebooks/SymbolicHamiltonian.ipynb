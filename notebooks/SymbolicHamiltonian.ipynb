{
 "cells": [
  {
   "cell_type": "code",
   "execution_count": null,
   "metadata": {},
   "outputs": [],
   "source": [
    "using Symbolics"
   ]
  },
  {
   "cell_type": "code",
   "execution_count": null,
   "metadata": {},
   "outputs": [],
   "source": [
    "# define the variables, q,p in this case\n",
    "const d = 2\n",
    "\n",
    "# highest polynomial order to check\n",
    "const order = 3 \n",
    "\n",
    "# binomial used to get the combination of variables till the highest order without repeat, nparam = 34 for 3rd order, with z = q,p each of 2 dims\n",
    "const nparam = binomial(2d + order, order) - 1"
   ]
  },
  {
   "cell_type": "code",
   "execution_count": null,
   "metadata": {},
   "outputs": [],
   "source": [
    "# # total number of dimensions, where each variable has 2 dimensions\n",
    "n = 2d\n",
    "\n",
    "# # verification check for number of variables\n",
    "1 + n + n*(n+1) ÷ 2 + n*(n+1)*(n+2) ÷ 6 - 1"
   ]
  },
  {
   "cell_type": "code",
   "execution_count": null,
   "metadata": {},
   "outputs": [],
   "source": [
    "# get variables p and q and store in variable z\n",
    "@variables q[1:d]\n",
    "@variables p[1:d]\n",
    "@variables a[1:nparam]\n",
    "\n",
    "z = vcat(q,p)"
   ]
  },
  {
   "cell_type": "code",
   "execution_count": null,
   "metadata": {},
   "outputs": [],
   "source": [
    "# define empty variable H to store the hamiltonian\n",
    "H = Num(0)"
   ]
  },
  {
   "cell_type": "code",
   "execution_count": null,
   "metadata": {},
   "outputs": [],
   "source": [
    "_prod(a, b, c, arrs...) = a .* _prod(b, c, arrs...)\n",
    "_prod(a, b) = a .* b\n",
    "_prod(a) = a\n",
    "\n",
    "function hamiltonian_poly(z, order, inds...)\n",
    "    ham = []\n",
    "\n",
    "    if order == 0\n",
    "        Num(1)\n",
    "    elseif order == length(inds)\n",
    "        ham = vcat(ham, _prod([z[i] for i in inds]...))\n",
    "    else\n",
    "        start_ind = length(inds) == 0 ? 1 : inds[end]\n",
    "        for j in start_ind:length(z)\n",
    "            ham = vcat(ham, hamiltonian_poly(z, order, inds..., j))\n",
    "        end\n",
    "    end\n",
    "\n",
    "    return ham\n",
    "end\n",
    "\n",
    "function hamiltonian(z, a, order)\n",
    "    ham = []\n",
    "\n",
    "    for i in 1:order\n",
    "        ham = vcat(ham, hamiltonian_poly(z, i))\n",
    "    end\n",
    "\n",
    "    sum(collect(a .* ham))\n",
    "end\n",
    "\n",
    "H = hamiltonian(z, a, order)"
   ]
  },
  {
   "cell_type": "code",
   "execution_count": null,
   "metadata": {},
   "outputs": [],
   "source": [
    "# This just puts the terms in an order corresponding to the order of (a) coeffs. we get in the result, so we can compare\n",
    "ham = []\n",
    "\n",
    "    for i in 1:order\n",
    "        ham = vcat(ham, hamiltonian_poly(z, i))\n",
    "    end\n",
    "\n",
    "collect(a .* ham)"
   ]
  },
  {
   "cell_type": "code",
   "execution_count": null,
   "metadata": {},
   "outputs": [],
   "source": [
    "Dz = Differential.(z)\n",
    "∇H = [expand_derivatives(dz(H)) for dz in Dz]"
   ]
  },
  {
   "cell_type": "code",
   "execution_count": null,
   "metadata": {},
   "outputs": [],
   "source": [
    "# line below makes the vector into a hamiltonian by multiplying with the skew-symmetric matrix\n",
    "f = vcat(∇H[d+1:2d], -∇H[1:d])"
   ]
  },
  {
   "cell_type": "code",
   "execution_count": null,
   "metadata": {},
   "outputs": [],
   "source": [
    "H = hamiltonian(z, a, order)"
   ]
  },
  {
   "cell_type": "code",
   "execution_count": null,
   "metadata": {},
   "outputs": [],
   "source": [
    "hamilFunction = build_function(H, z, a)"
   ]
  },
  {
   "cell_type": "code",
   "execution_count": null,
   "metadata": {},
   "outputs": [],
   "source": [
    "# ˍ₋arg1 = z (p,q) of dims = 2 each \n",
    "# a is of size 34. The function below only works for poly order = 3\n",
    "# t is unused and is only present to comply with ODEProblem syntax\n",
    "function hamiltonianFunction(ˍ₋arg1, a)\n",
    "    begin\n",
    "        (+)((+)((+)((+)((+)((+)((+)((+)((+)((+)((+)((+)((+)((+)((+)((+)((+)((+)((+)((+)((+)((+)((+)((+)((+)((+)((+)((+)((+)((+)((+)((+)((+)((*)((^)(ˍ₋arg1[4], 2), (getindex)(a, 14)), (*)((^)(ˍ₋arg1[1], 2), (getindex)(a, 5))), (*)((^)(ˍ₋arg1[2], 2), (getindex)(a, 9))), (*)((^)(ˍ₋arg1[3], 2), (getindex)(a, 12))), (*)((^)(ˍ₋arg1[1], 3), (getindex)(a, 15))), (*)((^)(ˍ₋arg1[2], 3), (getindex)(a, 25))), (*)((^)(ˍ₋arg1[3], 3), (getindex)(a, 31))), (*)((^)(ˍ₋arg1[4], 3), (getindex)(a, 34))), (*)((getindex)(a, 3), ˍ₋arg1[3])), (*)((getindex)(a, 2), ˍ₋arg1[2])), (*)((getindex)(a, 4), ˍ₋arg1[4])), (*)((getindex)(a, 1), ˍ₋arg1[1])), (*)((*)((^)(ˍ₋arg1[3], 2), (getindex)(a, 32)), ˍ₋arg1[4])), (*)((*)((^)(ˍ₋arg1[2], 2), (getindex)(a, 26)), ˍ₋arg1[3])), (*)((*)((^)(ˍ₋arg1[3], 2), (getindex)(a, 22)), ˍ₋arg1[1])), (*)((*)((^)(ˍ₋arg1[3], 2), (getindex)(a, 28)), ˍ₋arg1[2])), (*)((*)((^)(ˍ₋arg1[4], 2), (getindex)(a, 24)), ˍ₋arg1[1])), (*)((*)((^)(ˍ₋arg1[4], 2), (getindex)(a, 30)), ˍ₋arg1[2])), (*)((*)((^)(ˍ₋arg1[1], 2), (getindex)(a, 17)), ˍ₋arg1[3])), (*)((*)((^)(ˍ₋arg1[1], 2), (getindex)(a, 18)), ˍ₋arg1[4])), (*)((*)((^)(ˍ₋arg1[2], 2), (getindex)(a, 27)), ˍ₋arg1[4])), (*)((*)((getindex)(a, 13), ˍ₋arg1[3]), ˍ₋arg1[4])), (*)((*)((^)(ˍ₋arg1[1], 2), (getindex)(a, 16)), ˍ₋arg1[2])), (*)((*)((^)(ˍ₋arg1[2], 2), (getindex)(a, 19)), ˍ₋arg1[1])), (*)((*)((^)(ˍ₋arg1[4], 2), (getindex)(a, 33)), ˍ₋arg1[3])), (*)((*)((getindex)(a, 7), ˍ₋arg1[3]), ˍ₋arg1[1])), (*)((*)((getindex)(a, 10), ˍ₋arg1[3]), ˍ₋arg1[2])), (*)((*)((getindex)(a, 8), ˍ₋arg1[4]), ˍ₋arg1[1])), (*)((*)((getindex)(a, 11), ˍ₋arg1[4]), ˍ₋arg1[2])), (*)((*)((getindex)(a, 6), ˍ₋arg1[1]), ˍ₋arg1[2])), (*)((*)((*)((getindex)(a, 20), ˍ₋arg1[3]), ˍ₋arg1[1]), ˍ₋arg1[2])), (*)((*)((*)((getindex)(a, 21), ˍ₋arg1[4]), ˍ₋arg1[1]), ˍ₋arg1[2])), (*)((*)((*)((getindex)(a, 23), ˍ₋arg1[3]), ˍ₋arg1[4]), ˍ₋arg1[1])), (*)((*)((*)((getindex)(a, 29), ˍ₋arg1[3]), ˍ₋arg1[4]), ˍ₋arg1[2]))\n",
    "    end\n",
    "end\n",
    "\n",
    "# Lines below are only for testing\n",
    "\n",
    "# initial test function\n",
    "x₀ = [2., 0., 0., 0.]\n",
    "\n",
    "# let a vector be ones initially of length 34 (b/c 34 is number of poly combinations for 2 variables, with 2 dims of highest order 3)\n",
    "a = ones(34)\n",
    "\n",
    "# 2 dims each of p and q gives 4 variables\n",
    "out = zeros(4)\n",
    "\n",
    "# output of hamiltonFunction stored in out\n",
    " HAM = hamiltonianFunction(x₀, a)"
   ]
  },
  {
   "cell_type": "code",
   "execution_count": null,
   "metadata": {},
   "outputs": [],
   "source": [
    "# builds a function that calculates the gradient of the Hamiltonian function\n",
    "fcode = build_function(f, z, a)[2]"
   ]
  },
  {
   "cell_type": "code",
   "execution_count": null,
   "metadata": {},
   "outputs": [],
   "source": [
    "# output of fcode used to get function hamilFunction below where ˍ₋arg1 = z (p,q) of dims=2 each. a is of size(34), but only 33 of its elements are used in the gradient, t is unused\n",
    "function hamilGradient!(ˍ₋out, ˍ₋arg1, a, t)\n",
    "    begin\n",
    "        begin\n",
    "            @inbounds begin\n",
    "                ˍ₋out[1] = (+)((+)((+)((+)((+)((+)((+)((+)((+)((+)((+)((+)((+)((+)((*)((^)((getindex)(ˍ₋arg1, 4), 2), (getindex)(a, 33)), (*)((^)((getindex)(ˍ₋arg1, 1), 2), (getindex)(a, 17))), (*)((^)((getindex)(ˍ₋arg1, 2), 2), (getindex)(a, 26))), (*)((getindex)(a, 13), (getindex)(ˍ₋arg1, 4))), (*)((getindex)(a, 7), (getindex)(ˍ₋arg1, 1))), (*)((getindex)(a, 10), (getindex)(ˍ₋arg1, 2))), (*)((*)(2, (getindex)(a, 12)), (getindex)(ˍ₋arg1, 3))), (*)((*)(3, (^)((getindex)(ˍ₋arg1, 3), 2)), (getindex)(a, 31))), (*)((*)((getindex)(a, 20), (getindex)(ˍ₋arg1, 1)), (getindex)(ˍ₋arg1, 2))), (*)((*)((getindex)(a, 23), (getindex)(ˍ₋arg1, 4)), (getindex)(ˍ₋arg1, 1))), (*)((*)((getindex)(a, 29), (getindex)(ˍ₋arg1, 4)), (getindex)(ˍ₋arg1, 2))), (*)((*)((*)(2, (getindex)(a, 22)), (getindex)(ˍ₋arg1, 3)), (getindex)(ˍ₋arg1, 1))), (*)((*)((*)(2, (getindex)(a, 32)), (getindex)(ˍ₋arg1, 3)), (getindex)(ˍ₋arg1, 4))), (*)((*)((*)(2, (getindex)(a, 28)), (getindex)(ˍ₋arg1, 3)), (getindex)(ˍ₋arg1, 2))), (getindex)(a, 3))\n",
    "                ˍ₋out[2] = (+)((+)((+)((+)((+)((+)((+)((+)((+)((+)((+)((+)((+)((+)((*)((^)((getindex)(ˍ₋arg1, 1), 2), (getindex)(a, 18)), (*)((^)((getindex)(ˍ₋arg1, 3), 2), (getindex)(a, 32))), (*)((^)((getindex)(ˍ₋arg1, 2), 2), (getindex)(a, 27))), (*)((getindex)(a, 13), (getindex)(ˍ₋arg1, 3))), (*)((getindex)(a, 8), (getindex)(ˍ₋arg1, 1))), (*)((getindex)(a, 11), (getindex)(ˍ₋arg1, 2))), (*)((*)(3, (^)((getindex)(ˍ₋arg1, 4), 2)), (getindex)(a, 34))), (*)((*)(2, (getindex)(a, 14)), (getindex)(ˍ₋arg1, 4))), (*)((*)((getindex)(a, 21), (getindex)(ˍ₋arg1, 1)), (getindex)(ˍ₋arg1, 2))), (*)((*)((getindex)(a, 23), (getindex)(ˍ₋arg1, 3)), (getindex)(ˍ₋arg1, 1))), (*)((*)((getindex)(a, 29), (getindex)(ˍ₋arg1, 3)), (getindex)(ˍ₋arg1, 2))), (*)((*)((*)(2, (getindex)(a, 33)), (getindex)(ˍ₋arg1, 3)), (getindex)(ˍ₋arg1, 4))), (*)((*)((*)(2, (getindex)(a, 24)), (getindex)(ˍ₋arg1, 4)), (getindex)(ˍ₋arg1, 1))), (*)((*)((*)(2, (getindex)(a, 30)), (getindex)(ˍ₋arg1, 4)), (getindex)(ˍ₋arg1, 2))), (getindex)(a, 4))\n",
    "                ˍ₋out[3] = (+)((+)((+)((+)((+)((+)((+)((+)((+)((+)((+)((+)((+)((+)((*)(-1, (getindex)(a, 1)), (*)((*)(-1, (^)((getindex)(ˍ₋arg1, 3), 2)), (getindex)(a, 22))), (*)((*)(-1, (^)((getindex)(ˍ₋arg1, 4), 2)), (getindex)(a, 24))), (*)((*)(-1, (^)((getindex)(ˍ₋arg1, 2), 2)), (getindex)(a, 19))), (*)((*)(-2, (getindex)(a, 5)), (getindex)(ˍ₋arg1, 1))), (*)((*)(-1, (getindex)(a, 7)), (getindex)(ˍ₋arg1, 3))), (*)((*)(-1, (getindex)(a, 8)), (getindex)(ˍ₋arg1, 4))), (*)((*)(-1, (getindex)(a, 6)), (getindex)(ˍ₋arg1, 2))), (*)((*)(-3, (^)((getindex)(ˍ₋arg1, 1), 2)), (getindex)(a, 15))), (*)((*)((*)(-2, (getindex)(a, 17)), (getindex)(ˍ₋arg1, 3)), (getindex)(ˍ₋arg1, 1))), (*)((*)((*)(-2, (getindex)(a, 18)), (getindex)(ˍ₋arg1, 4)), (getindex)(ˍ₋arg1, 1))), (*)((*)((*)(-2, (getindex)(a, 16)), (getindex)(ˍ₋arg1, 1)), (getindex)(ˍ₋arg1, 2))), (*)((*)((*)(-1, (getindex)(a, 20)), (getindex)(ˍ₋arg1, 3)), (getindex)(ˍ₋arg1, 2))), (*)((*)((*)(-1, (getindex)(a, 21)), (getindex)(ˍ₋arg1, 4)), (getindex)(ˍ₋arg1, 2))), (*)((*)((*)(-1, (getindex)(a, 23)), (getindex)(ˍ₋arg1, 3)), (getindex)(ˍ₋arg1, 4)))\n",
    "                ˍ₋out[4] = (+)((+)((+)((+)((+)((+)((+)((+)((+)((+)((+)((+)((+)((+)((*)(-1, (getindex)(a, 2)), (*)((*)(-1, (^)((getindex)(ˍ₋arg1, 1), 2)), (getindex)(a, 16))), (*)((*)(-1, (^)((getindex)(ˍ₋arg1, 3), 2)), (getindex)(a, 28))), (*)((*)(-1, (^)((getindex)(ˍ₋arg1, 4), 2)), (getindex)(a, 30))), (*)((*)(-1, (getindex)(a, 10)), (getindex)(ˍ₋arg1, 3))), (*)((*)(-1, (getindex)(a, 6)), (getindex)(ˍ₋arg1, 1))), (*)((*)(-1, (getindex)(a, 11)), (getindex)(ˍ₋arg1, 4))), (*)((*)(-2, (getindex)(a, 9)), (getindex)(ˍ₋arg1, 2))), (*)((*)(-3, (^)((getindex)(ˍ₋arg1, 2), 2)), (getindex)(a, 25))), (*)((*)((*)(-2, (getindex)(a, 19)), (getindex)(ˍ₋arg1, 1)), (getindex)(ˍ₋arg1, 2))), (*)((*)((*)(-1, (getindex)(a, 20)), (getindex)(ˍ₋arg1, 3)), (getindex)(ˍ₋arg1, 1))), (*)((*)((*)(-1, (getindex)(a, 21)), (getindex)(ˍ₋arg1, 4)), (getindex)(ˍ₋arg1, 1))), (*)((*)((*)(-2, (getindex)(a, 26)), (getindex)(ˍ₋arg1, 3)), (getindex)(ˍ₋arg1, 2))), (*)((*)((*)(-2, (getindex)(a, 27)), (getindex)(ˍ₋arg1, 4)), (getindex)(ˍ₋arg1, 2))), (*)((*)((*)(-1, (getindex)(a, 29)), (getindex)(ˍ₋arg1, 3)), (getindex)(ˍ₋arg1, 4)))\n",
    "                nothing\n",
    "            end\n",
    "        end\n",
    "    end\n",
    "end\n",
    "\n",
    "# Lines below are only for testing\n",
    "\n",
    "# initial test function\n",
    "x₀ = [2., 0., 0., 0.]\n",
    "\n",
    "# let a vector be ones initially of length 34 (b/c 34 is number of poly combinations for 2 variables, with 2 dims of highest order 3)\n",
    "a = ones(34)\n",
    "\n",
    "# 2 dims each of p and q gives 4 variables\n",
    "out = zeros(4)\n",
    "\n",
    "# output of hamilGradient! stored in out\n",
    " t= 0\n",
    " hamilGradient!(out, x₀, a, t)"
   ]
  },
  {
   "cell_type": "code",
   "execution_count": null,
   "metadata": {},
   "outputs": [],
   "source": [
    "# constructs an augmented library of candidate nonlinear functions\n",
    "_prod(a, b, c, arrs...) = a .* _prod(b, c, arrs...)\n",
    "_prod(a, b) = a .* b\n",
    "_prod(a) = a\n",
    "\n",
    "function hamiltonian_poly_combos(z, order, inds...)\n",
    "    ham = []\n",
    "\n",
    "    if order == 0\n",
    "        Num(1)\n",
    "    elseif order == length(inds)\n",
    "        ham = vcat(ham, _prod([z[i] for i in inds]...))\n",
    "    else\n",
    "        start_ind = length(inds) == 0 ? 1 : inds[end]\n",
    "        for j in start_ind:length(z)\n",
    "            ham = vcat(ham, hamiltonian_poly_combos(z, order, inds..., j))\n",
    "        end\n",
    "    end\n",
    "\n",
    "    return ham\n",
    "end\n",
    "\n",
    "function hamiltonian_basis_maker(z, order)\n",
    "    ham = []\n",
    "\n",
    "    for i in 1:order\n",
    "        ham = vcat(ham, hamiltonian_poly_combos(z, i))\n",
    "    end\n",
    "\n",
    "    hcat(ham)\n",
    "end\n",
    "H = hamiltonian_basis_maker(z, order)"
   ]
  },
  {
   "cell_type": "code",
   "execution_count": null,
   "metadata": {},
   "outputs": [],
   "source": [
    "# builds a function that constructs an augmented library of candidate nonlinear functions\n",
    "θ = build_function(H, z, order)"
   ]
  }
 ],
 "metadata": {
  "kernelspec": {
   "display_name": "Julia 1.9.3",
   "language": "julia",
   "name": "julia-1.9"
  },
  "language_info": {
   "file_extension": ".jl",
   "mimetype": "application/julia",
   "name": "julia",
   "version": "1.9.3"
  },
  "orig_nbformat": 4
 },
 "nbformat": 4,
 "nbformat_minor": 2
}
